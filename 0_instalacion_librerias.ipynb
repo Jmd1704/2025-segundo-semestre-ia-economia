{
 "cells": [
  {
   "cell_type": "markdown",
   "id": "51f9c587",
   "metadata": {},
   "source": [
    "# **Instalación librerías necesarias**"
   ]
  },
  {
   "cell_type": "markdown",
   "id": "adcd9ffe",
   "metadata": {},
   "source": [
    "- Elaborado por: Lina María Castro\n",
    "\n",
    "- Fecha: 5 de agosto de 2024"
   ]
  },
  {
   "cell_type": "markdown",
   "id": "decc2fe2",
   "metadata": {},
   "source": [
    "Se utiliza Python 3.11.1"
   ]
  },
  {
   "cell_type": "markdown",
   "id": "65b39517",
   "metadata": {},
   "source": [
    "# Instalar librerías"
   ]
  },
  {
   "cell_type": "code",
   "execution_count": null,
   "id": "be4bf600",
   "metadata": {},
   "outputs": [],
   "source": [
    "# Para poder leer archivos de Excel\n",
    "%pip install xlrd"
   ]
  },
  {
   "cell_type": "code",
   "execution_count": null,
   "id": "30e02874",
   "metadata": {},
   "outputs": [],
   "source": [
    "%pip install openpyxl"
   ]
  },
  {
   "cell_type": "code",
   "execution_count": null,
   "id": "64d0b5e4",
   "metadata": {},
   "outputs": [],
   "source": [
    "%pip install pandas"
   ]
  },
  {
   "cell_type": "code",
   "execution_count": null,
   "id": "99a7d93a",
   "metadata": {},
   "outputs": [],
   "source": [
    "%pip install matplotlib"
   ]
  },
  {
   "cell_type": "code",
   "execution_count": null,
   "id": "f0ce584d",
   "metadata": {},
   "outputs": [],
   "source": [
    "%pip install seaborn"
   ]
  },
  {
   "cell_type": "code",
   "execution_count": null,
   "id": "7f4af9f5",
   "metadata": {},
   "outputs": [],
   "source": [
    "%pip install plotly"
   ]
  },
  {
   "cell_type": "code",
   "execution_count": null,
   "id": "96569aab",
   "metadata": {},
   "outputs": [],
   "source": [
    "%pip install -U scikit-learn"
   ]
  },
  {
   "cell_type": "code",
   "execution_count": null,
   "id": "77c8fa8c",
   "metadata": {},
   "outputs": [],
   "source": [
    "%pip install -U statsmodels"
   ]
  }
 ],
 "metadata": {
  "kernelspec": {
   "display_name": ".venv",
   "language": "python",
   "name": "python3"
  },
  "language_info": {
   "codemirror_mode": {
    "name": "ipython",
    "version": 3
   },
   "file_extension": ".py",
   "mimetype": "text/x-python",
   "name": "python",
   "nbconvert_exporter": "python",
   "pygments_lexer": "ipython3",
   "version": "3.11.1"
  }
 },
 "nbformat": 4,
 "nbformat_minor": 5
}
