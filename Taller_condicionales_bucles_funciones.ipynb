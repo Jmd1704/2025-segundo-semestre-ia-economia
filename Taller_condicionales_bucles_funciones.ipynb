{
  "cells": [
    {
      "cell_type": "markdown",
      "metadata": {
        "id": "view-in-github",
        "colab_type": "text"
      },
      "source": [
        "<a href=\"https://colab.research.google.com/github/Jmd1704/2025-segundo-semestre-ia-economia/blob/main/Taller_condicionales_bucles_funciones.ipynb\" target=\"_parent\"><img src=\"https://colab.research.google.com/assets/colab-badge.svg\" alt=\"Open In Colab\"/></a>"
      ]
    },
    {
      "cell_type": "markdown",
      "metadata": {
        "id": "4A_GfFHIq-AW"
      },
      "source": [
        "# **UNIVERSIDAD EXTERNADO DE COLOMBIA**\n",
        "\n"
      ]
    },
    {
      "cell_type": "markdown",
      "metadata": {
        "id": "Fz8j9lH0rY7M"
      },
      "source": [
        "# **INTELIGENCIA ARTIFICIAL CON APLICACIONES EN ECONOMÍA I**"
      ]
    },
    {
      "cell_type": "markdown",
      "metadata": {
        "id": "CHbZ88pIrZvm"
      },
      "source": [
        "# **TALLER CONDICIONALES, BUCLES Y FUNCIONES**"
      ]
    },
    {
      "cell_type": "markdown",
      "metadata": {
        "id": "5P1oYNQHrgfw"
      },
      "source": [
        "Docente: Lina María Castro\n",
        "\n",
        "28 de agosto de 2025\n"
      ]
    },
    {
      "cell_type": "markdown",
      "metadata": {
        "id": "sKBuSOD4tZDu"
      },
      "source": [
        "- Plazo máximo de entrega: jueves, 4 de septiembre de 2025 antes de las 11:59 p.m.\n",
        "\n",
        "-\tForma de entrega: Jupyter Notebook publicado en su cuenta de Github con el nombre “Taller_condicionales_bucles_funciones.ipynb”. Ser ordenado: debe aparecer el número del ejercicio, el código y el resultado del código. Enviar link del notebook al correo lmcastroco@gmail.com antes del plazo máximo de entrega, de lo contrario, no será tenido en cuenta.\n",
        "\n",
        "- En el caso de las funciones, no olvides colocar la documentación/explicación.\n"
      ]
    },
    {
      "cell_type": "markdown",
      "metadata": {
        "id": "5hmIxbJWcya9"
      },
      "source": [
        "## **Ejercicio 1**"
      ]
    },
    {
      "cell_type": "markdown",
      "metadata": {
        "id": "O5qhW3NTvG0W"
      },
      "source": [
        "Escribe un programa que pida la inflación y muestre el porcentaje de aumento salarial aprobado teniendo en cuenta las siguientes condiciones:\n",
        "\n",
        "- Si la inflación es mayor al 10%, el gobierno aprueba un aumento salarial del 12%.\n",
        "\n",
        "- Si la inflación está entre 6% y 10%, el aumento es del 8%.\n",
        "\n",
        "- Si es menor al 6%, el aumento es del 5%."
      ]
    },
    {
      "cell_type": "code",
      "execution_count": 1,
      "metadata": {
        "colab": {
          "base_uri": "https://localhost:8080/"
        },
        "id": "BYeg_UmYvM1b",
        "outputId": "10bc9ee1-8185-4ffa-a075-067a1044c044"
      },
      "outputs": [
        {
          "output_type": "stream",
          "name": "stdout",
          "text": [
            "Ingrese la inflación: 999\n",
            "El porcentaje de aumento salarial aprobado es del 12%.\n"
          ]
        }
      ],
      "source": [
        "inflacion = float(input(\"Ingrese la inflación: \"))\n",
        "\n",
        "if inflacion > 10:\n",
        "    aumento_salarial = 12\n",
        "elif 6 <= inflacion <= 10:\n",
        "    aumento_salarial = 8\n",
        "else:\n",
        "    aumento_salarial = 5\n",
        "\n",
        "print(f\"El porcentaje de aumento salarial aprobado es del {aumento_salarial}%.\")"
      ]
    },
    {
      "cell_type": "markdown",
      "metadata": {
        "id": "YyVVr95xdXJp"
      },
      "source": [
        "## **Ejercicio 2**"
      ]
    },
    {
      "cell_type": "markdown",
      "metadata": {
        "id": "wS3C-5scsUcB"
      },
      "source": [
        "Tienes una lista con el número de empresas registradas en diferentes ciudades. Usa un ciclo for para contar cuántas ciudades tienen más de 100 empresas y muestra el resultado en pantalla como: \"Número de ciudades con más de 100 empresas: X\""
      ]
    },
    {
      "cell_type": "code",
      "execution_count": 2,
      "metadata": {
        "id": "R37wEVbcsW6A"
      },
      "outputs": [],
      "source": [
        "empresas = [120, 85, 340, 210, 95]"
      ]
    },
    {
      "cell_type": "code",
      "execution_count": 3,
      "metadata": {
        "colab": {
          "base_uri": "https://localhost:8080/"
        },
        "id": "uTrbrdrw5-UO",
        "outputId": "14a1b840-ae19-42fd-97cb-5c133225edcb"
      },
      "outputs": [
        {
          "output_type": "stream",
          "name": "stdout",
          "text": [
            "Número de ciudades con más de 100 empresas: 3\n"
          ]
        }
      ],
      "source": [
        "contador = 0\n",
        "for num_empresas in empresas:\n",
        "    if num_empresas > 100:\n",
        "        contador += 1\n",
        "\n",
        "print(f\"Número de ciudades con más de 100 empresas: {contador}\")"
      ]
    },
    {
      "cell_type": "markdown",
      "metadata": {
        "id": "dP59USPQdaoU"
      },
      "source": [
        "## **Ejercicio 3**"
      ]
    },
    {
      "cell_type": "markdown",
      "metadata": {
        "id": "ASHwOJt3nheQ"
      },
      "source": [
        "Escribe un programa que imprima todos los múltiplos de 5 entre 1 y 50, utilizando range()."
      ]
    },
    {
      "cell_type": "code",
      "execution_count": 4,
      "metadata": {
        "colab": {
          "base_uri": "https://localhost:8080/"
        },
        "id": "P7vEcQqpntGN",
        "outputId": "597fb348-cc71-4189-ff04-49b202083f32"
      },
      "outputs": [
        {
          "output_type": "stream",
          "name": "stdout",
          "text": [
            "5\n",
            "10\n",
            "15\n",
            "20\n",
            "25\n",
            "30\n",
            "35\n",
            "40\n",
            "45\n",
            "50\n"
          ]
        }
      ],
      "source": [
        "for num in range(1, 51):\n",
        "    if num % 5 == 0:\n",
        "        print(num)"
      ]
    },
    {
      "cell_type": "markdown",
      "metadata": {
        "id": "oPcumFlidsGv"
      },
      "source": [
        "## **Ejercicio 4**"
      ]
    },
    {
      "cell_type": "markdown",
      "metadata": {
        "id": "5wvJv2GPt6Qf"
      },
      "source": [
        "Un cajero automático tiene 500.000 pesos disponibles.\n",
        "Un usuario puede retirar varias veces, pero no puede retirar más de lo que queda en el cajero. Escribe un programa que:\n",
        "\n",
        "- Pregunte cuánto quiere retirar.\n",
        "\n",
        "- Reste ese valor al saldo.\n",
        "\n",
        "- Termine cuando el saldo llegue a 0 o el usuario escriba 0."
      ]
    },
    {
      "cell_type": "code",
      "execution_count": 5,
      "metadata": {
        "colab": {
          "base_uri": "https://localhost:8080/"
        },
        "id": "BJDxIqocuEz3",
        "outputId": "9353fd70-0afd-4f6f-8d5d-69fd4deccd4d"
      },
      "outputs": [
        {
          "output_type": "stream",
          "name": "stdout",
          "text": [
            "Saldo inicial: 500000 pesos\n",
            "¿Cuánto desea retirar? (Ingrese 0 para terminar): 0\n",
            "Transacción terminada.\n"
          ]
        }
      ],
      "source": [
        "saldo = 500000\n",
        "print(f\"Saldo inicial: {saldo} pesos\")\n",
        "\n",
        "while saldo > 0:\n",
        "    retiro = float(input(\"¿Cuánto desea retirar? (Ingrese 0 para terminar): \"))\n",
        "\n",
        "    if retiro == 0:\n",
        "        print(\"Transacción terminada.\")\n",
        "        break\n",
        "    elif retiro > saldo:\n",
        "        print(\"No puede retirar más de lo que queda en el cajero.\")\n",
        "    else:\n",
        "        saldo -= retiro\n",
        "        print(f\"Retiro exitoso. Saldo actual: {saldo} pesos\")\n",
        "\n",
        "if saldo == 0:\n",
        "    print(\"El cajero se ha quedado sin fondos.\")"
      ]
    },
    {
      "cell_type": "markdown",
      "metadata": {
        "id": "uAz_wjs2gs7c"
      },
      "source": [
        "## **Ejercicio 5**"
      ]
    },
    {
      "cell_type": "markdown",
      "metadata": {
        "id": "3L7NHs7hSLKE"
      },
      "source": [
        "Crea una función raiz_cuadrada(num) que calcule la raíz cuadrada de un número.\n",
        "\n",
        "Si el número es negativo, devuelve: \"Error: no se puede calcular la raíz cuadrada de un número negativo.\"\n",
        "\n",
        "Si el valor no es numérico, devuelve: \"Error: el valor debe ser numérico.\"\n",
        "\n",
        "NOTA: utiliza import math y la función math.sqrt(num)"
      ]
    },
    {
      "cell_type": "code",
      "source": [
        "import math\n",
        "def raiz_cuadrada(num):\n",
        "    if not isinstance(num, (int, float)):\n",
        "        return \"Error: el valor debe ser numérico.\"\n",
        "    elif num < 0:\n",
        "        return \"Error: no se puede calcular la raíz cuadrada de un número negativo.\"\n",
        "    else:\n",
        "        return math.sqrt(num)"
      ],
      "metadata": {
        "id": "drFf0dkqGxWs"
      },
      "execution_count": 6,
      "outputs": []
    },
    {
      "cell_type": "code",
      "execution_count": 7,
      "metadata": {
        "colab": {
          "base_uri": "https://localhost:8080/"
        },
        "id": "lMXQSzyESOHF",
        "outputId": "26c20b10-9efe-476e-873f-8adb95d54218"
      },
      "outputs": [
        {
          "output_type": "stream",
          "name": "stdout",
          "text": [
            "4.0\n"
          ]
        }
      ],
      "source": [
        "print(raiz_cuadrada(16))    # 4.0"
      ]
    },
    {
      "cell_type": "code",
      "execution_count": 8,
      "metadata": {
        "colab": {
          "base_uri": "https://localhost:8080/"
        },
        "id": "uXkpBQrNSQi_",
        "outputId": "aa45b2ca-7ca5-40de-dc92-0e62237d7126"
      },
      "outputs": [
        {
          "output_type": "stream",
          "name": "stdout",
          "text": [
            "Error: no se puede calcular la raíz cuadrada de un número negativo.\n"
          ]
        }
      ],
      "source": [
        "print(raiz_cuadrada(-9))    # Error: no se puede calcular la raíz cuadrada de un número negativo."
      ]
    },
    {
      "cell_type": "code",
      "execution_count": 9,
      "metadata": {
        "colab": {
          "base_uri": "https://localhost:8080/"
        },
        "id": "i-0qVNphSTuf",
        "outputId": "46951f81-459b-4eec-d305-ffa50693584a"
      },
      "outputs": [
        {
          "output_type": "stream",
          "name": "stdout",
          "text": [
            "Error: el valor debe ser numérico.\n"
          ]
        }
      ],
      "source": [
        "print(raiz_cuadrada(\"abc\")) # Error: el valor debe ser numérico."
      ]
    },
    {
      "cell_type": "markdown",
      "metadata": {
        "id": "dOjMrj-9pfwA"
      },
      "source": [
        "## **Ejercicio 6**"
      ]
    },
    {
      "cell_type": "markdown",
      "metadata": {
        "id": "voXscZI7TPRp"
      },
      "source": [
        "Escribe una función llamada es_par que reciba un número entero como parámetro y retorne True si el número es par y False si es impar.\n",
        "\n",
        "NOTA: % es el operador módulo en Python. Lo que hace es dividir un número entre otro y devolver el residuo (lo que sobra de la división entera).\n",
        "\n",
        "Si al dividir un número en 2, el residuo es cero, entonces el número es par, de lo contrario, es impar."
      ]
    },
    {
      "cell_type": "code",
      "execution_count": 10,
      "metadata": {
        "id": "q55DMdeZTS-B"
      },
      "outputs": [],
      "source": [
        "# Para verificar que es par: numero % 2 == 0\n",
        "def es_par(numero):\n",
        "    if numero % 2 == 0:\n",
        "        return True\n",
        "    else:\n",
        "        return False"
      ]
    },
    {
      "cell_type": "code",
      "execution_count": 11,
      "metadata": {
        "colab": {
          "base_uri": "https://localhost:8080/"
        },
        "id": "BVx7hr_nTWv9",
        "outputId": "ad768695-909e-417c-fdf7-8373481b5cdb"
      },
      "outputs": [
        {
          "output_type": "stream",
          "name": "stdout",
          "text": [
            "True\n"
          ]
        }
      ],
      "source": [
        "print(es_par(10))   # Debería imprimir True"
      ]
    },
    {
      "cell_type": "code",
      "execution_count": 12,
      "metadata": {
        "colab": {
          "base_uri": "https://localhost:8080/"
        },
        "id": "EX38wbcdTTR0",
        "outputId": "9e14cc76-47b4-4172-e7ff-7c118454416e"
      },
      "outputs": [
        {
          "output_type": "stream",
          "name": "stdout",
          "text": [
            "False\n"
          ]
        }
      ],
      "source": [
        "print(es_par(7))    # Debería imprimir False"
      ]
    },
    {
      "cell_type": "markdown",
      "metadata": {
        "id": "IcNuG-Cggw47"
      },
      "source": [
        "## **Ejercicio 7**"
      ]
    },
    {
      "cell_type": "markdown",
      "metadata": {
        "id": "yJ-RPbINSAu6"
      },
      "source": [
        "Escribe un código que permita al usuario crear una contraseña y que verifique que esta cumpla todas las siguientes condiciones:\n",
        "\n",
        "- Tiene al menos 8 caracteres.\n",
        "\n",
        "- Contiene al menos una letra mayúscula.\n",
        "\n",
        "- Contiene al menos una letra minúscula.\n",
        "\n",
        "- Contiene al menos un número.\n",
        "\n",
        "Si cumple todas las condiciones, muestra \"Contraseña válida\", de lo contrario, explica qué condición no se cumple."
      ]
    },
    {
      "cell_type": "code",
      "execution_count": 16,
      "metadata": {
        "id": "306D2pg7SAF-",
        "colab": {
          "base_uri": "https://localhost:8080/"
        },
        "outputId": "788f00b3-42ec-4bde-b500-d50447cba620"
      },
      "outputs": [
        {
          "output_type": "stream",
          "name": "stdout",
          "text": [
            "Crea tu contraseña: 12juan\n",
            "La contraseña debe tener al menos 8 caracteres.\n",
            "La contraseña debe contener al menos una letra mayúscula.\n"
          ]
        }
      ],
      "source": [
        "import re\n",
        "\n",
        "contraseña = input(\"Crea tu contraseña: \")\n",
        "\n",
        "tiene_mayuscula = bool(re.search(r'[A-Z]', contraseña))\n",
        "tiene_minuscula = bool(re.search(r'[a-z]', contraseña))\n",
        "tiene_numero = bool(re.search(r'\\d', contraseña))\n",
        "tiene_longitud_suficiente = len(contraseña) >= 8\n",
        "\n",
        "if tiene_longitud_suficiente and tiene_mayuscula and tiene_minuscula and tiene_numero:\n",
        "    print(\"Contraseña válida\")\n",
        "else:\n",
        "    if not tiene_longitud_suficiente:\n",
        "        print(\"La contraseña debe tener al menos 8 caracteres.\")\n",
        "    if not tiene_mayuscula:\n",
        "        print(\"La contraseña debe contener al menos una letra mayúscula.\")\n",
        "    if not tiene_minuscula:\n",
        "        print(\"La contraseña debe contener al menos una letra minúscula.\")\n",
        "    if not tiene_numero:\n",
        "        print(\"La contraseña debe contener al menos un número.\")"
      ]
    },
    {
      "cell_type": "markdown",
      "metadata": {
        "id": "vdgQ-4Atv7TZ"
      },
      "source": [
        "## **Ejercicio 8**"
      ]
    },
    {
      "cell_type": "markdown",
      "metadata": {
        "id": "qZ5desSUv_Z9"
      },
      "source": [
        "Crea una función llamada \"extraer_dominio\" que extraiga el dominio de una página web a partir de una cadena que contenga un email de la siguiente forma:\n",
        "\n",
        "usuario@dominio.com\n",
        "    \n",
        "Por ejemplo: si se le pasa \"lmcastroco@gmail.com\", la función retornará: gmail.com"
      ]
    },
    {
      "cell_type": "code",
      "source": [
        "def extraer_dominio(email):\n",
        "    partes = email.split('@')\n",
        "    return partes[1]"
      ],
      "metadata": {
        "id": "7kzS3YmO4ut4"
      },
      "execution_count": 17,
      "outputs": []
    },
    {
      "cell_type": "code",
      "execution_count": 19,
      "metadata": {
        "id": "uQK42HdWv_aI",
        "colab": {
          "base_uri": "https://localhost:8080/",
          "height": 35
        },
        "outputId": "3bfed967-d640-4fce-d496-5edcbd0fd1ad"
      },
      "outputs": [
        {
          "output_type": "execute_result",
          "data": {
            "text/plain": [
              "'gmail.com'"
            ],
            "application/vnd.google.colaboratory.intrinsic+json": {
              "type": "string"
            }
          },
          "metadata": {},
          "execution_count": 19
        }
      ],
      "source": [
        "extraer_dominio('juanita@gmail.com')  # Debería retornar 'gmail.com'"
      ]
    },
    {
      "cell_type": "code",
      "execution_count": 18,
      "metadata": {
        "id": "44R1evuAv_aU",
        "colab": {
          "base_uri": "https://localhost:8080/",
          "height": 35
        },
        "outputId": "564fd864-ad33-4933-8ea3-6ad1ac3867e9"
      },
      "outputs": [
        {
          "output_type": "execute_result",
          "data": {
            "text/plain": [
              "'hotmail.com'"
            ],
            "application/vnd.google.colaboratory.intrinsic+json": {
              "type": "string"
            }
          },
          "metadata": {},
          "execution_count": 18
        }
      ],
      "source": [
        "extraer_dominio('juanita.perez@hotmail.com') # Debería retornar 'hotmail.com'"
      ]
    },
    {
      "cell_type": "markdown",
      "metadata": {
        "id": "W5GXHY7GwSxU"
      },
      "source": [
        "## **Ejercicio 9**"
      ]
    },
    {
      "cell_type": "markdown",
      "metadata": {
        "id": "TpfnyisEv_ag"
      },
      "source": [
        "Escribe una función llamada contar_desempleo que reciba una cadena y retorne el número de veces que aparece la palabra \"desempleo\" en el texto. Ten en cuenta que la palabra puede estar en mayúsculas, minúsculas o una mezcla de ellas, pero por ahora no te preocupes por casos especiales como cuando la palabra tiene algún signo de puntuación inmediatamente despúes de ésta."
      ]
    },
    {
      "cell_type": "code",
      "execution_count": 20,
      "metadata": {
        "id": "fWWwTWNl0WcE"
      },
      "outputs": [],
      "source": [
        "def contar_desempleo(cadena):\n",
        "    cadena_lower = cadena.lower()\n",
        "    return cadena_lower.count(\"desempleo\")"
      ]
    },
    {
      "cell_type": "code",
      "execution_count": 21,
      "metadata": {
        "id": "kOVujSn_v_bK",
        "colab": {
          "base_uri": "https://localhost:8080/"
        },
        "outputId": "6eaea1ad-5272-4038-c525-9d7c14f96a55"
      },
      "outputs": [
        {
          "output_type": "execute_result",
          "data": {
            "text/plain": [
              "2"
            ]
          },
          "metadata": {},
          "execution_count": 21
        }
      ],
      "source": [
        "contar_desempleo(\"El desempleo es un problema. El DESEMPLEO afecta a muchas personas.\")"
      ]
    },
    {
      "cell_type": "code",
      "execution_count": 22,
      "metadata": {
        "id": "xIaZJfLK0P-f",
        "colab": {
          "base_uri": "https://localhost:8080/"
        },
        "outputId": "62b7d236-47dd-4ae4-ff8d-aac55bf2fade"
      },
      "outputs": [
        {
          "output_type": "execute_result",
          "data": {
            "text/plain": [
              "1"
            ]
          },
          "metadata": {},
          "execution_count": 22
        }
      ],
      "source": [
        "contar_desempleo(\"El dEseMPLeo aumentó en enero.\")"
      ]
    },
    {
      "cell_type": "code",
      "execution_count": 23,
      "metadata": {
        "id": "2PaQ6jV70ShH",
        "colab": {
          "base_uri": "https://localhost:8080/"
        },
        "outputId": "87baad47-e2f4-44c9-b16b-faa423847d91"
      },
      "outputs": [
        {
          "output_type": "execute_result",
          "data": {
            "text/plain": [
              "0"
            ]
          },
          "metadata": {},
          "execution_count": 23
        }
      ],
      "source": [
        "contar_desempleo(\"El gobierno tiene como meta reducir el número de personas desocupadas un 10%.\")"
      ]
    },
    {
      "cell_type": "markdown",
      "metadata": {
        "id": "dWBokSMZwgTc"
      },
      "source": [
        "## **Ejercicio 10**"
      ]
    },
    {
      "cell_type": "markdown",
      "metadata": {
        "id": "xE0y1M7gv_bl"
      },
      "source": [
        "Vas conduciendo un carro muy rápido y eres detenido por un agente de tránsito.\n",
        "\n",
        "Escribe una función \"multa\" que retorne uno de los 3 siguientes resultados:  \n",
        "\n",
        "- Si la velocidad es 60 Km/h o menos, el resultado es \"Sin multa\".\n",
        "- Si la velocidad está entre 60 y 80 Km/h (inclusive), el resultado es \"Multa pequeña\".\n",
        "- Si la velocidad es mayor a 80 Km/h, el resultado es \"Multa grande\".\n",
        "\n",
        "Además, considera que si esto ocurre el día de tu cumpleaños (codificado como parámetro booleano que recibe la función), tu velocidad podría ser 5 Km/ mayor en todos los casos."
      ]
    },
    {
      "cell_type": "code",
      "execution_count": 24,
      "metadata": {
        "id": "Hp7qfR0L2qJx"
      },
      "outputs": [],
      "source": [
        "def multa(velocidad, cumpleanios):\n",
        "    if cumpleanios:\n",
        "        velocidad -= 5  # Ajuste por cumpleaños\n",
        "\n",
        "    if velocidad <= 60:\n",
        "        return \"Sin multa\"\n",
        "    elif 60 < velocidad <= 80:\n",
        "        return \"Multa pequeña\"\n",
        "    else:\n",
        "        return \"Multa grande\""
      ]
    },
    {
      "cell_type": "code",
      "execution_count": 25,
      "metadata": {
        "id": "yLWqy7NWv_bv",
        "colab": {
          "base_uri": "https://localhost:8080/",
          "height": 35
        },
        "outputId": "b4f294fc-0412-4f6c-db76-fdc427c90bb3"
      },
      "outputs": [
        {
          "output_type": "execute_result",
          "data": {
            "text/plain": [
              "'Multa pequeña'"
            ],
            "application/vnd.google.colaboratory.intrinsic+json": {
              "type": "string"
            }
          },
          "metadata": {},
          "execution_count": 25
        }
      ],
      "source": [
        "multa(81, True)"
      ]
    },
    {
      "cell_type": "code",
      "execution_count": 26,
      "metadata": {
        "id": "Azjv8GE7v_b0",
        "colab": {
          "base_uri": "https://localhost:8080/",
          "height": 35
        },
        "outputId": "9baced11-03f2-46ab-c0e6-1621d186d23c"
      },
      "outputs": [
        {
          "output_type": "execute_result",
          "data": {
            "text/plain": [
              "'Multa grande'"
            ],
            "application/vnd.google.colaboratory.intrinsic+json": {
              "type": "string"
            }
          },
          "metadata": {},
          "execution_count": 26
        }
      ],
      "source": [
        "multa(81, False)"
      ]
    }
  ],
  "metadata": {
    "colab": {
      "provenance": [],
      "toc_visible": true,
      "include_colab_link": true
    },
    "kernelspec": {
      "display_name": "Python 3",
      "name": "python3"
    },
    "language_info": {
      "name": "python"
    }
  },
  "nbformat": 4,
  "nbformat_minor": 0
}