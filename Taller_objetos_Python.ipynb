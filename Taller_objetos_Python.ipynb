{
  "nbformat": 4,
  "nbformat_minor": 0,
  "metadata": {
    "colab": {
      "provenance": [],
      "authorship_tag": "ABX9TyMRlOKoNv4VjS7W74uSKLkQ",
      "include_colab_link": true
    },
    "kernelspec": {
      "name": "python3",
      "display_name": "Python 3"
    },
    "language_info": {
      "name": "python"
    }
  },
  "cells": [
    {
      "cell_type": "markdown",
      "metadata": {
        "id": "view-in-github",
        "colab_type": "text"
      },
      "source": [
        "<a href=\"https://colab.research.google.com/github/Jmd1704/2025-segundo-semestre-ia-economia/blob/main/Taller_objetos_Python.ipynb\" target=\"_parent\"><img src=\"https://colab.research.google.com/assets/colab-badge.svg\" alt=\"Open In Colab\"/></a>"
      ]
    },
    {
      "cell_type": "markdown",
      "source": [],
      "metadata": {
        "id": "_7YjZicr-Knl"
      }
    },
    {
      "cell_type": "markdown",
      "source": [
        "**Ejercicio** # **1**"
      ],
      "metadata": {
        "id": "CauBn7t1-O17"
      }
    },
    {
      "cell_type": "markdown",
      "source": [
        "Respuesta Correcta : D ya que los tipos de objetos básicos son los números(int,float), cadenas de texto(str),listas,tuplas,diccionarios,conjuntos(set) y booleanos.\n"
      ],
      "metadata": {
        "id": "GV2W5Pre-i-I"
      }
    },
    {
      "cell_type": "markdown",
      "source": [
        "**Ejercicio # 2**"
      ],
      "metadata": {
        "id": "J1mSOF-F-1y2"
      }
    },
    {
      "cell_type": "markdown",
      "source": [
        "Respuesta Correcta : B"
      ],
      "metadata": {
        "id": "WBxg8C-X_j_a"
      }
    },
    {
      "cell_type": "markdown",
      "source": [
        "**Ejercicio # 3**"
      ],
      "metadata": {
        "id": "Xz3EXxLw_qZh"
      }
    },
    {
      "cell_type": "markdown",
      "source": [
        "Respuesta Correcta : A"
      ],
      "metadata": {
        "id": "EabTNKZu_vDe"
      }
    },
    {
      "cell_type": "markdown",
      "source": [
        "**Ejercicio # 4**"
      ],
      "metadata": {
        "id": "LYstxNWeAFLs"
      }
    },
    {
      "cell_type": "code",
      "source": [
        "x = (1,2,3)\n",
        "print(x[1]) # Llama al elemento en la posición 1"
      ],
      "metadata": {
        "colab": {
          "base_uri": "https://localhost:8080/"
        },
        "id": "l3P1XbRDAIuc",
        "outputId": "b66d8d8b-01f5-4fb8-9ba6-e7876b645b60"
      },
      "execution_count": 16,
      "outputs": [
        {
          "output_type": "stream",
          "name": "stdout",
          "text": [
            "2\n"
          ]
        }
      ]
    },
    {
      "cell_type": "markdown",
      "source": [
        "Respuesta Correcta : B"
      ],
      "metadata": {
        "id": "vnsN1TrEARTq"
      }
    },
    {
      "cell_type": "markdown",
      "source": [
        "**Ejercicio # 5**"
      ],
      "metadata": {
        "id": "Frn6KJ5BCetF"
      }
    },
    {
      "cell_type": "code",
      "source": [
        "t = (1,2,3).   # las tuplas son inmutables, no se puede reasignar un valo\n",
        "t[0] = 10"
      ],
      "metadata": {
        "colab": {
          "base_uri": "https://localhost:8080/",
          "height": 105
        },
        "id": "8YXipey7Cyt6",
        "outputId": "7260c75b-d70a-4509-ca94-63f66b308db2"
      },
      "execution_count": 17,
      "outputs": [
        {
          "output_type": "error",
          "ename": "SyntaxError",
          "evalue": "invalid syntax (ipython-input-1359580562.py, line 1)",
          "traceback": [
            "\u001b[0;36m  File \u001b[0;32m\"/tmp/ipython-input-1359580562.py\"\u001b[0;36m, line \u001b[0;32m1\u001b[0m\n\u001b[0;31m    t = (1,2,3).   # las tuplas son inmutables, no se puede reasignar un valo\u001b[0m\n\u001b[0m                   ^\u001b[0m\n\u001b[0;31mSyntaxError\u001b[0m\u001b[0;31m:\u001b[0m invalid syntax\n"
          ]
        }
      ]
    },
    {
      "cell_type": "markdown",
      "source": [
        "Respuesta Correcta : C"
      ],
      "metadata": {
        "id": "keO9uNPaEV0R"
      }
    },
    {
      "cell_type": "markdown",
      "source": [
        "**Ejercicio # 6**"
      ],
      "metadata": {
        "id": "Q52BKYxsEe14"
      }
    },
    {
      "cell_type": "code",
      "source": [
        "s = {1,2,2,3,3}\n",
        "print(s)"
      ],
      "metadata": {
        "colab": {
          "base_uri": "https://localhost:8080/"
        },
        "id": "AZRbfIKnErdd",
        "outputId": "f93fe318-c70a-4023-ab58-ed5b5feef3c6"
      },
      "execution_count": 18,
      "outputs": [
        {
          "output_type": "stream",
          "name": "stdout",
          "text": [
            "{1, 2, 3}\n"
          ]
        }
      ]
    },
    {
      "cell_type": "markdown",
      "source": [
        "Respuesta Correcta : B"
      ],
      "metadata": {
        "id": "HWQnI2DME1EU"
      }
    },
    {
      "cell_type": "markdown",
      "source": [
        "**Ejercicio # 7**"
      ],
      "metadata": {
        "id": "9QO7aGeCE5sY"
      }
    },
    {
      "cell_type": "code",
      "source": [
        "palabra = \"Mundo\"\n",
        "print(palabra[1:4])"
      ],
      "metadata": {
        "colab": {
          "base_uri": "https://localhost:8080/"
        },
        "id": "rM0vdlFoE9XQ",
        "outputId": "a1ef0940-91b5-4579-b749-bb7596b89b22"
      },
      "execution_count": 19,
      "outputs": [
        {
          "output_type": "stream",
          "name": "stdout",
          "text": [
            "und\n"
          ]
        }
      ]
    },
    {
      "cell_type": "markdown",
      "source": [
        "Respuesta Correcta : C"
      ],
      "metadata": {
        "id": "1SElBKo7FI8a"
      }
    },
    {
      "cell_type": "markdown",
      "source": [
        "**Ejercicio # 8**"
      ],
      "metadata": {
        "id": "pHe2Sj3kG2WA"
      }
    },
    {
      "cell_type": "code",
      "source": [
        "lista =[10,20,30]\n",
        "lista.append(40)  # Añade un elemento a la lista\n",
        "print(lista)"
      ],
      "metadata": {
        "colab": {
          "base_uri": "https://localhost:8080/"
        },
        "id": "H5oyBRwBG87D",
        "outputId": "0eb0f611-f707-40c1-eee9-b8507b1ec7e1"
      },
      "execution_count": 20,
      "outputs": [
        {
          "output_type": "stream",
          "name": "stdout",
          "text": [
            "[10, 20, 30, 40]\n"
          ]
        }
      ]
    },
    {
      "cell_type": "markdown",
      "source": [
        "Respuesta Correcta : B"
      ],
      "metadata": {
        "id": "8g4NFMTLHE_h"
      }
    },
    {
      "cell_type": "markdown",
      "source": [
        "**Ejercicio # 9**"
      ],
      "metadata": {
        "id": "LRrDTUrDHJ1n"
      }
    },
    {
      "cell_type": "code",
      "source": [
        "dic = {\"a\":1,\"b\":2}\n",
        "print(dic[\"c\"])    # Obtenemos un KeyError ya que \"c\" no se encuentra en el diccionario"
      ],
      "metadata": {
        "colab": {
          "base_uri": "https://localhost:8080/",
          "height": 156
        },
        "id": "2JgzPHe_IsLY",
        "outputId": "371d3b37-3dae-4b52-9b8b-83f3c3730749"
      },
      "execution_count": 21,
      "outputs": [
        {
          "output_type": "error",
          "ename": "KeyError",
          "evalue": "'c'",
          "traceback": [
            "\u001b[0;31m---------------------------------------------------------------------------\u001b[0m",
            "\u001b[0;31mKeyError\u001b[0m                                  Traceback (most recent call last)",
            "\u001b[0;32m/tmp/ipython-input-1988564363.py\u001b[0m in \u001b[0;36m<cell line: 0>\u001b[0;34m()\u001b[0m\n\u001b[1;32m      1\u001b[0m \u001b[0mdic\u001b[0m \u001b[0;34m=\u001b[0m \u001b[0;34m{\u001b[0m\u001b[0;34m\"a\"\u001b[0m\u001b[0;34m:\u001b[0m\u001b[0;36m1\u001b[0m\u001b[0;34m,\u001b[0m\u001b[0;34m\"b\"\u001b[0m\u001b[0;34m:\u001b[0m\u001b[0;36m2\u001b[0m\u001b[0;34m}\u001b[0m\u001b[0;34m\u001b[0m\u001b[0;34m\u001b[0m\u001b[0m\n\u001b[0;32m----> 2\u001b[0;31m \u001b[0mprint\u001b[0m\u001b[0;34m(\u001b[0m\u001b[0mdic\u001b[0m\u001b[0;34m[\u001b[0m\u001b[0;34m\"c\"\u001b[0m\u001b[0;34m]\u001b[0m\u001b[0;34m)\u001b[0m    \u001b[0;31m# Obtenemos un KeyError ya que \"c\" no se encuentra en el diccionario\u001b[0m\u001b[0;34m\u001b[0m\u001b[0;34m\u001b[0m\u001b[0m\n\u001b[0m",
            "\u001b[0;31mKeyError\u001b[0m: 'c'"
          ]
        }
      ]
    },
    {
      "cell_type": "markdown",
      "source": [
        "Respuesta Correcta : C"
      ],
      "metadata": {
        "id": "DKadAwoCKIqI"
      }
    },
    {
      "cell_type": "markdown",
      "source": [
        "**Ejercicio # 10**"
      ],
      "metadata": {
        "id": "F_Ms95cxKQGL"
      }
    },
    {
      "cell_type": "code",
      "source": [
        "d = {\"x\":1,\"y\":2,\"z\":3}\n",
        "d[\"z\"]"
      ],
      "metadata": {
        "colab": {
          "base_uri": "https://localhost:8080/"
        },
        "id": "ewJo89SJKUfc",
        "outputId": "ebb72972-45d3-45fb-dce2-053807349bbd"
      },
      "execution_count": 23,
      "outputs": [
        {
          "output_type": "execute_result",
          "data": {
            "text/plain": [
              "3"
            ]
          },
          "metadata": {},
          "execution_count": 23
        }
      ]
    },
    {
      "cell_type": "markdown",
      "source": [
        "Respuesta Correcta : A"
      ],
      "metadata": {
        "id": "XQyhcLDkKpuO"
      }
    },
    {
      "cell_type": "markdown",
      "source": [
        "**Ejercicio # 11**"
      ],
      "metadata": {
        "id": "n0k9BqkrKuBd"
      }
    },
    {
      "cell_type": "code",
      "source": [
        "print(type(3.0))  # Devuelve el tipo de dato que es"
      ],
      "metadata": {
        "colab": {
          "base_uri": "https://localhost:8080/"
        },
        "id": "t81j9tCQK0SQ",
        "outputId": "7aad1d77-1385-41df-8a59-0080448b7c41"
      },
      "execution_count": 25,
      "outputs": [
        {
          "output_type": "stream",
          "name": "stdout",
          "text": [
            "<class 'float'>\n"
          ]
        }
      ]
    },
    {
      "cell_type": "markdown",
      "source": [
        "Respuesta Correcta : B"
      ],
      "metadata": {
        "id": "OjL3J9hJLFIb"
      }
    },
    {
      "cell_type": "markdown",
      "source": [
        "**Ejercicio # 12**"
      ],
      "metadata": {
        "id": "4IrbJUcTLRGA"
      }
    },
    {
      "cell_type": "code",
      "source": [
        "x = [1,2,3]\n",
        "y = x\n",
        "y.append(4)   # Agregamos el 4 a la lista\n",
        "print(x)"
      ],
      "metadata": {
        "colab": {
          "base_uri": "https://localhost:8080/"
        },
        "id": "u6gopzG1Lr2h",
        "outputId": "d3e5886f-06ab-4bfa-8450-616cdaf53989"
      },
      "execution_count": 26,
      "outputs": [
        {
          "output_type": "stream",
          "name": "stdout",
          "text": [
            "[1, 2, 3, 4]\n"
          ]
        }
      ]
    },
    {
      "cell_type": "markdown",
      "source": [
        "Respuesta Correcta : B"
      ],
      "metadata": {
        "id": "GVV64wuaL-8J"
      }
    },
    {
      "cell_type": "markdown",
      "source": [
        "**Ejercicio # 13**"
      ],
      "metadata": {
        "id": "FFWWmmNQMCRJ"
      }
    },
    {
      "cell_type": "code",
      "source": [
        "numeros = [\"10\",\"20\",\"30\"]\n",
        "resultado= \",\".join(numeros)"
      ],
      "metadata": {
        "id": "4rhryDMiMiDT"
      },
      "execution_count": 30,
      "outputs": []
    },
    {
      "cell_type": "code",
      "source": [
        "print(resultado) # Imprime el resultado como texto"
      ],
      "metadata": {
        "colab": {
          "base_uri": "https://localhost:8080/"
        },
        "id": "5qSwyFvCM8_0",
        "outputId": "ab84021e-4ea8-455c-89dd-8456581d6710"
      },
      "execution_count": 31,
      "outputs": [
        {
          "output_type": "stream",
          "name": "stdout",
          "text": [
            "10,20,30\n"
          ]
        }
      ]
    },
    {
      "cell_type": "markdown",
      "source": [
        "Respuesta Correcta : D"
      ],
      "metadata": {
        "id": "PTWkuyv0M_0z"
      }
    },
    {
      "cell_type": "markdown",
      "source": [
        "**Ejercicio # 14**"
      ],
      "metadata": {
        "id": "10B-leXkNpkY"
      }
    },
    {
      "cell_type": "code",
      "source": [
        "s = {1,2,3}"
      ],
      "metadata": {
        "id": "A3vQJWJTNxrq"
      },
      "execution_count": 32,
      "outputs": []
    },
    {
      "cell_type": "markdown",
      "source": [
        "Convertir el conjunto en una lista"
      ],
      "metadata": {
        "id": "oQ4y4J4RN1WV"
      }
    },
    {
      "cell_type": "code",
      "source": [
        "list(s)"
      ],
      "metadata": {
        "colab": {
          "base_uri": "https://localhost:8080/"
        },
        "id": "p9dOSarGN5Ad",
        "outputId": "c4c9e977-6b8d-42b8-a845-1a0af69522d2"
      },
      "execution_count": 33,
      "outputs": [
        {
          "output_type": "execute_result",
          "data": {
            "text/plain": [
              "[1, 2, 3]"
            ]
          },
          "metadata": {},
          "execution_count": 33
        }
      ]
    },
    {
      "cell_type": "markdown",
      "source": [
        "Respuesta Correcta : A"
      ],
      "metadata": {
        "id": "M-ksKVeKN78y"
      }
    },
    {
      "cell_type": "markdown",
      "source": [
        "**Ejercicio # 15**"
      ],
      "metadata": {
        "id": "OduzubdrOALX"
      }
    },
    {
      "cell_type": "code",
      "source": [
        "cadena = \"Hola\"\n",
        "print(cadena*3)  # La salida entrega 3 veces Hola"
      ],
      "metadata": {
        "colab": {
          "base_uri": "https://localhost:8080/"
        },
        "id": "WZKnZPCTONdD",
        "outputId": "da5a2521-b15b-40f2-dd5e-191158919244"
      },
      "execution_count": 36,
      "outputs": [
        {
          "output_type": "stream",
          "name": "stdout",
          "text": [
            "HolaHolaHola\n"
          ]
        }
      ]
    },
    {
      "cell_type": "markdown",
      "source": [
        "Respuesta Correcta : B"
      ],
      "metadata": {
        "id": "JkMuqoeaOa1C"
      }
    },
    {
      "cell_type": "markdown",
      "source": [
        "**Ejercicio # 16**"
      ],
      "metadata": {
        "id": "Cc6Rb9uTOjka"
      }
    },
    {
      "cell_type": "code",
      "source": [
        "lista = [10,20,30]\n",
        "print(lista[-1])     # Devuelve el último elemento de la lista"
      ],
      "metadata": {
        "colab": {
          "base_uri": "https://localhost:8080/"
        },
        "id": "Nxg968aOOptY",
        "outputId": "19369aed-f643-4d70-9145-1092e8a2ebb2"
      },
      "execution_count": 37,
      "outputs": [
        {
          "output_type": "stream",
          "name": "stdout",
          "text": [
            "30\n"
          ]
        }
      ]
    },
    {
      "cell_type": "markdown",
      "source": [
        "Respuesta Correcta : C"
      ],
      "metadata": {
        "id": "562xvBxGRZGP"
      }
    },
    {
      "cell_type": "markdown",
      "source": [
        "**Ejercicio # 17**"
      ],
      "metadata": {
        "id": "HTikeT6XReIq"
      }
    },
    {
      "cell_type": "code",
      "source": [
        "precios = [1200,500,3400,800]\n",
        "precios.sort()      # Ordena la lista\n",
        "precios"
      ],
      "metadata": {
        "colab": {
          "base_uri": "https://localhost:8080/"
        },
        "id": "g6U5dAMWRokl",
        "outputId": "aaad9518-b20e-4802-97bc-f9ec911f3fb0"
      },
      "execution_count": 39,
      "outputs": [
        {
          "output_type": "execute_result",
          "data": {
            "text/plain": [
              "[500, 800, 1200, 3400]"
            ]
          },
          "metadata": {},
          "execution_count": 39
        }
      ]
    },
    {
      "cell_type": "markdown",
      "source": [
        "Respuesta Correcta : A"
      ],
      "metadata": {
        "id": "grmnnS9PSkNe"
      }
    },
    {
      "cell_type": "markdown",
      "source": [
        "**Ejercicio # 18**"
      ],
      "metadata": {
        "id": "rsGrztmMSpAM"
      }
    },
    {
      "cell_type": "code",
      "source": [
        "conjunto = {1,2,3}\n",
        "print(conjunto[0])   # Los conjunto no son indexables, es decir no se pueden acceder a sus elementos como si fueran listas o tuplas"
      ],
      "metadata": {
        "colab": {
          "base_uri": "https://localhost:8080/",
          "height": 156
        },
        "id": "6HkgmfGOSvfj",
        "outputId": "38a91a2a-22c7-467e-a13b-2d4c986ab769"
      },
      "execution_count": 42,
      "outputs": [
        {
          "output_type": "error",
          "ename": "TypeError",
          "evalue": "'set' object is not subscriptable",
          "traceback": [
            "\u001b[0;31m---------------------------------------------------------------------------\u001b[0m",
            "\u001b[0;31mTypeError\u001b[0m                                 Traceback (most recent call last)",
            "\u001b[0;32m/tmp/ipython-input-255297217.py\u001b[0m in \u001b[0;36m<cell line: 0>\u001b[0;34m()\u001b[0m\n\u001b[1;32m      1\u001b[0m \u001b[0mconjunto\u001b[0m \u001b[0;34m=\u001b[0m \u001b[0;34m{\u001b[0m\u001b[0;36m1\u001b[0m\u001b[0;34m,\u001b[0m\u001b[0;36m2\u001b[0m\u001b[0;34m,\u001b[0m\u001b[0;36m3\u001b[0m\u001b[0;34m}\u001b[0m\u001b[0;34m\u001b[0m\u001b[0;34m\u001b[0m\u001b[0m\n\u001b[0;32m----> 2\u001b[0;31m \u001b[0mprint\u001b[0m\u001b[0;34m(\u001b[0m\u001b[0mconjunto\u001b[0m\u001b[0;34m[\u001b[0m\u001b[0;36m0\u001b[0m\u001b[0;34m]\u001b[0m\u001b[0;34m)\u001b[0m\u001b[0;34m\u001b[0m\u001b[0;34m\u001b[0m\u001b[0m\n\u001b[0m",
            "\u001b[0;31mTypeError\u001b[0m: 'set' object is not subscriptable"
          ]
        }
      ]
    },
    {
      "cell_type": "markdown",
      "source": [
        "Respuesta Correcta : A"
      ],
      "metadata": {
        "id": "TraYoyZNUCom"
      }
    },
    {
      "cell_type": "markdown",
      "source": [
        "**Ejercicio # 19**"
      ],
      "metadata": {
        "id": "YAmlkXMgUEyz"
      }
    },
    {
      "cell_type": "code",
      "source": [
        "len({\"a\":1,\"b\":2,\"c\":3})  # Entrega la cantidad de elementos que hay"
      ],
      "metadata": {
        "colab": {
          "base_uri": "https://localhost:8080/"
        },
        "id": "otjxf7hfUJRy",
        "outputId": "101c56b5-6b01-48db-e669-30bc2f4a6bc6"
      },
      "execution_count": 43,
      "outputs": [
        {
          "output_type": "execute_result",
          "data": {
            "text/plain": [
              "3"
            ]
          },
          "metadata": {},
          "execution_count": 43
        }
      ]
    },
    {
      "cell_type": "markdown",
      "source": [
        "Respuesta Correcta : B"
      ],
      "metadata": {
        "id": "wG7JLwkQUV4i"
      }
    },
    {
      "cell_type": "markdown",
      "source": [
        "**Ejercicio # 20**"
      ],
      "metadata": {
        "id": "5WQfSVXJUcd4"
      }
    },
    {
      "cell_type": "code",
      "source": [
        "lista = [1,2,3]\n",
        "print(lista*2)  # Entrega la lista duplicada"
      ],
      "metadata": {
        "colab": {
          "base_uri": "https://localhost:8080/"
        },
        "id": "yeHr_rIXUfkD",
        "outputId": "97a3efa5-18cd-48b4-b38b-1a42a9e08699"
      },
      "execution_count": 44,
      "outputs": [
        {
          "output_type": "stream",
          "name": "stdout",
          "text": [
            "[1, 2, 3, 1, 2, 3]\n"
          ]
        }
      ]
    },
    {
      "cell_type": "markdown",
      "source": [
        "Respuesta Correcta : A"
      ],
      "metadata": {
        "id": "lmRmKPQAUrl0"
      }
    },
    {
      "cell_type": "markdown",
      "source": [
        "**Ejercicio # 21**"
      ],
      "metadata": {
        "id": "ac6nRj0CUy5P"
      }
    },
    {
      "cell_type": "code",
      "source": [
        "d = {\"a\":1}\n",
        "d[\"a\"] = 100  # Reasignamos el valor de la clave \"a\"\n",
        "print(d)"
      ],
      "metadata": {
        "colab": {
          "base_uri": "https://localhost:8080/"
        },
        "id": "_j7ZfIazU1DP",
        "outputId": "c4b8dd57-f758-41d1-ae4b-da3ae910037b"
      },
      "execution_count": 45,
      "outputs": [
        {
          "output_type": "stream",
          "name": "stdout",
          "text": [
            "{'a': 100}\n"
          ]
        }
      ]
    },
    {
      "cell_type": "markdown",
      "source": [
        "Respuesta Correcta : B"
      ],
      "metadata": {
        "id": "_yCzAIDOVGqC"
      }
    },
    {
      "cell_type": "markdown",
      "source": [
        "**Ejercicio # 22**"
      ],
      "metadata": {
        "id": "WiqdvIZXVNFv"
      }
    },
    {
      "cell_type": "code",
      "source": [
        "print(\"python\".upper()) # Imprime en mayúsculas python"
      ],
      "metadata": {
        "colab": {
          "base_uri": "https://localhost:8080/"
        },
        "id": "tnWq_c2oVQWm",
        "outputId": "022b1560-42c3-4f55-c81b-d49af4016a43"
      },
      "execution_count": 47,
      "outputs": [
        {
          "output_type": "stream",
          "name": "stdout",
          "text": [
            "PYTHON\n"
          ]
        }
      ]
    },
    {
      "cell_type": "markdown",
      "source": [
        "Respuesta Correcta : A"
      ],
      "metadata": {
        "id": "ppZNEbVQVeNE"
      }
    },
    {
      "cell_type": "markdown",
      "source": [
        "**Ejercicio # 23**"
      ],
      "metadata": {
        "id": "h6Ir1S6MVgz-"
      }
    },
    {
      "cell_type": "code",
      "source": [
        "s = {1,2,3}"
      ],
      "metadata": {
        "id": "YWkD6c0bVl7j"
      },
      "execution_count": 49,
      "outputs": []
    },
    {
      "cell_type": "markdown",
      "source": [
        "Agregar el número 5 al conjunto s"
      ],
      "metadata": {
        "id": "z169q5E2VtqG"
      }
    },
    {
      "cell_type": "code",
      "source": [
        "s.add(5) # Agregamos el número 5\n",
        "print(s)"
      ],
      "metadata": {
        "colab": {
          "base_uri": "https://localhost:8080/"
        },
        "id": "L-MAr2XPVyjW",
        "outputId": "eaa12be3-78a9-4fc0-c742-a873b95d15ec"
      },
      "execution_count": 55,
      "outputs": [
        {
          "output_type": "stream",
          "name": "stdout",
          "text": [
            "{1, 2, 3, 5}\n"
          ]
        }
      ]
    },
    {
      "cell_type": "markdown",
      "source": [
        "Respuesta Correcta : A"
      ],
      "metadata": {
        "id": "AYV_q5EmV7ye"
      }
    },
    {
      "cell_type": "markdown",
      "source": [
        "**Ejercicio # 24**"
      ],
      "metadata": {
        "id": "74IaOO8UV_vm"
      }
    },
    {
      "cell_type": "code",
      "source": [
        "d = {\"x\":10,\"y\":20}\n",
        "print(\"x\" in d)    # Preguntamos si X esta en d"
      ],
      "metadata": {
        "colab": {
          "base_uri": "https://localhost:8080/"
        },
        "id": "-LDKmMRKWDXG",
        "outputId": "c45e5ab0-68e0-4eaf-8f62-638c1251a483"
      },
      "execution_count": 56,
      "outputs": [
        {
          "output_type": "stream",
          "name": "stdout",
          "text": [
            "True\n"
          ]
        }
      ]
    },
    {
      "cell_type": "markdown",
      "source": [
        "Respuesta Correcta : B"
      ],
      "metadata": {
        "id": "qNzVChaVWR9u"
      }
    },
    {
      "cell_type": "markdown",
      "source": [
        "**Ejercicio # 25**"
      ],
      "metadata": {
        "id": "MhmN7hpgWVMy"
      }
    },
    {
      "cell_type": "code",
      "source": [
        "print([1,2,3] == [1,2,3]) # Compara las listas para evalúar si tienen los elementos en el mismo orden"
      ],
      "metadata": {
        "colab": {
          "base_uri": "https://localhost:8080/"
        },
        "id": "fzOgjT6pWYvk",
        "outputId": "fa8f2c83-8e09-4544-b579-7f311b543966"
      },
      "execution_count": 58,
      "outputs": [
        {
          "output_type": "stream",
          "name": "stdout",
          "text": [
            "True\n"
          ]
        }
      ]
    },
    {
      "cell_type": "markdown",
      "source": [
        "Respuesta Correcta : A"
      ],
      "metadata": {
        "id": "m2p_8jILWuaQ"
      }
    },
    {
      "cell_type": "markdown",
      "source": [
        "**Ejercicio # 26**"
      ],
      "metadata": {
        "id": "DgxG8PS7W--8"
      }
    },
    {
      "cell_type": "code",
      "source": [
        "for i in range(5):\n",
        " print(i)           # Imprime los números hasta el 5 sin tener en cuenta el último"
      ],
      "metadata": {
        "colab": {
          "base_uri": "https://localhost:8080/"
        },
        "id": "P9i00ocBXBoL",
        "outputId": "e6fc47f7-1698-433b-da50-6b7a63cacef9"
      },
      "execution_count": 62,
      "outputs": [
        {
          "output_type": "stream",
          "name": "stdout",
          "text": [
            "0\n",
            "1\n",
            "2\n",
            "3\n",
            "4\n"
          ]
        }
      ]
    },
    {
      "cell_type": "markdown",
      "source": [
        "Respuesta Correcta : C"
      ],
      "metadata": {
        "id": "xHUWqc78XXCt"
      }
    },
    {
      "cell_type": "markdown",
      "source": [
        "**Ejercicio # 27**"
      ],
      "metadata": {
        "id": "MjAa_WOJXZvG"
      }
    },
    {
      "cell_type": "code",
      "source": [
        "s = {1,2,3}\n",
        "s.remove(4) # Al intentar remover un elemento que no esta en el conjunto nos aparece KeyError"
      ],
      "metadata": {
        "colab": {
          "base_uri": "https://localhost:8080/",
          "height": 156
        },
        "id": "_sraP5CDXcjk",
        "outputId": "c802cb2c-e2b3-45a2-b17e-3aa2eca65bb7"
      },
      "execution_count": 67,
      "outputs": [
        {
          "output_type": "error",
          "ename": "KeyError",
          "evalue": "4",
          "traceback": [
            "\u001b[0;31m---------------------------------------------------------------------------\u001b[0m",
            "\u001b[0;31mKeyError\u001b[0m                                  Traceback (most recent call last)",
            "\u001b[0;32m/tmp/ipython-input-1684823307.py\u001b[0m in \u001b[0;36m<cell line: 0>\u001b[0;34m()\u001b[0m\n\u001b[1;32m      1\u001b[0m \u001b[0ms\u001b[0m \u001b[0;34m=\u001b[0m \u001b[0;34m{\u001b[0m\u001b[0;36m1\u001b[0m\u001b[0;34m,\u001b[0m\u001b[0;36m2\u001b[0m\u001b[0;34m,\u001b[0m\u001b[0;36m3\u001b[0m\u001b[0;34m}\u001b[0m\u001b[0;34m\u001b[0m\u001b[0;34m\u001b[0m\u001b[0m\n\u001b[0;32m----> 2\u001b[0;31m \u001b[0ms\u001b[0m\u001b[0;34m.\u001b[0m\u001b[0mremove\u001b[0m\u001b[0;34m(\u001b[0m\u001b[0;36m4\u001b[0m\u001b[0;34m)\u001b[0m \u001b[0;31m# Al intentar remover un elemento que no esta en el conjunto nos aparece KeyError\u001b[0m\u001b[0;34m\u001b[0m\u001b[0;34m\u001b[0m\u001b[0m\n\u001b[0m",
            "\u001b[0;31mKeyError\u001b[0m: 4"
          ]
        }
      ]
    },
    {
      "cell_type": "markdown",
      "source": [
        "Respuesta Correcta : C"
      ],
      "metadata": {
        "id": "HHf5xXcoXyMb"
      }
    },
    {
      "cell_type": "markdown",
      "source": [
        "**Ejercicio # 28**"
      ],
      "metadata": {
        "id": "_GVOF7NwX1kX"
      }
    },
    {
      "cell_type": "code",
      "source": [
        "texto = \"Colombia México Perú Chile\"\n",
        "paises = texto.split()              # El split nos ayuda para dividir una cadena de texto en partes y devolverlas en una lista\n",
        "paises"
      ],
      "metadata": {
        "colab": {
          "base_uri": "https://localhost:8080/"
        },
        "id": "iNuPlq2QX-gb",
        "outputId": "04913059-f2fc-44bb-d327-348ae85a9003"
      },
      "execution_count": 69,
      "outputs": [
        {
          "output_type": "execute_result",
          "data": {
            "text/plain": [
              "['Colombia', 'México', 'Perú', 'Chile']"
            ]
          },
          "metadata": {},
          "execution_count": 69
        }
      ]
    },
    {
      "cell_type": "markdown",
      "source": [
        "Respuesta Correcta : B"
      ],
      "metadata": {
        "id": "qWkaEpeTY4vP"
      }
    },
    {
      "cell_type": "markdown",
      "source": [
        "**Ejercicio # 29**"
      ],
      "metadata": {
        "id": "GUobWQ28Y92l"
      }
    },
    {
      "cell_type": "code",
      "source": [
        "ventas = \"1000;2500;3200;4500\"\n",
        "valores = ventas.split(\";\")\n",
        "valores"
      ],
      "metadata": {
        "colab": {
          "base_uri": "https://localhost:8080/"
        },
        "id": "Czmc6re_ZP0S",
        "outputId": "7cf22b67-b057-4946-85f2-a4f218ac83b4"
      },
      "execution_count": 71,
      "outputs": [
        {
          "output_type": "execute_result",
          "data": {
            "text/plain": [
              "['1000', '2500', '3200', '4500']"
            ]
          },
          "metadata": {},
          "execution_count": 71
        }
      ]
    },
    {
      "cell_type": "markdown",
      "source": [
        "Respuesta Correcta : A"
      ],
      "metadata": {
        "id": "zKEkeFSHZjHL"
      }
    },
    {
      "cell_type": "markdown",
      "source": [
        "**Ejercicio # 30**"
      ],
      "metadata": {
        "id": "Mq9EkHL8ZsfL"
      }
    },
    {
      "cell_type": "code",
      "source": [
        "palabras = [\"Economía\",\"Mercados\",\"Exportaciones\"]\n",
        "texto = \"-\".join(palabras)    # Separa los elementos por - en vez de , y los escribe como texto\n",
        "texto"
      ],
      "metadata": {
        "colab": {
          "base_uri": "https://localhost:8080/",
          "height": 35
        },
        "id": "OXbvXAjlZuMB",
        "outputId": "00db5b58-b6a8-4323-a045-38d9a6e07900"
      },
      "execution_count": 74,
      "outputs": [
        {
          "output_type": "execute_result",
          "data": {
            "text/plain": [
              "'Economía-Mercados-Exportaciones'"
            ],
            "application/vnd.google.colaboratory.intrinsic+json": {
              "type": "string"
            }
          },
          "metadata": {},
          "execution_count": 74
        }
      ]
    },
    {
      "cell_type": "markdown",
      "source": [
        "Respuesta Correcta : B"
      ],
      "metadata": {
        "id": "AjqhBlvmaJGZ"
      }
    },
    {
      "cell_type": "markdown",
      "source": [
        "**Ejercicio # 31**"
      ],
      "metadata": {
        "id": "JIB6XQ8jaOF7"
      }
    },
    {
      "cell_type": "code",
      "source": [
        "empresas = [\"Amazon\",\"Google\",\"Microsoft\",\"Apple\"]\n",
        "empresas.sort()  # Ordena la lista en orden alfabético"
      ],
      "metadata": {
        "id": "vf3bwVqMaSTd"
      },
      "execution_count": 76,
      "outputs": []
    },
    {
      "cell_type": "code",
      "source": [
        "empresas"
      ],
      "metadata": {
        "colab": {
          "base_uri": "https://localhost:8080/"
        },
        "id": "FWHC6XbLaniW",
        "outputId": "8cb8b1a1-14cd-4730-ead5-728af0fdf797"
      },
      "execution_count": 77,
      "outputs": [
        {
          "output_type": "execute_result",
          "data": {
            "text/plain": [
              "['Amazon', 'Apple', 'Google', 'Microsoft']"
            ]
          },
          "metadata": {},
          "execution_count": 77
        }
      ]
    },
    {
      "cell_type": "markdown",
      "source": [
        "Respuesta Correcta : A"
      ],
      "metadata": {
        "id": "SHLw1P7gaocb"
      }
    },
    {
      "cell_type": "code",
      "source": [
        "# Aunque en la respuesta sale primero Apple [\"Apple\",\"Amazon\",\"Google\",\"Microsfot\"], va primero Amazon por el orden lexicográfico de la segunda letra en la palabra"
      ],
      "metadata": {
        "id": "nZTfdfoSa7xm"
      },
      "execution_count": null,
      "outputs": []
    },
    {
      "cell_type": "markdown",
      "source": [
        "**Ejercicio # 32**"
      ],
      "metadata": {
        "id": "7jGNmFLZbVm_"
      }
    },
    {
      "cell_type": "code",
      "source": [
        "números = list(range(2,10,2)) # Lista números de 2 en 2, desde el 2 hasta el 10 sin tomar en cuenta el 10\n",
        "números"
      ],
      "metadata": {
        "colab": {
          "base_uri": "https://localhost:8080/"
        },
        "id": "JRNJUAwabYej",
        "outputId": "c6832903-134f-4b40-9f8b-3475587e9593"
      },
      "execution_count": 79,
      "outputs": [
        {
          "output_type": "execute_result",
          "data": {
            "text/plain": [
              "[2, 4, 6, 8]"
            ]
          },
          "metadata": {},
          "execution_count": 79
        }
      ]
    },
    {
      "cell_type": "markdown",
      "source": [
        "Respuesta Correcta : A"
      ],
      "metadata": {
        "id": "TqiQ2z01bpXO"
      }
    }
  ]
}