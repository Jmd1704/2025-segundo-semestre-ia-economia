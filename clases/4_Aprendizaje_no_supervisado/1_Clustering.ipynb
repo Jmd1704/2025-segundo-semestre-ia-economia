{
  "cells": [
    {
      "cell_type": "markdown",
      "source": [
        "<a href=\"https://colab.research.google.com/github/LinaMariaCastro/curso-ia-para-economia/blob/main/clases/4_Aprendizaje_no_supervisado/1_Clustering.ipynb\" target=\"_parent\"><img src=\"https://colab.research.google.com/assets/colab-badge.svg\" alt=\"Open In Colab\"/></a>"
      ],
      "metadata": {
        "id": "DHNQuIqAmvl5"
      }
    },
    {
      "cell_type": "markdown",
      "source": [
        "# **Inteligencia Artificial con Aplicaciones en Economía I**\n",
        "\n",
        "- 👩‍🏫 **Profesora:** [Lina María Castro](https://www.linkedin.com/in/lina-maria-castro)  \n",
        "- 📧 **Email:** [lmcastroco@gmail.com](mailto:lmcastroco@gmail.com)  \n",
        "- 🎓 **Universidad:** Universidad Externado de Colombia - Facultad de Economía"
      ],
      "metadata": {
        "id": "5iiwfbXCQv5D"
      }
    },
    {
      "cell_type": "markdown",
      "source": [
        "# 🎨 **Análisis de Clusters**"
      ],
      "metadata": {
        "id": "nfsUhkvVAwb_"
      }
    },
    {
      "cell_type": "markdown",
      "metadata": {
        "id": "rYgWrWp5_dDB"
      },
      "source": [
        "**Objetivos de Aprendizaje**\n",
        "\n",
        "Al finalizar este notebook, serás capaz de:\n",
        "\n",
        "1.  **Entender la intuición económica** detrás del análisis de clustering y su aplicación en la segmentación de mercados.\n",
        "2. **Implementar** tres algoritmos de agrupamiento fundamentales: K-Means, K-modes y K-prototypes.\n",
        "3. **Determinar el número óptimo de clusters** utilizando técnicas como el Método del Codo y el Coeficiente de Silueta.\n",
        "4. **Interpretar los resultados** de los algoritmos de clustering para extraer conclusiones de negocio y económicas valiosas."
      ]
    },
    {
      "cell_type": "markdown",
      "source": [
        "**Introducción**\n",
        "\n",
        "Imagina que eres el gerente de un centro comercial. Tienes datos sobre tus clientes: cuánto ganan y cuánto gastan. Quieres lanzar campañas de marketing, pero enviar el mismo mensaje a todos es ineficiente. A un cliente que gana mucho y gasta poco (un ahorrador) no le interesará la misma promoción que a un cliente que gana poco pero gasta mucho (un entusiasta de las ofertas).\n",
        "\n",
        "El análisis de clustering es una técnica de machine learning no supervisado que nos permite hacer exactamente esto: descubrir grupos (o clusters) naturales en nuestros datos sin que nos digan previamente cuáles son esos grupos. El algoritmo \"mira\" los datos y agrupa a los clientes que se parecen entre sí."
      ],
      "metadata": {
        "id": "iHjMtMi-ua1Y"
      }
    },
    {
      "cell_type": "markdown",
      "metadata": {
        "id": "X84yTi9e_dDM"
      },
      "source": [
        "## Importar librerías"
      ]
    },
    {
      "cell_type": "code",
      "source": [
        "# Importación de librerías estándar\n",
        "import os\n",
        "import pandas as pd\n",
        "import numpy as np\n",
        "import matplotlib.pyplot as plt\n",
        "import seaborn as sns\n",
        "\n",
        "# Importación de modelos y métricas de Scikit-Learn\n",
        "from sklearn.preprocessing import StandardScaler\n",
        "from sklearn.cluster import KMeans\n",
        "from sklearn.metrics import silhouette_score"
      ],
      "metadata": {
        "id": "nMPlxfM6CbaY"
      },
      "execution_count": null,
      "outputs": []
    },
    {
      "cell_type": "markdown",
      "source": [
        "## Mejorar visualización de dataframes y gráficos"
      ],
      "metadata": {
        "id": "jHE2ZLJuEPIe"
      }
    },
    {
      "cell_type": "code",
      "source": [
        "# Que muestre todas las columnas\n",
        "pd.options.display.max_columns = None\n",
        "# En los dataframes, mostrar los float con dos decimales\n",
        "pd.options.display.float_format = '{:,.2f}'.format\n",
        "\n",
        "# Configuraciones para una mejor visualización\n",
        "sns.set(style='whitegrid')\n",
        "plt.rcParams['figure.figsize'] = (12, 8)"
      ],
      "metadata": {
        "id": "72TA8V1fETCm"
      },
      "execution_count": null,
      "outputs": []
    },
    {
      "cell_type": "markdown",
      "source": [
        "## Cargar el dataset"
      ],
      "metadata": {
        "id": "zDVWavcQ9zAW"
      }
    },
    {
      "cell_type": "code",
      "execution_count": null,
      "metadata": {
        "id": "KYRaLbXlMc_c"
      },
      "outputs": [],
      "source": [
        "from google.colab import drive, files\n",
        "drive.mount('/content/drive')"
      ]
    },
    {
      "cell_type": "code",
      "execution_count": null,
      "metadata": {
        "id": "dQSa_neuGLji"
      },
      "outputs": [],
      "source": [
        "path = '/content/drive/MyDrive/2025_ii_curso_ia_economia/datasets'"
      ]
    },
    {
      "cell_type": "code",
      "execution_count": null,
      "metadata": {
        "id": "cka8EDXhQuee"
      },
      "outputs": [],
      "source": [
        "# Para establecer el directorio de los archivos\n",
        "os.chdir(path)"
      ]
    },
    {
      "cell_type": "code",
      "source": [
        "df = pd.read_csv('Mall_Customers.csv')\n",
        "df"
      ],
      "metadata": {
        "id": "zEjW10KsumIj"
      },
      "execution_count": null,
      "outputs": []
    },
    {
      "cell_type": "code",
      "source": [
        "# Renombrar columnas para facilidad de uso\n",
        "df.rename(columns={\n",
        "    'Annual Income (k$)': 'Annual_Income',\n",
        "    'Spending Score (1-100)': 'Spending_Score'\n",
        "}, inplace=True)"
      ],
      "metadata": {
        "id": "Qjy3l4pVxIom"
      },
      "execution_count": null,
      "outputs": []
    },
    {
      "cell_type": "code",
      "source": [
        "df.info()"
      ],
      "metadata": {
        "id": "TXL2821OvOXZ"
      },
      "execution_count": null,
      "outputs": []
    },
    {
      "cell_type": "code",
      "source": [
        "print(\"\\nEstadísticas Descriptivas:\")\n",
        "print(df.describe())"
      ],
      "metadata": {
        "id": "Iwb4OAqMxKvF"
      },
      "execution_count": null,
      "outputs": []
    },
    {
      "cell_type": "markdown",
      "source": [
        "Los datos están limpios (no hay nulos) y listos para el análisis."
      ],
      "metadata": {
        "id": "gCGMBuKCxT8x"
      }
    },
    {
      "cell_type": "markdown",
      "source": [
        "## Visualización: ¿Podemos \"Ver\" los Clusters?"
      ],
      "metadata": {
        "id": "gmZ2USmtxfFs"
      }
    },
    {
      "cell_type": "markdown",
      "source": [
        "La mejor forma de empezar es visualizando la relación entre el ingreso anual y la puntuación de gasto."
      ],
      "metadata": {
        "id": "V_OHAcN6xcpV"
      }
    },
    {
      "cell_type": "code",
      "source": [
        "plt.figure(figsize=(10, 6))\n",
        "sns.scatterplot(x='Annual_Income', y='Spending_Score', data=df)\n",
        "plt.title('Ingreso Anual vs. Puntuación de Gasto')\n",
        "plt.xlabel('Ingreso Anual (en miles de $)')\n",
        "plt.ylabel('Puntuación de Gasto (1-100)')\n",
        "plt.show()"
      ],
      "metadata": {
        "id": "4gOOEQ9UxiTz"
      },
      "execution_count": null,
      "outputs": []
    },
    {
      "cell_type": "markdown",
      "source": [
        "A simple vista, podemos identificar 5 grupos de clientes. Esto es una gran ventaja, ya que nos da una hipótesis clara para probar con nuestros algoritmos."
      ],
      "metadata": {
        "id": "tRFdFeX4xp-g"
      }
    },
    {
      "cell_type": "markdown",
      "source": [
        "## Preprocesamiento: preparando los datos para el Clustering\n",
        "\n",
        "Para este análisis, nos enfocaremos en las dos variables que visualizamos.\n",
        "\n",
        "Debido a que los algoritmos de clustering se basan en distancias, se deben estandarizar las variables para que ninguna domine a la otra solo por su escala."
      ],
      "metadata": {
        "id": "eKabOLPBxrB-"
      }
    },
    {
      "cell_type": "code",
      "source": [
        "# Seleccionamos las características para el clustering\n",
        "X = df[['Annual_Income', 'Spending_Score']]\n",
        "\n",
        "# Estandarizamos las características\n",
        "scaler = StandardScaler()\n",
        "X_scaled = scaler.fit_transform(X)\n",
        "\n",
        "# Convertimos a DataFrame para facilidad de uso posterior\n",
        "X_scaled_df = pd.DataFrame(X_scaled, columns=['Annual_Income', 'Spending_Score'])\n",
        "X_scaled_df\n"
      ],
      "metadata": {
        "id": "d7yWvHfGx-Kv"
      },
      "execution_count": null,
      "outputs": []
    },
    {
      "cell_type": "code",
      "source": [
        "sns.pairplot(X)\n",
        "plt.suptitle('Pairplot de Datos Originales', y=1.02)\n",
        "plt.show()"
      ],
      "metadata": {
        "id": "I8AKMwks-nMm"
      },
      "execution_count": null,
      "outputs": []
    },
    {
      "cell_type": "code",
      "source": [
        "# Generar un pairplot de los datos escalados\n",
        "sns.pairplot(X_scaled_df)\n",
        "plt.suptitle('Pairplot de Datos Estandarizados', y=1.02) # Añadir un título general\n",
        "plt.show()"
      ],
      "metadata": {
        "id": "M9tIbPX7-Trj"
      },
      "execution_count": null,
      "outputs": []
    },
    {
      "cell_type": "markdown",
      "source": [
        "## K-Means"
      ],
      "metadata": {
        "id": "OwD-yB1dyGWO"
      }
    },
    {
      "cell_type": "markdown",
      "source": [
        "- K-Means es el algoritmo de clustering más popular por su simplicidad y eficiencia.\n",
        "\n",
        "- Divide una muestra n en K clases.\n",
        "\n",
        "- Solo se aplica a variables numéricas.\n",
        "\n",
        "Pasos que sigue el algoritmo:\n",
        "\n",
        "1. El algoritmo asigna aleatoriamente 'k' puntos como centros de cada cluster (centroides).\n",
        "\n",
        "2. Asigna cada observación al centroide más cercano.\n",
        "\n",
        "3. Recalcula la posición de cada centroide como el promedio de todos los puntos asignados a él.\n",
        "\n",
        "4. Repite los pasos 2 y 3 hasta que los centroides ya no se mueven o hasta que se alcance el número de iteraciones que le indiquemos.\n",
        "\n"
      ],
      "metadata": {
        "id": "eSouxhrDyLFX"
      }
    },
    {
      "cell_type": "code",
      "source": [
        "from IPython.display import YouTubeVideo\n",
        "\n",
        "# ID del video: https://www.youtube.com/watch?v=mICySHB0fh4\n",
        "YouTubeVideo('mICySHB0fh4', width=800, height=450)"
      ],
      "metadata": {
        "id": "lkd1PztxW4PE"
      },
      "execution_count": null,
      "outputs": []
    },
    {
      "cell_type": "markdown",
      "source": [
        "**K-Means utiliza la Distancia Euclidiana**\n",
        "\n",
        "Es la que todos conocemos de la geometría. La distancia más corta entre dos puntos: la hipotenusa de un triángulo.\n",
        "\n",
        "Fórmula:\n",
        "\n",
        "$$d(p, q) = \\sqrt{\\sum_{i=1}^{n} (p_i - q_i)^2}$$\n",
        "\n",
        "p y q: Son nuestros dos puntos (Cliente A y Cliente B).\n",
        "\n",
        "i: Es un índice que representa cada una de las dimensiones que estamos considerando (dimensión 1: Ingreso, dimensión 2: Gasto, dimensión 3: Edad, etc.).\n",
        "\n",
        "(pi−qi): Es la diferencia entre los dos puntos a lo largo de una sola dimensión i.\n",
        "\n",
        "Ventajas:\n",
        "\n",
        "- Muy intuitiva y fácil de entender.\n",
        "- Funciona excelentemente cuando los clusters son compactos y esféricos.\n",
        "\n",
        "Desventajas:\n",
        "\n",
        "- La Maldición de la Dimensionalidad: A medida que añadimos más variables (dimensiones), la distancia euclidiana pierde significado. En un espacio de muchas dimensiones, la distancia entre cualquier par de puntos tiende a ser muy similar, dificultando la formación de clusters densos.\n",
        "- Sensible a la escala de las variables (por eso siempre estandarizamos).\n",
        "\n",
        "Casos de Uso:\n",
        "- Segmentación de clientes.\n",
        "- Agrupación de acciones por retorno y volatilidad.\n",
        "- Agrupación de establecimientos según ventas y número de clientes."
      ],
      "metadata": {
        "id": "mlqK4WNh8acZ"
      }
    },
    {
      "cell_type": "markdown",
      "source": [
        "### Aplicar K-Means y visualizar los resultados\n",
        "\n",
        "Ahora, aplicamos K-Means con k=5, según lo que vimos en la gráfica."
      ],
      "metadata": {
        "id": "8bDZDghz91RU"
      }
    },
    {
      "cell_type": "code",
      "source": [
        "# Aplicar K-Means con k=5\n",
        "kmeans = KMeans(n_clusters=5, init='k-means++', max_iter=300, n_init=10, random_state=42)\n",
        "clusters_kmeans = kmeans.fit_predict(X_scaled_df)\n",
        "clusters_kmeans\n"
      ],
      "metadata": {
        "id": "VJ6toBCX91RW"
      },
      "execution_count": null,
      "outputs": []
    },
    {
      "cell_type": "markdown",
      "source": [
        "**Nota:**\n",
        "\n",
        "- init='k-means++': Es una forma 'inteligente' de elegir los centroides iniciales. En lugar de ponerlos al azar, este método trata de elegirlos lo más separados posible entre sí. Esto hace que el algoritmo converja mucho más rápido y a un mejor resultado. Es la opción por defecto y casi siempre la mejor.\n",
        "\n",
        "- n_init=10: K-Means puede a veces quedarse 'atrapado' en una solución subóptima dependiendo de dónde empezaron los centroides. Este parámetro le dice a Scikit-Learn: 'Corre todo el algoritmo 10 veces desde el principio con diferentes centroides iniciales, y al final quédate con el mejor resultado de los 10'. Esto aumenta la probabilidad de encontrar la mejor solución posible.\n",
        "\n",
        "- max_iter: Es el número máximo de iteraciones (ciclos de \"asignar puntos -> actualizar centroides\") que el algoritmo realizará en una sola ejecución. Es una salvaguarda, ya que K-Means suele converger muy rápido (en menos de 100 iteraciones). Este límite evita que el algoritmo se ejecute indefinidamente si por alguna razón no converge. El valor por defecto es de 300 que es más que suficiente para la gran mayoría de los problemas. Rara vez necesitarás cambiarlo."
      ],
      "metadata": {
        "id": "Kcwt8-IM5c7y"
      }
    },
    {
      "cell_type": "code",
      "source": [
        "# Añadir los clusters al DataFrame original\n",
        "df['Cluster_KMeans'] = clusters_kmeans\n",
        "df"
      ],
      "metadata": {
        "id": "0ZgkBjvg91RX"
      },
      "execution_count": null,
      "outputs": []
    },
    {
      "cell_type": "code",
      "source": [
        "# Ver las coordenadas de los centroides\n",
        "kmeans.cluster_centers_"
      ],
      "metadata": {
        "id": "KiKcOdg391RX"
      },
      "execution_count": null,
      "outputs": []
    },
    {
      "cell_type": "code",
      "source": [
        "# Visualizar los clusters\n",
        "plt.figure(figsize=(12, 8))\n",
        "sns.scatterplot(x='Annual_Income', y='Spending_Score', hue='Cluster_KMeans', data=df, palette='viridis', s=100)\n",
        "\n",
        "# Visualizar los centroides\n",
        "centroids = scaler.inverse_transform(kmeans.cluster_centers_)\n",
        "plt.scatter(centroids[:, 0], centroids[:, 1], s=300, c='red', marker='X', label='Centroides')\n",
        "\n",
        "plt.title('Segmentación de Clientes con K-Means')\n",
        "plt.xlabel('Ingreso Anual (en miles de $)')\n",
        "plt.ylabel('Puntuación de Gasto (1-100)')\n",
        "plt.legend()\n",
        "plt.show()"
      ],
      "metadata": {
        "id": "M6otLhYZ91RY"
      },
      "execution_count": null,
      "outputs": []
    },
    {
      "cell_type": "markdown",
      "source": [
        "### Determinar el Número Óptimo de Clusters (k)"
      ],
      "metadata": {
        "id": "RGaGa_yCygbM"
      }
    },
    {
      "cell_type": "markdown",
      "source": [
        "#### Inercia\n",
        "\n",
        "Cuando entrenamos un modelo K-Means, el resultado tiene un atributo llamado inertia_. Este número no es solo un resultado técnico; **es el objetivo central que el algoritmo K-Means intenta minimizar**.\n",
        "\n",
        "En términos sencillos, **la inercia mide qué tan internamente coherentes y compactos son los clusters**. Un valor de inercia más bajo significa que los clusters son más densos y están mejor definidos, ya que los puntos de datos están, en promedio, más cerca de sus respectivos centroides.\n",
        "\n",
        "Se calcula de la siguiente manera:\n",
        "\n",
        "1. Para cada punto de dato, medimos la distancia al centroide.\n",
        "2. Elevamos esa distancia al cuadrado. (Elevar al cuadrado penaliza más fuertemente a los puntos que están muy lejos).\n",
        "3. Sumamos los resultados de todos los puntos.\n",
        "\n",
        "El objetivo de K-Means es mover los centroides de tal manera que esta suma total de distancias al cuadrado sea la menor posible. Un valor de inercia bajo significa que logramos ubicar los centroides de forma muy eficiente, muy cerca de sus respectivos puntos de datos.\n",
        "\n",
        "La Definición Formal: WCSS\n",
        "\n",
        "El término técnico para la inercia es WCSS (Within-Cluster Sum of Squares) o \"Suma de Cuadrados Intra-Cluster\". La fórmula es:\n",
        "\n",
        "$$\n",
        "\\text{Inercia (WCSS)} = \\sum_{j=1}^{k} \\sum_{i \\in C_j} \\| x_i - \\mu_j \\|^2\n",
        "$$"
      ],
      "metadata": {
        "id": "GsTbGpnK_zcR"
      }
    },
    {
      "cell_type": "code",
      "source": [
        "kmeans.inertia_"
      ],
      "metadata": {
        "id": "8tQJ_v6T91RY"
      },
      "execution_count": null,
      "outputs": []
    },
    {
      "cell_type": "markdown",
      "source": [
        "#### Método del Codo (Elbow Method)\n",
        "\n",
        "El método del codo **se basa enteramente en cómo se comporta la inercia a medida que aumentamos el número de clusters (k)**.\n",
        "\n",
        "- La inercia siempre disminuye con más clusters: Esto es lógico. En el caso extremo, si el número de clusters es igual al número de datos, la distancia de cada dato a su centroide sería cero y la inercia sería 0.\n",
        "\n",
        "- Por la razón anterior, no podemos simplemente elegir el k que nos dé la menor inercia. Lo que buscamos es el \"codo\": el punto a partir del cual añadir un nuevo cluster ya no reduce la inercia de forma significativa. Es el punto donde el beneficio de añadir un nuevo cluster es marginal, lo que nos sugiere que hemos encontrado el número de grupos \"naturales\" en los datos."
      ],
      "metadata": {
        "id": "py-dpSoz7fe-"
      }
    },
    {
      "cell_type": "code",
      "source": [
        "wcss = []\n",
        "for i in range(1, 11):\n",
        "    kmeans = KMeans(n_clusters=i, init='k-means++', max_iter=300, n_init=10, random_state=42)\n",
        "    kmeans.fit(X_scaled_df)\n",
        "    wcss.append(kmeans.inertia_)\n",
        "\n",
        "plt.figure(figsize=(10, 5))\n",
        "plt.plot(range(1, 11), wcss, marker='o', linestyle='--')\n",
        "plt.title('Método del Codo')\n",
        "plt.xlabel('Número de Clusters (k)')\n",
        "plt.ylabel('WCSS')\n",
        "plt.show()"
      ],
      "metadata": {
        "id": "cbwFR3oR5Q0J"
      },
      "execution_count": null,
      "outputs": []
    },
    {
      "cell_type": "markdown",
      "source": [
        "El \"codo\" es claramente visible en k=5, confirmando nuestra intuición visual."
      ],
      "metadata": {
        "id": "solQ0Gxl5dC1"
      }
    },
    {
      "cell_type": "markdown",
      "source": [
        "#### Coeficiente de Silueta (Silhouette Score)\n",
        "\n",
        "La idea central del Coeficiente de Silueta es responder dos preguntas para cada punto de dato individual:\n",
        "\n",
        "- ¿Qué tan bien encaja este punto en su propio cluster? (Cohesión)\n",
        "\n",
        "- ¿Qué tan mal encajaría este punto en el siguiente cluster más cercano? (Separación)\n",
        "\n",
        "Un buen clustering es aquel en el que, para la mayoría de los puntos, la respuesta a la primera pregunta es \"muy bien\" y la respuesta a la segunda es \"muy mal\".\n",
        "\n",
        "Para cada punto de dato i, calculamos dos valores:\n",
        "\n",
        "- a(i): **Cohesión Interna**. Es la distancia promedio de i a todos los demás puntos dentro del mismo cluster. Un valor bajo de a(i) es bueno, significa que el punto está en un vecindario denso y coherente.\n",
        "\n",
        "- b(i): **Separación Externa**. Es la distancia promedio de i a todos los puntos en el siguiente cluster más cercano. El \"siguiente cluster más cercano\" es aquel cuya distancia promedio desde i es la más baja entre todos los clusters de los que i no es miembro. Un valor alto de b(i) es bueno, significa que los otros clusters están lejos.\n",
        "\n",
        "Una vez que tenemos a(i) y b(i) para un solo punto i, la fórmula del coeficiente de silueta para ese punto es:\n",
        "\n",
        "$$\n",
        "s(i) = \\frac{b(i) - a(i)}{\\max(a(i), b(i))}\n",
        "$$\n",
        "\n",
        "El Numerador (b(i) - a(i)): Es el corazón del cálculo. Queremos que la separación b(i) sea lo más grande posible y que la cohesión a(i) sea lo más pequeña posible. Por lo tanto, un valor grande y positivo en el numerador es ideal.\n",
        "\n",
        "El Denominador max(a(i), b(i)): Es un factor de normalización. Divide el resultado por el valor más grande entre a(i) y b(i) para asegurar que el puntaje final siempre esté entre -1 y 1.\n",
        "\n",
        "- **Puntaje cercano a +1** (Ideal ✨): El punto está muy bien agrupado. Su propio cluster es muy denso y está muy lejos del siguiente cluster más cercano.\n",
        "\n",
        "- **Puntaje cercano a 0** (Ambiguo 😐): El punto está en la frontera entre dos clusters. Está casi a la misma distancia de su propio cluster que del vecino. Esto indica que los clusters se superponen o que el punto podría pertenecer a cualquiera de los dos.\n",
        "\n",
        "- **Puntaje cercano a -1** (Pésimo ❌): El punto probablemente ha sido asignado al cluster equivocado. En promedio, está más cerca de los puntos de un cluster vecino que de los puntos de su propio cluster. Es una fuerte señal de que la estructura del clustering es incorrecta."
      ],
      "metadata": {
        "id": "VOrrJgEG5d4K"
      }
    },
    {
      "cell_type": "code",
      "source": [
        "# Se define un rango de valores para el número de clusters (k) que vamos a probar.\n",
        "# Empezamos en 2 porque el coeficiente de silueta no se puede calcular para un solo cluster (k=1).\n",
        "# Probaremos desde k=2 hasta k=10.\n",
        "range_n_clusters = range(2, 11)\n",
        "\n",
        "silhouette_avg_scores = []\n",
        "\n",
        "for n_clusters in range_n_clusters:\n",
        "    clusterer = KMeans(n_clusters=n_clusters, n_init=10, random_state=42)\n",
        "    cluster_labels = clusterer.fit_predict(X_scaled_df)\n",
        "    silhouette_avg = silhouette_score(X_scaled_df, cluster_labels)\n",
        "    silhouette_avg_scores.append(silhouette_avg)\n",
        "    print(f\"Para n_clusters = {n_clusters}, el coeficiente de silueta promedio es: {silhouette_avg:.4f}\")\n",
        "\n",
        "plt.figure(figsize=(10, 5))\n",
        "plt.plot(range_n_clusters, silhouette_avg_scores, marker='o', linestyle='--')\n",
        "plt.title('Coeficiente de Silueta para Varios k')\n",
        "plt.xlabel('Número de Clusters (k)')\n",
        "plt.ylabel('Coeficiente de Silueta Promedio')\n",
        "plt.show()"
      ],
      "metadata": {
        "id": "VK0hTR2R5iNB"
      },
      "execution_count": null,
      "outputs": []
    },
    {
      "cell_type": "markdown",
      "source": [
        "El coeficiente de silueta más alto también se obtiene para k=5."
      ],
      "metadata": {
        "id": "E6vrjK4r5r2r"
      }
    },
    {
      "cell_type": "markdown",
      "source": [
        " **Nota:**\n",
        "\n",
        " Un puntaje promedio cercano a 1 indica que los clusters son densos y están bien separados. Si es cercano a 0 o negativo, la estructura es débil."
      ],
      "metadata": {
        "id": "x8pAjoOE6i7G"
      }
    },
    {
      "cell_type": "code",
      "source": [
        "# Aplicar K-Means con k=5\n",
        "kmeans = KMeans(n_clusters=5, init='k-means++', max_iter=300, n_init=10, random_state=42)\n",
        "clusters_kmeans = kmeans.fit_predict(X_scaled_df)\n"
      ],
      "metadata": {
        "id": "nwAU-Qses42Z"
      },
      "execution_count": null,
      "outputs": []
    },
    {
      "cell_type": "code",
      "source": [
        "# Visualizar los clusters\n",
        "plt.figure(figsize=(12, 8))\n",
        "sns.scatterplot(x='Annual_Income', y='Spending_Score', hue='Cluster_KMeans', data=df, palette='viridis', s=100)\n",
        "\n",
        "# Visualizar los centroides\n",
        "centroids = scaler.inverse_transform(kmeans.cluster_centers_)\n",
        "plt.scatter(centroids[:, 0], centroids[:, 1], s=300, c='red', marker='X', label='Centroides')\n",
        "\n",
        "plt.title('Segmentación de Clientes con K-Means')\n",
        "plt.xlabel('Ingreso Anual (en miles de $)')\n",
        "plt.ylabel('Puntuación de Gasto (1-100)')\n",
        "plt.legend()\n",
        "plt.show()"
      ],
      "metadata": {
        "id": "-Dcn3TPqs42d"
      },
      "execution_count": null,
      "outputs": []
    },
    {
      "cell_type": "markdown",
      "source": [
        "### Interpretación de los Clusters (¡La parte más importante!)\n",
        "\n",
        "Ahora, le damos un significado a cada grupo:\n",
        "\n",
        "- **Cluster 0 (Púrpura): Promedio.** Ingresos y gastos medios. Representan al cliente general del centro comercial. Estrategia: Promociones generales, programas de lealtad.\n",
        "\n",
        "- **Cluster 1 (Azul Oscuro): Objetivo Principal.** ¡El grupo soñado! Ingresos altos y puntuación de gasto alta. Son los clientes más rentables. Estrategia: Programas VIP, acceso anticipado a productos, marketing de lujo.\n",
        "\n",
        "- **Cluster 2 (Azul claro): Jóvenes Entusiastas.** Ingresos bajos, pero gastan mucho. Probablemente jóvenes, sensibles a las tendencias y ofertas. Estrategia: Marketing en redes sociales, descuentos por tiempo limitado.\n",
        "\n",
        "- **Cluster 3 (Verde): Ahorradores Prudentes.** Ingresos altos, pero puntuación de gasto baja. Son clientes valiosos pero difíciles de atraer. Estrategia: Marketing enfocado en calidad, durabilidad e inversión a largo plazo.\n",
        "\n",
        "- **Cluster 4 (Amarillo): Cautelosos.** Bajos ingresos y bajo gasto. Son muy sensibles al precio. Estrategia: Promociones de \"compre uno, lleve otro\", cupones de descuento."
      ],
      "metadata": {
        "id": "uLjcrRCY6Aan"
      }
    },
    {
      "cell_type": "code",
      "source": [
        "df.groupby('Cluster_KMeans')[['Annual_Income', 'Spending_Score', 'Age']].mean()"
      ],
      "metadata": {
        "id": "0VYi99fbrz5T"
      },
      "execution_count": null,
      "outputs": []
    },
    {
      "cell_type": "markdown",
      "source": [
        "## ¿Podemos usar clustering para predecir algo? Por ejemplo, ¿predecir a qué cluster pertenecerá un nuevo cliente?\n",
        "\n",
        "Una vez que has creado tus clusters y estás satisfecho con ellos, la etiqueta del cluster (Cluster_KMeans en nuestro notebook) se convierte en una nueva variable objetivo. Luego, puedes entrenar un modelo de clasificación (como una regresión logística o un árbol de decisión) para predecir la probabilidad de que un nuevo cliente, basándose en su edad, ingreso, etc., pertenezca a uno de tus segmentos definidos. Esto es extremadamente útil para la toma de decisiones en tiempo real."
      ],
      "metadata": {
        "id": "TZTVXNty6_0n"
      }
    },
    {
      "cell_type": "markdown",
      "source": [
        "## Clustering Avanzado: Manejo de Variables Categóricas con K-Prototypes"
      ],
      "metadata": {
        "id": "XYaBbXdjx1Y_"
      }
    },
    {
      "cell_type": "markdown",
      "source": [
        "Hasta ahora, hemos trabajado principalmente con variables numéricas (Annual_Income, Spending_Score). Pero, ¿qué pasa con la columna Gender? ¿Podemos incluirla en nuestro análisis para obtener segmentos aún más ricos?\n",
        "\n",
        "Los algoritmos como K-Means, que se basan en la distancia euclidiana, no pueden manejar texto como \"Male\" o \"Female\" directamente. Para resolver esto, podemos emplear modelos como K-Prototypes para datos mixtos."
      ],
      "metadata": {
        "id": "TiA71Obsx5Ks"
      }
    },
    {
      "cell_type": "code",
      "source": [
        "#!pip install kmodes"
      ],
      "metadata": {
        "id": "sUF7COLI7OP2"
      },
      "execution_count": null,
      "outputs": []
    },
    {
      "cell_type": "code",
      "source": [
        "# Importamos los nuevos algoritmos\n",
        "from kmodes.kmodes import KModes\n",
        "from kmodes.kprototypes import KPrototypes"
      ],
      "metadata": {
        "id": "T9wZDeYnyZdV"
      },
      "execution_count": null,
      "outputs": []
    },
    {
      "cell_type": "markdown",
      "source": [
        "K-Prototypes, en lugar de \"centroides\", crea \"prototipos\" de clusters que son un híbrido:\n",
        "\n",
        "- Para las columnas numéricas, el prototipo es la media.\n",
        "\n",
        "- Para las columnas categóricas, el prototipo es la moda.\n",
        "\n",
        "La distancia total es una combinación ponderada de la distancia euclidiana y la de Hamming."
      ],
      "metadata": {
        "id": "WG2HiFrmzpQG"
      }
    },
    {
      "cell_type": "markdown",
      "source": [
        "**Nota: Distancia de Hamming**\n",
        "\n",
        "Se cuenta el número de variables en las que son diferentes dos observaciones: Un cliente ['Móvil', 'Chrome', 'Sí'] tendría una distancia de 0 con otro cliente idéntico, y una distancia de 3 con un cliente ['PC', 'Firefox', 'No']."
      ],
      "metadata": {
        "id": "yXZh6-doAdhq"
      }
    },
    {
      "cell_type": "markdown",
      "source": [
        "\n",
        "Vamos a segmentar a nuestros clientes usando Age, Annual_Income, Spending_Score y, ahora también, Gender."
      ],
      "metadata": {
        "id": "hvSqNBYy_q19"
      }
    },
    {
      "cell_type": "code",
      "source": [
        "# Hacemos una copia del DataFrame para este análisis\n",
        "df_mixed = df[['Age', 'Annual_Income', 'Spending_Score', 'Gender']].copy()\n",
        "df_mixed"
      ],
      "metadata": {
        "id": "ZWk-EeSF3yLc"
      },
      "execution_count": null,
      "outputs": []
    },
    {
      "cell_type": "code",
      "source": [
        "# El algoritmo necesita saber la posición de las columnas categóricas.\n",
        "# En nuestro caso, 'Gender' está en la última posición (índice 3).\n",
        "categorical_columns_index = [3]\n",
        "\n",
        "# Convertimos los datos a una matriz numpy\n",
        "data_matrix = df_mixed.values\n",
        "\n",
        "# K-Prototypes es sensible a la escala, por lo que estandarizamos las variables numéricas primero\n",
        "# Nota: Estandarizamos solo las columnas numéricas (0, 1, 2)\n",
        "scaler = StandardScaler()\n",
        "data_matrix[:, 0:3] = scaler.fit_transform(data_matrix[:, 0:3])\n",
        "\n",
        "# La columna 'Gender' también debe ser codificada numéricamente para el algoritmo\n",
        "from sklearn.preprocessing import LabelEncoder\n",
        "le = LabelEncoder()\n",
        "data_matrix[:, 3] = le.fit_transform(data_matrix[:, 3])\n",
        "print(f\"El mapeo de clases es: {le.classes_}\")\n",
        "\n",
        "# Aplicamos K-Prototypes\n",
        "kproto = KPrototypes(n_clusters=5, init='Cao', n_init=5, verbose=0, random_state=42)\n",
        "clusters_kproto = kproto.fit_predict(data_matrix, categorical=categorical_columns_index)\n",
        "clusters_kproto"
      ],
      "metadata": {
        "id": "reKvaPV0zdKd"
      },
      "execution_count": null,
      "outputs": []
    },
    {
      "cell_type": "code",
      "source": [
        "# Añadimos los clusters al DataFrame original\n",
        "df_mixed['Cluster_KPrototypes'] = clusters_kproto\n",
        "df_mixed"
      ],
      "metadata": {
        "id": "7vr0BpeE4IDf"
      },
      "execution_count": null,
      "outputs": []
    },
    {
      "cell_type": "code",
      "source": [
        "print(kproto.cluster_centroids_)"
      ],
      "metadata": {
        "id": "-kA8T_WC0SfC"
      },
      "execution_count": null,
      "outputs": []
    },
    {
      "cell_type": "code",
      "source": [
        "# Analicemos el perfil de los clusters con los datos originales\n",
        "print(\"\\nPerfil de los clusters (medias y modas):\")\n",
        "df_mixed.groupby('Cluster_KPrototypes').agg({\n",
        "    'Age': 'mean',\n",
        "    'Annual_Income': 'mean',\n",
        "    'Spending_Score': 'mean',\n",
        "    'Gender': lambda x: x.mode()[0]  # Calculamos la moda para el género\n",
        "}).round(2)"
      ],
      "metadata": {
        "id": "BWQ8asEY0YpN"
      },
      "execution_count": null,
      "outputs": []
    },
    {
      "cell_type": "markdown",
      "source": [
        "Ahora tenemos una segmentación mucho más rica:\n",
        "\n",
        "- Cluster 0: Hombres de mediana edad, Cautelosos. Edad promedio mediana (~41 años), ingresos altos y gastos bajos.\n",
        "\n",
        "- Cluster 1: Mujeres Jóvenes, Alto Poder Adquisitivo (Objetivo Principal). Edad promedio ~33 años, ingresos y gastos muy altos. Este es el segmento premium.\n",
        "\n",
        "- Cluster 2: Mujeres de Mediana Edad, Ahorradoras. Edad promedio ~46 años, bajos ingresos y bajo gasto.\n",
        "\n",
        "- Cluster 3: Mujeres muy Jóvenes, Entusiastas. Edad promedio muy baja (~25 años), bajos ingresos pero alto gasto.\n",
        "\n",
        "- Cluster 4: Mujeres de Mediana Edad, Promedio. Edad promedio mediana (~55 años), ingresos y gastos en el rango medio.\n",
        "\n",
        "\n",
        "\n",
        "\n",
        "\n"
      ],
      "metadata": {
        "id": "0DY9_9_s0lOg"
      }
    },
    {
      "cell_type": "code",
      "source": [
        "plt.figure(figsize=(12, 8))\n",
        "sns.scatterplot(x='Annual_Income', y='Spending_Score', hue='Cluster_KPrototypes', data=df_mixed, palette='tab10', s=100)\n",
        "# 1. Extraemos solo la parte numérica de los prototipos (Age, Annual_Income, Spending_Score)\n",
        "# kproto.cluster_centroids_ contiene tanto las medias numéricas como las modas categóricas.\n",
        "# Seleccionamos las primeras 3 columnas que corresponden a nuestras variables numéricas.\n",
        "numeric_prototypes = kproto.cluster_centroids_[:, 0:3]\n",
        "\n",
        "# 2. Aplicamos la transformación inversa para devolver los centroides a su escala original.\n",
        "# Usamos el mismo objeto 'scaler' que utilizamos para entrenar el modelo.\n",
        "prototypes_original_scale = scaler.inverse_transform(numeric_prototypes)\n",
        "\n",
        "# 3. Graficamos los prototipos (centroides) sobre el scatter plot.\n",
        "# Extraemos las coordenadas correspondientes a 'Annual_Income' (índice 1) y 'Spending_Score' (índice 2).\n",
        "plt.scatter(\n",
        "    prototypes_original_scale[:, 1],  # Coordenada X: Ingreso Anual\n",
        "    prototypes_original_scale[:, 2],  # Coordenada Y: Puntuación de Gasto\n",
        "    s=300,                            # Tamaño del marcador\n",
        "    c='red',                          # Color\n",
        "    marker='X',                       # Forma del marcador\n",
        "    label='Prototipos'                # Etiqueta para la leyenda\n",
        ")\n",
        "\n",
        "# Actualizamos la leyenda para incluir los prototipos\n",
        "plt.legend()\n",
        "\n",
        "plt.show()"
      ],
      "metadata": {
        "id": "1zW2TUFM0vit"
      },
      "execution_count": null,
      "outputs": []
    },
    {
      "cell_type": "markdown",
      "source": [
        "### Búsqueda del K óptimo para K-Prototypes: se utiliza el método del codo"
      ],
      "metadata": {
        "id": "Iw20O_YI9a91"
      }
    },
    {
      "cell_type": "code",
      "source": [
        "# Lista para almacenar los costos para cada valor de k\n",
        "costs = []\n",
        "# Rango de clusters que vamos a probar\n",
        "range_n_clusters = range(2, 11)\n",
        "\n",
        "print(\"Calculando el costo para cada valor de k...\")\n",
        "\n",
        "# Bucle para probar diferentes números de clusters\n",
        "for k in range_n_clusters:\n",
        "    # Creamos una instancia de KPrototypes para el k actual\n",
        "    kproto = KPrototypes(n_clusters=k, init='Cao', n_init=5, verbose=0, random_state=42)\n",
        "\n",
        "    # Entrenamos el modelo con nuestros datos mixtos y especificamos las columnas categóricas\n",
        "    kproto.fit(data_matrix, categorical=categorical_columns_index)\n",
        "\n",
        "    # Guardamos el costo (la 'inercia' de K-Prototypes) en nuestra lista\n",
        "    costs.append(kproto.cost_)\n",
        "\n",
        "    print(f\"Costo para k={k}: {kproto.cost_:.2f}\")\n",
        "\n",
        "# Graficamos el método del codo\n",
        "plt.figure(figsize=(10, 6))\n",
        "plt.plot(range_n_clusters, costs, marker='o', linestyle='--')\n",
        "plt.title('Método del Codo para K-Prototypes')\n",
        "plt.xlabel('Número de Clusters (k)')\n",
        "plt.ylabel('Costo del Clustering')\n",
        "plt.xticks(range_n_clusters)\n",
        "plt.grid(True)\n",
        "plt.show()"
      ],
      "metadata": {
        "id": "QYPIKEVD9YaC"
      },
      "execution_count": null,
      "outputs": []
    }
  ],
  "metadata": {
    "kernelspec": {
      "display_name": "Python 3",
      "language": "python",
      "name": "python3"
    },
    "language_info": {
      "codemirror_mode": {
        "name": "ipython",
        "version": 3
      },
      "file_extension": ".py",
      "mimetype": "text/x-python",
      "name": "python",
      "nbconvert_exporter": "python",
      "pygments_lexer": "ipython3",
      "version": "3.8.8"
    },
    "colab": {
      "provenance": [],
      "toc_visible": true
    }
  },
  "nbformat": 4,
  "nbformat_minor": 0
}