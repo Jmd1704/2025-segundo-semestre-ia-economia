{
 "cells": [
  {
   "cell_type": "markdown",
   "id": "51f9c587",
   "metadata": {},
   "source": [
    "# **Conociendo Jupyter Notebook**"
   ]
  },
  {
   "cell_type": "markdown",
   "id": "adcd9ffe",
   "metadata": {},
   "source": [
    "- Elaborado por: Lina María Castro\n",
    "\n",
    "- Fecha: 5 de agosto de 2025"
   ]
  },
  {
   "cell_type": "markdown",
   "id": "decc2fe2",
   "metadata": {},
   "source": [
    "Se utiliza Python 3.13.5"
   ]
  },
  {
   "cell_type": "markdown",
   "id": "f0ab7481",
   "metadata": {},
   "source": [
    "## Importar librerías"
   ]
  },
  {
   "cell_type": "code",
   "execution_count": null,
   "id": "4b913542",
   "metadata": {},
   "outputs": [],
   "source": [
    "import numpy as np\n",
    "import pandas as pd"
   ]
  },
  {
   "cell_type": "markdown",
   "id": "759433d6",
   "metadata": {},
   "source": [
    "## Ajustar formato visualización"
   ]
  },
  {
   "cell_type": "code",
   "execution_count": null,
   "id": "3691af9b",
   "metadata": {},
   "outputs": [],
   "source": [
    "# Aumentar número de columnas que se pueden ver\n",
    "# Que muestre 500 columnas máximo\n",
    "pd.options.display.max_columns = 500\n",
    "# Que muestre todas las columnas\n",
    "pd.options.display.max_columns = None"
   ]
  },
  {
   "cell_type": "code",
   "execution_count": null,
   "id": "59e37e01",
   "metadata": {},
   "outputs": [],
   "source": [
    "# En los dataframes, mostrar los float con dos decimales\n",
    "pd.options.display.float_format = '{:,.2f}'.format"
   ]
  },
  {
   "cell_type": "markdown",
   "id": "c314a130",
   "metadata": {},
   "source": [
    "## Cargar base de datos"
   ]
  },
  {
   "cell_type": "code",
   "execution_count": null,
   "id": "f8c1638f",
   "metadata": {},
   "outputs": [],
   "source": [
    "df = pd.read_csv('Base_municipios.txt', sep=\"|\", decimal=',', encoding ='utf-8', converters={'Cod. Municipio':str})\n",
    "df.head()"
   ]
  },
  {
   "cell_type": "markdown",
   "id": "9de1be5a",
   "metadata": {},
   "source": [
    "## Revisar contenido base de datos"
   ]
  },
  {
   "cell_type": "code",
   "execution_count": null,
   "id": "7d1bd27d",
   "metadata": {},
   "outputs": [],
   "source": [
    "# Ver el nombre de todas las columnas\n",
    "df.columns"
   ]
  },
  {
   "cell_type": "code",
   "execution_count": null,
   "id": "2d031031",
   "metadata": {},
   "outputs": [],
   "source": [
    "# Ver número de filas y columnas\n",
    "df.shape"
   ]
  },
  {
   "cell_type": "code",
   "execution_count": null,
   "id": "90d77f5e",
   "metadata": {},
   "outputs": [],
   "source": [
    "# Ver la cantidad de filas del df\n",
    "len(df)"
   ]
  },
  {
   "cell_type": "code",
   "execution_count": null,
   "id": "36b6b147",
   "metadata": {},
   "outputs": [],
   "source": [
    "# Ver los tipos de datos de cada columna\n",
    "df.dtypes"
   ]
  },
  {
   "cell_type": "code",
   "execution_count": null,
   "id": "fd9f74f2",
   "metadata": {},
   "outputs": [],
   "source": [
    "# Ver la cantidad de filas y columnas, el nombre todas las columnas, el tipo de datos y si tiene nulos\n",
    "df.info()"
   ]
  }
 ],
 "metadata": {
  "kernelspec": {
   "display_name": ".venv",
   "language": "python",
   "name": "python3"
  },
  "language_info": {
   "codemirror_mode": {
    "name": "ipython",
    "version": 3
   },
   "file_extension": ".py",
   "mimetype": "text/x-python",
   "name": "python",
   "nbconvert_exporter": "python",
   "pygments_lexer": "ipython3",
   "version": "3.13.5"
  }
 },
 "nbformat": 4,
 "nbformat_minor": 5
}
