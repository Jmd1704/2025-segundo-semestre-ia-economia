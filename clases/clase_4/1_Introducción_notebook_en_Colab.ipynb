{
  "nbformat": 4,
  "nbformat_minor": 0,
  "metadata": {
    "colab": {
      "provenance": [],
      "toc_visible": true,
      "include_colab_link": true
    },
    "kernelspec": {
      "name": "python3",
      "display_name": "Python 3"
    }
  },
  "cells": [
    {
      "cell_type": "markdown",
      "metadata": {
        "id": "view-in-github",
        "colab_type": "text"
      },
      "source": [
        "<a href=\"https://colab.research.google.com/github/LinaMariaCastro/2025-segundo-semestre-ia-economia/blob/main/clases/clase_4/1_Introducci%C3%B3n_notebook_en_Colab.ipynb\" target=\"_parent\"><img src=\"https://colab.research.google.com/assets/colab-badge.svg\" alt=\"Open In Colab\"/></a>"
      ]
    },
    {
      "cell_type": "markdown",
      "metadata": {
        "id": "FZBr4_ny6UCr"
      },
      "source": [
        "# **Introducción a Jupyter Notebook en Google Colab**"
      ]
    },
    {
      "cell_type": "markdown",
      "source": [
        "Elaborado por: Lina María Castro\n",
        "\n",
        "Fecha: 12 de agosto de 2025"
      ],
      "metadata": {
        "id": "GMwF1UdD6pnX"
      }
    },
    {
      "cell_type": "markdown",
      "source": [
        "# Acceso a los notebooks de clase"
      ],
      "metadata": {
        "id": "gyNqa3GBoTlS"
      }
    },
    {
      "cell_type": "markdown",
      "source": [
        "-\tEntrar a tu cuenta de Github y a tu fork del repositorio del curso.\n",
        "-\tDar clic en el botón \"Sync fork\" y luego en \"Update branch\" para recibir las últimas actualizaciones sin borrar tu propio trabajo.\n",
        "- Ir a https://colab.research.google.com/\n",
        "- En el menú de la izquierda, hacer clic en GitHub.\n",
        "- Escribe tu usuario de Github o la URL de tu repositorio.\n",
        "-\tSelecciona el notebook que deseas abrir.\n",
        "- Para guardar los cambios en tu repositorio de Github, ve a Archivo --> Guardar."
      ],
      "metadata": {
        "id": "O8mLTgV2obSd"
      }
    },
    {
      "cell_type": "markdown",
      "source": [
        "# Colaboratory (Colab)"
      ],
      "metadata": {
        "id": "6_x5dM-oNhaA"
      }
    },
    {
      "cell_type": "markdown",
      "metadata": {
        "id": "45mGoUjaZRWP"
      },
      "source": [
        "- Colaboratory es un entorno gratuito de notebooks de Jupyter que no requiere configuración y se ejecuta completamente en la nube.\n",
        "\n",
        "- Colaboratory te permite ejecutar código python en el navegador con las siguientes ventajas:\n",
        "  - No requiere configuración\n",
        "  - Acceso a GPUs sin coste adicional\n",
        "  - Permite compartir contenido fácilmente\n",
        "\n",
        "- Para utilizarlo, puedes abrir https://colab.research.google.com y crear/subir un notebook."
      ]
    },
    {
      "cell_type": "markdown",
      "source": [
        "# Jupyter Notebook"
      ],
      "metadata": {
        "id": "LV1pOUo4NqS1"
      }
    },
    {
      "cell_type": "markdown",
      "metadata": {
        "id": "qmbAnRX_6W4N"
      },
      "source": [
        "- Un cuaderno es una lista de celdas. Cada celda contiene texto explicativo o código ejecutable y su salida.\n",
        "\n",
        "- Se pueden insertar celdas de código o de texto. Para insertar una nueva celda se pueden utilizar los botones de **+CÓDIGO** o **+TEXTO** que aparecen abajo en el centro de cada celda o ir al menú **Insertar** o utilizar **Alt+Enter**.\n",
        "\n",
        "- En la barra de herramientas superior derecha de la celda, puede mover la celda, cortarla, copiarla o eliminarla.\n",
        "\n",
        "- En la parte izquierda del notebook aparece el índice del bloc que se está utilizando y se puede seleccionar para ir rápidamente a la parte deseada. También se puede buscar una palabra clave en el bloc con **Ctrl+F** o buscar y reemplazar con **Ctrl+H**.\n",
        "\n",
        "- En la parte izquierda del notebook también se pueden ver los archivos que están cargados y subir otros.\n",
        "\n",
        "- Para guardar los cambios en el notebook se va al menú **Archivo, Guardar** o **Ctrl+S**.\n",
        "\n",
        "- Se puede guardar el notebook en Drive o en Github o descargar el notebook al computador.\n",
        "\n",
        "- El botón **COMPARTIR** (arriba a la derecha de la barra de herramientas) permite compartir el notebook y controlar los permisos."
      ]
    },
    {
      "cell_type": "markdown",
      "metadata": {
        "id": "YtUpWBRyiaPG"
      },
      "source": [
        "# 1. Celdas de Código\n",
        "\n",
        "\n",
        "- La celda de abajo es una celda de código. Para editar el código, solo tienes que hacer clic en la celda.\n",
        "\n",
        "- Una vez en la esquina superior se indique que el entorno de ejecución está conectado, usted puede ejecutar el código de la celda con el botón **PLAY**. También puede usar la combinación **Shift+Enter** o **Ctrlt+Enter**.\n",
        "\n",
        "- Para borrar todo lo que haya en memoria y volver a ejecutar desde cero el programa hay que ir a **Entorno de Ejecución y Reiniciar entorno de ejecución**.\n",
        "\n",
        "- En una misma celda pueden ir varios comandos.\n",
        "\n",
        "- Si se desea, el resultado se puede borrar u ocultar."
      ]
    },
    {
      "cell_type": "code",
      "metadata": {
        "id": "KTYavQqDBEMP"
      },
      "source": [
        "# Definicion de una variable, indicar el valor de la variable\n",
        "a = 4"
      ],
      "execution_count": null,
      "outputs": []
    },
    {
      "cell_type": "code",
      "source": [
        "# Para mostrar el valor de la variable\n",
        "a"
      ],
      "metadata": {
        "id": "GboHYvlMt-Jo",
        "outputId": "e16aeda8-a032-49a6-8e44-3ce139a67dca",
        "colab": {
          "base_uri": "https://localhost:8080/"
        }
      },
      "execution_count": null,
      "outputs": [
        {
          "output_type": "execute_result",
          "data": {
            "text/plain": [
              "4"
            ]
          },
          "metadata": {},
          "execution_count": 2
        }
      ]
    },
    {
      "cell_type": "code",
      "metadata": {
        "id": "KkBqvJp-ZYMG",
        "outputId": "57b01200-e5d2-4449-c074-fda021f8200f",
        "colab": {
          "base_uri": "https://localhost:8080/"
        }
      },
      "source": [
        "# Otra forma de mostrar el valor de la variable\n",
        "print(a)"
      ],
      "execution_count": null,
      "outputs": [
        {
          "output_type": "stream",
          "name": "stdout",
          "text": [
            "4\n"
          ]
        }
      ]
    },
    {
      "cell_type": "markdown",
      "source": [
        "A continuación se muestra una celda de código con una breve secuencia de comandos de Python que calcula un valor, lo almacena en una variable e imprime el resultado:"
      ],
      "metadata": {
        "id": "tyJgR7nDM7ZP"
      }
    },
    {
      "cell_type": "code",
      "source": [
        "seconds_in_a_day = 24 * 60 * 60\n",
        "print(seconds_in_a_day)"
      ],
      "metadata": {
        "id": "-34QMkS9M-Ik",
        "outputId": "97c495cd-a0a4-4055-9cc3-2a013da79cd7",
        "colab": {
          "base_uri": "https://localhost:8080/"
        }
      },
      "execution_count": null,
      "outputs": [
        {
          "output_type": "stream",
          "name": "stdout",
          "text": [
            "86400\n"
          ]
        }
      ]
    },
    {
      "cell_type": "markdown",
      "source": [
        "Las variables que definas en una celda se pueden usar después en otras celdas:"
      ],
      "metadata": {
        "id": "aPGxK2h1NEnT"
      }
    },
    {
      "cell_type": "code",
      "source": [
        "seconds_in_a_week = 7 * seconds_in_a_day\n",
        "seconds_in_a_week"
      ],
      "metadata": {
        "id": "mXN7r3R2ND0Y",
        "outputId": "08274ee1-e703-4843-a982-89dc89454f9a",
        "colab": {
          "base_uri": "https://localhost:8080/"
        }
      },
      "execution_count": null,
      "outputs": [
        {
          "output_type": "execute_result",
          "data": {
            "text/plain": [
              "604800"
            ]
          },
          "metadata": {},
          "execution_count": 8
        }
      ]
    },
    {
      "cell_type": "markdown",
      "metadata": {
        "id": "xTwj-uWlhHN9"
      },
      "source": [
        "# 2. Celdas de Texto\n",
        "\n",
        "- Esta es una  **celda de texto**. Dando **doble-click** puede editar el contenido de la celda.\n",
        "\n",
        "- Las ***celdas de texto usan markdown***, esto quiere decir que podemos combinar texto con código HTML o LATEX. Si quiere conocer un poco más siga el siguiente link  [markdown\n",
        "guide](/notebooks/markdown_guide.ipynb).\n",
        "\n",
        "- Para resaltar algo en negrilla se le coloca doble asterisco al inicio y al final. Ejemplo: Esto es muy **importante**."
      ]
    },
    {
      "cell_type": "markdown",
      "source": [
        "**Ejemplo títulos:**\n",
        "\n",
        "# Sección 1\n",
        "## Sección 1.1\n",
        "### Sección 1.1.1\n",
        "#### Sección 1.1.1.1\n",
        "# Section 2\n",
        "## Sección 2.1\n",
        "### Sección 2.1.1\n",
        "#### Sección 2.1.1.1\n",
        "# Section 3"
      ],
      "metadata": {
        "id": "Vd7UXtunN_d6"
      }
    },
    {
      "cell_type": "markdown",
      "source": [
        "**Ejemplo de numeración:**\n",
        "\n",
        "1. Numeral 1\n",
        "2. Numeral 2\n",
        "3. Numeral 3"
      ],
      "metadata": {
        "id": "rFVpCBovOX8R"
      }
    },
    {
      "cell_type": "markdown",
      "source": [
        "**Ejemplo bullets:**\n",
        "\n",
        "* Bullet 1\n",
        "* Bullet 2\n",
        "- Bullet 3\n",
        "- Bullet 4\n",
        "  - Bullet 4.1\n",
        "  - Bullet 4.2\n",
        "    - Bullet 4.2.1\n",
        "    - Bullet 4.2.2"
      ],
      "metadata": {
        "id": "Kg5bMTNhM6sA"
      }
    },
    {
      "cell_type": "markdown",
      "metadata": {
        "id": "JyuBHJQfg-SR"
      },
      "source": [
        "# 3. Comentarios"
      ]
    },
    {
      "cell_type": "code",
      "source": [
        "# El numeral se usa para hacer comentarios en python\n",
        "print('adfasd') # También se puede poner después de un código"
      ],
      "metadata": {
        "id": "YsxgwBo3RD4f",
        "outputId": "adc5259a-7ed8-42ee-8809-fd9207b465b7",
        "colab": {
          "base_uri": "https://localhost:8080/"
        }
      },
      "execution_count": null,
      "outputs": [
        {
          "output_type": "stream",
          "name": "stdout",
          "text": [
            "adfasd\n"
          ]
        }
      ]
    },
    {
      "cell_type": "code",
      "source": [
        "# Este es otro comentario en python que se usa cuando se escribe en varias líneas\n",
        "# Este comentario tampoco va a aparecer en el resultado\n",
        "\"\"\" Este es un\n",
        "comentario\n",
        "multilinea. \"\"\"\n",
        "print('adfasd')"
      ],
      "metadata": {
        "id": "a_j8KQbCRNg_",
        "outputId": "739d49a6-588d-4b28-e16f-a6c42ae1a28c",
        "colab": {
          "base_uri": "https://localhost:8080/"
        }
      },
      "execution_count": null,
      "outputs": [
        {
          "output_type": "stream",
          "name": "stdout",
          "text": [
            "adfasd\n"
          ]
        }
      ]
    },
    {
      "cell_type": "code",
      "metadata": {
        "id": "GfWRmS6qhDmY"
      },
      "source": [
        "# Si no quiero correr un código, lo puedo comentar\n",
        "#print('adfasd')"
      ],
      "execution_count": null,
      "outputs": []
    },
    {
      "cell_type": "markdown",
      "source": [
        "# 4. Instalación de librerías"
      ],
      "metadata": {
        "id": "9a3QeHL8OxjP"
      }
    },
    {
      "cell_type": "code",
      "metadata": {
        "id": "ypn_RbnYT_a_",
        "outputId": "becc5621-7943-46cd-b6a8-2ca21e724a3b",
        "colab": {
          "base_uri": "https://localhost:8080/"
        }
      },
      "source": [
        "#  Para ver qué versión de python estoy ejecutando\n",
        "!python --version"
      ],
      "execution_count": null,
      "outputs": [
        {
          "output_type": "stream",
          "name": "stdout",
          "text": [
            "Python 3.11.13\n"
          ]
        }
      ]
    },
    {
      "cell_type": "markdown",
      "metadata": {
        "id": "ZAP9OG_Talnw"
      },
      "source": [
        "Las librerías se instalan usando pip. En Colab se usa ! y en VS Code se usa %."
      ]
    },
    {
      "cell_type": "code",
      "metadata": {
        "id": "5mlqQmFDa0KX",
        "outputId": "cbedf391-4d70-4455-87a0-5024049e8c76",
        "colab": {
          "base_uri": "https://localhost:8080/"
        }
      },
      "source": [
        "# Ejemplo: Instalación de seaborn\n",
        "!pip install seaborn"
      ],
      "execution_count": null,
      "outputs": [
        {
          "output_type": "stream",
          "name": "stdout",
          "text": [
            "Requirement already satisfied: seaborn in /usr/local/lib/python3.11/dist-packages (0.13.2)\n",
            "Requirement already satisfied: numpy!=1.24.0,>=1.20 in /usr/local/lib/python3.11/dist-packages (from seaborn) (2.0.2)\n",
            "Requirement already satisfied: pandas>=1.2 in /usr/local/lib/python3.11/dist-packages (from seaborn) (2.2.2)\n",
            "Requirement already satisfied: matplotlib!=3.6.1,>=3.4 in /usr/local/lib/python3.11/dist-packages (from seaborn) (3.10.0)\n",
            "Requirement already satisfied: contourpy>=1.0.1 in /usr/local/lib/python3.11/dist-packages (from matplotlib!=3.6.1,>=3.4->seaborn) (1.3.3)\n",
            "Requirement already satisfied: cycler>=0.10 in /usr/local/lib/python3.11/dist-packages (from matplotlib!=3.6.1,>=3.4->seaborn) (0.12.1)\n",
            "Requirement already satisfied: fonttools>=4.22.0 in /usr/local/lib/python3.11/dist-packages (from matplotlib!=3.6.1,>=3.4->seaborn) (4.59.0)\n",
            "Requirement already satisfied: kiwisolver>=1.3.1 in /usr/local/lib/python3.11/dist-packages (from matplotlib!=3.6.1,>=3.4->seaborn) (1.4.8)\n",
            "Requirement already satisfied: packaging>=20.0 in /usr/local/lib/python3.11/dist-packages (from matplotlib!=3.6.1,>=3.4->seaborn) (25.0)\n",
            "Requirement already satisfied: pillow>=8 in /usr/local/lib/python3.11/dist-packages (from matplotlib!=3.6.1,>=3.4->seaborn) (11.3.0)\n",
            "Requirement already satisfied: pyparsing>=2.3.1 in /usr/local/lib/python3.11/dist-packages (from matplotlib!=3.6.1,>=3.4->seaborn) (3.2.3)\n",
            "Requirement already satisfied: python-dateutil>=2.7 in /usr/local/lib/python3.11/dist-packages (from matplotlib!=3.6.1,>=3.4->seaborn) (2.9.0.post0)\n",
            "Requirement already satisfied: pytz>=2020.1 in /usr/local/lib/python3.11/dist-packages (from pandas>=1.2->seaborn) (2025.2)\n",
            "Requirement already satisfied: tzdata>=2022.7 in /usr/local/lib/python3.11/dist-packages (from pandas>=1.2->seaborn) (2025.2)\n",
            "Requirement already satisfied: six>=1.5 in /usr/local/lib/python3.11/dist-packages (from python-dateutil>=2.7->matplotlib!=3.6.1,>=3.4->seaborn) (1.17.0)\n"
          ]
        }
      ]
    },
    {
      "cell_type": "markdown",
      "metadata": {
        "id": "trjlka8hiqty"
      },
      "source": [
        "# 5. Completado de Código y Exploración de funciones"
      ]
    },
    {
      "cell_type": "markdown",
      "metadata": {
        "id": "d4L9TOP9QSHn"
      },
      "source": [
        "Colab permite auto completado presionando la tecla **TAB**.\n",
        "\n",
        "Por ejemplo, importemos el módulo numpy y referenciémoslo como **np**."
      ]
    },
    {
      "cell_type": "code",
      "metadata": {
        "cellView": "both",
        "id": "Q0JKWcmtQSHp"
      },
      "source": [
        "import numpy as np"
      ],
      "execution_count": null,
      "outputs": []
    },
    {
      "cell_type": "markdown",
      "metadata": {
        "id": "1M890-bXeyYp"
      },
      "source": [
        "Luego de insertar ``np.random.`` aparecen las distintas opciones que se pueden seleccionar. Utilice las **flechas** del teclado y luego presione **Tab** para seleccionar la opción deseada."
      ]
    },
    {
      "cell_type": "code",
      "source": [
        "np.random.randint"
      ],
      "metadata": {
        "id": "rsHclS9e3Cme"
      },
      "execution_count": null,
      "outputs": []
    },
    {
      "cell_type": "code",
      "metadata": {
        "id": "u0pktbDc3ADe",
        "outputId": "bfd73439-f3da-4bb6-d7c0-64dd1c95072e",
        "colab": {
          "base_uri": "https://localhost:8080/"
        }
      },
      "source": [
        "np.random.randint(10,50)"
      ],
      "execution_count": null,
      "outputs": [
        {
          "output_type": "execute_result",
          "data": {
            "text/plain": [
              "25"
            ]
          },
          "metadata": {},
          "execution_count": 17
        }
      ]
    },
    {
      "cell_type": "markdown",
      "metadata": {
        "id": "9ReRLQaxJ-zP"
      },
      "source": [
        "Para abrir la documentación completa de un módulo sólo debe ejecutar una celda de código que tenga el nombre del paquete a explorar seguido de  **?**."
      ]
    },
    {
      "cell_type": "code",
      "metadata": {
        "cellView": "both",
        "id": "YgQ6Tu7DK17l"
      },
      "source": [
        "np.random.randint?"
      ],
      "execution_count": null,
      "outputs": []
    }
  ]
}