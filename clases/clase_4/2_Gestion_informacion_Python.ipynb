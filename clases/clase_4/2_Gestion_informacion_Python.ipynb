{
  "cells": [
    {
      "cell_type": "markdown",
      "metadata": {
        "id": "odEmWDNsgbrb"
      },
      "source": [
        "# **Gestión de información, tipos de objetos y estructuras de datos en Python**\n"
      ]
    },
    {
      "cell_type": "markdown",
      "metadata": {
        "id": "sDkLIZQxVnzh"
      },
      "source": [
        "Elaborado por: Lina María Castro\n",
        "\n",
        "Fecha: 12 de agosto de 2025"
      ]
    },
    {
      "cell_type": "markdown",
      "metadata": {
        "id": "en7aadQFVsdf"
      },
      "source": [
        "Este cuaderno introduce cómo Python maneja la información, qué tipos de objetos existen y cómo se organizan los datos usando estructuras secuenciales y no secuenciales."
      ]
    },
    {
      "cell_type": "markdown",
      "metadata": {
        "id": "40zCZMnBg3u7"
      },
      "source": [
        "# Gestión de Información en Python"
      ]
    },
    {
      "cell_type": "markdown",
      "metadata": {
        "id": "KJn103DzWD8x"
      },
      "source": [
        "Python gestiona la información almacenándola en \"objetos\".\n",
        "\n",
        "Cada objeto tiene:\n",
        "- Un tipo (string, entero, lista, diccionario...)\n",
        "- Un valor (lo que contiene)\n",
        "- Una ubicación en memoria RAM (id)"
      ]
    },
    {
      "cell_type": "code",
      "execution_count": 3,
      "metadata": {
        "id": "ZANT1gAGgnv3"
      },
      "outputs": [
        {
          "name": "stdout",
          "output_type": "stream",
          "text": [
            "Valor: 42\n",
            "Tipo: <class 'int'>\n",
            "Ubicación en memoria: 140732354414792\n"
          ]
        }
      ],
      "source": [
        "dato = 42\n",
        "print(\"Valor:\", dato)\n",
        "print(\"Tipo:\", type(dato))\n",
        "print(\"Ubicación en memoria:\", id(dato))"
      ]
    },
    {
      "cell_type": "markdown",
      "metadata": {
        "id": "v26GhQaVg8-4"
      },
      "source": [
        "# Tipos de Objetos en Python"
      ]
    },
    {
      "cell_type": "markdown",
      "metadata": {
        "id": "ugQCFANCrYgT"
      },
      "source": [
        "## Clasificación general"
      ]
    },
    {
      "cell_type": "markdown",
      "metadata": {
        "id": "WnPHti4KhVVQ"
      },
      "source": [
        "- Números: int, float, complex\n",
        "- Booleanos: bool\n",
        "- Cadena de texto: str\n",
        "- Colecciones: listas, tuplas, conjuntos, diccionarios"
      ]
    },
    {
      "cell_type": "code",
      "execution_count": 4,
      "metadata": {
        "id": "PYaK18-7g9uY"
      },
      "outputs": [
        {
          "name": "stdout",
          "output_type": "stream",
          "text": [
            "10: <class 'int'>\n",
            "3.14: <class 'float'>\n",
            "True: <class 'bool'>\n",
            "Hola: <class 'str'>\n",
            "[1, 2, 3, 4]: <class 'list'>\n",
            "(1, 2, 3, 4): <class 'tuple'>\n",
            "{1, 2, 3, 4}: <class 'set'>\n",
            "{'nombre': 'Andrea', 'edad': '25'}: <class 'dict'>\n"
          ]
        }
      ],
      "source": [
        "# Algunos ejemplos de los principales tipos de datos (objetos)\n",
        "entero = 10\n",
        "decimal = 3.14\n",
        "booleano = True\n",
        "texto = \"Hola\"\n",
        "lista = [1, 2, 3, 4]\n",
        "tupla = (1, 2, 3, 4)\n",
        "conjunto = {1, 2, 3, 4}\n",
        "diccionario = {'nombre': 'Andrea', 'edad': '25'}\n",
        "\n",
        "print(f\"{entero}: {type(entero)}\")\n",
        "print(f\"{decimal}: {type(decimal)}\")\n",
        "print(f\"{booleano}: {type(booleano)}\")\n",
        "print(f\"{texto}: {type(texto)}\")\n",
        "print(f\"{lista}: {type(lista)}\")\n",
        "print(f\"{tupla}: {type(tupla)}\")\n",
        "print(f\"{conjunto}: {type(conjunto)}\")\n",
        "print(f\"{diccionario}: {type(diccionario)}\")"
      ]
    },
    {
      "cell_type": "markdown",
      "metadata": {
        "id": "JOGYANDEkoE3"
      },
      "source": [
        "## Números"
      ]
    },
    {
      "cell_type": "markdown",
      "metadata": {
        "id": "INPnzoJen6to"
      },
      "source": [
        "int, float, complex"
      ]
    },
    {
      "cell_type": "markdown",
      "metadata": {
        "id": "osP-Fe61lncR"
      },
      "source": [
        "### Operaciones más relevantes con números"
      ]
    },
    {
      "cell_type": "code",
      "execution_count": 5,
      "metadata": {
        "id": "9gxJy7gzDchc"
      },
      "outputs": [
        {
          "data": {
            "text/plain": [
              "2"
            ]
          },
          "execution_count": 5,
          "metadata": {},
          "output_type": "execute_result"
        }
      ],
      "source": [
        "# Suma\n",
        "1 + 1"
      ]
    },
    {
      "cell_type": "code",
      "execution_count": 6,
      "metadata": {
        "id": "JS8apPaBDchf"
      },
      "outputs": [
        {
          "data": {
            "text/plain": [
              "-78"
            ]
          },
          "execution_count": 6,
          "metadata": {},
          "output_type": "execute_result"
        }
      ],
      "source": [
        "# Resta\n",
        "10 - 88"
      ]
    },
    {
      "cell_type": "code",
      "execution_count": 7,
      "metadata": {
        "id": "0Ym0FQzxDchi"
      },
      "outputs": [
        {
          "data": {
            "text/plain": [
              "3"
            ]
          },
          "execution_count": 7,
          "metadata": {},
          "output_type": "execute_result"
        }
      ],
      "source": [
        "# Multiplicación\n",
        "1 * 3"
      ]
    },
    {
      "cell_type": "code",
      "execution_count": 8,
      "metadata": {
        "id": "Zvx5ufg6Dchj"
      },
      "outputs": [
        {
          "data": {
            "text/plain": [
              "0.5"
            ]
          },
          "execution_count": 8,
          "metadata": {},
          "output_type": "execute_result"
        }
      ],
      "source": [
        "# División\n",
        "1 / 2"
      ]
    },
    {
      "cell_type": "code",
      "execution_count": 9,
      "metadata": {
        "id": "WoObS0DnDchl"
      },
      "outputs": [
        {
          "data": {
            "text/plain": [
              "16"
            ]
          },
          "execution_count": 9,
          "metadata": {},
          "output_type": "execute_result"
        }
      ],
      "source": [
        "# Potencia\n",
        "2 ** 4"
      ]
    },
    {
      "cell_type": "code",
      "execution_count": 10,
      "metadata": {
        "id": "izQgn7xcDchn"
      },
      "outputs": [
        {
          "data": {
            "text/plain": [
              "0"
            ]
          },
          "execution_count": 10,
          "metadata": {},
          "output_type": "execute_result"
        }
      ],
      "source": [
        "# Muestra el residuo de una división\n",
        "4 % 2"
      ]
    },
    {
      "cell_type": "code",
      "execution_count": 11,
      "metadata": {
        "id": "wsvEp_lwDchp"
      },
      "outputs": [
        {
          "data": {
            "text/plain": [
              "1"
            ]
          },
          "execution_count": 11,
          "metadata": {},
          "output_type": "execute_result"
        }
      ],
      "source": [
        "# Muestra el residuo de una división\n",
        "5 % 2"
      ]
    },
    {
      "cell_type": "code",
      "execution_count": 12,
      "metadata": {
        "id": "myKceJC6Dchq"
      },
      "outputs": [
        {
          "data": {
            "text/plain": [
              "22"
            ]
          },
          "execution_count": 12,
          "metadata": {},
          "output_type": "execute_result"
        }
      ],
      "source": [
        "# Es importante tener en cuenta la precedencia de operadores\n",
        "2 + 3 * 5 + 5"
      ]
    },
    {
      "cell_type": "code",
      "execution_count": 13,
      "metadata": {
        "id": "2bp7sPZwDcht"
      },
      "outputs": [
        {
          "data": {
            "text/plain": [
              "50"
            ]
          },
          "execution_count": 13,
          "metadata": {},
          "output_type": "execute_result"
        }
      ],
      "source": [
        "# Los paréntesis pueden modificar la precedencia\n",
        "(2 + 3) * (5 + 5)"
      ]
    },
    {
      "cell_type": "markdown",
      "metadata": {
        "id": "Z8EFwYVeDchu"
      },
      "source": [
        "### Asignación de valores numéricos a una variable"
      ]
    },
    {
      "cell_type": "code",
      "execution_count": 14,
      "metadata": {
        "id": "-46gPuAbDchv"
      },
      "outputs": [],
      "source": [
        "# Nombres de variables: no deben empezar con números ni símbolos especiales e.g. $\n",
        "variable = 2\n",
        "mi_var = 6"
      ]
    },
    {
      "cell_type": "code",
      "execution_count": 15,
      "metadata": {
        "id": "8IpZQclAUWbQ"
      },
      "outputs": [
        {
          "name": "stdout",
          "output_type": "stream",
          "text": [
            "6\n"
          ]
        }
      ],
      "source": [
        "# Para mostrar el valor de la variable mi_var\n",
        "print(mi_var)"
      ]
    },
    {
      "cell_type": "code",
      "execution_count": 16,
      "metadata": {
        "id": "i7kp_yJIp2Nh"
      },
      "outputs": [
        {
          "name": "stdout",
          "output_type": "stream",
          "text": [
            "2\n"
          ]
        }
      ],
      "source": [
        "print(variable)"
      ]
    },
    {
      "cell_type": "code",
      "execution_count": 17,
      "metadata": {
        "id": "E6a667eEDchx"
      },
      "outputs": [],
      "source": [
        "x = 2\n",
        "y = 3"
      ]
    },
    {
      "cell_type": "code",
      "execution_count": 18,
      "metadata": {
        "id": "F3qp29a8Dch0"
      },
      "outputs": [],
      "source": [
        "z = x + y"
      ]
    },
    {
      "cell_type": "code",
      "execution_count": 19,
      "metadata": {
        "id": "M4uUJIRcDch4"
      },
      "outputs": [
        {
          "data": {
            "text/plain": [
              "5"
            ]
          },
          "execution_count": 19,
          "metadata": {},
          "output_type": "execute_result"
        }
      ],
      "source": [
        "# Para mostrar el valor de z\n",
        "z"
      ]
    },
    {
      "cell_type": "markdown",
      "metadata": {
        "id": "FrSCcKEjlO3U"
      },
      "source": [
        "## Booleanos"
      ]
    },
    {
      "cell_type": "markdown",
      "metadata": {
        "id": "QbNc0x3vDckM"
      },
      "source": [
        "El tipo booleano sólo puede tener dos valores: True (verdadero) y False (falso). Estos valores son especialmente importantes para las expresiones condicionales."
      ]
    },
    {
      "cell_type": "code",
      "execution_count": 1,
      "metadata": {
        "id": "XkB-JN-9lAw4"
      },
      "outputs": [
        {
          "data": {
            "text/plain": [
              "True"
            ]
          },
          "execution_count": 1,
          "metadata": {},
          "output_type": "execute_result"
        }
      ],
      "source": [
        "3>1"
      ]
    },
    {
      "cell_type": "code",
      "execution_count": 2,
      "metadata": {
        "id": "eYmPcAoclGvX"
      },
      "outputs": [
        {
          "data": {
            "text/plain": [
              "False"
            ]
          },
          "execution_count": 2,
          "metadata": {},
          "output_type": "execute_result"
        }
      ],
      "source": [
        "3<1"
      ]
    },
    {
      "cell_type": "markdown",
      "metadata": {
        "id": "0QcprmhmhYmU"
      },
      "source": [
        "# Estructuras de datos secuenciales y no secuenciales"
      ]
    },
    {
      "cell_type": "markdown",
      "metadata": {
        "id": "H-4i2Fs7qtbe"
      },
      "source": [
        "Las cadenas y las colecciones se pueden clasificar en estructuras secuenciales y no secuenciales."
      ]
    },
    {
      "cell_type": "markdown",
      "metadata": {
        "id": "-_Arl7xZhZP9"
      },
      "source": [
        "## Secuenciales"
      ]
    },
    {
      "cell_type": "markdown",
      "metadata": {
        "id": "f3SCAtohr5AM"
      },
      "source": [
        "En Python, las estructuras de datos secuenciales son colecciones de elementos organizados en un orden específico, donde cada elemento tiene una posición determinada (índice) y se puede acceder a ellos siguiendo ese orden."
      ]
    },
    {
      "cell_type": "markdown",
      "metadata": {
        "id": "IorRNk1Dsezl"
      },
      "source": [
        "### Listas"
      ]
    },
    {
      "cell_type": "markdown",
      "metadata": {
        "id": "fF2QXOHfsiXw"
      },
      "source": [
        "Son mutables, por lo que puedes cambiar su contenido después de crearlas, es decir que puedes añadir, eliminar o modificar elementos sin crear un nuevo objeto."
      ]
    },
    {
      "cell_type": "code",
      "execution_count": 21,
      "metadata": {
        "colab": {
          "base_uri": "https://localhost:8080/"
        },
        "id": "IC1mx5MXin1a",
        "outputId": "fc85f32a-6353-44f3-ddd2-3d0848800d38"
      },
      "outputs": [
        {
          "name": "stdout",
          "output_type": "stream",
          "text": [
            "['manzana', 'pera', 'uva', 'mango']\n"
          ]
        }
      ],
      "source": [
        "frutas = [\"manzana\", \"pera\", \"uva\"]\n",
        "frutas.append(\"mango\")\n",
        "print(frutas)"
      ]
    },
    {
      "cell_type": "markdown",
      "metadata": {
        "id": "zJ8ZYo4us2Gj"
      },
      "source": [
        "### Tuplas"
      ]
    },
    {
      "cell_type": "markdown",
      "metadata": {
        "id": "IoJYCaoZs3ub"
      },
      "source": [
        "Son inmutables, es decir que, una vez creadas, no puedes modificar sus elementos. Si quieres un cambio, tienes que crear un nuevo objeto."
      ]
    },
    {
      "cell_type": "code",
      "execution_count": 22,
      "metadata": {
        "colab": {
          "base_uri": "https://localhost:8080/"
        },
        "id": "kaYkPkdJitLR",
        "outputId": "b1575b0e-e76a-4da7-cbf7-d3cbf89ff5a1"
      },
      "outputs": [
        {
          "name": "stdout",
          "output_type": "stream",
          "text": [
            "(10.5, 20.3)\n"
          ]
        }
      ],
      "source": [
        "coordenadas = (10.5, 20.3)\n",
        "print(coordenadas)"
      ]
    },
    {
      "cell_type": "markdown",
      "metadata": {
        "id": "Y4D2VmdTtBpA"
      },
      "source": [
        "### Cadenas"
      ]
    },
    {
      "cell_type": "markdown",
      "metadata": {
        "id": "5brGTCqQtDxf"
      },
      "source": [
        "Son inmutables, es decir que, una vez creadas, no puedes modificar sus elementos. Si quieres un cambio, tienes que crear un nuevo objeto."
      ]
    },
    {
      "cell_type": "code",
      "execution_count": 23,
      "metadata": {
        "colab": {
          "base_uri": "https://localhost:8080/"
        },
        "id": "fsbORzXahbYJ",
        "outputId": "e08b522b-4aba-4369-c692-4fdccb878fdc"
      },
      "outputs": [
        {
          "name": "stdout",
          "output_type": "stream",
          "text": [
            "P n\n"
          ]
        }
      ],
      "source": [
        "mensaje = \"Python\"\n",
        "print(mensaje[0], mensaje[-1])"
      ]
    },
    {
      "cell_type": "markdown",
      "metadata": {
        "id": "6seyqei_hgy8"
      },
      "source": [
        "## No secuenciales"
      ]
    },
    {
      "cell_type": "markdown",
      "metadata": {
        "id": "lvuJMjy5tlNZ"
      },
      "source": [
        "En Python, las estructuras de datos no secuenciales son aquellas donde los elementos no están almacenados en un orden fijo o consecutivo, y se accede a ellos mediante claves o relaciones, no por posición."
      ]
    },
    {
      "cell_type": "markdown",
      "metadata": {
        "id": "XY6fEKD4tOvd"
      },
      "source": [
        "### Conjuntos"
      ]
    },
    {
      "cell_type": "markdown",
      "metadata": {
        "id": "xHX8MhR2tRDT"
      },
      "source": [
        "Almacena elementos únicos y no ordenados, lo que significa que no permite duplicados y no garantiza un orden específico de los elementos."
      ]
    },
    {
      "cell_type": "markdown",
      "metadata": {
        "id": "Bwd4cZJmumNt"
      },
      "source": [
        "Son mutables, por lo que puedes cambiar su contenido después de crearlos, es decir que puedes añadir, eliminar o modificar elementos sin crear un nuevo objeto."
      ]
    },
    {
      "cell_type": "code",
      "execution_count": 24,
      "metadata": {
        "colab": {
          "base_uri": "https://localhost:8080/"
        },
        "id": "j4eQzqamqOWU",
        "outputId": "b8799da2-0aa9-414b-e916-e31b25f42e2f"
      },
      "outputs": [
        {
          "name": "stdout",
          "output_type": "stream",
          "text": [
            "{'verde', 'azul', 'rojo'}\n"
          ]
        }
      ],
      "source": [
        "colores = {\"rojo\", \"verde\", \"azul\", \"rojo\"}\n",
        "print(colores)"
      ]
    },
    {
      "cell_type": "markdown",
      "metadata": {
        "id": "ARj8q7R9tSru"
      },
      "source": [
        "### Diccionarios"
      ]
    },
    {
      "cell_type": "markdown",
      "metadata": {
        "id": "rmqGI7nEtUiR"
      },
      "source": [
        "Almacena información en pares clave-valor, donde cada clave es única y se utiliza para acceder rápidamente a su valor asociado."
      ]
    },
    {
      "cell_type": "markdown",
      "metadata": {
        "id": "wijHj3n_upJd"
      },
      "source": [
        "Son mutables, por lo que puedes cambiar su contenido después de crearlos, es decir que puedes añadir, eliminar o modificar elementos sin crear un nuevo objeto."
      ]
    },
    {
      "cell_type": "code",
      "execution_count": 25,
      "metadata": {
        "colab": {
          "base_uri": "https://localhost:8080/"
        },
        "id": "3UAUf02fhhZr",
        "outputId": "76c6e1ba-c0f9-435c-a58d-6aeca0729ea4"
      },
      "outputs": [
        {
          "name": "stdout",
          "output_type": "stream",
          "text": [
            "{'nombre': 'Ana', 'edad': 25, 'ciudad': 'Bogotá', 'profesion': 'Ingeniera'}\n"
          ]
        }
      ],
      "source": [
        "persona = {\"nombre\": \"Ana\", \"edad\": 25, \"ciudad\": \"Bogotá\"}\n",
        "persona[\"profesion\"] = \"Ingeniera\"\n",
        "print(persona)"
      ]
    }
  ],
  "metadata": {
    "colab": {
      "provenance": [],
      "toc_visible": true
    },
    "kernelspec": {
      "display_name": ".venv",
      "language": "python",
      "name": "python3"
    },
    "language_info": {
      "codemirror_mode": {
        "name": "ipython",
        "version": 3
      },
      "file_extension": ".py",
      "mimetype": "text/x-python",
      "name": "python",
      "nbconvert_exporter": "python",
      "pygments_lexer": "ipython3",
      "version": "3.13.5"
    }
  },
  "nbformat": 4,
  "nbformat_minor": 0
}
