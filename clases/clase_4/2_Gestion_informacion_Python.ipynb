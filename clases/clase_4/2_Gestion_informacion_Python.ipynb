{
  "nbformat": 4,
  "nbformat_minor": 0,
  "metadata": {
    "colab": {
      "provenance": [],
      "toc_visible": true
    },
    "kernelspec": {
      "name": "python3",
      "display_name": "Python 3"
    },
    "language_info": {
      "name": "python"
    }
  },
  "cells": [
    {
      "cell_type": "markdown",
      "source": [
        "# **Gestión de información, tipos de objetos y estructuras de datos en Python**\n"
      ],
      "metadata": {
        "id": "odEmWDNsgbrb"
      }
    },
    {
      "cell_type": "markdown",
      "source": [
        "Elaborado por: Lina María Castro\n",
        "\n",
        "Fecha: 12 de agosto de 2025"
      ],
      "metadata": {
        "id": "sDkLIZQxVnzh"
      }
    },
    {
      "cell_type": "markdown",
      "source": [
        "Este cuaderno introduce cómo Python maneja la información, qué tipos de objetos existen y cómo se organizan los datos usando estructuras secuenciales y no secuenciales."
      ],
      "metadata": {
        "id": "en7aadQFVsdf"
      }
    },
    {
      "cell_type": "markdown",
      "source": [
        "# Gestión de Información en Python"
      ],
      "metadata": {
        "id": "40zCZMnBg3u7"
      }
    },
    {
      "cell_type": "markdown",
      "source": [
        "Python gestiona la información almacenándola en \"objetos\".\n",
        "\n",
        "Cada objeto tiene:\n",
        "- Un tipo (string, entero, lista, diccionario...)\n",
        "- Un valor (lo que contiene)\n",
        "- Una ubicación en memoria RAM (id)"
      ],
      "metadata": {
        "id": "KJn103DzWD8x"
      }
    },
    {
      "cell_type": "code",
      "source": [
        "dato = 42\n",
        "print(\"Valor:\", dato)\n",
        "print(\"Tipo:\", type(dato))\n",
        "print(\"Ubicación en memoria:\", id(dato))"
      ],
      "metadata": {
        "id": "ZANT1gAGgnv3"
      },
      "execution_count": null,
      "outputs": []
    },
    {
      "cell_type": "markdown",
      "source": [
        "# Tipos de Objetos en Python"
      ],
      "metadata": {
        "id": "v26GhQaVg8-4"
      }
    },
    {
      "cell_type": "markdown",
      "source": [
        "## Clasificación general"
      ],
      "metadata": {
        "id": "ugQCFANCrYgT"
      }
    },
    {
      "cell_type": "markdown",
      "source": [
        "- Números: int, float, complex\n",
        "- Booleanos: bool\n",
        "- Cadena de texto: str\n",
        "- Colecciones: listas, tuplas, conjuntos, diccionarios"
      ],
      "metadata": {
        "id": "WnPHti4KhVVQ"
      }
    },
    {
      "cell_type": "code",
      "source": [
        "# Algunos ejemplos de los principales tipos de datos (objetos)\n",
        "entero = 10\n",
        "decimal = 3.14\n",
        "booleano = True\n",
        "texto = \"Hola\"\n",
        "lista = [1, 2, 3, 4]\n",
        "tupla = (1, 2, 3, 4)\n",
        "conjunto = {1, 2, 3, 4}\n",
        "diccionario = {'nombre': 'Andrea', 'edad': '25'}\n",
        "\n",
        "print(f\"{entero}: {type(entero)}\")\n",
        "print(f\"{decimal}: {type(decimal)}\")\n",
        "print(f\"{booleano}: {type(booleano)}\")\n",
        "print(f\"{texto}: {type(texto)}\")\n",
        "print(f\"{lista}: {type(lista)}\")\n",
        "print(f\"{tupla}: {type(tupla)}\")\n",
        "print(f\"{conjunto}: {type(conjunto)}\")\n",
        "print(f\"{diccionario}: {type(diccionario)}\")"
      ],
      "metadata": {
        "id": "PYaK18-7g9uY"
      },
      "execution_count": null,
      "outputs": []
    },
    {
      "cell_type": "markdown",
      "source": [
        "## Números"
      ],
      "metadata": {
        "id": "JOGYANDEkoE3"
      }
    },
    {
      "cell_type": "markdown",
      "source": [
        "int, float, complex"
      ],
      "metadata": {
        "id": "INPnzoJen6to"
      }
    },
    {
      "cell_type": "markdown",
      "source": [
        "### Operaciones más relevantes con números"
      ],
      "metadata": {
        "id": "osP-Fe61lncR"
      }
    },
    {
      "cell_type": "code",
      "metadata": {
        "id": "9gxJy7gzDchc"
      },
      "source": [
        "# Suma\n",
        "1 + 1"
      ],
      "execution_count": null,
      "outputs": []
    },
    {
      "cell_type": "code",
      "metadata": {
        "id": "JS8apPaBDchf"
      },
      "source": [
        "# Resta\n",
        "10 - 88"
      ],
      "execution_count": null,
      "outputs": []
    },
    {
      "cell_type": "code",
      "metadata": {
        "id": "0Ym0FQzxDchi"
      },
      "source": [
        "# Multiplicación\n",
        "1 * 3"
      ],
      "execution_count": null,
      "outputs": []
    },
    {
      "cell_type": "code",
      "metadata": {
        "id": "Zvx5ufg6Dchj"
      },
      "source": [
        "# División\n",
        "1 / 2"
      ],
      "execution_count": null,
      "outputs": []
    },
    {
      "cell_type": "code",
      "metadata": {
        "id": "WoObS0DnDchl"
      },
      "source": [
        "# Potencia\n",
        "2 ** 4"
      ],
      "execution_count": null,
      "outputs": []
    },
    {
      "cell_type": "code",
      "metadata": {
        "id": "izQgn7xcDchn"
      },
      "source": [
        "# Muestra el residuo de una división\n",
        "4 % 2"
      ],
      "execution_count": null,
      "outputs": []
    },
    {
      "cell_type": "code",
      "metadata": {
        "id": "wsvEp_lwDchp"
      },
      "source": [
        "# Muestra el residuo de una división\n",
        "5 % 2"
      ],
      "execution_count": null,
      "outputs": []
    },
    {
      "cell_type": "code",
      "metadata": {
        "id": "myKceJC6Dchq"
      },
      "source": [
        "# Es importante tener en cuenta la precedencia de operadores\n",
        "2 + 3 * 5 + 5"
      ],
      "execution_count": null,
      "outputs": []
    },
    {
      "cell_type": "code",
      "metadata": {
        "id": "2bp7sPZwDcht"
      },
      "source": [
        "# Los paréntesis pueden modificar la precedencia\n",
        "(2 + 3) * (5 + 5)"
      ],
      "execution_count": null,
      "outputs": []
    },
    {
      "cell_type": "markdown",
      "metadata": {
        "id": "Z8EFwYVeDchu"
      },
      "source": [
        "### Asignación de valores numéricos a una variable"
      ]
    },
    {
      "cell_type": "code",
      "metadata": {
        "id": "-46gPuAbDchv"
      },
      "source": [
        "# Nombres de variables: no deben empezar con números ni símbolos especiales e.g. $\n",
        "variable = 2\n",
        "mi_var = 6"
      ],
      "execution_count": null,
      "outputs": []
    },
    {
      "cell_type": "code",
      "metadata": {
        "id": "8IpZQclAUWbQ"
      },
      "source": [
        "# Para mostrar el valor de la variable mi_var\n",
        "print(mi_var)"
      ],
      "execution_count": null,
      "outputs": []
    },
    {
      "cell_type": "code",
      "source": [
        "print(variable)"
      ],
      "metadata": {
        "id": "i7kp_yJIp2Nh"
      },
      "execution_count": null,
      "outputs": []
    },
    {
      "cell_type": "code",
      "metadata": {
        "id": "E6a667eEDchx"
      },
      "source": [
        "x = 2\n",
        "y = 3"
      ],
      "execution_count": null,
      "outputs": []
    },
    {
      "cell_type": "code",
      "metadata": {
        "id": "F3qp29a8Dch0"
      },
      "source": [
        "z = x + y"
      ],
      "execution_count": null,
      "outputs": []
    },
    {
      "cell_type": "code",
      "metadata": {
        "id": "M4uUJIRcDch4"
      },
      "source": [
        "# Para mostrar el valor de z\n",
        "z"
      ],
      "execution_count": null,
      "outputs": []
    },
    {
      "cell_type": "markdown",
      "source": [
        "## Booleanos"
      ],
      "metadata": {
        "id": "FrSCcKEjlO3U"
      }
    },
    {
      "cell_type": "markdown",
      "metadata": {
        "id": "QbNc0x3vDckM"
      },
      "source": [
        "El tipo booleano sólo puede tener dos valores: True (verdadero) y False (falso). Estos valores son especialmente importantes para las expresiones condicionales."
      ]
    },
    {
      "cell_type": "code",
      "source": [
        "3>1"
      ],
      "metadata": {
        "id": "XkB-JN-9lAw4"
      },
      "execution_count": null,
      "outputs": []
    },
    {
      "cell_type": "code",
      "source": [
        "3<1"
      ],
      "metadata": {
        "id": "eYmPcAoclGvX"
      },
      "execution_count": null,
      "outputs": []
    },
    {
      "cell_type": "markdown",
      "source": [
        "# Estructuras de datos secuenciales y no secuenciales"
      ],
      "metadata": {
        "id": "0QcprmhmhYmU"
      }
    },
    {
      "cell_type": "markdown",
      "source": [
        "Las cadenas y las colecciones se pueden clasificar en estructuras secuenciales y no secuenciales."
      ],
      "metadata": {
        "id": "H-4i2Fs7qtbe"
      }
    },
    {
      "cell_type": "markdown",
      "source": [
        "## Secuenciales"
      ],
      "metadata": {
        "id": "-_Arl7xZhZP9"
      }
    },
    {
      "cell_type": "markdown",
      "source": [
        "En Python, las estructuras de datos secuenciales son colecciones de elementos organizados en un orden específico, donde cada elemento tiene una posición determinada (índice) y se puede acceder a ellos siguiendo ese orden."
      ],
      "metadata": {
        "id": "f3SCAtohr5AM"
      }
    },
    {
      "cell_type": "markdown",
      "source": [
        "### Listas"
      ],
      "metadata": {
        "id": "IorRNk1Dsezl"
      }
    },
    {
      "cell_type": "markdown",
      "source": [
        "Son mutables, por lo que puedes cambiar su contenido después de crearlas, es decir que puedes añadir, eliminar o modificar elementos sin crear un nuevo objeto."
      ],
      "metadata": {
        "id": "fF2QXOHfsiXw"
      }
    },
    {
      "cell_type": "code",
      "source": [
        "frutas = [\"manzana\", \"pera\", \"uva\"]\n",
        "frutas.append(\"mango\")\n",
        "print(frutas)"
      ],
      "metadata": {
        "id": "IC1mx5MXin1a",
        "outputId": "fc85f32a-6353-44f3-ddd2-3d0848800d38",
        "colab": {
          "base_uri": "https://localhost:8080/"
        }
      },
      "execution_count": 21,
      "outputs": [
        {
          "output_type": "stream",
          "name": "stdout",
          "text": [
            "['manzana', 'pera', 'uva', 'mango']\n"
          ]
        }
      ]
    },
    {
      "cell_type": "markdown",
      "source": [
        "### Tuplas"
      ],
      "metadata": {
        "id": "zJ8ZYo4us2Gj"
      }
    },
    {
      "cell_type": "markdown",
      "source": [
        "Son inmutables, es decir que, una vez creadas, no puedes modificar sus elementos. Si quieres un cambio, tienes que crear un nuevo objeto."
      ],
      "metadata": {
        "id": "IoJYCaoZs3ub"
      }
    },
    {
      "cell_type": "code",
      "source": [
        "coordenadas = (10.5, 20.3)\n",
        "print(coordenadas)"
      ],
      "metadata": {
        "id": "kaYkPkdJitLR",
        "outputId": "b1575b0e-e76a-4da7-cbf7-d3cbf89ff5a1",
        "colab": {
          "base_uri": "https://localhost:8080/"
        }
      },
      "execution_count": 22,
      "outputs": [
        {
          "output_type": "stream",
          "name": "stdout",
          "text": [
            "(10.5, 20.3)\n"
          ]
        }
      ]
    },
    {
      "cell_type": "markdown",
      "source": [
        "### Cadenas"
      ],
      "metadata": {
        "id": "Y4D2VmdTtBpA"
      }
    },
    {
      "cell_type": "markdown",
      "source": [
        "Son inmutables, es decir que, una vez creadas, no puedes modificar sus elementos. Si quieres un cambio, tienes que crear un nuevo objeto."
      ],
      "metadata": {
        "id": "5brGTCqQtDxf"
      }
    },
    {
      "cell_type": "code",
      "source": [
        "mensaje = \"Python\"\n",
        "print(mensaje[0], mensaje[-1])"
      ],
      "metadata": {
        "id": "fsbORzXahbYJ",
        "outputId": "e08b522b-4aba-4369-c692-4fdccb878fdc",
        "colab": {
          "base_uri": "https://localhost:8080/"
        }
      },
      "execution_count": 23,
      "outputs": [
        {
          "output_type": "stream",
          "name": "stdout",
          "text": [
            "P n\n"
          ]
        }
      ]
    },
    {
      "cell_type": "markdown",
      "source": [
        "## No secuenciales"
      ],
      "metadata": {
        "id": "6seyqei_hgy8"
      }
    },
    {
      "cell_type": "markdown",
      "source": [
        "En Python, las estructuras de datos no secuenciales son aquellas donde los elementos no están almacenados en un orden fijo o consecutivo, y se accede a ellos mediante claves o relaciones, no por posición."
      ],
      "metadata": {
        "id": "lvuJMjy5tlNZ"
      }
    },
    {
      "cell_type": "markdown",
      "source": [
        "### Conjuntos"
      ],
      "metadata": {
        "id": "XY6fEKD4tOvd"
      }
    },
    {
      "cell_type": "markdown",
      "source": [
        "Almacena elementos únicos y no ordenados, lo que significa que no permite duplicados y no garantiza un orden específico de los elementos."
      ],
      "metadata": {
        "id": "xHX8MhR2tRDT"
      }
    },
    {
      "cell_type": "markdown",
      "source": [
        "Son mutables, por lo que puedes cambiar su contenido después de crearlos, es decir que puedes añadir, eliminar o modificar elementos sin crear un nuevo objeto."
      ],
      "metadata": {
        "id": "Bwd4cZJmumNt"
      }
    },
    {
      "cell_type": "code",
      "source": [
        "colores = {\"rojo\", \"verde\", \"azul\", \"rojo\"}\n",
        "print(colores)"
      ],
      "metadata": {
        "id": "j4eQzqamqOWU",
        "outputId": "b8799da2-0aa9-414b-e916-e31b25f42e2f",
        "colab": {
          "base_uri": "https://localhost:8080/"
        }
      },
      "execution_count": 24,
      "outputs": [
        {
          "output_type": "stream",
          "name": "stdout",
          "text": [
            "{'verde', 'azul', 'rojo'}\n"
          ]
        }
      ]
    },
    {
      "cell_type": "markdown",
      "source": [
        "### Diccionarios"
      ],
      "metadata": {
        "id": "ARj8q7R9tSru"
      }
    },
    {
      "cell_type": "markdown",
      "source": [
        "Almacena información en pares clave-valor, donde cada clave es única y se utiliza para acceder rápidamente a su valor asociado."
      ],
      "metadata": {
        "id": "rmqGI7nEtUiR"
      }
    },
    {
      "cell_type": "markdown",
      "source": [
        "Son mutables, por lo que puedes cambiar su contenido después de crearlos, es decir que puedes añadir, eliminar o modificar elementos sin crear un nuevo objeto."
      ],
      "metadata": {
        "id": "wijHj3n_upJd"
      }
    },
    {
      "cell_type": "code",
      "source": [
        "persona = {\"nombre\": \"Ana\", \"edad\": 25, \"ciudad\": \"Bogotá\"}\n",
        "persona[\"profesion\"] = \"Ingeniera\"\n",
        "print(persona)"
      ],
      "metadata": {
        "id": "3UAUf02fhhZr",
        "outputId": "76c6e1ba-c0f9-435c-a58d-6aeca0729ea4",
        "colab": {
          "base_uri": "https://localhost:8080/"
        }
      },
      "execution_count": 25,
      "outputs": [
        {
          "output_type": "stream",
          "name": "stdout",
          "text": [
            "{'nombre': 'Ana', 'edad': 25, 'ciudad': 'Bogotá', 'profesion': 'Ingeniera'}\n"
          ]
        }
      ]
    }
  ]
}