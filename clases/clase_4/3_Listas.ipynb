{
  "cells": [
    {
      "cell_type": "markdown",
      "metadata": {
        "id": "9NdIBGNbyEPk"
      },
      "source": [
        "# **Listas y listas de listas**"
      ]
    },
    {
      "cell_type": "markdown",
      "source": [
        "Elaborado por: Lina María Castro\n",
        "\n",
        "Fecha: 12 de agosto de 2025"
      ],
      "metadata": {
        "id": "qS7RFVadzerb"
      }
    },
    {
      "cell_type": "markdown",
      "metadata": {
        "id": "sp_hMLDbDci-"
      },
      "source": [
        "# Listas\n",
        "\n",
        "Son secuencias de elementos que pueden pertenecer a cualquier tipo de dato. Estas listas guardan un órden que está definido por el índice.\n",
        "\n",
        "Las listas van con corchete cuadrado [ ] y sus elementos separados por coma."
      ]
    },
    {
      "cell_type": "code",
      "metadata": {
        "id": "U0SC7_ESDci-"
      },
      "source": [
        "# Una lista de números\n",
        "[1,2,3]"
      ],
      "execution_count": null,
      "outputs": []
    },
    {
      "cell_type": "code",
      "metadata": {
        "id": "7DRG2_jcDcjA"
      },
      "source": [
        "# Una lista de valores string o texto\n",
        "['a','b','c']"
      ],
      "execution_count": null,
      "outputs": []
    },
    {
      "cell_type": "code",
      "metadata": {
        "id": "L8bErUnKDcjB"
      },
      "source": [
        "# La lista puede incluir diferentes tipos de datos: numéricos, string, otra lista\n",
        "['hi',1,[1,2]]"
      ],
      "execution_count": null,
      "outputs": []
    },
    {
      "cell_type": "code",
      "metadata": {
        "id": "h_XXCa1GDcjC"
      },
      "source": [
        "# Se le puede dar un nombre a la lista\n",
        "my_list = ['a','b','c']"
      ],
      "execution_count": null,
      "outputs": []
    },
    {
      "cell_type": "code",
      "metadata": {
        "id": "d46CV21iDcjE"
      },
      "source": [
        "# Para imprimir los elementos de la lista\n",
        "my_list"
      ],
      "execution_count": null,
      "outputs": []
    },
    {
      "cell_type": "markdown",
      "metadata": {
        "id": "JRbsJvDXyEPo"
      },
      "source": [
        "Por ejemplo, imaginemos que queremos guardar la temperatura máxima que hizo toda la semana. En la semana hay siete días, por lo que queremos guardar siete datos. En este ejemplo de lista vamos a crear una lista con siete casilleros. Y en cada casillero guardaremos un float, es decir, un número real con el valor de la temperatura del día. Las listas en Python se enumeran desde cero. Por lo tanto, la primera temperatura correspondiente al lunes queda en el casillero 0. Luego la del martes en el casillero 1. Y así sucesivamente hasta la última temperatura, la del domingo, que queda en el casillero 6."
      ]
    },
    {
      "cell_type": "markdown",
      "metadata": {
        "id": "7NHrfk1YyEPp"
      },
      "source": [
        "## Creación de la lista"
      ]
    },
    {
      "cell_type": "code",
      "execution_count": null,
      "metadata": {
        "id": "m86LGnLqyEPp"
      },
      "outputs": [],
      "source": [
        "temp=[30.5, 19.8, 12.3, 31.0, 19.9, 34.4, 25.3]"
      ]
    },
    {
      "cell_type": "markdown",
      "metadata": {
        "id": "1KODplZFyEPq"
      },
      "source": [
        "## Acceso a los elementos de la lista"
      ]
    },
    {
      "cell_type": "code",
      "execution_count": null,
      "metadata": {
        "id": "QoiIrJLtyEPr"
      },
      "outputs": [],
      "source": [
        "print(temp[0])\n",
        "print(temp[3])"
      ]
    },
    {
      "cell_type": "markdown",
      "metadata": {
        "id": "AuSYG_AeyEPs"
      },
      "source": [
        "## Acceso a un trozo de la lista"
      ]
    },
    {
      "cell_type": "code",
      "execution_count": null,
      "metadata": {
        "id": "JkYHBYSbyEPs"
      },
      "outputs": [],
      "source": [
        "# Por ejemplo, temp 3:5 corresponde a todos los elementos desde la posición 3 incluida\n",
        "# hasta la posición 5 no incluida. Es decir, los elementos de la posición 3 y 4 solamente.\n",
        "print(temp[3:5])"
      ]
    },
    {
      "cell_type": "code",
      "metadata": {
        "id": "NjmIMRDODcjR"
      },
      "source": [
        "# Para ver del elemento 1 en adelante de la lista\n",
        "temp[1:]"
      ],
      "execution_count": null,
      "outputs": []
    },
    {
      "cell_type": "code",
      "metadata": {
        "id": "CHGx3efaDcjU"
      },
      "source": [
        "# Para ver desde el elemento 0 hasta el 2 de la lista (el 3 está excluído)\n",
        "temp[:3]"
      ],
      "execution_count": null,
      "outputs": []
    },
    {
      "cell_type": "markdown",
      "metadata": {
        "id": "mqZYcNPKyEPt"
      },
      "source": [
        "## Modificación de un elemento de la lista"
      ]
    },
    {
      "cell_type": "code",
      "execution_count": null,
      "metadata": {
        "id": "7yOoau1byEPt"
      },
      "outputs": [],
      "source": [
        "temp[2]=22.3\n",
        "temp"
      ]
    },
    {
      "cell_type": "code",
      "execution_count": null,
      "metadata": {
        "id": "8yJRZ442yEPt"
      },
      "outputs": [],
      "source": [
        "temp[2]=12.3\n",
        "temp"
      ]
    },
    {
      "cell_type": "markdown",
      "metadata": {
        "id": "Dqy6OSHoyEPt"
      },
      "source": [
        "## Conocer el número de elementos de una lista"
      ]
    },
    {
      "cell_type": "code",
      "execution_count": null,
      "metadata": {
        "id": "f8yhUvAUyEPu"
      },
      "outputs": [],
      "source": [
        "print(len(temp))"
      ]
    },
    {
      "cell_type": "markdown",
      "metadata": {
        "id": "5myUr3XMyEPu"
      },
      "source": [
        "## Recorriendo una lista con for"
      ]
    },
    {
      "cell_type": "markdown",
      "metadata": {
        "id": "JdjPwyrDyEPu"
      },
      "source": [
        "### Recorrido por posición"
      ]
    },
    {
      "cell_type": "code",
      "execution_count": null,
      "metadata": {
        "id": "Lg786HEgyEPu"
      },
      "outputs": [],
      "source": [
        "# Primero, se muestra un recorrido por posición, es decir, recorriendo cada casillero desde\n",
        "# el 0 hasta el 6. Para ello, usamos la instrucción range, que genera una secuencia de números\n",
        "# desde 0 hasta el parámetro que le entregamos, menos 1. En este caso, le entregamos (len(temp)),\n",
        "# que como vimos es 7, por lo que genera los números del 0 hasta el 6. Luego, accedemos a cada\n",
        "# elemento usando los paréntesis cuadrados.\n",
        "for i in range(len(temp)):\n",
        "    print(temp[i])"
      ]
    },
    {
      "cell_type": "markdown",
      "metadata": {
        "id": "1I2Hprx6yEPv"
      },
      "source": [
        "### Recorrido por elemento"
      ]
    },
    {
      "cell_type": "code",
      "execution_count": null,
      "metadata": {
        "id": "aWXDBvbWyEPv"
      },
      "outputs": [],
      "source": [
        "# También es posible recorrer la lista elemento por elemento, sin preocuparnos de la posición.\n",
        "# Para ello, usamos un for. Donde usamos una variable, que en este caso llame elem, para recorrer\n",
        "# cada elemento que está guardado dentro de la lista.\n",
        "for elem in temp:\n",
        "    print(elem)"
      ]
    },
    {
      "cell_type": "markdown",
      "metadata": {
        "id": "huxCwbVSyEPv"
      },
      "source": [
        "## Agregar elementos a una lista"
      ]
    },
    {
      "cell_type": "markdown",
      "metadata": {
        "id": "WU_Kg_1yyEPv"
      },
      "source": [
        "### Al final de la lista"
      ]
    },
    {
      "cell_type": "code",
      "execution_count": null,
      "metadata": {
        "id": "G4oDREWlyEPv"
      },
      "outputs": [],
      "source": [
        "# Se usa append para que agregue el elemento al final de la lista\n",
        "temp.append(18.3)\n",
        "temp"
      ]
    },
    {
      "cell_type": "markdown",
      "metadata": {
        "id": "XK2aliv3yEPw"
      },
      "source": [
        "### En una posición específica de la lista"
      ]
    },
    {
      "cell_type": "code",
      "execution_count": null,
      "metadata": {
        "id": "emjOF8wQyEPw"
      },
      "outputs": [],
      "source": [
        "# Se usa insert que recibe la posición del elemento y luego el elemento a insertar\n",
        "# Se introduce 12.5 en la posición 5 y los demás números se corren a la derecha\n",
        "temp.insert(5, 12.5)\n",
        "temp"
      ]
    },
    {
      "cell_type": "markdown",
      "metadata": {
        "id": "Mwg7yuXxyEPw"
      },
      "source": [
        "## Eliminar elementos de una lista"
      ]
    },
    {
      "cell_type": "markdown",
      "metadata": {
        "id": "QZgK_W3UyEPw"
      },
      "source": [
        "### Método Remove: elimina según el valor"
      ]
    },
    {
      "cell_type": "code",
      "execution_count": null,
      "metadata": {
        "id": "ewDSunkZyEPw"
      },
      "outputs": [],
      "source": [
        "temp=[30.5, 19.8, 12.3, 31.0, 19.9, 34.4, 25.3]\n",
        "# Se elimina el valor 12.3\n",
        "temp.remove(12.3)\n",
        "temp"
      ]
    },
    {
      "cell_type": "code",
      "execution_count": null,
      "metadata": {
        "id": "05JNo_6DyEPx"
      },
      "outputs": [],
      "source": [
        "# Si pido eliminar un valor que no está en la lista, Python lanzará un error\n",
        "temp.remove(17.3)\n",
        "temp"
      ]
    },
    {
      "cell_type": "markdown",
      "metadata": {
        "id": "yE7SI_7KyEPx"
      },
      "source": [
        "### Método pop: elimina según la posición"
      ]
    },
    {
      "cell_type": "code",
      "execution_count": null,
      "metadata": {
        "id": "xsogBBCtyEPx"
      },
      "outputs": [],
      "source": [
        "temp=[30.5, 19.8, 12.3, 31.0, 19.9, 34.4, 25.3]\n",
        "# Elimina el elemento de la posición 4 y me arroja el valor que se eliminó\n",
        "elem = temp.pop(4)\n",
        "print(elem)\n",
        "print(temp)"
      ]
    },
    {
      "cell_type": "markdown",
      "metadata": {
        "id": "9jVLhqv0yEPy"
      },
      "source": [
        "## Método Index: posición en la que está ubicado un valor"
      ]
    },
    {
      "cell_type": "code",
      "source": [
        "pos=temp.index(31.0)\n",
        "pos"
      ],
      "metadata": {
        "id": "_3Z3m0Mn2mkq"
      },
      "execution_count": null,
      "outputs": []
    },
    {
      "cell_type": "code",
      "source": [
        "# Si el valor no está en la lista arroja error\n",
        "pos2=temp.index(41.0)\n",
        "pos2"
      ],
      "metadata": {
        "id": "6tKv_2Ty25nT"
      },
      "execution_count": null,
      "outputs": []
    },
    {
      "cell_type": "markdown",
      "metadata": {
        "id": "X2tz6Fj3yEPz"
      },
      "source": [
        "## Ejercicios"
      ]
    },
    {
      "cell_type": "markdown",
      "metadata": {
        "id": "LMk_f5vbyEPz"
      },
      "source": [
        "Tienes una lista de enteros ordenados. Luego de crear la lista te das cuenta que se te olvidó agregar el 3."
      ]
    },
    {
      "cell_type": "code",
      "execution_count": null,
      "metadata": {
        "id": "en2lZa4tyEP5"
      },
      "outputs": [],
      "source": [
        "lista = [1, 2, 4, 5, 6, 7, 8, 9]"
      ]
    },
    {
      "cell_type": "markdown",
      "metadata": {
        "id": "eyLid2tSyEP6"
      },
      "source": [
        "Tienes una lista de enteros semi-ordenados. Luego de crear la lista te das cuenta de que pusiste el 7 donde debía ir el 3 y el 3 donde debía ir el 7."
      ]
    },
    {
      "cell_type": "code",
      "execution_count": null,
      "metadata": {
        "id": "FH-AEp5LyEP6"
      },
      "outputs": [],
      "source": [
        "lista = [1, 2, 7, 4, 5, 6, 3, 8, 9]"
      ]
    },
    {
      "cell_type": "markdown",
      "metadata": {
        "id": "ybqJfCTs4Mx7"
      },
      "source": [
        "# Listas de listas"
      ]
    },
    {
      "cell_type": "markdown",
      "metadata": {
        "id": "GZyVsr-04Mx9"
      },
      "source": [
        "Las listas pueden guardar cualquier tipo de dato, podría ser un int, float, bool, string, o, incluso, en cada casillero pueden guardar una lista. A esto lo llamamos una lista de listas."
      ]
    },
    {
      "cell_type": "markdown",
      "metadata": {
        "id": "tkjbDEZ24Mx-"
      },
      "source": [
        "## Estructura de una lista de listas"
      ]
    },
    {
      "cell_type": "markdown",
      "metadata": {
        "id": "5DhDE2Jc4Mx_"
      },
      "source": [
        "A veces, hay datos que se representan naturalmente como una matriz y, una matriz en Python es también una lista de listas."
      ]
    },
    {
      "cell_type": "markdown",
      "metadata": {
        "id": "-xWz08m74MyA"
      },
      "source": [
        "Por ejemplo, imaginemos que estamos guardando los puntajes de los estudiantes de un curso, en una escala de puntos de 1 a 100. Tenemos 4 estudiantes y 3 notas para cada uno. Esto se puede guardar en una lista de listas de 3 formas diferentes:"
      ]
    },
    {
      "cell_type": "code",
      "execution_count": null,
      "metadata": {
        "id": "FU3JF7l_4MyB"
      },
      "outputs": [],
      "source": [
        "# Declarando cada lista por aparte y luego una lista m que llame a cada una de las otras listas\n",
        "e1=[86,70,95]\n",
        "e2=[40,55,28]\n",
        "e3=[98,50,86]\n",
        "e4=[33,78,77]\n",
        "m=[e1, e2, e3, e4]"
      ]
    },
    {
      "cell_type": "code",
      "execution_count": null,
      "metadata": {
        "id": "2D3OvGpn4MyC"
      },
      "outputs": [],
      "source": [
        "# Introduciendo todas las listas dentro de una lista grande\n",
        "m=[[86,70,95],[40,55,28],[98,50,86],[33,78,77]]"
      ]
    },
    {
      "cell_type": "code",
      "execution_count": null,
      "metadata": {
        "id": "g663ykIB4MyD"
      },
      "outputs": [],
      "source": [
        "# Introduciendo todas las listas dentro de una lista grande, pero que visualmente se vea en forma de matriz\n",
        "m=[[86,70,95],\n",
        "[40,55,28],\n",
        "[98,50,86],\n",
        "[33,78,77]]"
      ]
    },
    {
      "cell_type": "code",
      "execution_count": null,
      "metadata": {
        "id": "0kcEb0kv4MyE"
      },
      "outputs": [],
      "source": [
        "m"
      ]
    },
    {
      "cell_type": "markdown",
      "metadata": {
        "id": "Jm7PnPum4MyF"
      },
      "source": [
        "## Acceso a elementos"
      ]
    },
    {
      "cell_type": "code",
      "execution_count": null,
      "metadata": {
        "id": "TPpT8wzG4MyF"
      },
      "outputs": [],
      "source": [
        "print(m[1])"
      ]
    },
    {
      "cell_type": "code",
      "execution_count": null,
      "metadata": {
        "id": "ehaCBZVN4MyG"
      },
      "outputs": [],
      "source": [
        "print(m[3][0])"
      ]
    },
    {
      "cell_type": "code",
      "execution_count": null,
      "metadata": {
        "id": "zZRUYUja4MyG"
      },
      "outputs": [],
      "source": [
        "print(m[1][2])"
      ]
    },
    {
      "cell_type": "markdown",
      "metadata": {
        "id": "4pukwiiB4MyG"
      },
      "source": [
        "# Modificación de un elemento"
      ]
    },
    {
      "cell_type": "code",
      "execution_count": null,
      "metadata": {
        "id": "rHsL10C14MyH"
      },
      "outputs": [],
      "source": [
        "m[1][0]=33\n",
        "print(m)"
      ]
    },
    {
      "cell_type": "markdown",
      "metadata": {
        "id": "Nk85H_y94MyK"
      },
      "source": [
        "# Tamaño de las listas de listas"
      ]
    },
    {
      "cell_type": "code",
      "execution_count": null,
      "metadata": {
        "id": "tB3VAwEs4MyK"
      },
      "outputs": [],
      "source": [
        "m=[[86,70,95],\n",
        "[40,55,28],\n",
        "[98,50,86],\n",
        "[33,78,77]]"
      ]
    },
    {
      "cell_type": "code",
      "execution_count": null,
      "metadata": {
        "id": "B1iZuzRp4MyL"
      },
      "outputs": [],
      "source": [
        "filas=len(m)\n",
        "columnas=len(m[0])\n",
        "print(filas)\n",
        "print(columnas)"
      ]
    }
  ],
  "metadata": {
    "kernelspec": {
      "display_name": "Python 3.8.1 32-bit",
      "language": "python",
      "name": "python3"
    },
    "language_info": {
      "codemirror_mode": {
        "name": "ipython",
        "version": 3
      },
      "file_extension": ".py",
      "mimetype": "text/x-python",
      "name": "python",
      "nbconvert_exporter": "python",
      "pygments_lexer": "ipython3",
      "version": "3.8.1"
    },
    "orig_nbformat": 4,
    "vscode": {
      "interpreter": {
        "hash": "b25af7edd9d744abc5be65703c7db0e0253305f8e9e5a5c8b160839b50596d73"
      }
    },
    "colab": {
      "provenance": []
    }
  },
  "nbformat": 4,
  "nbformat_minor": 0
}