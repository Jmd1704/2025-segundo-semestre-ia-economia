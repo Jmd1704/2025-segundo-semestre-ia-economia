{
  "cells": [
    {
      "cell_type": "markdown",
      "metadata": {
        "id": "OXu8-uGo9Bxb"
      },
      "source": [
        "# **Tuplas**"
      ]
    },
    {
      "cell_type": "markdown",
      "source": [
        "Elaborado por: Lina María Castro\n",
        "\n",
        "Fecha: 12 de agosto de 2025"
      ],
      "metadata": {
        "id": "d0R5Svcv9GL-"
      }
    },
    {
      "cell_type": "markdown",
      "metadata": {
        "id": "ZS7z719KDcj7"
      },
      "source": [
        "Estos son arreglos inmutables de elementos. Es decir que son listas de elementos que no pueden ser modificadas agregando o eliminando elementos.\n",
        "\n",
        "Las tuplas están entre paréntesis ( ) y sus elementos separados por comas."
      ]
    },
    {
      "cell_type": "code",
      "metadata": {
        "id": "pV5rpvkCDcj7"
      },
      "source": [
        "lista = [1, 2, 3]\n",
        "lista"
      ],
      "execution_count": null,
      "outputs": []
    },
    {
      "cell_type": "code",
      "metadata": {
        "id": "SpsmIOvLDcj9"
      },
      "source": [
        "# En una lista se puede reemplazar el valor de un elemento\n",
        "lista [1] = 'Nuevo valor'\n",
        "lista"
      ],
      "execution_count": null,
      "outputs": []
    },
    {
      "cell_type": "code",
      "metadata": {
        "id": "BusRfoHxDcj-"
      },
      "source": [
        "tupla = (1,2,3)\n",
        "tupla"
      ],
      "execution_count": null,
      "outputs": []
    },
    {
      "cell_type": "code",
      "metadata": {
        "id": "mZJbo5IoDckA"
      },
      "source": [
        "# Ver elemento en la posición cero\n",
        "tupla[0]"
      ],
      "execution_count": null,
      "outputs": []
    },
    {
      "cell_type": "code",
      "metadata": {
        "id": "QkWRmEIzDckA"
      },
      "source": [
        "tupla[0] = 'NEW' # las tuplas son inmutables, no se puede reasignar un valor. Saldrá un error!"
      ],
      "execution_count": null,
      "outputs": []
    },
    {
      "cell_type": "code",
      "metadata": {
        "id": "TUd9EzWSDckC"
      },
      "source": [
        "tupla      # las tuplas son inmutables, no se puede reasignar un valor"
      ],
      "execution_count": null,
      "outputs": []
    },
    {
      "cell_type": "markdown",
      "source": [
        "## Contar el número de elementos"
      ],
      "metadata": {
        "id": "42WuY2W5hxlf"
      }
    },
    {
      "cell_type": "code",
      "source": [
        "a = (1, 3, 7, 8, 7, 5, 7, 6, 8, 5)"
      ],
      "metadata": {
        "id": "51qfSjU4h82a"
      },
      "execution_count": null,
      "outputs": []
    },
    {
      "cell_type": "code",
      "source": [
        "print(len(a))"
      ],
      "metadata": {
        "id": "P8O0NdE4frRn"
      },
      "execution_count": null,
      "outputs": []
    },
    {
      "cell_type": "markdown",
      "metadata": {
        "id": "wEpGTAZv9Bxq"
      },
      "source": [
        "## Contar cuántas veces aparece un elemento"
      ]
    },
    {
      "cell_type": "code",
      "execution_count": null,
      "metadata": {
        "id": "mMc3HQma9Bxq"
      },
      "outputs": [],
      "source": [
        "# Cuántas veces aparece el 7\n",
        "a.count(7)"
      ]
    },
    {
      "cell_type": "code",
      "source": [
        "# Cuántas veces aparece el 5\n",
        "a.count(5)"
      ],
      "metadata": {
        "id": "Z1UKVtBLhoZr"
      },
      "execution_count": null,
      "outputs": []
    },
    {
      "cell_type": "markdown",
      "metadata": {
        "id": "btYMAdzM9Bxn"
      },
      "source": [
        "## Asignación de tuplas a variables"
      ]
    },
    {
      "cell_type": "code",
      "execution_count": null,
      "metadata": {
        "id": "hyD60ov49Bxn"
      },
      "outputs": [],
      "source": [
        "m1 = ('Toy Story', 1995, '01:21', ['animacion', 'comedia'])"
      ]
    },
    {
      "cell_type": "code",
      "source": [
        "(nombre, year, duracion, categorias) = m1"
      ],
      "metadata": {
        "id": "DGd8E3cEiH6u"
      },
      "execution_count": null,
      "outputs": []
    },
    {
      "cell_type": "code",
      "execution_count": null,
      "metadata": {
        "id": "zm2GaVK49Bxn"
      },
      "outputs": [],
      "source": [
        "print(nombre)\n",
        "print(categorias)"
      ]
    },
    {
      "cell_type": "markdown",
      "metadata": {
        "id": "NJ83mSW89Bxp"
      },
      "source": [
        "### Retorno de una función"
      ]
    },
    {
      "cell_type": "markdown",
      "metadata": {
        "id": "fecT4FMy9Bxp"
      },
      "source": [
        "Veamos un ejemplo de cómo podríamos usar las tuplas. Si alguna vez han usado una receta de Internet, quizás se han encontrado con un problema similar a este. Empiezan una receta, y esta señala una y media tazas de harina, pero no tenemos esa medida estándar en nuestra casa. ¿A cuánto corresponde una taza y media de harina? Programaremos una función que haga conversión de la cantidad de harina. Una taza de harina corresponde a 125 gramos o 4,41 onzas o 0,28 libras. Si no sabemos exactamente cómo la persona que use este programa prefiere medir la harina, ¿qué podemos hacer? La función recibe la cantidad de tazas, y calculamos en la variable g los gramos, en o las onzas y en l las libras. Usando una tupla podemos retornar los tres valores separados por comas. Recuerden que los paréntesis son opcionales, podríamos haberlos usado aquí.\n",
        "\n",
        "Desde el código principal yo puedo llamar a convertir, por ejemplo, de una taza y media y la función me entregará los tres valores. Usando la asignación que ya vimos puedo usar tres variables para guardar los tres valores, y luego elegir el que me interesaba y lo imprimo, o bien lo uso para lo que se necesita."
      ]
    },
    {
      "cell_type": "code",
      "execution_count": null,
      "metadata": {
        "id": "CTMaTl0F9Bxp"
      },
      "outputs": [],
      "source": [
        "def convertir(taza):\n",
        "    g=taza*125\n",
        "    o=taza*4.41\n",
        "    l=taza*0.28\n",
        "    return g,o,l\n"
      ]
    },
    {
      "cell_type": "code",
      "execution_count": null,
      "metadata": {
        "id": "mwwRUJ7v9Bxp"
      },
      "outputs": [],
      "source": [
        "gramos, onzas, libras = convertir(1.5)\n",
        "print(gramos)"
      ]
    },
    {
      "cell_type": "code",
      "source": [
        "print(onzas)"
      ],
      "metadata": {
        "id": "sl9VmDZ2jgXw"
      },
      "execution_count": null,
      "outputs": []
    },
    {
      "cell_type": "code",
      "source": [
        "print(libras)"
      ],
      "metadata": {
        "id": "oNwGKaMyjmBG"
      },
      "execution_count": null,
      "outputs": []
    }
  ],
  "metadata": {
    "kernelspec": {
      "display_name": "Python 3.8.1 32-bit",
      "language": "python",
      "name": "python3"
    },
    "language_info": {
      "codemirror_mode": {
        "name": "ipython",
        "version": 3
      },
      "file_extension": ".py",
      "mimetype": "text/x-python",
      "name": "python",
      "nbconvert_exporter": "python",
      "pygments_lexer": "ipython3",
      "version": "3.8.1"
    },
    "orig_nbformat": 4,
    "vscode": {
      "interpreter": {
        "hash": "b25af7edd9d744abc5be65703c7db0e0253305f8e9e5a5c8b160839b50596d73"
      }
    },
    "colab": {
      "provenance": []
    }
  },
  "nbformat": 4,
  "nbformat_minor": 0
}