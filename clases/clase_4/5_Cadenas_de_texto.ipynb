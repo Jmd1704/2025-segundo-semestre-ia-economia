{
  "nbformat": 4,
  "nbformat_minor": 0,
  "metadata": {
    "colab": {
      "provenance": [],
      "toc_visible": true
    },
    "kernelspec": {
      "display_name": "Python 3",
      "language": "python",
      "name": "python3"
    }
  },
  "cells": [
    {
      "cell_type": "markdown",
      "source": [
        "# **Cadenas de texto (Strings)**"
      ],
      "metadata": {
        "id": "Mu6fF7zL9S8t"
      }
    },
    {
      "cell_type": "markdown",
      "source": [
        "Elaborado por: Lina María Castro\n",
        "\n",
        "Fecha: 12 de agosto de 2025"
      ],
      "metadata": {
        "id": "SjT69cep9KPK"
      }
    },
    {
      "cell_type": "markdown",
      "metadata": {
        "id": "VWxn86znDch6"
      },
      "source": [
        "Son un tipo de dato para almacenar secuencias de caracteres, estos son útiles cuando debamos trabajar con texto.\n",
        "\n",
        "Es indiferente usar comilla simple o comilla doble."
      ]
    },
    {
      "cell_type": "markdown",
      "source": [
        "## Formas de definir cadenas"
      ],
      "metadata": {
        "id": "dAYE1w6ZsiR7"
      }
    },
    {
      "cell_type": "code",
      "metadata": {
        "id": "ba40VjPWDch8"
      },
      "source": [
        "cadena1 = 'comilla simple'\n",
        "cadena1"
      ],
      "execution_count": null,
      "outputs": []
    },
    {
      "cell_type": "code",
      "metadata": {
        "id": "rj9RBr35Dch-"
      },
      "source": [
        "cadena2 = \"comillas dobles\"\n",
        "cadena2"
      ],
      "execution_count": null,
      "outputs": []
    },
    {
      "cell_type": "markdown",
      "source": [
        "## Concatenación"
      ],
      "metadata": {
        "id": "xz83vOjbs6bi"
      }
    },
    {
      "cell_type": "code",
      "source": [
        "texto = \"Python\""
      ],
      "metadata": {
        "id": "kzz0rowns_kV"
      },
      "execution_count": null,
      "outputs": []
    },
    {
      "cell_type": "code",
      "source": [
        "print(texto + \" es genial\")"
      ],
      "metadata": {
        "id": "iju-gCwys8Sm"
      },
      "execution_count": null,
      "outputs": []
    },
    {
      "cell_type": "markdown",
      "source": [
        "## Repetición"
      ],
      "metadata": {
        "id": "ZEvF-H3jtCn6"
      }
    },
    {
      "cell_type": "code",
      "source": [
        "print(texto * 3)"
      ],
      "metadata": {
        "id": "GY3bGFxztE6P"
      },
      "execution_count": null,
      "outputs": []
    },
    {
      "cell_type": "markdown",
      "source": [
        "## Índices de cadenas"
      ],
      "metadata": {
        "id": "I1uNwSonkAtM"
      }
    },
    {
      "cell_type": "markdown",
      "metadata": {
        "id": "9L_F26XpDcic"
      },
      "source": [
        "Para acceder a las posiciones de cada uno de los caracteres de una cadena se hace por medio de su índice.\n",
        "\n",
        "Los índices se refieren a la ubicación de cada elemento. Empieza a contar en cero. -1 se refiere al último elemento.\n"
      ]
    },
    {
      "cell_type": "code",
      "metadata": {
        "id": "SPZyXtDxDcic"
      },
      "source": [
        "s = \"Introducción a los tipos de objetos en Python\""
      ],
      "execution_count": null,
      "outputs": []
    },
    {
      "cell_type": "code",
      "metadata": {
        "id": "mEis3UffDcih"
      },
      "source": [
        "# Cuál es el elemento 0 de s?\n",
        "s[0]"
      ],
      "execution_count": null,
      "outputs": []
    },
    {
      "cell_type": "code",
      "metadata": {
        "id": "Iun3pxXXDcik"
      },
      "source": [
        "# Cuál es el elemento 3 de s?\n",
        "s[3]"
      ],
      "execution_count": null,
      "outputs": []
    },
    {
      "cell_type": "code",
      "metadata": {
        "id": "DpBKbq199zCc"
      },
      "source": [
        "# Cuál es el elemento -5 de s? Cuenta del último hacia atrás. Empieza a contar en -1\n",
        "# Los espacios también se cuentan\n",
        "s[-5]"
      ],
      "execution_count": null,
      "outputs": []
    },
    {
      "cell_type": "code",
      "metadata": {
        "id": "Ot8RgrlRWkO-"
      },
      "source": [
        "# Para indicarle que agregue un enter\n",
        "x = '\\n'"
      ],
      "execution_count": null,
      "outputs": []
    },
    {
      "cell_type": "code",
      "metadata": {
        "id": "qeOpVqSKWoNu"
      },
      "source": [
        "print(x, s, x, \"Hola\")"
      ],
      "execution_count": null,
      "outputs": []
    },
    {
      "cell_type": "code",
      "metadata": {
        "id": "NlYoRTleWwhQ"
      },
      "source": [
        "# Cuál es el elemento 0 de x?\n",
        "x[0]"
      ],
      "execution_count": null,
      "outputs": []
    },
    {
      "cell_type": "markdown",
      "source": [
        "## Troceado de cadenas (Slicing)"
      ],
      "metadata": {
        "id": "porQiEVok-KF"
      }
    },
    {
      "cell_type": "markdown",
      "metadata": {
        "id": "gf7voUFyDcim"
      },
      "source": [
        "Para tomar un subconjunto de elementos de la cadena inicial lo hacemos por la posición en el ìndice en forma de  rango:\n",
        "\n",
        "**cadena[inicio:fin:paso]**\n",
        "* inicio (incluído)\n",
        "* fin (excluído)\n",
        "\n",
        "Valores por defecto:\n",
        "* inicio = 0\n",
        "* fin = longitud cadena\n",
        "* paso = 1 (puede ser negativo para empezar desde el final de la cadena hacia la izquierda)\n",
        "\n",
        "Paso indica cuántos elementos saltarse, por ejemplo, 2 quiere decir que muestre cada 2 elementos. Si es -1, muestra la cadena invertida y si es -2 muestra la cadena invertida, cada 2 elementos."
      ]
    },
    {
      "cell_type": "code",
      "metadata": {
        "id": "8oeMFF4GDcin"
      },
      "source": [
        "# Muestre desde el elemento 0 hasta el 9 (10 está excluído)\n",
        "s[0:10]"
      ],
      "execution_count": null,
      "outputs": []
    },
    {
      "cell_type": "code",
      "metadata": {
        "id": "gJgq9Y8uDcir"
      },
      "source": [
        "# Muestre desde el elemento 0 hasta el 9 (10 está excluído). Empieza en 0 por defecto\n",
        "s[:10]"
      ],
      "execution_count": null,
      "outputs": []
    },
    {
      "cell_type": "code",
      "metadata": {
        "id": "2QYDlWjJDciw"
      },
      "source": [
        "# Muestre todo\n",
        "s[:]"
      ],
      "execution_count": null,
      "outputs": []
    },
    {
      "cell_type": "code",
      "metadata": {
        "id": "mYVMMg8BDci1"
      },
      "source": [
        "# Muestre desde el elemento 0 hasta el 9, cada 2 elementos\n",
        "s[0:10:2]"
      ],
      "execution_count": null,
      "outputs": []
    },
    {
      "cell_type": "code",
      "metadata": {
        "id": "_IunyjTCnV_0"
      },
      "source": [
        "# Muestre todo invertido\n",
        "s[::-1]"
      ],
      "execution_count": null,
      "outputs": []
    },
    {
      "cell_type": "code",
      "metadata": {
        "id": "ywta5mhkDci2"
      },
      "source": [
        "# Muestre todo cada 2 elementos invertido\n",
        "s[::-2]"
      ],
      "execution_count": null,
      "outputs": []
    },
    {
      "cell_type": "code",
      "metadata": {
        "id": "NqGipjC6Dci4"
      },
      "source": [
        "# Crea una nueva variable llamda cad\n",
        "cad = \"Amor a Roma\""
      ],
      "execution_count": null,
      "outputs": []
    },
    {
      "cell_type": "code",
      "metadata": {
        "id": "9k-_kS-0Dci5"
      },
      "source": [
        "# Muestre todos los elementos de cad invertidos\n",
        "cad[::-1]"
      ],
      "execution_count": null,
      "outputs": []
    },
    {
      "cell_type": "code",
      "metadata": {
        "id": "cAmXs1v0Dci7"
      },
      "source": [
        "# Crea una nueva variable llamada oculto\n",
        "oculto = \"!XeXgXaXsXsXeXmX XtXeXrXcXeXsX XeXhXtX XmXaX XI\""
      ],
      "execution_count": null,
      "outputs": []
    },
    {
      "cell_type": "code",
      "metadata": {
        "id": "oLkZH5UHDci8"
      },
      "source": [
        "# Crea una nueva variable llamada mensaje compuesta por toda la cadena oculto, cada 2 elementos, invertida\n",
        "mensaje = oculto[::-2]\n",
        "# Muestra la nueva variable mensaje\n",
        "mensaje"
      ],
      "execution_count": null,
      "outputs": []
    },
    {
      "cell_type": "markdown",
      "source": [
        "## Funciones y métodos comunes"
      ],
      "metadata": {
        "id": "HFGszwVHuP83"
      }
    },
    {
      "cell_type": "markdown",
      "source": [
        "len() → Longitud.\n",
        "\n",
        ".lower(), .upper() → Minúsculas y mayúsculas.\n",
        "\n",
        ".capitalize(), .title()\n",
        "\n",
        ".strip(), .lstrip(), .rstrip()\n",
        "\n",
        ".replace()\n",
        "\n",
        ".count()\n",
        "\n",
        ".find() y .index()\n",
        "\n",
        ".startswith() y .endswith()"
      ],
      "metadata": {
        "id": "IFfs7521uRJP"
      }
    },
    {
      "cell_type": "code",
      "source": [
        "frase = \"  Python es poderoso y divertido  \"\n",
        "print(frase)"
      ],
      "metadata": {
        "id": "S2ipGE-Pu7Zz"
      },
      "execution_count": null,
      "outputs": []
    },
    {
      "cell_type": "code",
      "source": [
        "# Elimina los espacios en blanco al inicio y al final de la cadena\n",
        "frase = frase.strip()\n",
        "print(frase)"
      ],
      "metadata": {
        "id": "1EJBfHfjvKjZ"
      },
      "execution_count": null,
      "outputs": []
    },
    {
      "cell_type": "code",
      "source": [
        "# Muestra la cantidad de caracteres en la cadena\n",
        "print(len(frase))"
      ],
      "metadata": {
        "id": "hSn7BoF6u-wD"
      },
      "execution_count": null,
      "outputs": []
    },
    {
      "cell_type": "code",
      "source": [
        "# Convierte todo el texto a minúsculas\n",
        "print(frase.lower())"
      ],
      "metadata": {
        "id": "Cu5yRR-XvAOg"
      },
      "execution_count": null,
      "outputs": []
    },
    {
      "cell_type": "code",
      "source": [
        "# Convierte todo el texto a mayúsculas\n",
        "print(frase.upper())"
      ],
      "metadata": {
        "id": "RsnC_YHgvCGT"
      },
      "execution_count": null,
      "outputs": []
    },
    {
      "cell_type": "code",
      "source": [
        "# Convierte la primera letra del texto a mayúscula y el resto a minúsculas\n",
        "print(frase.capitalize())"
      ],
      "metadata": {
        "id": "GcmP-2zbvDru"
      },
      "execution_count": null,
      "outputs": []
    },
    {
      "cell_type": "code",
      "source": [
        "# Convierte la primera letra de cada palabra a mayúscula\n",
        "print(frase.title())"
      ],
      "metadata": {
        "id": "WTmlMXxovHTG"
      },
      "execution_count": null,
      "outputs": []
    },
    {
      "cell_type": "code",
      "source": [
        "# Reemplaza una palabra o subcadena por otra\n",
        "print(frase.replace(\"divertido\", \"asombroso\"))"
      ],
      "metadata": {
        "id": "JfY-TQTgvNeD"
      },
      "execution_count": null,
      "outputs": []
    },
    {
      "cell_type": "code",
      "source": [
        "# Cuenta cuántas veces aparece una subcadena específica\n",
        "print(frase.count(\"o\"))"
      ],
      "metadata": {
        "id": "q6M53GNrvPYx"
      },
      "execution_count": null,
      "outputs": []
    },
    {
      "cell_type": "code",
      "source": [
        "# Devuelve la posición donde aparece por primera vez una subcadena (o -1 si no existe)\n",
        "print(frase.find(\"poderoso\"))"
      ],
      "metadata": {
        "id": "pkhpRe1IvVFm"
      },
      "execution_count": null,
      "outputs": []
    },
    {
      "cell_type": "code",
      "source": [
        "print(frase.find(\"maravilloso\"))"
      ],
      "metadata": {
        "id": "UcdZX4sawow7"
      },
      "execution_count": null,
      "outputs": []
    },
    {
      "cell_type": "code",
      "source": [
        "# Verifica si la cadena empieza con una subcadena específica (True o False)\n",
        "print(frase.startswith(\"Python\"))"
      ],
      "metadata": {
        "id": "hduMjW5cva8o"
      },
      "execution_count": null,
      "outputs": []
    },
    {
      "cell_type": "code",
      "source": [
        "# Verifica si la cadena termina con una subcadena específica (True o False)\n",
        "print(frase.endswith(\"maravilloso\"))"
      ],
      "metadata": {
        "id": "FiHs2RgCvd4D"
      },
      "execution_count": null,
      "outputs": []
    },
    {
      "cell_type": "markdown",
      "source": [
        "## División y unión de cadenas"
      ],
      "metadata": {
        "id": "MRQabY41uibX"
      }
    },
    {
      "cell_type": "code",
      "source": [
        "# Cadena de texto con elementos separados por comas\n",
        "texto = \"uno,dos,tres\""
      ],
      "metadata": {
        "id": "-gSUSbrpyg9G"
      },
      "execution_count": null,
      "outputs": []
    },
    {
      "cell_type": "code",
      "source": [
        "# Convierte la cadena en una lista, usando la coma como separador\n",
        "lista = texto.split(\",\")\n",
        "print(lista)"
      ],
      "metadata": {
        "id": "UeedbXW4umLX"
      },
      "execution_count": null,
      "outputs": []
    },
    {
      "cell_type": "code",
      "source": [
        "# Cadena de texto con saltos de línea\n",
        "lineas = \"Primera línea\\nSegunda línea\""
      ],
      "metadata": {
        "id": "SR-NE3eFyp57"
      },
      "execution_count": null,
      "outputs": []
    },
    {
      "cell_type": "code",
      "source": [
        "# Divide la cadena en una lista usando el salto de línea como separador\n",
        "print(lineas.splitlines())"
      ],
      "metadata": {
        "id": "zi2ehM_pusfQ"
      },
      "execution_count": null,
      "outputs": []
    },
    {
      "cell_type": "code",
      "source": [
        "# Une los elementos de la lista en una sola cadena, separados por guiones\n",
        "print(lista)\n",
        "unido = \"-\".join(lista)\n",
        "print(unido)"
      ],
      "metadata": {
        "id": "c1kl72X9uw8h"
      },
      "execution_count": null,
      "outputs": []
    },
    {
      "cell_type": "markdown",
      "source": [
        "## Formateo de cadenas"
      ],
      "metadata": {
        "id": "c0gGdEiEtTNQ"
      }
    },
    {
      "cell_type": "markdown",
      "source": [
        ".format().\n",
        "\n",
        "Operador %.\n",
        "\n",
        "F-strings."
      ],
      "metadata": {
        "id": "LctM56kGtbt_"
      }
    },
    {
      "cell_type": "code",
      "metadata": {
        "id": "L2uWE5brDciS"
      },
      "source": [
        "# Creación de dos variables\n",
        "num = 10\n",
        "name = 'María'"
      ],
      "execution_count": null,
      "outputs": []
    },
    {
      "cell_type": "code",
      "metadata": {
        "id": "dF5F-dtHDciU"
      },
      "source": [
        "# Para insertar el valor de las dos variables en una línea de texto\n",
        "print('Mi número es: {} y mi nombre es: {}'.format(num, name))"
      ],
      "execution_count": null,
      "outputs": []
    },
    {
      "cell_type": "code",
      "metadata": {
        "id": "uMjpLk5jDcia"
      },
      "source": [
        "# Otra forma de insertar el valor de las dos variables en una línea de texto\n",
        "print(\"Mi número es: %d y mi nombre es: %s\" % (num, name))"
      ],
      "execution_count": null,
      "outputs": []
    },
    {
      "cell_type": "code",
      "metadata": {
        "id": "ur9rZj0e-Ap7"
      },
      "source": [
        "# Otra forma de insertar el valor de las dos variables en una línea de texto, una forma más sencilla\n",
        "# f-string\n",
        "print(f\"Mi número es: {num} y mi nombre es: {name}\")"
      ],
      "execution_count": null,
      "outputs": []
    },
    {
      "cell_type": "markdown",
      "source": [
        "## Verificación de contenido"
      ],
      "metadata": {
        "id": "XRB-pH-sxEX0"
      }
    },
    {
      "cell_type": "code",
      "source": [
        "# Verifica si todos los caracteres de la cadena son letras (sin números ni símbolos)\n",
        "print(\"Python\".isalpha())"
      ],
      "metadata": {
        "id": "_tM7b2gCxJU_"
      },
      "execution_count": null,
      "outputs": []
    },
    {
      "cell_type": "code",
      "source": [
        "print(\"Python 3\".isalpha())"
      ],
      "metadata": {
        "id": "ht45rYRnyQrq"
      },
      "execution_count": null,
      "outputs": []
    },
    {
      "cell_type": "code",
      "source": [
        "# Verifica si todos los caracteres de la cadena son dígitos (números del 0 al 9)\n",
        "print(\"1234\".isdigit())"
      ],
      "metadata": {
        "id": "SdBOckPAxLeQ"
      },
      "execution_count": null,
      "outputs": []
    },
    {
      "cell_type": "code",
      "source": [
        "print(\"1sdf234\".isdigit())"
      ],
      "metadata": {
        "id": "88pIpSl5yNs7"
      },
      "execution_count": null,
      "outputs": []
    },
    {
      "cell_type": "code",
      "source": [
        "# Verifica si todos los caracteres son alfanuméricos (letras y/o números, sin símbolos ni espacios)\n",
        "print(\"Python3\".isalnum())"
      ],
      "metadata": {
        "id": "RYZd9Sm9xNbe"
      },
      "execution_count": null,
      "outputs": []
    },
    {
      "cell_type": "code",
      "source": [
        "print(\"Python 3\".isalnum())"
      ],
      "metadata": {
        "id": "jJQRGgeiyK2O"
      },
      "execution_count": null,
      "outputs": []
    },
    {
      "cell_type": "code",
      "source": [
        "# Verifica si la cadena está compuesta únicamente por espacios en blanco\n",
        "print(\"   \".isspace())"
      ],
      "metadata": {
        "id": "odNAtdMQxPIc"
      },
      "execution_count": null,
      "outputs": []
    },
    {
      "cell_type": "code",
      "source": [
        "print(\" df  \".isspace())"
      ],
      "metadata": {
        "id": "rDNtHxPWyHkA"
      },
      "execution_count": null,
      "outputs": []
    },
    {
      "cell_type": "code",
      "source": [
        "# Verifica si todos los caracteres de la cadena están en minúscula\n",
        "print(\"python\".islower())"
      ],
      "metadata": {
        "id": "p6FDSjpbxQrB"
      },
      "execution_count": null,
      "outputs": []
    },
    {
      "cell_type": "code",
      "source": [
        "print(\"PYTHON\".islower())"
      ],
      "metadata": {
        "id": "AW8rCD7qyCyW"
      },
      "execution_count": null,
      "outputs": []
    },
    {
      "cell_type": "code",
      "source": [
        "# Verifica si todos los caracteres de la cadena están en mayúscula\n",
        "print(\"PYTHON\".isupper())"
      ],
      "metadata": {
        "id": "bUrM3miTxUBr"
      },
      "execution_count": null,
      "outputs": []
    },
    {
      "cell_type": "code",
      "source": [
        "print(\"python\".isupper())"
      ],
      "metadata": {
        "id": "mbGiUWCCx-S5"
      },
      "execution_count": null,
      "outputs": []
    }
  ]
}