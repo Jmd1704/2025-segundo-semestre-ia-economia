{
  "cells": [
    {
      "cell_type": "markdown",
      "metadata": {
        "id": "Mu6fF7zL9S8t"
      },
      "source": [
        "# **Cadenas de texto (Strings)** (secuencial / inmutable)"
      ]
    },
    {
      "cell_type": "markdown",
      "metadata": {
        "id": "SjT69cep9KPK"
      },
      "source": [
        "Elaborado por: Lina María Castro\n",
        "\n",
        "Fecha: 14 de agosto de 2025"
      ]
    },
    {
      "cell_type": "markdown",
      "metadata": {
        "id": "VWxn86znDch6"
      },
      "source": [
        "Son un tipo de dato para almacenar secuencias de caracteres, estos son útiles cuando debamos trabajar con texto.\n",
        "\n",
        "Es indiferente usar comilla simple o comilla doble."
      ]
    },
    {
      "cell_type": "markdown",
      "metadata": {
        "id": "dAYE1w6ZsiR7"
      },
      "source": [
        "## Formas de definir cadenas"
      ]
    },
    {
      "cell_type": "code",
      "execution_count": null,
      "metadata": {
        "colab": {
          "base_uri": "https://localhost:8080/",
          "height": 35
        },
        "id": "ba40VjPWDch8",
        "outputId": "a80615c2-e2d6-473c-984f-49420d37202d"
      },
      "outputs": [],
      "source": [
        "cadena1 = 'comilla simple'\n",
        "cadena1"
      ]
    },
    {
      "cell_type": "code",
      "execution_count": null,
      "metadata": {
        "colab": {
          "base_uri": "https://localhost:8080/",
          "height": 35
        },
        "id": "rj9RBr35Dch-",
        "outputId": "10a949cc-802e-4024-d082-c1254d2f642a"
      },
      "outputs": [],
      "source": [
        "cadena2 = \"comillas dobles\"\n",
        "cadena2"
      ]
    },
    {
      "cell_type": "markdown",
      "metadata": {
        "id": "xz83vOjbs6bi"
      },
      "source": [
        "## Concatenación"
      ]
    },
    {
      "cell_type": "code",
      "execution_count": null,
      "metadata": {
        "id": "kzz0rowns_kV"
      },
      "outputs": [],
      "source": [
        "texto = \"Python\""
      ]
    },
    {
      "cell_type": "code",
      "execution_count": null,
      "metadata": {
        "colab": {
          "base_uri": "https://localhost:8080/"
        },
        "id": "iju-gCwys8Sm",
        "outputId": "7c188126-70a2-4009-e485-0d889ec7d066"
      },
      "outputs": [],
      "source": [
        "print(texto + \" es genial\")"
      ]
    },
    {
      "cell_type": "markdown",
      "metadata": {
        "id": "ZEvF-H3jtCn6"
      },
      "source": [
        "## Repetición"
      ]
    },
    {
      "cell_type": "code",
      "execution_count": null,
      "metadata": {
        "colab": {
          "base_uri": "https://localhost:8080/"
        },
        "id": "GY3bGFxztE6P",
        "outputId": "1215107e-ef2b-4230-f812-1a9d7aee6890"
      },
      "outputs": [],
      "source": [
        "print(texto * 3)"
      ]
    },
    {
      "cell_type": "markdown",
      "metadata": {
        "id": "I1uNwSonkAtM"
      },
      "source": [
        "## Índices de cadenas"
      ]
    },
    {
      "cell_type": "markdown",
      "metadata": {
        "id": "9L_F26XpDcic"
      },
      "source": [
        "Para acceder a las posiciones de cada uno de los caracteres de una cadena se hace por medio de su índice.\n",
        "\n",
        "Los índices se refieren a la ubicación de cada elemento. Empieza a contar en cero. -1 se refiere al último elemento.\n"
      ]
    },
    {
      "cell_type": "code",
      "execution_count": null,
      "metadata": {
        "id": "SPZyXtDxDcic"
      },
      "outputs": [],
      "source": [
        "s = \"Introducción a los tipos de objetos en Python\""
      ]
    },
    {
      "cell_type": "code",
      "execution_count": null,
      "metadata": {
        "colab": {
          "base_uri": "https://localhost:8080/",
          "height": 35
        },
        "id": "mEis3UffDcih",
        "outputId": "4441feef-c46e-48f6-8c55-a7cd8c6d84ad"
      },
      "outputs": [],
      "source": [
        "# Cuál es el elemento 0 de s?\n",
        "s[0]"
      ]
    },
    {
      "cell_type": "code",
      "execution_count": null,
      "metadata": {
        "colab": {
          "base_uri": "https://localhost:8080/",
          "height": 35
        },
        "id": "Iun3pxXXDcik",
        "outputId": "23fc1147-207d-4e9f-f6a8-7d8467e16b8d"
      },
      "outputs": [],
      "source": [
        "# Cuál es el elemento 3 de s?\n",
        "s[3]"
      ]
    },
    {
      "cell_type": "code",
      "execution_count": null,
      "metadata": {
        "colab": {
          "base_uri": "https://localhost:8080/",
          "height": 35
        },
        "id": "DpBKbq199zCc",
        "outputId": "a7b06001-94bd-44fd-b77e-afcd5d7264bd"
      },
      "outputs": [],
      "source": [
        "# Cuál es el elemento -5 de s? Cuenta del último hacia atrás. Empieza a contar en -1\n",
        "# Los espacios también se cuentan\n",
        "s[-5]"
      ]
    },
    {
      "cell_type": "code",
      "execution_count": null,
      "metadata": {
        "id": "Ot8RgrlRWkO-"
      },
      "outputs": [],
      "source": [
        "# Para indicarle que agregue un enter\n",
        "x = '\\n'"
      ]
    },
    {
      "cell_type": "code",
      "execution_count": null,
      "metadata": {
        "colab": {
          "base_uri": "https://localhost:8080/"
        },
        "id": "qeOpVqSKWoNu",
        "outputId": "998c82fd-e117-4a9e-d003-eae484613db1"
      },
      "outputs": [],
      "source": [
        "print(x, s, x, \"Hola\")"
      ]
    },
    {
      "cell_type": "code",
      "execution_count": null,
      "metadata": {
        "colab": {
          "base_uri": "https://localhost:8080/",
          "height": 35
        },
        "id": "NlYoRTleWwhQ",
        "outputId": "1fc8667f-595d-45b9-e676-c62efe1fa1dc"
      },
      "outputs": [],
      "source": [
        "# Cuál es el elemento 0 de x?\n",
        "x[0]"
      ]
    },
    {
      "cell_type": "markdown",
      "metadata": {
        "id": "porQiEVok-KF"
      },
      "source": [
        "## Troceado de cadenas (Slicing)"
      ]
    },
    {
      "cell_type": "markdown",
      "metadata": {
        "id": "gf7voUFyDcim"
      },
      "source": [
        "Para tomar un subconjunto de elementos de la cadena inicial lo hacemos por la posición en el índice en forma de rango:\n",
        "\n",
        "**cadena[inicio:fin:paso]**\n",
        "* inicio (incluído)\n",
        "* fin (excluído)\n",
        "\n",
        "Valores por defecto:\n",
        "* inicio = 0\n",
        "* fin = longitud cadena\n",
        "* paso = 1 (puede ser negativo para empezar desde el final de la cadena hacia la izquierda)\n",
        "\n",
        "Paso indica cuántos elementos saltarse, por ejemplo, 2 quiere decir que muestre cada 2 elementos. Si es -1, muestra la cadena invertida y si es -2 muestra la cadena invertida, cada 2 elementos."
      ]
    },
    {
      "cell_type": "code",
      "execution_count": null,
      "metadata": {
        "colab": {
          "base_uri": "https://localhost:8080/",
          "height": 35
        },
        "id": "8oeMFF4GDcin",
        "outputId": "dd641c65-06a7-42fd-e00c-2fb7afdbf0e9"
      },
      "outputs": [],
      "source": [
        "# Muestre desde el elemento 0 hasta el 9 (10 está excluído)\n",
        "s[0:10]"
      ]
    },
    {
      "cell_type": "code",
      "execution_count": null,
      "metadata": {
        "colab": {
          "base_uri": "https://localhost:8080/",
          "height": 35
        },
        "id": "gJgq9Y8uDcir",
        "outputId": "0d8e4f5d-d958-42a7-d524-035d3fdc0399"
      },
      "outputs": [],
      "source": [
        "# Muestre desde el elemento 0 hasta el 9 (10 está excluído). Empieza en 0 por defecto\n",
        "s[:10]"
      ]
    },
    {
      "cell_type": "code",
      "execution_count": null,
      "metadata": {
        "colab": {
          "base_uri": "https://localhost:8080/",
          "height": 35
        },
        "id": "0Ty9tzU80qwt",
        "outputId": "ddc90428-7b6e-48e1-aae9-6ac5c37b8f22"
      },
      "outputs": [],
      "source": [
        "# Muestre desde el elemento 15 hasta el 17 (18 está excluído).\n",
        "s[15:18]"
      ]
    },
    {
      "cell_type": "code",
      "execution_count": null,
      "metadata": {
        "colab": {
          "base_uri": "https://localhost:8080/",
          "height": 35
        },
        "id": "2QYDlWjJDciw",
        "outputId": "8adfc18f-6971-49ab-8a3e-35374b11f09b"
      },
      "outputs": [],
      "source": [
        "# Muestre todo\n",
        "s[:]"
      ]
    },
    {
      "cell_type": "code",
      "execution_count": null,
      "metadata": {
        "colab": {
          "base_uri": "https://localhost:8080/",
          "height": 35
        },
        "id": "mYVMMg8BDci1",
        "outputId": "343776e9-926c-4c46-843f-08272e6f00c5"
      },
      "outputs": [],
      "source": [
        "# Muestre desde el elemento 0 hasta el 9, cada 2 elementos\n",
        "s[0:10:2]"
      ]
    },
    {
      "cell_type": "code",
      "execution_count": null,
      "metadata": {
        "colab": {
          "base_uri": "https://localhost:8080/",
          "height": 35
        },
        "id": "_IunyjTCnV_0",
        "outputId": "992b6afd-3832-4e7a-b067-288454ca7331"
      },
      "outputs": [],
      "source": [
        "# Muestre todo invertido\n",
        "s[::-1]"
      ]
    },
    {
      "cell_type": "code",
      "execution_count": null,
      "metadata": {
        "colab": {
          "base_uri": "https://localhost:8080/",
          "height": 35
        },
        "id": "ywta5mhkDci2",
        "outputId": "14b9ed0e-9e45-4c69-80a8-bb8d206928f3"
      },
      "outputs": [],
      "source": [
        "# Muestre todo cada 2 elementos invertido\n",
        "s[::-2]"
      ]
    },
    {
      "cell_type": "markdown",
      "metadata": {},
      "source": [
        "### Ejercicio"
      ]
    },
    {
      "cell_type": "code",
      "execution_count": null,
      "metadata": {
        "id": "NqGipjC6Dci4"
      },
      "outputs": [],
      "source": [
        "# Crea una nueva variable llamda cad\n",
        "cad = \"Amor a Roma\""
      ]
    },
    {
      "cell_type": "code",
      "execution_count": null,
      "metadata": {
        "id": "9k-_kS-0Dci5"
      },
      "outputs": [],
      "source": [
        "# Muestre todos los elementos de cad invertidos\n"
      ]
    },
    {
      "cell_type": "code",
      "execution_count": null,
      "metadata": {
        "id": "cAmXs1v0Dci7"
      },
      "outputs": [],
      "source": [
        "# Crea una nueva variable llamada oculto\n",
        "oculto = \"!XeXgXaXsXsXeXmX XtXeXrXcXeXsX XeXhXtX XmXaX XI\""
      ]
    },
    {
      "cell_type": "code",
      "execution_count": null,
      "metadata": {
        "id": "oLkZH5UHDci8"
      },
      "outputs": [],
      "source": [
        "# Crea una nueva variable llamada mensaje compuesta por toda la cadena oculto, cada 2 elementos, invertida\n"
      ]
    },
    {
      "cell_type": "markdown",
      "metadata": {
        "id": "HFGszwVHuP83"
      },
      "source": [
        "## Funciones y métodos comunes"
      ]
    },
    {
      "cell_type": "code",
      "execution_count": null,
      "metadata": {
        "colab": {
          "base_uri": "https://localhost:8080/"
        },
        "id": "S2ipGE-Pu7Zz",
        "outputId": "8aca5c80-4e05-4b1e-f2c1-7539f2efd747"
      },
      "outputs": [],
      "source": [
        "frase = \"  Python es poderoso y divertido  \"\n",
        "print(frase)"
      ]
    },
    {
      "cell_type": "code",
      "execution_count": null,
      "metadata": {
        "colab": {
          "base_uri": "https://localhost:8080/"
        },
        "id": "1EJBfHfjvKjZ",
        "outputId": "ee51a0bd-6dfa-44d1-f74e-e142d9ccebe7"
      },
      "outputs": [],
      "source": [
        "# Elimina los espacios en blanco al inicio y al final de la cadena\n",
        "frase = frase.strip()\n",
        "print(frase)"
      ]
    },
    {
      "cell_type": "code",
      "execution_count": null,
      "metadata": {
        "colab": {
          "base_uri": "https://localhost:8080/"
        },
        "id": "hSn7BoF6u-wD",
        "outputId": "48073195-72dc-4ce0-a396-30ef05fd1c2f"
      },
      "outputs": [],
      "source": [
        "# Muestra la cantidad de caracteres en la cadena\n",
        "print(len(frase))"
      ]
    },
    {
      "cell_type": "code",
      "execution_count": null,
      "metadata": {
        "colab": {
          "base_uri": "https://localhost:8080/"
        },
        "id": "Cu5yRR-XvAOg",
        "outputId": "801d0d2e-7433-4e77-8432-805e5201836c"
      },
      "outputs": [],
      "source": [
        "# Convierte todo el texto a minúsculas\n",
        "print(frase.lower())"
      ]
    },
    {
      "cell_type": "code",
      "execution_count": null,
      "metadata": {
        "colab": {
          "base_uri": "https://localhost:8080/"
        },
        "id": "RsnC_YHgvCGT",
        "outputId": "152876a4-f0c7-4935-d2bc-8dbd8ddfc01c"
      },
      "outputs": [],
      "source": [
        "# Convierte todo el texto a mayúsculas\n",
        "print(frase.upper())"
      ]
    },
    {
      "cell_type": "code",
      "execution_count": null,
      "metadata": {
        "colab": {
          "base_uri": "https://localhost:8080/"
        },
        "id": "GcmP-2zbvDru",
        "outputId": "c0c2e82b-ee67-4b34-960d-7ae8882b7703"
      },
      "outputs": [],
      "source": [
        "# Convierte la primera letra del texto a mayúscula y el resto a minúsculas\n",
        "print(frase.capitalize())"
      ]
    },
    {
      "cell_type": "code",
      "execution_count": null,
      "metadata": {
        "colab": {
          "base_uri": "https://localhost:8080/"
        },
        "id": "WTmlMXxovHTG",
        "outputId": "e48c74a0-cdf7-4099-fa34-4e26a4038d54"
      },
      "outputs": [],
      "source": [
        "# Convierte la primera letra de cada palabra a mayúscula\n",
        "print(frase.title())"
      ]
    },
    {
      "cell_type": "code",
      "execution_count": null,
      "metadata": {
        "colab": {
          "base_uri": "https://localhost:8080/"
        },
        "id": "JfY-TQTgvNeD",
        "outputId": "ddb5e4d3-06e1-492b-bdf9-a35fc48b6de2"
      },
      "outputs": [],
      "source": [
        "# Reemplaza una palabra o subcadena por otra\n",
        "print(frase.replace(\"divertido\", \"asombroso\"))"
      ]
    },
    {
      "cell_type": "code",
      "execution_count": null,
      "metadata": {
        "colab": {
          "base_uri": "https://localhost:8080/"
        },
        "id": "q6M53GNrvPYx",
        "outputId": "dcff919f-0fe3-4af5-9ccc-bfa04d082bd0"
      },
      "outputs": [],
      "source": [
        "# Cuenta cuántas veces aparece una subcadena específica\n",
        "print(frase.count(\"o\"))"
      ]
    },
    {
      "cell_type": "code",
      "execution_count": null,
      "metadata": {
        "colab": {
          "base_uri": "https://localhost:8080/"
        },
        "id": "pkhpRe1IvVFm",
        "outputId": "701143b3-fc6b-42d6-a707-e23a6c1a95d1"
      },
      "outputs": [],
      "source": [
        "# Devuelve la posición donde aparece por primera vez una subcadena (o -1 si no existe)\n",
        "print(frase.find(\"poderoso\"))"
      ]
    },
    {
      "cell_type": "code",
      "execution_count": null,
      "metadata": {
        "colab": {
          "base_uri": "https://localhost:8080/"
        },
        "id": "UcdZX4sawow7",
        "outputId": "4d6b0e06-6922-4232-8201-95ad56620c0a"
      },
      "outputs": [],
      "source": [
        "print(frase.find(\"maravilloso\"))"
      ]
    },
    {
      "cell_type": "code",
      "execution_count": null,
      "metadata": {
        "colab": {
          "base_uri": "https://localhost:8080/"
        },
        "id": "hduMjW5cva8o",
        "outputId": "b640d614-d52b-4583-8283-950868ac8c56"
      },
      "outputs": [],
      "source": [
        "# Verifica si la cadena empieza con una subcadena específica (True o False)\n",
        "print(frase.startswith(\"Python\"))"
      ]
    },
    {
      "cell_type": "code",
      "execution_count": null,
      "metadata": {
        "colab": {
          "base_uri": "https://localhost:8080/"
        },
        "id": "FiHs2RgCvd4D",
        "outputId": "ad314006-0e07-4081-d93e-77fe9accb53c"
      },
      "outputs": [],
      "source": [
        "# Verifica si la cadena termina con una subcadena específica (True o False)\n",
        "print(frase.endswith(\"maravilloso\"))"
      ]
    },
    {
      "cell_type": "markdown",
      "metadata": {
        "id": "MRQabY41uibX"
      },
      "source": [
        "## División y unión de cadenas"
      ]
    },
    {
      "cell_type": "code",
      "execution_count": null,
      "metadata": {
        "id": "-gSUSbrpyg9G"
      },
      "outputs": [],
      "source": [
        "# Cadena de texto con elementos separados por comas\n",
        "texto = \"uno, dos, tres\""
      ]
    },
    {
      "cell_type": "code",
      "execution_count": null,
      "metadata": {
        "colab": {
          "base_uri": "https://localhost:8080/"
        },
        "id": "UeedbXW4umLX",
        "outputId": "80f5d56c-d08b-4771-e60e-0724f8b79fa7"
      },
      "outputs": [],
      "source": [
        "# Convierte la cadena en una lista, usando la coma como separador\n",
        "lista = texto.split(\",\")\n",
        "print(lista)"
      ]
    },
    {
      "cell_type": "code",
      "execution_count": null,
      "metadata": {
        "colab": {
          "base_uri": "https://localhost:8080/"
        },
        "id": "WrqqM4G3y2Aw",
        "outputId": "dcfdeea3-a5ea-4a62-ac2f-fbd7b6b5e5b0"
      },
      "outputs": [],
      "source": [
        "lista = texto.split(\", \")\n",
        "print(lista)"
      ]
    },
    {
      "cell_type": "code",
      "execution_count": null,
      "metadata": {
        "id": "SR-NE3eFyp57"
      },
      "outputs": [],
      "source": [
        "# Cadena de texto con saltos de línea\n",
        "lineas = \"Primera línea\\nSegunda línea\""
      ]
    },
    {
      "cell_type": "code",
      "execution_count": null,
      "metadata": {
        "colab": {
          "base_uri": "https://localhost:8080/"
        },
        "id": "zi2ehM_pusfQ",
        "outputId": "19c3b87a-0b14-47f3-ac29-9059b9c0e392"
      },
      "outputs": [],
      "source": [
        "# Divide la cadena en una lista usando el salto de línea como separador\n",
        "print(lineas.splitlines())"
      ]
    },
    {
      "cell_type": "code",
      "execution_count": null,
      "metadata": {
        "colab": {
          "base_uri": "https://localhost:8080/"
        },
        "id": "c1kl72X9uw8h",
        "outputId": "097225bc-93d6-4dc4-c3f6-097920230d91"
      },
      "outputs": [],
      "source": [
        "# Une los elementos de la lista en una sola cadena, separados por guiones\n",
        "print(lista)\n",
        "unido = \"-\".join(lista)\n",
        "print(unido)"
      ]
    },
    {
      "cell_type": "code",
      "execution_count": null,
      "metadata": {
        "colab": {
          "base_uri": "https://localhost:8080/"
        },
        "id": "0aO-xlxGzIOg",
        "outputId": "16521daa-cb50-4e6c-c435-d590055db1e7"
      },
      "outputs": [],
      "source": [
        "unido = \" - \".join(lista)\n",
        "print(unido)"
      ]
    },
    {
      "cell_type": "markdown",
      "metadata": {
        "id": "1_m-k47-0B7u"
      },
      "source": [
        "### Ejercicio"
      ]
    },
    {
      "cell_type": "markdown",
      "metadata": {
        "id": "EEJS4iyoI7Nc"
      },
      "source": [
        "Para la frase \"Python es increíble\" muestra:\n",
        "\n",
        "- Cuántos caracteres tiene en total (incluyendo espacios).\n",
        "- Cuántos caracteres tiene sin contar espacios."
      ]
    },
    {
      "cell_type": "code",
      "execution_count": null,
      "metadata": {
        "id": "cTttLElfz-9f"
      },
      "outputs": [],
      "source": []
    },
    {
      "cell_type": "code",
      "execution_count": null,
      "metadata": {
        "colab": {
          "base_uri": "https://localhost:8080/"
        },
        "id": "wa0shQlnKwjT",
        "outputId": "082964de-16e9-4711-daa8-9da630a6ae62"
      },
      "outputs": [],
      "source": []
    },
    {
      "cell_type": "code",
      "execution_count": null,
      "metadata": {
        "colab": {
          "base_uri": "https://localhost:8080/",
          "height": 35
        },
        "id": "fK4C1oWUK1VT",
        "outputId": "79614a4f-34fe-4842-fddb-e92368c3532b"
      },
      "outputs": [],
      "source": []
    },
    {
      "cell_type": "code",
      "execution_count": null,
      "metadata": {
        "colab": {
          "base_uri": "https://localhost:8080/"
        },
        "id": "-wVQdlk0K9S_",
        "outputId": "6144e618-4ece-4810-f025-855b355ea320"
      },
      "outputs": [],
      "source": []
    },
    {
      "cell_type": "markdown",
      "metadata": {
        "id": "z40OmK2vJLe3"
      },
      "source": [
        "A partir de la frase \"Python es increíble\", imprime:\n",
        "\n",
        "- Toda en mayúsculas.\n",
        "- Toda en minúsculas.\n",
        "- Solo la primera letra en mayúscula."
      ]
    },
    {
      "cell_type": "code",
      "execution_count": null,
      "metadata": {
        "colab": {
          "base_uri": "https://localhost:8080/",
          "height": 35
        },
        "id": "9EcMdRLxJbNk",
        "outputId": "b07ee4ff-95d1-4854-9258-711fdfaa9318"
      },
      "outputs": [],
      "source": []
    },
    {
      "cell_type": "code",
      "execution_count": null,
      "metadata": {
        "colab": {
          "base_uri": "https://localhost:8080/",
          "height": 35
        },
        "id": "C4iW1RQYLM89",
        "outputId": "ee60b143-672f-46db-a0f8-af98c4511486"
      },
      "outputs": [],
      "source": []
    },
    {
      "cell_type": "code",
      "execution_count": null,
      "metadata": {
        "colab": {
          "base_uri": "https://localhost:8080/",
          "height": 35
        },
        "id": "pHsq1vw1LOwn",
        "outputId": "26419b6b-b847-4542-eea6-2df73e579e48"
      },
      "outputs": [],
      "source": []
    },
    {
      "cell_type": "markdown",
      "metadata": {
        "id": "qk7MxVp2JUA_"
      },
      "source": [
        "Dada la cadena \"Economía y Datos\", usa slicing para:\n",
        "\n",
        "- Obtener solo \"Economía\".\n",
        "- Obtener solo \"Datos\"."
      ]
    },
    {
      "cell_type": "code",
      "execution_count": null,
      "metadata": {
        "colab": {
          "base_uri": "https://localhost:8080/",
          "height": 35
        },
        "id": "YxFtL_LKJbso",
        "outputId": "55efe0c0-9774-4241-e31d-27113d44ae25"
      },
      "outputs": [],
      "source": []
    },
    {
      "cell_type": "code",
      "execution_count": null,
      "metadata": {
        "colab": {
          "base_uri": "https://localhost:8080/",
          "height": 35
        },
        "id": "BfmQmmGvLmJ4",
        "outputId": "6304aeb1-6f36-47c3-f91a-2685bbea9be8"
      },
      "outputs": [],
      "source": []
    },
    {
      "cell_type": "markdown",
      "metadata": {
        "id": "hKHfXcnRJcED"
      },
      "source": [
        "En la cadena \"La inflación anual fue del 7.5%\",\n",
        "\n",
        "- Encuentra la posición donde aparece \"7.5\"\n",
        "- Reemplaza \"7.5\" por \"8.2\" y muestra la nueva frase."
      ]
    },
    {
      "cell_type": "code",
      "execution_count": null,
      "metadata": {
        "colab": {
          "base_uri": "https://localhost:8080/"
        },
        "id": "RoJuX9kNJo1T",
        "outputId": "d3d9d2ad-081a-49e9-ba3d-c4673084e7e2"
      },
      "outputs": [],
      "source": []
    },
    {
      "cell_type": "code",
      "execution_count": null,
      "metadata": {
        "colab": {
          "base_uri": "https://localhost:8080/",
          "height": 35
        },
        "id": "cYGp_MewL5re",
        "outputId": "ec203f50-b928-42e2-c094-266f03739e70"
      },
      "outputs": [],
      "source": []
    },
    {
      "cell_type": "markdown",
      "metadata": {
        "id": "nGOWuuA5JoUh"
      },
      "source": [
        "A partir del texto \" Python    para análisis de datos \"\n",
        "\n",
        "- Elimina los espacios extra al inicio y final.\n",
        "- Reemplaza los espacios múltiples por uno solo."
      ]
    },
    {
      "cell_type": "code",
      "execution_count": null,
      "metadata": {
        "id": "75kAzhLoKoHs"
      },
      "outputs": [],
      "source": [
        "esp = \" Python  para  análisis  de  datos \""
      ]
    },
    {
      "cell_type": "code",
      "execution_count": null,
      "metadata": {
        "colab": {
          "base_uri": "https://localhost:8080/",
          "height": 35
        },
        "id": "YavDqe0BMM2V",
        "outputId": "c03c7fe6-51b8-48bf-8142-b595923efde2"
      },
      "outputs": [],
      "source": []
    },
    {
      "cell_type": "code",
      "execution_count": null,
      "metadata": {
        "colab": {
          "base_uri": "https://localhost:8080/",
          "height": 35
        },
        "id": "w8E7QjrqMSrU",
        "outputId": "ea2e2d35-71df-403e-fc4b-814e649287c9"
      },
      "outputs": [],
      "source": []
    },
    {
      "cell_type": "markdown",
      "metadata": {
        "id": "c0gGdEiEtTNQ"
      },
      "source": [
        "## Formateo de cadenas"
      ]
    },
    {
      "cell_type": "code",
      "execution_count": null,
      "metadata": {
        "id": "L2uWE5brDciS"
      },
      "outputs": [],
      "source": [
        "# Creación de dos variables\n",
        "name = 'María'\n",
        "edad = 20"
      ]
    },
    {
      "cell_type": "code",
      "execution_count": null,
      "metadata": {
        "colab": {
          "base_uri": "https://localhost:8080/"
        },
        "id": "dF5F-dtHDciU",
        "outputId": "297fe5de-eb65-4c3e-e4ee-f64156857181"
      },
      "outputs": [],
      "source": [
        "# Para insertar el valor de las dos variables en una línea de texto\n",
        "print('Mi nombre es {} y tengo {} años.'.format(name, edad))"
      ]
    },
    {
      "cell_type": "code",
      "execution_count": null,
      "metadata": {
        "colab": {
          "base_uri": "https://localhost:8080/"
        },
        "id": "uMjpLk5jDcia",
        "outputId": "2e636b22-b964-4f41-e993-702accb65fce"
      },
      "outputs": [],
      "source": [
        "# Otra forma de insertar el valor de las dos variables en una línea de texto\n",
        "# %s llama un string\n",
        "# %d llama un número\n",
        "print(\"Mi nombre es %s y tengo %d años\" % (name, edad))"
      ]
    },
    {
      "cell_type": "code",
      "execution_count": null,
      "metadata": {
        "colab": {
          "base_uri": "https://localhost:8080/"
        },
        "id": "ur9rZj0e-Ap7",
        "outputId": "c78d0c22-913a-4dd9-f203-95c9ee780003"
      },
      "outputs": [],
      "source": [
        "# Otra forma de insertar el valor de las dos variables en una línea de texto, una forma más sencilla\n",
        "# f-string\n",
        "print(f\"Mi nombre es {name} y tengo {edad} años.\")"
      ]
    },
    {
      "cell_type": "markdown",
      "metadata": {
        "id": "lqWfK7-t0H9P"
      },
      "source": [
        "### Ejercicio"
      ]
    },
    {
      "cell_type": "markdown",
      "metadata": {
        "id": "XR8dEc4GNOws"
      },
      "source": [
        "Escribe un código que solicite al usuario su nombre, edad y ciudad, y que luego muestre el mensaje:\n",
        "\n",
        "\"Hola, [nombre]. Tienes [edad] años y vives en [ciudad].\"\n",
        "\n",
        "Usa f-strings para construir el mensaje."
      ]
    },
    {
      "cell_type": "code",
      "execution_count": null,
      "metadata": {
        "colab": {
          "base_uri": "https://localhost:8080/"
        },
        "id": "SQvpzlQsMwh_",
        "outputId": "09b27bbd-4382-40af-bdcb-bf07d8e58794"
      },
      "outputs": [],
      "source": [
        "nombre = input(\"Ingresa tu nombre: \")\n",
        "edad = int(input(\"Ingresa tu edad: \"))\n",
        "ciudad = input(\"Ingresa tu ciudad: \")\n",
        "\n",
        "mensaje = \n",
        "print(mensaje)"
      ]
    },
    {
      "cell_type": "markdown",
      "metadata": {
        "id": "XRB-pH-sxEX0"
      },
      "source": [
        "## Verificación de contenido"
      ]
    },
    {
      "cell_type": "code",
      "execution_count": null,
      "metadata": {
        "colab": {
          "base_uri": "https://localhost:8080/"
        },
        "id": "_tM7b2gCxJU_",
        "outputId": "0974449a-545e-4a19-fd24-77ececa095a2"
      },
      "outputs": [],
      "source": [
        "# Verifica si todos los caracteres de la cadena son letras (sin números ni símbolos)\n",
        "print(\"Python\".isalpha())"
      ]
    },
    {
      "cell_type": "code",
      "execution_count": null,
      "metadata": {
        "colab": {
          "base_uri": "https://localhost:8080/"
        },
        "id": "ht45rYRnyQrq",
        "outputId": "2e5ded79-f8c9-4a53-fd67-6dccec38849e"
      },
      "outputs": [],
      "source": [
        "print(\"Python 3\".isalpha())"
      ]
    },
    {
      "cell_type": "code",
      "execution_count": null,
      "metadata": {
        "colab": {
          "base_uri": "https://localhost:8080/"
        },
        "id": "SdBOckPAxLeQ",
        "outputId": "68a45ffd-0a23-4dbd-9d62-ee635c3a12b6"
      },
      "outputs": [],
      "source": [
        "# Verifica si todos los caracteres de la cadena son dígitos (números del 0 al 9)\n",
        "print(\"1234\".isdigit())"
      ]
    },
    {
      "cell_type": "code",
      "execution_count": null,
      "metadata": {
        "colab": {
          "base_uri": "https://localhost:8080/"
        },
        "id": "88pIpSl5yNs7",
        "outputId": "0ea246f8-afe4-483c-e072-394c80c8a07b"
      },
      "outputs": [],
      "source": [
        "print(\"1sdf234\".isdigit())"
      ]
    },
    {
      "cell_type": "code",
      "execution_count": null,
      "metadata": {
        "colab": {
          "base_uri": "https://localhost:8080/"
        },
        "id": "RYZd9Sm9xNbe",
        "outputId": "4e8b4abc-90e7-4195-adad-e808332aed7e"
      },
      "outputs": [],
      "source": [
        "# Verifica si todos los caracteres son alfanuméricos (letras y/o números, sin símbolos ni espacios)\n",
        "print(\"Python3\".isalnum())"
      ]
    },
    {
      "cell_type": "code",
      "execution_count": null,
      "metadata": {
        "colab": {
          "base_uri": "https://localhost:8080/"
        },
        "id": "jJQRGgeiyK2O",
        "outputId": "d85f3982-abb3-4fb4-8879-a607c4e889f0"
      },
      "outputs": [],
      "source": [
        "print(\"Python 3\".isalnum())"
      ]
    },
    {
      "cell_type": "code",
      "execution_count": null,
      "metadata": {
        "colab": {
          "base_uri": "https://localhost:8080/"
        },
        "id": "odNAtdMQxPIc",
        "outputId": "fb05edf1-6c37-4645-e96c-627d4a74a158"
      },
      "outputs": [],
      "source": [
        "# Verifica si la cadena está compuesta únicamente por espacios en blanco\n",
        "print(\"   \".isspace())"
      ]
    },
    {
      "cell_type": "code",
      "execution_count": null,
      "metadata": {
        "colab": {
          "base_uri": "https://localhost:8080/"
        },
        "id": "rDNtHxPWyHkA",
        "outputId": "b7b44585-484d-4369-e1ab-49bd5baf647f"
      },
      "outputs": [],
      "source": [
        "print(\" df  \".isspace())"
      ]
    },
    {
      "cell_type": "code",
      "execution_count": null,
      "metadata": {
        "colab": {
          "base_uri": "https://localhost:8080/"
        },
        "id": "p6FDSjpbxQrB",
        "outputId": "51509507-4226-44fb-b91e-355b06687c4b"
      },
      "outputs": [],
      "source": [
        "# Verifica si todos los caracteres de la cadena están en minúscula\n",
        "print(\"python\".islower())"
      ]
    },
    {
      "cell_type": "code",
      "execution_count": null,
      "metadata": {
        "colab": {
          "base_uri": "https://localhost:8080/"
        },
        "id": "AW8rCD7qyCyW",
        "outputId": "f11a8312-1163-4f15-9c90-6243c6c58fc9"
      },
      "outputs": [],
      "source": [
        "print(\"Python\".islower())"
      ]
    },
    {
      "cell_type": "code",
      "execution_count": null,
      "metadata": {
        "colab": {
          "base_uri": "https://localhost:8080/"
        },
        "id": "bUrM3miTxUBr",
        "outputId": "d35f3ea1-7335-4517-965a-499850bca592"
      },
      "outputs": [],
      "source": [
        "# Verifica si todos los caracteres de la cadena están en mayúscula\n",
        "print(\"PYTHON\".isupper())"
      ]
    },
    {
      "cell_type": "code",
      "execution_count": null,
      "metadata": {
        "colab": {
          "base_uri": "https://localhost:8080/"
        },
        "id": "mbGiUWCCx-S5",
        "outputId": "d919b2fd-807b-4ebd-c40d-a38787ad876a"
      },
      "outputs": [],
      "source": [
        "print(\"Python\".isupper())"
      ]
    },
    {
      "cell_type": "markdown",
      "metadata": {
        "id": "Vqrwozwk0cFX"
      },
      "source": [
        "### Ejercicio"
      ]
    },
    {
      "cell_type": "markdown",
      "metadata": {
        "id": "CUhcvziOOhQT"
      },
      "source": [
        "Para la siguiente frase: \"Anita lava la tina\"\n",
        "- Elimina espacios, pasa a minúsculas y verifica si es un palíndromo (se lee igual al derecho y al revés)\n",
        "- Verifica que solo contenga letras y espacios."
      ]
    },
    {
      "cell_type": "code",
      "execution_count": null,
      "metadata": {
        "id": "9F4dLKwE0eFw"
      },
      "outputs": [],
      "source": []
    },
    {
      "cell_type": "code",
      "execution_count": null,
      "metadata": {
        "colab": {
          "base_uri": "https://localhost:8080/",
          "height": 35
        },
        "id": "eIROx-7HO77G",
        "outputId": "f9fcd1b0-12e5-4471-b90b-1cb256c6ef35"
      },
      "outputs": [],
      "source": []
    },
    {
      "cell_type": "code",
      "execution_count": null,
      "metadata": {
        "colab": {
          "base_uri": "https://localhost:8080/"
        },
        "id": "NbDjzTrLPyz0",
        "outputId": "c6e918bd-e648-4917-fe93-dfa144a45077"
      },
      "outputs": [],
      "source": []
    }
  ],
  "metadata": {
    "colab": {
      "provenance": []
    },
    "kernelspec": {
      "display_name": "Python 3",
      "language": "python",
      "name": "python3"
    }
  },
  "nbformat": 4,
  "nbformat_minor": 0
}
