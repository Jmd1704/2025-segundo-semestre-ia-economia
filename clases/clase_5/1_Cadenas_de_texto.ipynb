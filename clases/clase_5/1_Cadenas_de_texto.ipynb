{
  "nbformat": 4,
  "nbformat_minor": 0,
  "metadata": {
    "colab": {
      "provenance": [],
      "include_colab_link": true
    },
    "kernelspec": {
      "display_name": "Python 3",
      "language": "python",
      "name": "python3"
    }
  },
  "cells": [
    {
      "cell_type": "markdown",
      "metadata": {
        "id": "view-in-github",
        "colab_type": "text"
      },
      "source": [
        "<a href=\"https://colab.research.google.com/github/LinaMariaCastro/2025-segundo-semestre-ia-economia/blob/main/clases/clase_5/1_Cadenas_de_texto.ipynb\" target=\"_parent\"><img src=\"https://colab.research.google.com/assets/colab-badge.svg\" alt=\"Open In Colab\"/></a>"
      ]
    },
    {
      "cell_type": "markdown",
      "source": [
        "# **Cadenas de texto (Strings)** (secuencial / inmutable)"
      ],
      "metadata": {
        "id": "Mu6fF7zL9S8t"
      }
    },
    {
      "cell_type": "markdown",
      "source": [
        "Elaborado por: Lina María Castro\n",
        "\n",
        "Fecha: 14 de agosto de 2025"
      ],
      "metadata": {
        "id": "SjT69cep9KPK"
      }
    },
    {
      "cell_type": "markdown",
      "metadata": {
        "id": "VWxn86znDch6"
      },
      "source": [
        "Son un tipo de dato para almacenar secuencias de caracteres, estos son útiles cuando debamos trabajar con texto.\n",
        "\n",
        "Es indiferente usar comilla simple o comilla doble."
      ]
    },
    {
      "cell_type": "markdown",
      "source": [
        "## Formas de definir cadenas"
      ],
      "metadata": {
        "id": "dAYE1w6ZsiR7"
      }
    },
    {
      "cell_type": "code",
      "metadata": {
        "id": "ba40VjPWDch8",
        "colab": {
          "base_uri": "https://localhost:8080/",
          "height": 35
        },
        "outputId": "84cf1880-e288-4bdd-983d-70896972f94d"
      },
      "source": [
        "cadena1 = 'comilla simple'\n",
        "cadena1"
      ],
      "execution_count": null,
      "outputs": [
        {
          "output_type": "execute_result",
          "data": {
            "text/plain": [
              "'comilla simple'"
            ],
            "application/vnd.google.colaboratory.intrinsic+json": {
              "type": "string"
            }
          },
          "metadata": {},
          "execution_count": 1
        }
      ]
    },
    {
      "cell_type": "code",
      "metadata": {
        "id": "rj9RBr35Dch-",
        "colab": {
          "base_uri": "https://localhost:8080/",
          "height": 35
        },
        "outputId": "411e702b-1be9-4950-a001-576de482dc6a"
      },
      "source": [
        "cadena2 = \"comillas dobles\"\n",
        "cadena2"
      ],
      "execution_count": null,
      "outputs": [
        {
          "output_type": "execute_result",
          "data": {
            "text/plain": [
              "'comillas dobles'"
            ],
            "application/vnd.google.colaboratory.intrinsic+json": {
              "type": "string"
            }
          },
          "metadata": {},
          "execution_count": 2
        }
      ]
    },
    {
      "cell_type": "markdown",
      "source": [
        "## Concatenación"
      ],
      "metadata": {
        "id": "xz83vOjbs6bi"
      }
    },
    {
      "cell_type": "code",
      "source": [
        "texto = \"Python\""
      ],
      "metadata": {
        "id": "kzz0rowns_kV"
      },
      "execution_count": null,
      "outputs": []
    },
    {
      "cell_type": "code",
      "source": [
        "print(texto + \" es genial\")"
      ],
      "metadata": {
        "id": "iju-gCwys8Sm",
        "colab": {
          "base_uri": "https://localhost:8080/"
        },
        "outputId": "64318718-b0fd-4379-8ce2-b36ca776eda8"
      },
      "execution_count": null,
      "outputs": [
        {
          "output_type": "stream",
          "name": "stdout",
          "text": [
            "Python es genial\n"
          ]
        }
      ]
    },
    {
      "cell_type": "markdown",
      "source": [
        "## Repetición"
      ],
      "metadata": {
        "id": "ZEvF-H3jtCn6"
      }
    },
    {
      "cell_type": "code",
      "source": [
        "print(texto * 3)"
      ],
      "metadata": {
        "id": "GY3bGFxztE6P",
        "colab": {
          "base_uri": "https://localhost:8080/"
        },
        "outputId": "c7fa9e38-76a0-4f34-a365-c3c0d9c583e6"
      },
      "execution_count": null,
      "outputs": [
        {
          "output_type": "stream",
          "name": "stdout",
          "text": [
            "PythonPythonPython\n"
          ]
        }
      ]
    },
    {
      "cell_type": "markdown",
      "source": [
        "## Índices de cadenas"
      ],
      "metadata": {
        "id": "I1uNwSonkAtM"
      }
    },
    {
      "cell_type": "markdown",
      "metadata": {
        "id": "9L_F26XpDcic"
      },
      "source": [
        "Para acceder a las posiciones de cada uno de los caracteres de una cadena se hace por medio de su índice.\n",
        "\n",
        "Los índices se refieren a la ubicación de cada elemento. Empieza a contar en cero. -1 se refiere al último elemento.\n"
      ]
    },
    {
      "cell_type": "code",
      "metadata": {
        "id": "SPZyXtDxDcic"
      },
      "source": [
        "s = \"Introducción a los tipos de objetos en Python\""
      ],
      "execution_count": null,
      "outputs": []
    },
    {
      "cell_type": "code",
      "metadata": {
        "id": "mEis3UffDcih",
        "colab": {
          "base_uri": "https://localhost:8080/",
          "height": 35
        },
        "outputId": "ebaabc5d-e445-4171-abf7-272cb6c0bf0b"
      },
      "source": [
        "# Cuál es el elemento 0 de s?\n",
        "s[0]"
      ],
      "execution_count": null,
      "outputs": [
        {
          "output_type": "execute_result",
          "data": {
            "text/plain": [
              "'I'"
            ],
            "application/vnd.google.colaboratory.intrinsic+json": {
              "type": "string"
            }
          },
          "metadata": {},
          "execution_count": 7
        }
      ]
    },
    {
      "cell_type": "code",
      "metadata": {
        "id": "Iun3pxXXDcik",
        "colab": {
          "base_uri": "https://localhost:8080/",
          "height": 35
        },
        "outputId": "6acd1e42-f61c-4486-a39c-51a13e981e03"
      },
      "source": [
        "# Cuál es el elemento 3 de s?\n",
        "s[3]"
      ],
      "execution_count": null,
      "outputs": [
        {
          "output_type": "execute_result",
          "data": {
            "text/plain": [
              "'r'"
            ],
            "application/vnd.google.colaboratory.intrinsic+json": {
              "type": "string"
            }
          },
          "metadata": {},
          "execution_count": 8
        }
      ]
    },
    {
      "cell_type": "code",
      "metadata": {
        "id": "DpBKbq199zCc",
        "colab": {
          "base_uri": "https://localhost:8080/",
          "height": 35
        },
        "outputId": "fa0f9146-fc86-4106-f010-ddafaa67d2bb"
      },
      "source": [
        "# Cuál es el elemento -5 de s? Cuenta del último hacia atrás. Empieza a contar en -1\n",
        "# Los espacios también se cuentan\n",
        "s[-5]"
      ],
      "execution_count": null,
      "outputs": [
        {
          "output_type": "execute_result",
          "data": {
            "text/plain": [
              "'y'"
            ],
            "application/vnd.google.colaboratory.intrinsic+json": {
              "type": "string"
            }
          },
          "metadata": {},
          "execution_count": 9
        }
      ]
    },
    {
      "cell_type": "code",
      "metadata": {
        "id": "Ot8RgrlRWkO-"
      },
      "source": [
        "# Para indicarle que agregue un enter\n",
        "x = '\\n'"
      ],
      "execution_count": null,
      "outputs": []
    },
    {
      "cell_type": "code",
      "metadata": {
        "id": "qeOpVqSKWoNu",
        "colab": {
          "base_uri": "https://localhost:8080/"
        },
        "outputId": "345efdc7-914b-4b4a-8a66-2f5ecee5882b"
      },
      "source": [
        "print(x, s, x, \"Hola\")"
      ],
      "execution_count": null,
      "outputs": [
        {
          "output_type": "stream",
          "name": "stdout",
          "text": [
            "\n",
            " Introducción a los tipos de objetos en Python \n",
            " Hola\n"
          ]
        }
      ]
    },
    {
      "cell_type": "code",
      "metadata": {
        "id": "NlYoRTleWwhQ",
        "colab": {
          "base_uri": "https://localhost:8080/",
          "height": 35
        },
        "outputId": "ae3c955d-42b0-45f6-d9a6-2b69509af297"
      },
      "source": [
        "# Cuál es el elemento 0 de x?\n",
        "x[0]"
      ],
      "execution_count": null,
      "outputs": [
        {
          "output_type": "execute_result",
          "data": {
            "text/plain": [
              "'\\n'"
            ],
            "application/vnd.google.colaboratory.intrinsic+json": {
              "type": "string"
            }
          },
          "metadata": {},
          "execution_count": 12
        }
      ]
    },
    {
      "cell_type": "markdown",
      "source": [
        "## Troceado de cadenas (Slicing)"
      ],
      "metadata": {
        "id": "porQiEVok-KF"
      }
    },
    {
      "cell_type": "markdown",
      "metadata": {
        "id": "gf7voUFyDcim"
      },
      "source": [
        "Para tomar un subconjunto de elementos de la cadena inicial lo hacemos por la posición en el índice en forma de rango:\n",
        "\n",
        "**cadena[inicio:fin:paso]**\n",
        "* inicio (incluído)\n",
        "* fin (excluído)\n",
        "\n",
        "Valores por defecto:\n",
        "* inicio = 0\n",
        "* fin = longitud cadena\n",
        "* paso = 1 (puede ser negativo para empezar desde el final de la cadena hacia la izquierda)\n",
        "\n",
        "Paso indica cuántos elementos saltarse, por ejemplo, 2 quiere decir que muestre cada 2 elementos. Si es -1, muestra la cadena invertida y si es -2 muestra la cadena invertida, cada 2 elementos."
      ]
    },
    {
      "cell_type": "code",
      "source": [
        "s = \"Introducción a los tipos de objetos en Python\""
      ],
      "metadata": {
        "id": "kBZTRdbNie6D"
      },
      "execution_count": null,
      "outputs": []
    },
    {
      "cell_type": "code",
      "metadata": {
        "id": "8oeMFF4GDcin",
        "colab": {
          "base_uri": "https://localhost:8080/",
          "height": 35
        },
        "outputId": "0b25afea-33b3-4fe3-aee9-da77677eabb9"
      },
      "source": [
        "# Muestre desde el elemento 0 hasta el 9 (10 está excluído)\n",
        "s[0:10]"
      ],
      "execution_count": null,
      "outputs": [
        {
          "output_type": "execute_result",
          "data": {
            "text/plain": [
              "'Introducci'"
            ],
            "application/vnd.google.colaboratory.intrinsic+json": {
              "type": "string"
            }
          },
          "metadata": {},
          "execution_count": 14
        }
      ]
    },
    {
      "cell_type": "code",
      "metadata": {
        "id": "gJgq9Y8uDcir",
        "colab": {
          "base_uri": "https://localhost:8080/",
          "height": 35
        },
        "outputId": "47c8a4c0-a947-4fbb-b767-eed08315b047"
      },
      "source": [
        "# Muestre desde el elemento 0 hasta el 9 (10 está excluído). Empieza en 0 por defecto\n",
        "s[:10]"
      ],
      "execution_count": null,
      "outputs": [
        {
          "output_type": "execute_result",
          "data": {
            "text/plain": [
              "'Introducci'"
            ],
            "application/vnd.google.colaboratory.intrinsic+json": {
              "type": "string"
            }
          },
          "metadata": {},
          "execution_count": 15
        }
      ]
    },
    {
      "cell_type": "code",
      "source": [
        "# Muestre desde el elemento 15 hasta el 17 (18 está excluído).\n",
        "s[15:18]"
      ],
      "metadata": {
        "colab": {
          "base_uri": "https://localhost:8080/",
          "height": 35
        },
        "id": "0Ty9tzU80qwt",
        "outputId": "2673ffcb-85fe-4c1d-be59-3edc9b3a50a1"
      },
      "execution_count": null,
      "outputs": [
        {
          "output_type": "execute_result",
          "data": {
            "text/plain": [
              "'los'"
            ],
            "application/vnd.google.colaboratory.intrinsic+json": {
              "type": "string"
            }
          },
          "metadata": {},
          "execution_count": 16
        }
      ]
    },
    {
      "cell_type": "code",
      "metadata": {
        "id": "2QYDlWjJDciw",
        "colab": {
          "base_uri": "https://localhost:8080/",
          "height": 35
        },
        "outputId": "6fb6cbe0-eaaa-43a2-ca70-1c70ee595bd5"
      },
      "source": [
        "# Muestre todo\n",
        "s[:]"
      ],
      "execution_count": null,
      "outputs": [
        {
          "output_type": "execute_result",
          "data": {
            "text/plain": [
              "'Introducción a los tipos de objetos en Python'"
            ],
            "application/vnd.google.colaboratory.intrinsic+json": {
              "type": "string"
            }
          },
          "metadata": {},
          "execution_count": 17
        }
      ]
    },
    {
      "cell_type": "code",
      "metadata": {
        "id": "mYVMMg8BDci1",
        "colab": {
          "base_uri": "https://localhost:8080/",
          "height": 35
        },
        "outputId": "08621f63-58d7-4125-f837-5b0aa0bb5541"
      },
      "source": [
        "# Muestre desde el elemento 0 hasta el 9, cada 2 elementos\n",
        "s[0:10:2]"
      ],
      "execution_count": null,
      "outputs": [
        {
          "output_type": "execute_result",
          "data": {
            "text/plain": [
              "'Itouc'"
            ],
            "application/vnd.google.colaboratory.intrinsic+json": {
              "type": "string"
            }
          },
          "metadata": {},
          "execution_count": 18
        }
      ]
    },
    {
      "cell_type": "code",
      "metadata": {
        "id": "_IunyjTCnV_0",
        "colab": {
          "base_uri": "https://localhost:8080/",
          "height": 35
        },
        "outputId": "fc84d9ad-d6cd-41ee-b341-62280f8e9530"
      },
      "source": [
        "# Muestre todo invertido\n",
        "s[::-1]"
      ],
      "execution_count": null,
      "outputs": [
        {
          "output_type": "execute_result",
          "data": {
            "text/plain": [
              "'nohtyP ne sotejbo ed sopit sol a nóiccudortnI'"
            ],
            "application/vnd.google.colaboratory.intrinsic+json": {
              "type": "string"
            }
          },
          "metadata": {},
          "execution_count": 19
        }
      ]
    },
    {
      "cell_type": "code",
      "metadata": {
        "id": "ywta5mhkDci2",
        "colab": {
          "base_uri": "https://localhost:8080/",
          "height": 35
        },
        "outputId": "9aa6c084-d9c5-4008-a4af-7a44ba9aa2d1"
      },
      "source": [
        "# Muestre todo cada 2 elementos invertido\n",
        "s[::-2]"
      ],
      "execution_count": null,
      "outputs": [
        {
          "output_type": "execute_result",
          "data": {
            "text/plain": [
              "'nhy estjoe oi o  ócuotI'"
            ],
            "application/vnd.google.colaboratory.intrinsic+json": {
              "type": "string"
            }
          },
          "metadata": {},
          "execution_count": 20
        }
      ]
    },
    {
      "cell_type": "markdown",
      "source": [
        "### Ejercicio"
      ],
      "metadata": {
        "id": "tf-V0hn2zrJZ"
      }
    },
    {
      "cell_type": "code",
      "metadata": {
        "id": "NqGipjC6Dci4"
      },
      "source": [
        "# Crea una nueva variable llamda cad\n",
        "cad = \"Amor a Roma\""
      ],
      "execution_count": null,
      "outputs": []
    },
    {
      "cell_type": "code",
      "metadata": {
        "id": "9k-_kS-0Dci5",
        "colab": {
          "base_uri": "https://localhost:8080/",
          "height": 35
        },
        "outputId": "f2caae23-3297-4e76-a3a4-32f642ab38ac"
      },
      "source": [
        "# Muestre todos los elementos de cad invertidos\n",
        "cad[::-1]"
      ],
      "execution_count": null,
      "outputs": [
        {
          "output_type": "execute_result",
          "data": {
            "text/plain": [
              "'amoR a romA'"
            ],
            "application/vnd.google.colaboratory.intrinsic+json": {
              "type": "string"
            }
          },
          "metadata": {},
          "execution_count": 22
        }
      ]
    },
    {
      "cell_type": "code",
      "metadata": {
        "id": "cAmXs1v0Dci7"
      },
      "source": [
        "# Crea una nueva variable llamada oculto\n",
        "oculto = \"!XeXgXaXsXsXeXmX XtXeXrXcXeXsX XeXhXtX XmXaX XI\""
      ],
      "execution_count": null,
      "outputs": []
    },
    {
      "cell_type": "code",
      "metadata": {
        "id": "oLkZH5UHDci8",
        "colab": {
          "base_uri": "https://localhost:8080/",
          "height": 35
        },
        "outputId": "6438f91a-92c5-48c6-fbcd-52b5cfcdb9c2"
      },
      "source": [
        "# Crea una nueva variable llamada mensaje compuesta por toda la cadena oculto, cada 2 elementos, invertida\n",
        "mensaje = oculto[::-2]\n",
        "mensaje"
      ],
      "execution_count": null,
      "outputs": [
        {
          "output_type": "execute_result",
          "data": {
            "text/plain": [
              "'I am the secret message!'"
            ],
            "application/vnd.google.colaboratory.intrinsic+json": {
              "type": "string"
            }
          },
          "metadata": {},
          "execution_count": 24
        }
      ]
    },
    {
      "cell_type": "markdown",
      "source": [
        "## Funciones y métodos comunes"
      ],
      "metadata": {
        "id": "HFGszwVHuP83"
      }
    },
    {
      "cell_type": "code",
      "source": [
        "frase = \"  Python es poderoso y divertido  \"\n",
        "print(frase)"
      ],
      "metadata": {
        "id": "S2ipGE-Pu7Zz",
        "colab": {
          "base_uri": "https://localhost:8080/"
        },
        "outputId": "5bfb2e07-71aa-47a1-c816-93ae26cfffc7"
      },
      "execution_count": null,
      "outputs": [
        {
          "output_type": "stream",
          "name": "stdout",
          "text": [
            "  Python es poderoso y divertido  \n"
          ]
        }
      ]
    },
    {
      "cell_type": "code",
      "source": [
        "# Elimina los espacios en blanco al inicio y al final de la cadena\n",
        "frase = frase.strip()\n",
        "print(frase)"
      ],
      "metadata": {
        "id": "1EJBfHfjvKjZ",
        "colab": {
          "base_uri": "https://localhost:8080/"
        },
        "outputId": "9e1cc385-f585-4497-cc2d-f25c78821d5c"
      },
      "execution_count": null,
      "outputs": [
        {
          "output_type": "stream",
          "name": "stdout",
          "text": [
            "Python es poderoso y divertido\n"
          ]
        }
      ]
    },
    {
      "cell_type": "code",
      "source": [
        "# Muestra la cantidad de caracteres en la cadena\n",
        "print(len(frase))"
      ],
      "metadata": {
        "id": "hSn7BoF6u-wD",
        "colab": {
          "base_uri": "https://localhost:8080/"
        },
        "outputId": "db2b643c-3d5f-4c7a-e23e-670f9477608d"
      },
      "execution_count": null,
      "outputs": [
        {
          "output_type": "stream",
          "name": "stdout",
          "text": [
            "30\n"
          ]
        }
      ]
    },
    {
      "cell_type": "code",
      "source": [
        "# Convierte todo el texto a minúsculas\n",
        "print(frase.lower())"
      ],
      "metadata": {
        "id": "Cu5yRR-XvAOg",
        "colab": {
          "base_uri": "https://localhost:8080/"
        },
        "outputId": "a5b61475-846a-4a81-c030-15ef6c3382fb"
      },
      "execution_count": null,
      "outputs": [
        {
          "output_type": "stream",
          "name": "stdout",
          "text": [
            "python es poderoso y divertido\n"
          ]
        }
      ]
    },
    {
      "cell_type": "code",
      "source": [
        "# Convierte todo el texto a mayúsculas\n",
        "print(frase.upper())"
      ],
      "metadata": {
        "id": "RsnC_YHgvCGT",
        "colab": {
          "base_uri": "https://localhost:8080/"
        },
        "outputId": "a9475bd2-4f1d-42be-8bbc-4bd28f5f98e9"
      },
      "execution_count": null,
      "outputs": [
        {
          "output_type": "stream",
          "name": "stdout",
          "text": [
            "PYTHON ES PODEROSO Y DIVERTIDO\n"
          ]
        }
      ]
    },
    {
      "cell_type": "code",
      "source": [
        "# Convierte la primera letra del texto a mayúscula y el resto a minúsculas\n",
        "print(frase.capitalize())"
      ],
      "metadata": {
        "id": "GcmP-2zbvDru",
        "colab": {
          "base_uri": "https://localhost:8080/"
        },
        "outputId": "fcd9a24d-b767-4591-8463-dd5beffc6fc1"
      },
      "execution_count": null,
      "outputs": [
        {
          "output_type": "stream",
          "name": "stdout",
          "text": [
            "Python es poderoso y divertido\n"
          ]
        }
      ]
    },
    {
      "cell_type": "code",
      "source": [
        "# Convierte la primera letra de cada palabra a mayúscula\n",
        "print(frase.title())"
      ],
      "metadata": {
        "id": "WTmlMXxovHTG",
        "colab": {
          "base_uri": "https://localhost:8080/"
        },
        "outputId": "eb64714a-2a19-433e-db13-764640ebd1f8"
      },
      "execution_count": null,
      "outputs": [
        {
          "output_type": "stream",
          "name": "stdout",
          "text": [
            "Python Es Poderoso Y Divertido\n"
          ]
        }
      ]
    },
    {
      "cell_type": "code",
      "source": [
        "# Reemplaza una palabra o subcadena por otra\n",
        "print(frase.replace(\"divertido\", \"asombroso\"))"
      ],
      "metadata": {
        "id": "JfY-TQTgvNeD",
        "colab": {
          "base_uri": "https://localhost:8080/"
        },
        "outputId": "db003d76-e77d-4265-80a1-e2f3c9658b2d"
      },
      "execution_count": null,
      "outputs": [
        {
          "output_type": "stream",
          "name": "stdout",
          "text": [
            "Python es poderoso y asombroso\n"
          ]
        }
      ]
    },
    {
      "cell_type": "code",
      "source": [
        "# Cuenta cuántas veces aparece una subcadena específica\n",
        "print(frase.count(\"o\"))"
      ],
      "metadata": {
        "id": "q6M53GNrvPYx",
        "colab": {
          "base_uri": "https://localhost:8080/"
        },
        "outputId": "e8309909-87e1-4119-d76b-cb4fa2c88a78"
      },
      "execution_count": null,
      "outputs": [
        {
          "output_type": "stream",
          "name": "stdout",
          "text": [
            "5\n"
          ]
        }
      ]
    },
    {
      "cell_type": "code",
      "source": [
        "# Devuelve la posición donde aparece por primera vez una subcadena (o -1 si no existe)\n",
        "print(frase.find(\"poderoso\"))"
      ],
      "metadata": {
        "id": "pkhpRe1IvVFm",
        "colab": {
          "base_uri": "https://localhost:8080/"
        },
        "outputId": "9112565a-386e-4640-c1b7-12635690296c"
      },
      "execution_count": null,
      "outputs": [
        {
          "output_type": "stream",
          "name": "stdout",
          "text": [
            "10\n"
          ]
        }
      ]
    },
    {
      "cell_type": "code",
      "source": [
        "print(frase.find(\"maravilloso\"))"
      ],
      "metadata": {
        "id": "UcdZX4sawow7",
        "colab": {
          "base_uri": "https://localhost:8080/"
        },
        "outputId": "1e5a4170-1afb-4c36-dcb3-71331094eed0"
      },
      "execution_count": null,
      "outputs": [
        {
          "output_type": "stream",
          "name": "stdout",
          "text": [
            "-1\n"
          ]
        }
      ]
    },
    {
      "cell_type": "code",
      "source": [
        "# Verifica si la cadena empieza con una subcadena específica (True o False)\n",
        "print(frase.startswith(\"Python\"))"
      ],
      "metadata": {
        "id": "hduMjW5cva8o",
        "colab": {
          "base_uri": "https://localhost:8080/"
        },
        "outputId": "2c43652c-73ff-4068-a552-e1a945a820f9"
      },
      "execution_count": null,
      "outputs": [
        {
          "output_type": "stream",
          "name": "stdout",
          "text": [
            "True\n"
          ]
        }
      ]
    },
    {
      "cell_type": "code",
      "source": [
        "# Verifica si la cadena termina con una subcadena específica (True o False)\n",
        "print(frase.endswith(\"maravilloso\"))"
      ],
      "metadata": {
        "id": "FiHs2RgCvd4D",
        "colab": {
          "base_uri": "https://localhost:8080/"
        },
        "outputId": "15f124c5-1a06-4058-ffef-7f134a86db18"
      },
      "execution_count": null,
      "outputs": [
        {
          "output_type": "stream",
          "name": "stdout",
          "text": [
            "False\n"
          ]
        }
      ]
    },
    {
      "cell_type": "markdown",
      "source": [
        "## División y unión de cadenas"
      ],
      "metadata": {
        "id": "MRQabY41uibX"
      }
    },
    {
      "cell_type": "code",
      "source": [
        "# Cadena de texto con elementos separados por comas\n",
        "texto = \"uno, dos, tres\""
      ],
      "metadata": {
        "id": "-gSUSbrpyg9G"
      },
      "execution_count": null,
      "outputs": []
    },
    {
      "cell_type": "code",
      "source": [
        "# Convierte la cadena en una lista, usando la coma como separador\n",
        "lista = texto.split(\",\")\n",
        "print(lista)"
      ],
      "metadata": {
        "id": "UeedbXW4umLX",
        "colab": {
          "base_uri": "https://localhost:8080/"
        },
        "outputId": "f5455703-737c-4e9d-dfcc-d5caf9f9c595"
      },
      "execution_count": null,
      "outputs": [
        {
          "output_type": "stream",
          "name": "stdout",
          "text": [
            "['uno', ' dos', ' tres']\n"
          ]
        }
      ]
    },
    {
      "cell_type": "code",
      "source": [
        "lista = texto.split(\", \")\n",
        "print(lista)"
      ],
      "metadata": {
        "colab": {
          "base_uri": "https://localhost:8080/"
        },
        "id": "WrqqM4G3y2Aw",
        "outputId": "f90f7840-e428-499e-e2ac-efc9766cbf31"
      },
      "execution_count": null,
      "outputs": [
        {
          "output_type": "stream",
          "name": "stdout",
          "text": [
            "['uno', 'dos', 'tres']\n"
          ]
        }
      ]
    },
    {
      "cell_type": "code",
      "source": [
        "# Cadena de texto con saltos de línea\n",
        "lineas = \"Primera línea\\nSegunda línea\""
      ],
      "metadata": {
        "id": "SR-NE3eFyp57"
      },
      "execution_count": null,
      "outputs": []
    },
    {
      "cell_type": "code",
      "source": [
        "# Divide la cadena en una lista usando el salto de línea como separador\n",
        "print(lineas.splitlines())"
      ],
      "metadata": {
        "id": "zi2ehM_pusfQ",
        "colab": {
          "base_uri": "https://localhost:8080/"
        },
        "outputId": "cd7a0d37-d8aa-4ad9-9290-b77d3c6dd5f1"
      },
      "execution_count": null,
      "outputs": [
        {
          "output_type": "stream",
          "name": "stdout",
          "text": [
            "['Primera línea', 'Segunda línea']\n"
          ]
        }
      ]
    },
    {
      "cell_type": "code",
      "source": [
        "# Une los elementos de la lista en una sola cadena, separados por guiones\n",
        "print(lista)\n",
        "unido = \"-\".join(lista)\n",
        "print(unido)"
      ],
      "metadata": {
        "id": "c1kl72X9uw8h",
        "colab": {
          "base_uri": "https://localhost:8080/"
        },
        "outputId": "a3b51bab-86b4-4ea1-8e76-857aa642f7a8"
      },
      "execution_count": null,
      "outputs": [
        {
          "output_type": "stream",
          "name": "stdout",
          "text": [
            "['uno', 'dos', 'tres']\n",
            "uno-dos-tres\n"
          ]
        }
      ]
    },
    {
      "cell_type": "code",
      "source": [
        "unido = \" - \".join(lista)\n",
        "print(unido)"
      ],
      "metadata": {
        "colab": {
          "base_uri": "https://localhost:8080/"
        },
        "id": "0aO-xlxGzIOg",
        "outputId": "17b9faaf-945b-4a2b-e86a-29abb5b3611b"
      },
      "execution_count": null,
      "outputs": [
        {
          "output_type": "stream",
          "name": "stdout",
          "text": [
            "uno - dos - tres\n"
          ]
        }
      ]
    },
    {
      "cell_type": "markdown",
      "source": [
        "### Ejercicio"
      ],
      "metadata": {
        "id": "1_m-k47-0B7u"
      }
    },
    {
      "cell_type": "markdown",
      "source": [
        "Para la frase \"Python es increíble\" muestra:\n",
        "\n",
        "- Cuántos caracteres tiene en total (incluyendo espacios).\n",
        "- Cuántos caracteres tiene sin contar espacios."
      ],
      "metadata": {
        "id": "EEJS4iyoI7Nc"
      }
    },
    {
      "cell_type": "code",
      "source": [
        "m = \"Python es increíble\""
      ],
      "metadata": {
        "id": "cTttLElfz-9f"
      },
      "execution_count": null,
      "outputs": []
    },
    {
      "cell_type": "code",
      "source": [
        "len(m)"
      ],
      "metadata": {
        "colab": {
          "base_uri": "https://localhost:8080/"
        },
        "id": "wa0shQlnKwjT",
        "outputId": "1afac46c-1f3a-485d-cfb0-b36c3379731d"
      },
      "execution_count": null,
      "outputs": [
        {
          "output_type": "execute_result",
          "data": {
            "text/plain": [
              "19"
            ]
          },
          "metadata": {},
          "execution_count": 48
        }
      ]
    },
    {
      "cell_type": "code",
      "source": [
        "p = m.replace(\" \", \"\")\n",
        "p"
      ],
      "metadata": {
        "colab": {
          "base_uri": "https://localhost:8080/",
          "height": 35
        },
        "id": "fK4C1oWUK1VT",
        "outputId": "c235c740-f3c7-474a-9b2e-bb61b5774f88"
      },
      "execution_count": null,
      "outputs": [
        {
          "output_type": "execute_result",
          "data": {
            "text/plain": [
              "'Pythonesincreíble'"
            ],
            "application/vnd.google.colaboratory.intrinsic+json": {
              "type": "string"
            }
          },
          "metadata": {},
          "execution_count": 49
        }
      ]
    },
    {
      "cell_type": "code",
      "source": [
        "len(p)"
      ],
      "metadata": {
        "colab": {
          "base_uri": "https://localhost:8080/"
        },
        "id": "-wVQdlk0K9S_",
        "outputId": "d4fa475e-27f4-4140-86d3-5979d04e742d"
      },
      "execution_count": null,
      "outputs": [
        {
          "output_type": "execute_result",
          "data": {
            "text/plain": [
              "17"
            ]
          },
          "metadata": {},
          "execution_count": 50
        }
      ]
    },
    {
      "cell_type": "markdown",
      "source": [
        "A partir de la frase \"Python es increíble\", imprime:\n",
        "\n",
        "- Toda en mayúsculas.\n",
        "- Toda en minúsculas.\n",
        "- Solo la primera letra en mayúscula."
      ],
      "metadata": {
        "id": "z40OmK2vJLe3"
      }
    },
    {
      "cell_type": "code",
      "source": [
        "m.upper()"
      ],
      "metadata": {
        "colab": {
          "base_uri": "https://localhost:8080/",
          "height": 35
        },
        "id": "9EcMdRLxJbNk",
        "outputId": "330c307b-1425-4fdd-d192-e25972e7e3f0"
      },
      "execution_count": null,
      "outputs": [
        {
          "output_type": "execute_result",
          "data": {
            "text/plain": [
              "'PYTHON ES INCREÍBLE'"
            ],
            "application/vnd.google.colaboratory.intrinsic+json": {
              "type": "string"
            }
          },
          "metadata": {},
          "execution_count": 51
        }
      ]
    },
    {
      "cell_type": "code",
      "source": [
        "m.lower()"
      ],
      "metadata": {
        "colab": {
          "base_uri": "https://localhost:8080/",
          "height": 35
        },
        "id": "C4iW1RQYLM89",
        "outputId": "c0481fb9-73fc-4ae9-e661-4f1ad04fb709"
      },
      "execution_count": null,
      "outputs": [
        {
          "output_type": "execute_result",
          "data": {
            "text/plain": [
              "'python es increíble'"
            ],
            "application/vnd.google.colaboratory.intrinsic+json": {
              "type": "string"
            }
          },
          "metadata": {},
          "execution_count": 52
        }
      ]
    },
    {
      "cell_type": "code",
      "source": [
        "m.capitalize()"
      ],
      "metadata": {
        "colab": {
          "base_uri": "https://localhost:8080/",
          "height": 35
        },
        "id": "pHsq1vw1LOwn",
        "outputId": "2e8e382c-cc0e-4c23-d239-ea25a5dcb73e"
      },
      "execution_count": null,
      "outputs": [
        {
          "output_type": "execute_result",
          "data": {
            "text/plain": [
              "'Python es increíble'"
            ],
            "application/vnd.google.colaboratory.intrinsic+json": {
              "type": "string"
            }
          },
          "metadata": {},
          "execution_count": 53
        }
      ]
    },
    {
      "cell_type": "markdown",
      "source": [
        "Dada la cadena \"Economía y Datos\", usa slicing para:\n",
        "\n",
        "- Obtener solo \"Economía\".\n",
        "- Obtener solo \"Datos\"."
      ],
      "metadata": {
        "id": "qk7MxVp2JUA_"
      }
    },
    {
      "cell_type": "code",
      "source": [
        "frase = \"Economía y Datos\"\n",
        "frase[:8]"
      ],
      "metadata": {
        "colab": {
          "base_uri": "https://localhost:8080/",
          "height": 35
        },
        "id": "YxFtL_LKJbso",
        "outputId": "19d4a4eb-a576-4644-9b4a-056022da3bd0"
      },
      "execution_count": null,
      "outputs": [
        {
          "output_type": "execute_result",
          "data": {
            "text/plain": [
              "'Economía'"
            ],
            "application/vnd.google.colaboratory.intrinsic+json": {
              "type": "string"
            }
          },
          "metadata": {},
          "execution_count": 54
        }
      ]
    },
    {
      "cell_type": "code",
      "source": [
        "frase[11:]"
      ],
      "metadata": {
        "colab": {
          "base_uri": "https://localhost:8080/",
          "height": 35
        },
        "id": "BfmQmmGvLmJ4",
        "outputId": "4319e13b-4a84-4f4c-8eee-d1cc38198f7f"
      },
      "execution_count": null,
      "outputs": [
        {
          "output_type": "execute_result",
          "data": {
            "text/plain": [
              "'Datos'"
            ],
            "application/vnd.google.colaboratory.intrinsic+json": {
              "type": "string"
            }
          },
          "metadata": {},
          "execution_count": 55
        }
      ]
    },
    {
      "cell_type": "code",
      "source": [
        "frase[-5:]"
      ],
      "metadata": {
        "colab": {
          "base_uri": "https://localhost:8080/",
          "height": 35
        },
        "id": "3CeKkX4Qmkha",
        "outputId": "d5096a85-a59a-4aab-dcf0-610abdf14c85"
      },
      "execution_count": null,
      "outputs": [
        {
          "output_type": "execute_result",
          "data": {
            "text/plain": [
              "'Datos'"
            ],
            "application/vnd.google.colaboratory.intrinsic+json": {
              "type": "string"
            }
          },
          "metadata": {},
          "execution_count": 57
        }
      ]
    },
    {
      "cell_type": "markdown",
      "source": [
        "En la cadena \"La inflación anual fue del 7.5%\",\n",
        "\n",
        "- Encuentra la posición donde aparece \"7.5\"\n",
        "- Reemplaza \"7.5\" por \"8.2\" y muestra la nueva frase."
      ],
      "metadata": {
        "id": "hKHfXcnRJcED"
      }
    },
    {
      "cell_type": "code",
      "source": [
        "analisis = \"La inflación anual fue del 7.5%\"\n",
        "analisis.find(\"7.5\")"
      ],
      "metadata": {
        "colab": {
          "base_uri": "https://localhost:8080/"
        },
        "id": "RoJuX9kNJo1T",
        "outputId": "04205584-69b8-400d-b616-74737f0c9a40"
      },
      "execution_count": null,
      "outputs": [
        {
          "output_type": "execute_result",
          "data": {
            "text/plain": [
              "27"
            ]
          },
          "metadata": {},
          "execution_count": 58
        }
      ]
    },
    {
      "cell_type": "code",
      "source": [
        "analisis.replace(\"7.5\", \"8.2\")"
      ],
      "metadata": {
        "colab": {
          "base_uri": "https://localhost:8080/",
          "height": 35
        },
        "id": "cYGp_MewL5re",
        "outputId": "d5cdf17c-ba11-4cb7-9c5e-afca0bd5ace8"
      },
      "execution_count": null,
      "outputs": [
        {
          "output_type": "execute_result",
          "data": {
            "text/plain": [
              "'La inflación anual fue del 8.2%'"
            ],
            "application/vnd.google.colaboratory.intrinsic+json": {
              "type": "string"
            }
          },
          "metadata": {},
          "execution_count": 59
        }
      ]
    },
    {
      "cell_type": "markdown",
      "source": [
        "A partir del texto \" Python    para análisis de datos \"\n",
        "\n",
        "- Elimina los espacios extra al inicio y final.\n",
        "- Reemplaza los espacios múltiples por uno solo."
      ],
      "metadata": {
        "id": "nGOWuuA5JoUh"
      }
    },
    {
      "cell_type": "code",
      "source": [
        "esp = \" Python  para  análisis  de  datos \""
      ],
      "metadata": {
        "id": "75kAzhLoKoHs"
      },
      "execution_count": null,
      "outputs": []
    },
    {
      "cell_type": "code",
      "source": [
        "esp2 = esp.strip()\n",
        "esp2"
      ],
      "metadata": {
        "colab": {
          "base_uri": "https://localhost:8080/",
          "height": 35
        },
        "id": "YavDqe0BMM2V",
        "outputId": "1d2e3580-4e6d-48e7-bc64-b9dde953e0a7"
      },
      "execution_count": null,
      "outputs": [
        {
          "output_type": "execute_result",
          "data": {
            "text/plain": [
              "'Python  para  análisis  de  datos'"
            ],
            "application/vnd.google.colaboratory.intrinsic+json": {
              "type": "string"
            }
          },
          "metadata": {},
          "execution_count": 61
        }
      ]
    },
    {
      "cell_type": "code",
      "source": [
        "esp3 = esp2.replace(\"  \", \" \")\n",
        "esp3"
      ],
      "metadata": {
        "colab": {
          "base_uri": "https://localhost:8080/",
          "height": 35
        },
        "id": "w8E7QjrqMSrU",
        "outputId": "dd93620e-e9a6-4c01-8315-babdd797ea04"
      },
      "execution_count": null,
      "outputs": [
        {
          "output_type": "execute_result",
          "data": {
            "text/plain": [
              "'Python para análisis de datos'"
            ],
            "application/vnd.google.colaboratory.intrinsic+json": {
              "type": "string"
            }
          },
          "metadata": {},
          "execution_count": 62
        }
      ]
    },
    {
      "cell_type": "markdown",
      "source": [
        "## Formateo de cadenas"
      ],
      "metadata": {
        "id": "c0gGdEiEtTNQ"
      }
    },
    {
      "cell_type": "code",
      "metadata": {
        "id": "L2uWE5brDciS"
      },
      "source": [
        "# Creación de dos variables\n",
        "name = 'María'\n",
        "edad = 20"
      ],
      "execution_count": null,
      "outputs": []
    },
    {
      "cell_type": "code",
      "metadata": {
        "id": "dF5F-dtHDciU",
        "colab": {
          "base_uri": "https://localhost:8080/"
        },
        "outputId": "74d7656b-206e-4319-817a-da169e46fe59"
      },
      "source": [
        "# Para insertar el valor de las dos variables en una línea de texto\n",
        "print('Mi nombre es {} y tengo {} años.'.format(name, edad))"
      ],
      "execution_count": null,
      "outputs": [
        {
          "output_type": "stream",
          "name": "stdout",
          "text": [
            "Mi nombre es María y tengo 20 años.\n"
          ]
        }
      ]
    },
    {
      "cell_type": "code",
      "metadata": {
        "id": "uMjpLk5jDcia",
        "colab": {
          "base_uri": "https://localhost:8080/"
        },
        "outputId": "33767024-22ff-4167-dcf4-da9d7dae021b"
      },
      "source": [
        "# Otra forma de insertar el valor de las dos variables en una línea de texto\n",
        "# %s llama un string\n",
        "# %d llama un número\n",
        "print(\"Mi nombre es %s y tengo %d años\" % (name, edad))"
      ],
      "execution_count": null,
      "outputs": [
        {
          "output_type": "stream",
          "name": "stdout",
          "text": [
            "Mi nombre es María y tengo 20 años\n"
          ]
        }
      ]
    },
    {
      "cell_type": "code",
      "metadata": {
        "id": "ur9rZj0e-Ap7",
        "colab": {
          "base_uri": "https://localhost:8080/"
        },
        "outputId": "3c232b6d-9eb2-42af-c928-b3ac9966d01d"
      },
      "source": [
        "# Otra forma de insertar el valor de las dos variables en una línea de texto, una forma más sencilla\n",
        "# f-string\n",
        "print(f\"Mi nombre es {name} y tengo {edad} años.\")"
      ],
      "execution_count": null,
      "outputs": [
        {
          "output_type": "stream",
          "name": "stdout",
          "text": [
            "Mi nombre es María y tengo 20 años.\n"
          ]
        }
      ]
    },
    {
      "cell_type": "markdown",
      "source": [
        "### Ejercicio"
      ],
      "metadata": {
        "id": "lqWfK7-t0H9P"
      }
    },
    {
      "cell_type": "markdown",
      "source": [
        "Escribe un código que solicite al usuario su nombre, edad y ciudad, y que luego muestre el mensaje:\n",
        "\n",
        "\"Hola, [nombre]. Tienes [edad] años y vives en [ciudad].\"\n",
        "\n",
        "Usa f-strings para construir el mensaje."
      ],
      "metadata": {
        "id": "XR8dEc4GNOws"
      }
    },
    {
      "cell_type": "code",
      "source": [
        "nombre = input(\"Ingresa tu nombre: \")\n",
        "edad = int(input(\"Ingresa tu edad: \"))\n",
        "ciudad = input(\"Ingresa tu ciudad: \")\n",
        "\n",
        "mensaje = f\"Hola, {nombre}. Tienes {edad} años y vives en {ciudad}.\"\n",
        "print(mensaje)"
      ],
      "metadata": {
        "colab": {
          "base_uri": "https://localhost:8080/"
        },
        "id": "SQvpzlQsMwh_",
        "outputId": "b4468317-54df-4e97-d358-1c04f88e87d6"
      },
      "execution_count": null,
      "outputs": [
        {
          "output_type": "stream",
          "name": "stdout",
          "text": [
            "Ingresa tu nombre: Sara\n",
            "Ingresa tu edad: 50\n",
            "Ingresa tu ciudad: Cali\n",
            "Hola, Sara. Tienes 50 años y vives en Cali.\n"
          ]
        }
      ]
    },
    {
      "cell_type": "markdown",
      "source": [
        "## Verificación de contenido"
      ],
      "metadata": {
        "id": "XRB-pH-sxEX0"
      }
    },
    {
      "cell_type": "code",
      "source": [
        "# Verifica si todos los caracteres de la cadena son letras (sin números ni símbolos)\n",
        "print(\"Python\".isalpha())"
      ],
      "metadata": {
        "id": "_tM7b2gCxJU_",
        "colab": {
          "base_uri": "https://localhost:8080/"
        },
        "outputId": "82193c8c-678a-436b-8cb1-99131b7f77b7"
      },
      "execution_count": null,
      "outputs": [
        {
          "output_type": "stream",
          "name": "stdout",
          "text": [
            "True\n"
          ]
        }
      ]
    },
    {
      "cell_type": "code",
      "source": [
        "print(\"Python 3\".isalpha())"
      ],
      "metadata": {
        "id": "ht45rYRnyQrq",
        "colab": {
          "base_uri": "https://localhost:8080/"
        },
        "outputId": "1d1317f2-2be0-46be-cc29-7925a6b16931"
      },
      "execution_count": null,
      "outputs": [
        {
          "output_type": "stream",
          "name": "stdout",
          "text": [
            "False\n"
          ]
        }
      ]
    },
    {
      "cell_type": "code",
      "source": [
        "# Verifica si todos los caracteres de la cadena son dígitos (números del 0 al 9)\n",
        "print(\"1234\".isdigit())"
      ],
      "metadata": {
        "id": "SdBOckPAxLeQ",
        "colab": {
          "base_uri": "https://localhost:8080/"
        },
        "outputId": "1a883bd3-05e2-4951-9474-785fb88d4b4f"
      },
      "execution_count": null,
      "outputs": [
        {
          "output_type": "stream",
          "name": "stdout",
          "text": [
            "True\n"
          ]
        }
      ]
    },
    {
      "cell_type": "code",
      "source": [
        "print(\"1sdf234\".isdigit())"
      ],
      "metadata": {
        "id": "88pIpSl5yNs7",
        "colab": {
          "base_uri": "https://localhost:8080/"
        },
        "outputId": "2b814ffe-7117-4588-827d-48ad04056096"
      },
      "execution_count": null,
      "outputs": [
        {
          "output_type": "stream",
          "name": "stdout",
          "text": [
            "False\n"
          ]
        }
      ]
    },
    {
      "cell_type": "code",
      "source": [
        "# Verifica si todos los caracteres son alfanuméricos (letras y/o números, sin símbolos ni espacios)\n",
        "print(\"Python3\".isalnum())"
      ],
      "metadata": {
        "id": "RYZd9Sm9xNbe",
        "colab": {
          "base_uri": "https://localhost:8080/"
        },
        "outputId": "c7dddd7e-962b-49cb-e7ce-405ec512bbce"
      },
      "execution_count": null,
      "outputs": [
        {
          "output_type": "stream",
          "name": "stdout",
          "text": [
            "True\n"
          ]
        }
      ]
    },
    {
      "cell_type": "code",
      "source": [
        "print(\"Python 3\".isalnum())"
      ],
      "metadata": {
        "id": "jJQRGgeiyK2O",
        "colab": {
          "base_uri": "https://localhost:8080/"
        },
        "outputId": "200d835c-4f35-477f-fc93-95f6e2d9f383"
      },
      "execution_count": null,
      "outputs": [
        {
          "output_type": "stream",
          "name": "stdout",
          "text": [
            "False\n"
          ]
        }
      ]
    },
    {
      "cell_type": "code",
      "source": [
        "# Verifica si la cadena está compuesta únicamente por espacios en blanco\n",
        "print(\"   \".isspace())"
      ],
      "metadata": {
        "id": "odNAtdMQxPIc",
        "colab": {
          "base_uri": "https://localhost:8080/"
        },
        "outputId": "4036b355-30f9-4b94-9809-9479a8f18cb7"
      },
      "execution_count": null,
      "outputs": [
        {
          "output_type": "stream",
          "name": "stdout",
          "text": [
            "True\n"
          ]
        }
      ]
    },
    {
      "cell_type": "code",
      "source": [
        "print(\" df  \".isspace())"
      ],
      "metadata": {
        "id": "rDNtHxPWyHkA",
        "colab": {
          "base_uri": "https://localhost:8080/"
        },
        "outputId": "5a1e41a0-488a-4e40-933c-99ce7ee2264b"
      },
      "execution_count": null,
      "outputs": [
        {
          "output_type": "stream",
          "name": "stdout",
          "text": [
            "False\n"
          ]
        }
      ]
    },
    {
      "cell_type": "code",
      "source": [
        "# Verifica si todos los caracteres de la cadena están en minúscula\n",
        "print(\"python\".islower())"
      ],
      "metadata": {
        "id": "p6FDSjpbxQrB",
        "colab": {
          "base_uri": "https://localhost:8080/"
        },
        "outputId": "25b6d840-dfcf-4f69-fdca-7bf53c69bbb5"
      },
      "execution_count": null,
      "outputs": [
        {
          "output_type": "stream",
          "name": "stdout",
          "text": [
            "True\n"
          ]
        }
      ]
    },
    {
      "cell_type": "code",
      "source": [
        "print(\"Python\".islower())"
      ],
      "metadata": {
        "id": "AW8rCD7qyCyW",
        "colab": {
          "base_uri": "https://localhost:8080/"
        },
        "outputId": "09d55253-ff55-4fb1-fef9-45b4af668051"
      },
      "execution_count": null,
      "outputs": [
        {
          "output_type": "stream",
          "name": "stdout",
          "text": [
            "False\n"
          ]
        }
      ]
    },
    {
      "cell_type": "code",
      "source": [
        "# Verifica si todos los caracteres de la cadena están en mayúscula\n",
        "print(\"PYTHON\".isupper())"
      ],
      "metadata": {
        "id": "bUrM3miTxUBr",
        "colab": {
          "base_uri": "https://localhost:8080/"
        },
        "outputId": "8ec0c94c-15b9-41fa-db26-d341497d7b2c"
      },
      "execution_count": null,
      "outputs": [
        {
          "output_type": "stream",
          "name": "stdout",
          "text": [
            "True\n"
          ]
        }
      ]
    },
    {
      "cell_type": "code",
      "source": [
        "print(\"Python\".isupper())"
      ],
      "metadata": {
        "id": "mbGiUWCCx-S5",
        "colab": {
          "base_uri": "https://localhost:8080/"
        },
        "outputId": "f100daf8-5ffa-4ec1-f2c6-e1b05cfd66e8"
      },
      "execution_count": null,
      "outputs": [
        {
          "output_type": "stream",
          "name": "stdout",
          "text": [
            "False\n"
          ]
        }
      ]
    },
    {
      "cell_type": "markdown",
      "source": [
        "### Ejercicio"
      ],
      "metadata": {
        "id": "Vqrwozwk0cFX"
      }
    },
    {
      "cell_type": "markdown",
      "source": [
        "Para la siguiente frase: \"Anita lava la tina\"\n",
        "- Elimina espacios, pasa a minúsculas y verifica si es un palíndromo (se lee igual al derecho y al revés)\n",
        "- Verifica que solo contenga letras."
      ],
      "metadata": {
        "id": "CUhcvziOOhQT"
      }
    },
    {
      "cell_type": "code",
      "source": [
        "frase = \"Anita lava la tina\""
      ],
      "metadata": {
        "id": "9F4dLKwE0eFw"
      },
      "execution_count": null,
      "outputs": []
    },
    {
      "cell_type": "code",
      "source": [
        "frase = frase.replace(\" \", \"\")\n",
        "frase = frase.lower()\n",
        "frase[::-1]"
      ],
      "metadata": {
        "colab": {
          "base_uri": "https://localhost:8080/",
          "height": 35
        },
        "id": "eIROx-7HO77G",
        "outputId": "0793db3e-208c-41bb-9b40-003428ad9804"
      },
      "execution_count": null,
      "outputs": [
        {
          "output_type": "execute_result",
          "data": {
            "text/plain": [
              "'anitalavalatina'"
            ],
            "application/vnd.google.colaboratory.intrinsic+json": {
              "type": "string"
            }
          },
          "metadata": {},
          "execution_count": 81
        }
      ]
    },
    {
      "cell_type": "code",
      "source": [
        "frase.isalpha()"
      ],
      "metadata": {
        "colab": {
          "base_uri": "https://localhost:8080/"
        },
        "id": "NbDjzTrLPyz0",
        "outputId": "3a9d1f82-0676-4bca-9c0b-46c3a73f24e6"
      },
      "execution_count": null,
      "outputs": [
        {
          "output_type": "execute_result",
          "data": {
            "text/plain": [
              "True"
            ]
          },
          "metadata": {},
          "execution_count": 82
        }
      ]
    }
  ]
}