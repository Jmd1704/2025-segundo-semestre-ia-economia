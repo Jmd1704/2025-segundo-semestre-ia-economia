{
  "cells": [
    {
      "cell_type": "markdown",
      "metadata": {
        "id": "54jzCODF9ui-"
      },
      "source": [
        "# **Conjuntos o sets** (no secuencial / mutable)"
      ]
    },
    {
      "cell_type": "markdown",
      "metadata": {
        "id": "9FWyf7Sp9v8F"
      },
      "source": [
        "Elaborado por: Lina María Castro\n",
        "\n",
        "Fecha: 14 de agosto de 2025"
      ]
    },
    {
      "cell_type": "markdown",
      "metadata": {
        "id": "5jB5XbLJ9ujA"
      },
      "source": [
        "Es una colección de elementos distintos. A diferencia de otras estructuras como las listas, tuplas y colas, los conjuntos son no secuenciales, lo que significa que no hay un orden definido entre ellos. La siguiente característica importante es que sus elementos se almacenan una sola vez y no están duplicados."
      ]
    },
    {
      "cell_type": "markdown",
      "metadata": {
        "id": "IQznZjAQ9ujB"
      },
      "source": [
        "Para escribir conjuntos se utiliza { }.\n",
        "\n",
        "Se utiliza la instrucción \"set\" para convertir una lista en cojunto. El conjunto toma los valores únicos de la lista (si hay elementos repetidos deja solo uno)."
      ]
    },
    {
      "cell_type": "code",
      "execution_count": null,
      "metadata": {
        "colab": {
          "base_uri": "https://localhost:8080/"
        },
        "id": "hAmYOfqyDckD",
        "outputId": "5ae16a04-0dd5-4642-9711-b86360f927c9"
      },
      "outputs": [],
      "source": [
        "a = {1,2,3}\n",
        "a"
      ]
    },
    {
      "cell_type": "code",
      "execution_count": null,
      "metadata": {
        "colab": {
          "base_uri": "https://localhost:8080/"
        },
        "id": "QSiK2W33DckE",
        "outputId": "8c438fd3-fdfe-458f-be8b-f35c7d120a9c"
      },
      "outputs": [],
      "source": [
        "# El conjunto no tiene valores repetidos\n",
        "b = {1,2,3,1,2,1,2,3,3,3,3,2,2,2,1,1,2}\n",
        "print(b)"
      ]
    },
    {
      "cell_type": "code",
      "execution_count": null,
      "metadata": {
        "colab": {
          "base_uri": "https://localhost:8080/"
        },
        "id": "CRpSMKK-DckF",
        "outputId": "a7839e3e-a1bd-4b73-89f2-402a33ad4bd3"
      },
      "outputs": [],
      "source": [
        "# Con set se saca un conjunto con los valores únicos de una lista. Los deja en orden.\n",
        "c = set([1, 1, 1, 2, 2, 6, 6, 2, 8, 1, 3])\n",
        "c"
      ]
    },
    {
      "cell_type": "code",
      "execution_count": null,
      "metadata": {
        "colab": {
          "base_uri": "https://localhost:8080/"
        },
        "id": "yAZ-oCDL6r52",
        "outputId": "fed47361-d50b-4697-d2c9-99ba82ab025a"
      },
      "outputs": [],
      "source": [
        "# Se puede convertir un conjunto en una tupla (secuencial e inmutable)\n",
        "t = tuple(c)\n",
        "t"
      ]
    },
    {
      "cell_type": "code",
      "execution_count": null,
      "metadata": {
        "colab": {
          "base_uri": "https://localhost:8080/"
        },
        "id": "vb_mps_b9ujD",
        "outputId": "ae880e33-07c1-40d1-c7d1-ea28ec1341a9"
      },
      "outputs": [],
      "source": [
        "# Crear un conjunto vacío\n",
        "conjunto = set()\n",
        "print(conjunto)"
      ]
    },
    {
      "cell_type": "code",
      "execution_count": null,
      "metadata": {
        "colab": {
          "base_uri": "https://localhost:8080/"
        },
        "id": "bPpIUkSg9ujJ",
        "outputId": "6c865f70-3320-4187-8d70-6f9baf3e89e9"
      },
      "outputs": [],
      "source": [
        "# Puede tener múltiples tipos de objetos\n",
        "conj = {15, ('Arica', 9), 'Mayo'}\n",
        "print(conj)"
      ]
    },
    {
      "cell_type": "markdown",
      "metadata": {
        "id": "spux_mb89ujK"
      },
      "source": [
        "Los conjuntos no mantienen una relación de orden dentro de sus elementos, por lo que al darle \"print\" pueden aparecer en distinto orden a como lo escribimos."
      ]
    },
    {
      "cell_type": "markdown",
      "metadata": {
        "id": "yNPVnu3e9ujP"
      },
      "source": [
        "# Operaciones sobre conjuntos"
      ]
    },
    {
      "cell_type": "code",
      "execution_count": null,
      "metadata": {
        "id": "cfnbIKKL9ujP"
      },
      "outputs": [],
      "source": [
        "mezcla={'Chile', 8, 4.15, 'Abril', (3,5), '2022', 'MOOC'}"
      ]
    },
    {
      "cell_type": "markdown",
      "metadata": {
        "id": "ZuKE4o2w9ujP"
      },
      "source": [
        "## ¿Cuántos elementos hay en el conjunto?"
      ]
    },
    {
      "cell_type": "code",
      "execution_count": null,
      "metadata": {
        "colab": {
          "base_uri": "https://localhost:8080/"
        },
        "id": "l0Vgm-kg9ujP",
        "outputId": "c7b4a7c4-4e30-4f0f-fc80-7d1e0d3e84cc"
      },
      "outputs": [],
      "source": [
        "largo=len(mezcla)\n",
        "print(largo)"
      ]
    },
    {
      "cell_type": "markdown",
      "metadata": {
        "id": "WoqyuC1C9ujP"
      },
      "source": [
        "## ¿Se encuentra el elemento x en el cojunto?"
      ]
    },
    {
      "cell_type": "markdown",
      "metadata": {
        "id": "LxWAab0E9ujN"
      },
      "source": [
        "Para saber si el elementos hace parte del conjunto se utiliza la instrucción \"in\":"
      ]
    },
    {
      "cell_type": "code",
      "execution_count": null,
      "metadata": {
        "colab": {
          "base_uri": "https://localhost:8080/"
        },
        "id": "008zJLzc9ujP",
        "outputId": "1c5f9ed8-4945-4e86-8a7d-0598aa736d4b"
      },
      "outputs": [],
      "source": [
        "print('Abril' in mezcla)"
      ]
    },
    {
      "cell_type": "code",
      "execution_count": null,
      "metadata": {
        "colab": {
          "base_uri": "https://localhost:8080/"
        },
        "id": "d4NIXMKd9ujQ",
        "outputId": "476f30ce-a8e0-4ce3-b480-5f54d010ebef"
      },
      "outputs": [],
      "source": [
        "# Se almacenó 4.15 y no 4.151\n",
        "print(4.151 in mezcla)"
      ]
    },
    {
      "cell_type": "code",
      "execution_count": null,
      "metadata": {
        "colab": {
          "base_uri": "https://localhost:8080/"
        },
        "id": "DkKG_Fu59ujQ",
        "outputId": "7664f5be-a368-40ee-e1b5-4c8cd2018fdb"
      },
      "outputs": [],
      "source": [
        "print((3,5) in mezcla)"
      ]
    },
    {
      "cell_type": "code",
      "execution_count": null,
      "metadata": {
        "colab": {
          "base_uri": "https://localhost:8080/"
        },
        "id": "r1Fw4E_V9ujQ",
        "outputId": "d0a9ba41-0e57-435d-d42a-0f2b09d4fff9"
      },
      "outputs": [],
      "source": [
        "# 2022 se almacenó como un string y no como un entero, por eso no lo encuentra\n",
        "print(2022 in mezcla)"
      ]
    },
    {
      "cell_type": "code",
      "execution_count": null,
      "metadata": {
        "colab": {
          "base_uri": "https://localhost:8080/"
        },
        "id": "UXhJsQVeg26f",
        "outputId": "7a0e511d-0990-4c18-d0d9-97bbf7cdd2c9"
      },
      "outputs": [],
      "source": [
        "print(\"2022\" in mezcla)"
      ]
    },
    {
      "cell_type": "markdown",
      "metadata": {
        "id": "Sfu4KuyH9ujQ"
      },
      "source": [
        "## Para recorrer conjuntos"
      ]
    },
    {
      "cell_type": "code",
      "execution_count": null,
      "metadata": {
        "colab": {
          "base_uri": "https://localhost:8080/"
        },
        "id": "FLb4p-fj9ujR",
        "outputId": "bf5b707b-c03a-4810-e333-57f64109292e"
      },
      "outputs": [],
      "source": [
        "for elemento in mezcla:\n",
        "    print(elemento)"
      ]
    },
    {
      "cell_type": "markdown",
      "metadata": {
        "id": "46ZXqZxq9ujR"
      },
      "source": [
        "## Modificar un conjunto"
      ]
    },
    {
      "cell_type": "markdown",
      "metadata": {
        "id": "RebkVKs69ujR"
      },
      "source": [
        "### Agregar elementos"
      ]
    },
    {
      "cell_type": "code",
      "execution_count": null,
      "metadata": {
        "colab": {
          "base_uri": "https://localhost:8080/"
        },
        "id": "ibiCSa5JDckI",
        "outputId": "27a689fd-1c9c-4e59-f44e-97ec0adb5339"
      },
      "outputs": [],
      "source": [
        "# Para añadir un elemento al conjunto s\n",
        "s = {1, 2, 3}\n",
        "s.add(5)\n",
        "s"
      ]
    },
    {
      "cell_type": "code",
      "execution_count": null,
      "metadata": {
        "colab": {
          "base_uri": "https://localhost:8080/"
        },
        "id": "9YMcHF0SDckK",
        "outputId": "32fb99d6-23dc-48eb-869b-a3e09d1c2aa5"
      },
      "outputs": [],
      "source": [
        "s.add(4)\n",
        "s"
      ]
    },
    {
      "cell_type": "code",
      "execution_count": null,
      "metadata": {
        "colab": {
          "base_uri": "https://localhost:8080/"
        },
        "id": "EJEaO0khhr2B",
        "outputId": "5322c2c9-5180-4014-f3e7-4704c5cb1caf"
      },
      "outputs": [],
      "source": [
        "opciones={'Si','No'}\n",
        "print(opciones)"
      ]
    },
    {
      "cell_type": "code",
      "execution_count": null,
      "metadata": {
        "colab": {
          "base_uri": "https://localhost:8080/"
        },
        "id": "VK8jKY12htHw",
        "outputId": "5e8b5561-42ff-4669-9ec4-fb9179e49db4"
      },
      "outputs": [],
      "source": [
        "opciones.add('No sé')\n",
        "print(opciones)"
      ]
    },
    {
      "cell_type": "code",
      "execution_count": null,
      "metadata": {
        "colab": {
          "base_uri": "https://localhost:8080/"
        },
        "id": "6Q3fHao89ujR",
        "outputId": "b9737a6c-a8ed-4e3d-8bb9-f505f143c5e8"
      },
      "outputs": [],
      "source": [
        "opciones.add('Quizás')\n",
        "print(opciones)"
      ]
    },
    {
      "cell_type": "markdown",
      "metadata": {
        "id": "jlIxGwiO9ujO"
      },
      "source": [
        "IMPORTANTE: En los conjuntos solo podemos agregar tipos de datos tales como los strings, los enteros, los float y las tuplas. Los tipos de datos mutables, como las listas y diccionarios, no se pueden agregar a conjuntos."
      ]
    },
    {
      "cell_type": "code",
      "execution_count": null,
      "metadata": {
        "colab": {
          "base_uri": "https://localhost:8080/"
        },
        "id": "sQYi4alU9ujO",
        "outputId": "05d676ab-eff2-4f14-d2b7-f955bcf46079"
      },
      "outputs": [],
      "source": [
        "conjunto=set()\n",
        "conjunto.add(60.5)\n",
        "conjunto.add('Lisa')\n",
        "conjunto.add((1,2))\n",
        "print(conjunto)"
      ]
    },
    {
      "cell_type": "code",
      "execution_count": null,
      "metadata": {
        "colab": {
          "base_uri": "https://localhost:8080/",
          "height": 141
        },
        "id": "OI2LlaDj9ujO",
        "outputId": "1f4b92df-b2c8-4532-dd9b-1682b3fbc4f0"
      },
      "outputs": [],
      "source": [
        "conjunto.add([3,4])"
      ]
    },
    {
      "cell_type": "code",
      "execution_count": null,
      "metadata": {
        "colab": {
          "base_uri": "https://localhost:8080/",
          "height": 141
        },
        "id": "ptOH23Ick52w",
        "outputId": "f2b86113-b978-4fcd-8091-a4e67b6aca4e"
      },
      "outputs": [],
      "source": [
        "conjunto.add({\"name\":\"oscar\"})"
      ]
    },
    {
      "cell_type": "markdown",
      "metadata": {
        "id": "LrHP55619ujS"
      },
      "source": [
        "### Sacar elementos"
      ]
    },
    {
      "cell_type": "markdown",
      "metadata": {
        "id": "5suWBnsh9ujS"
      },
      "source": [
        "Se utiliza remove o discard. Sin embargo, si se utiliza remove y el elemento no existe se genera un error. En cambio, con discard, no se genera error si el elemento no existe."
      ]
    },
    {
      "cell_type": "code",
      "execution_count": null,
      "metadata": {
        "colab": {
          "base_uri": "https://localhost:8080/"
        },
        "id": "jlEs9dX9ha8l",
        "outputId": "8dd7ed7a-71d5-446f-cb30-7e7ec4519cfa"
      },
      "outputs": [],
      "source": [
        "cuando={'mañana','pasado','hoy'}\n",
        "print(cuando)"
      ]
    },
    {
      "cell_type": "code",
      "execution_count": null,
      "metadata": {
        "colab": {
          "base_uri": "https://localhost:8080/"
        },
        "id": "EtjwhiR8hc05",
        "outputId": "a1bee4c3-04af-429e-ec80-b7f7b369c14a"
      },
      "outputs": [],
      "source": [
        "cuando.remove('pasado')\n",
        "print(cuando)"
      ]
    },
    {
      "cell_type": "code",
      "execution_count": null,
      "metadata": {
        "colab": {
          "base_uri": "https://localhost:8080/",
          "height": 159
        },
        "id": "WzgfBodQ9ujS",
        "outputId": "0178a355-4f41-4657-b3e0-4f61066589d2"
      },
      "outputs": [],
      "source": [
        "cuando.remove('ayer')\n",
        "print(cuando)"
      ]
    },
    {
      "cell_type": "code",
      "execution_count": null,
      "metadata": {
        "colab": {
          "base_uri": "https://localhost:8080/"
        },
        "id": "ZwYngo23hgow",
        "outputId": "54084c1b-4e6e-4b29-8235-0fa140e7db08"
      },
      "outputs": [],
      "source": [
        "cuando={'mañana','pasado','hoy'}\n",
        "print(cuando)"
      ]
    },
    {
      "cell_type": "code",
      "execution_count": null,
      "metadata": {
        "colab": {
          "base_uri": "https://localhost:8080/"
        },
        "id": "nviZybHihiY0",
        "outputId": "b268b16d-f7ce-4b29-b0c2-71c605cec4b4"
      },
      "outputs": [],
      "source": [
        "cuando.discard('pasado')\n",
        "print(cuando)"
      ]
    },
    {
      "cell_type": "code",
      "execution_count": null,
      "metadata": {
        "colab": {
          "base_uri": "https://localhost:8080/"
        },
        "id": "Dt9rjFa19ujS",
        "outputId": "97751d4b-4394-4045-8a8e-75125316dca7"
      },
      "outputs": [],
      "source": [
        "cuando.discard('ayer')\n",
        "print(cuando)"
      ]
    },
    {
      "cell_type": "markdown",
      "metadata": {
        "id": "6gQPKL5Uhlwf"
      },
      "source": [
        "No se generó error al no encontrar 'ayer'."
      ]
    },
    {
      "cell_type": "markdown",
      "metadata": {
        "id": "PUjz0phq9ujY"
      },
      "source": [
        "## Unión de conjuntos"
      ]
    },
    {
      "cell_type": "markdown",
      "metadata": {
        "id": "AYaKa6-N9ujY"
      },
      "source": [
        "Se puede hacer de 2 formas, con | o union. Incluye los elementos de ambos conjuntos y si hay elementos que se repiten, solo deja uno solo."
      ]
    },
    {
      "cell_type": "code",
      "execution_count": null,
      "metadata": {
        "id": "IgRvlT02h8D0"
      },
      "outputs": [],
      "source": [
        "otoño = {'marzo','abril'}\n",
        "invierno = {'abril','junio'}"
      ]
    },
    {
      "cell_type": "code",
      "execution_count": null,
      "metadata": {
        "colab": {
          "base_uri": "https://localhost:8080/"
        },
        "id": "FbciHARPh5HU",
        "outputId": "bc6bd88d-440f-4db1-bff1-4ac55645f28c"
      },
      "outputs": [],
      "source": [
        "oterno = otoño|invierno\n",
        "print(oterno)"
      ]
    },
    {
      "cell_type": "code",
      "execution_count": null,
      "metadata": {
        "colab": {
          "base_uri": "https://localhost:8080/"
        },
        "id": "ZEI8ODRy9ujY",
        "outputId": "2eb09e82-5da5-4599-978e-b8dbfd8b95f7"
      },
      "outputs": [],
      "source": [
        "oterno2 = otoño.union(invierno)\n",
        "print(oterno2)"
      ]
    },
    {
      "cell_type": "markdown",
      "metadata": {
        "id": "AmJiMqeL9ujZ"
      },
      "source": [
        "## Intersección de conjuntos"
      ]
    },
    {
      "cell_type": "markdown",
      "metadata": {
        "id": "2_AxWCBg9ujZ"
      },
      "source": [
        "Se puede hacer de dos formas: con & o intersection. Arroja los elementos en común de ambos conjuntos sin repeticiones."
      ]
    },
    {
      "cell_type": "code",
      "execution_count": null,
      "metadata": {
        "colab": {
          "base_uri": "https://localhost:8080/"
        },
        "id": "A6jlBAxIlQzw",
        "outputId": "a959eca4-3470-4172-a4df-7011a9e84447"
      },
      "outputs": [],
      "source": [
        "solsticio = otoño & invierno\n",
        "print(solsticio)"
      ]
    },
    {
      "cell_type": "code",
      "execution_count": null,
      "metadata": {
        "colab": {
          "base_uri": "https://localhost:8080/"
        },
        "id": "-v5vGOxE9ujZ",
        "outputId": "e2c3b426-9644-41a9-e582-26aa6d534650"
      },
      "outputs": [],
      "source": [
        "solsticio2 = otoño.intersection(invierno)\n",
        "print(solsticio2)"
      ]
    },
    {
      "cell_type": "markdown",
      "metadata": {
        "id": "ums83gsm9ujZ"
      },
      "source": [
        "## Diferencia de conjuntos"
      ]
    },
    {
      "cell_type": "markdown",
      "metadata": {
        "id": "b0mgRfe59ujZ"
      },
      "source": [
        "Se puede hacer con Difference o -. Arroja los elementos que se encuentran en el primer conjunto, pero no se encuentran en el segundo conjunto."
      ]
    },
    {
      "cell_type": "code",
      "execution_count": null,
      "metadata": {
        "colab": {
          "base_uri": "https://localhost:8080/"
        },
        "id": "qQM7ROKmlYap",
        "outputId": "8af172ee-3bb2-463b-f3be-a69aafb8ea72"
      },
      "outputs": [],
      "source": [
        "solotoño = otoño - invierno\n",
        "print(solotoño)"
      ]
    },
    {
      "cell_type": "code",
      "execution_count": null,
      "metadata": {
        "colab": {
          "base_uri": "https://localhost:8080/"
        },
        "id": "HAuxR3iO9uja",
        "outputId": "d4675cf5-aa9a-4729-82eb-43ed0ccaef1c"
      },
      "outputs": [],
      "source": [
        "solotoño2 = otoño.difference(invierno)\n",
        "print(solotoño2)"
      ]
    },
    {
      "cell_type": "markdown",
      "metadata": {
        "id": "0WYnUYgn9uja"
      },
      "source": [
        "## Diferencia simétrica de conjuntos"
      ]
    },
    {
      "cell_type": "markdown",
      "metadata": {
        "id": "jLHoUZu-9uja"
      },
      "source": [
        "Se puede hacer con symmetric_difference o ^. Entrega los elementos de ambos conjuntos que no se encuentran en la intersección."
      ]
    },
    {
      "cell_type": "code",
      "execution_count": null,
      "metadata": {
        "colab": {
          "base_uri": "https://localhost:8080/"
        },
        "id": "AMohM0Lb9uja",
        "outputId": "273e8009-d789-410e-b200-2cdd5bec5d62"
      },
      "outputs": [],
      "source": [
        "# Acá entrega marzo y junio, pero no abril porque abril está en ambos conjuntos.\n",
        "puros = otoño ^ invierno\n",
        "print(puros)"
      ]
    },
    {
      "cell_type": "code",
      "execution_count": null,
      "metadata": {
        "colab": {
          "base_uri": "https://localhost:8080/"
        },
        "id": "-KmW9Implnh6",
        "outputId": "ff639a01-b54f-4209-eac0-5d817f58e561"
      },
      "outputs": [],
      "source": [
        "puros2 = otoño.symmetric_difference(invierno)\n",
        "print(puros2)"
      ]
    },
    {
      "cell_type": "markdown",
      "metadata": {
        "id": "q4rnN5sK9uja"
      },
      "source": [
        "# Tutorial: Cómo resolver ejercicios usando sets en Python"
      ]
    },
    {
      "cell_type": "markdown",
      "metadata": {
        "id": "_sztMj_v9ujb"
      },
      "source": [
        "## Ejercicio 1"
      ]
    },
    {
      "cell_type": "code",
      "execution_count": null,
      "metadata": {
        "id": "lG4whV-K9ujb"
      },
      "outputs": [],
      "source": [
        "# Estas listas indican plantas disponibles para cada época de sembrado\n",
        "verano = ['acelga','apio','espinaca','repollo','lechuga']\n",
        "otoño = ['acelga','ajo','apio','cebolla','lechuga','papa']\n",
        "invierno = ['pimentón','acelga','ají','espinaca','lechuga']\n",
        "primavera = ['albahaca','acelga','cebolla','lechuga','tomate']\n"
      ]
    },
    {
      "cell_type": "markdown",
      "metadata": {
        "id": "pnTIcQzU9ujb"
      },
      "source": [
        "### 1. ¿Cuántas plantas distintas hay?"
      ]
    },
    {
      "cell_type": "markdown",
      "metadata": {
        "id": "sHPOCoMg9ujc"
      },
      "source": [
        "Convertimos las listas en conjuntos y utilizamos la unión"
      ]
    },
    {
      "cell_type": "code",
      "execution_count": null,
      "metadata": {
        "id": "OT9Uo3a89ujc"
      },
      "outputs": [],
      "source": []
    },
    {
      "cell_type": "code",
      "execution_count": null,
      "metadata": {
        "colab": {
          "base_uri": "https://localhost:8080/"
        },
        "id": "x_AbmzWW9ujc",
        "outputId": "d16bc1e0-c8aa-4571-d7b6-9ed9af248917"
      },
      "outputs": [],
      "source": []
    },
    {
      "cell_type": "code",
      "execution_count": null,
      "metadata": {
        "colab": {
          "base_uri": "https://localhost:8080/"
        },
        "id": "sIhuOGDQ9ujd",
        "outputId": "9765310a-f1ce-4301-895b-c34da47361b6"
      },
      "outputs": [],
      "source": []
    },
    {
      "cell_type": "markdown",
      "metadata": {
        "id": "zmTSyDEn9ujd"
      },
      "source": [
        "### 2. ¿Qué plantas se pueden sembrar todo el año?"
      ]
    },
    {
      "cell_type": "markdown",
      "metadata": {
        "id": "ulXysrWA9ujd"
      },
      "source": [
        "Utilizamos interseccion"
      ]
    },
    {
      "cell_type": "code",
      "execution_count": null,
      "metadata": {
        "colab": {
          "base_uri": "https://localhost:8080/"
        },
        "id": "UnDJ6Qp-9ujd",
        "outputId": "fa44e3e2-1444-4d2f-8807-e91a61f116f2"
      },
      "outputs": [],
      "source": []
    },
    {
      "cell_type": "markdown",
      "metadata": {
        "id": "yPBQWcmp9ujd"
      },
      "source": [
        "### 3. ¿Qué plantas son exclusivas de primavera y verano?"
      ]
    },
    {
      "cell_type": "markdown",
      "metadata": {
        "id": "ZDuB8_ed9uje"
      },
      "source": [
        "Se dan solo en verano o primavera, pero no se dan ni en otoño ni en invierno"
      ]
    },
    {
      "cell_type": "code",
      "execution_count": null,
      "metadata": {
        "colab": {
          "base_uri": "https://localhost:8080/"
        },
        "id": "NkX8p5gR9uje",
        "outputId": "e3382e56-19c8-43bf-e51c-f0350a55a96b"
      },
      "outputs": [],
      "source": []
    },
    {
      "cell_type": "markdown",
      "metadata": {
        "id": "CIJ1KroO9uje"
      },
      "source": [
        "## Ejercicio 2"
      ]
    },
    {
      "cell_type": "code",
      "execution_count": null,
      "metadata": {
        "colab": {
          "base_uri": "https://localhost:8080/",
          "height": 70
        },
        "id": "Tm2F3SX69uje",
        "outputId": "cd60a7c3-c292-4daf-839c-27d8ae20893a"
      },
      "outputs": [],
      "source": [
        "texto = 'El amor es un mejor profesor que el deber. Información no es conocimiento. Nunca pierdas la sagrada curiosidad. Si no puedes explicarlo en forma simple, no lo entiendes lo suficientemente bien. Todos deben ser respetados como individuos, pero no idolatrados.'\n",
        "texto"
      ]
    },
    {
      "cell_type": "markdown",
      "metadata": {
        "id": "rnddNTGV9uje"
      },
      "source": [
        "### ¿Cuántas palabras distintas se usan en este texto?"
      ]
    },
    {
      "cell_type": "markdown",
      "metadata": {
        "id": "oCghKfyr9ujf"
      },
      "source": [
        "Primero, pasamos todo a minúsculas, luego quitamos puntos y comas y los reemplazamos por vacío, y luego dividimos cada palabra utilizando los espacios para saber que se trata de palabras diferentes (split())."
      ]
    },
    {
      "cell_type": "code",
      "execution_count": null,
      "metadata": {
        "colab": {
          "base_uri": "https://localhost:8080/"
        },
        "id": "owHWYGE49ujf",
        "outputId": "b1f4d9b7-de34-43fb-e675-1f8faa5d8d73"
      },
      "outputs": [],
      "source": []
    },
    {
      "cell_type": "code",
      "execution_count": null,
      "metadata": {
        "colab": {
          "base_uri": "https://localhost:8080/"
        },
        "id": "xQQjtalT9ujf",
        "outputId": "44d7b5bd-e7f9-49d4-ce76-5773d3fee639"
      },
      "outputs": [],
      "source": []
    },
    {
      "cell_type": "markdown",
      "metadata": {
        "id": "VBf_psDn9ujf"
      },
      "source": [
        "Si convertimos la lista de palabras en un conjunto, podemos saber cuáles son las palabras únicas (que no se repiten)."
      ]
    },
    {
      "cell_type": "code",
      "execution_count": null,
      "metadata": {
        "colab": {
          "base_uri": "https://localhost:8080/"
        },
        "id": "seHXIvsZ9ujf",
        "outputId": "c529b4d1-8db7-430f-9c79-9d0aa54988ab"
      },
      "outputs": [],
      "source": []
    },
    {
      "cell_type": "markdown",
      "metadata": {
        "id": "MAEDuOex9ujg"
      },
      "source": [
        "## Ejercicio 3"
      ]
    },
    {
      "cell_type": "markdown",
      "metadata": {
        "id": "s71Nw4FE9ujg"
      },
      "source": [
        "Vamos a hacer un experimento para saber qué es más rápido para buscar, una lista o un conjunto."
      ]
    },
    {
      "cell_type": "code",
      "execution_count": null,
      "metadata": {
        "id": "hhrugsZP9ujg"
      },
      "outputs": [],
      "source": [
        "# Importamos la librería time que nos ayudará a medir el tiempo de ejecución\n",
        "from time import time"
      ]
    },
    {
      "cell_type": "code",
      "execution_count": null,
      "metadata": {
        "id": "vNSnfsvw9ujg"
      },
      "outputs": [],
      "source": [
        "ELEMENTOS = 10**7 #10^7 son 10.000.000\n",
        "ELEMENTO_A_BUSCAR = ELEMENTOS//2 # Buscar elemento del medio\n",
        "lista_gigante = list(range(ELEMENTOS)) # Lista de 10 millones de enteros\n",
        "set_gigante = set(range(ELEMENTOS)) # Conjunto de 10 millones de enteros"
      ]
    },
    {
      "cell_type": "code",
      "execution_count": null,
      "metadata": {
        "colab": {
          "base_uri": "https://localhost:8080/"
        },
        "id": "3poTx_Nn9ujh",
        "outputId": "f217d2e2-e79f-4c1b-acbe-03123a93407f"
      },
      "outputs": [],
      "source": [
        "tiempo_inicio = time()\n",
        "ELEMENTO_A_BUSCAR in set_gigante\n",
        "tiempo_termino = time()\n",
        "tiempo_set = tiempo_termino - tiempo_inicio\n",
        "print(f\"Tiempo de búsqueda en set: {tiempo_set:.6f} segs\") # Imprimir un float con máximo 6 decimales"
      ]
    },
    {
      "cell_type": "code",
      "execution_count": null,
      "metadata": {
        "colab": {
          "base_uri": "https://localhost:8080/"
        },
        "id": "l0DZ7YcZ9uji",
        "outputId": "6a8ee992-3b97-4eb2-bb1f-6d54b8c53ec7"
      },
      "outputs": [],
      "source": [
        "tiempo_inicio = time()\n",
        "ELEMENTO_A_BUSCAR in lista_gigante\n",
        "tiempo_termino = time()\n",
        "tiempo_lista = tiempo_termino - tiempo_inicio\n",
        "print(f\"Tiempo de búsqueda en lista: {tiempo_lista:.6f} segs\")"
      ]
    }
  ],
  "metadata": {
    "colab": {
      "provenance": [],
      "toc_visible": true
    },
    "kernelspec": {
      "display_name": "Python 3.8.1 32-bit",
      "language": "python",
      "name": "python3"
    },
    "language_info": {
      "codemirror_mode": {
        "name": "ipython",
        "version": 3
      },
      "file_extension": ".py",
      "mimetype": "text/x-python",
      "name": "python",
      "nbconvert_exporter": "python",
      "pygments_lexer": "ipython3",
      "version": "3.8.1"
    },
    "orig_nbformat": 4,
    "vscode": {
      "interpreter": {
        "hash": "b25af7edd9d744abc5be65703c7db0e0253305f8e9e5a5c8b160839b50596d73"
      }
    }
  },
  "nbformat": 4,
  "nbformat_minor": 0
}
