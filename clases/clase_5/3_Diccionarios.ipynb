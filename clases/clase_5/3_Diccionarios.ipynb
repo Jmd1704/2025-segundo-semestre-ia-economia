{
  "cells": [
    {
      "cell_type": "markdown",
      "metadata": {
        "id": "Y0oG95ol9xr-"
      },
      "source": [
        "# **Diccionarios** (No secuencial / mutable)"
      ]
    },
    {
      "cell_type": "markdown",
      "metadata": {
        "id": "uyw26RU99yRC"
      },
      "source": [
        "Elaborado por: Lina María Castro\n",
        "\n",
        "Fecha: 14 de agosto de 2025"
      ]
    },
    {
      "cell_type": "markdown",
      "metadata": {
        "id": "kbk7w_sr9xsA"
      },
      "source": [
        "Son un tipo de dato mutable. Los podemos crear a partir de la estructura dict. Nos permiten consultar datos de manera muy rápida y sencilla."
      ]
    },
    {
      "cell_type": "markdown",
      "metadata": {
        "id": "UNr0FqwQ9xsC"
      },
      "source": [
        "Un diccionario en programación nos permite asociar elementos únicos, llamados \"llave\", con algún otro elemento u objeto que llamamos \"valor\"."
      ]
    },
    {
      "cell_type": "markdown",
      "metadata": {
        "id": "67VBlvU-9xsD"
      },
      "source": [
        "En programación, un diccionario es una estrucutra de datos no secuencial, ya que no mantienen un orden evidente en sus elementos únicos o llaves.\n",
        "\n",
        "Cada llave puede existir solamente una vez en el diccionario, no se puede repetir."
      ]
    },
    {
      "cell_type": "markdown",
      "metadata": {
        "id": "qrM_da029xsE"
      },
      "source": [
        "IMPORTANTE:\n",
        "\n",
        "Las \"llaves\" de un diccionario pueden ser strings, números (enteros y float) y tuplas, no pueden ser listas porque son mutables.\n",
        "\n",
        "Los \"valores\", por otro lado, pueden ser cualquier elemento como strings, números (enteros y float), tuplas, listas u otros diccionarios.\n",
        "\n",
        "Los valores se pueden repetir, pero las llaves no."
      ]
    },
    {
      "cell_type": "code",
      "execution_count": null,
      "metadata": {
        "colab": {
          "base_uri": "https://localhost:8080/"
        },
        "id": "NQKZAO_E9xsF",
        "outputId": "f293cf38-d92d-4641-c864-d1af89aeec4a"
      },
      "outputs": [],
      "source": [
        "# Se puede crear un diccionario vacío de dos formas:\n",
        "diccionario = {}\n",
        "diccionario = dict()\n",
        "print(diccionario)"
      ]
    },
    {
      "cell_type": "code",
      "execution_count": null,
      "metadata": {
        "colab": {
          "base_uri": "https://localhost:8080/"
        },
        "id": "0NW64BaQ9xsH",
        "outputId": "dd5fb0c6-098f-4712-a8ce-03828639c9ba"
      },
      "outputs": [],
      "source": [
        "print(type(diccionario))"
      ]
    },
    {
      "cell_type": "code",
      "execution_count": null,
      "metadata": {
        "colab": {
          "base_uri": "https://localhost:8080/"
        },
        "id": "PJvl2J9K9xsI",
        "outputId": "1c54eae0-8972-4ba0-ff27-9e369b8d264f"
      },
      "outputs": [],
      "source": [
        "# Datos directos\n",
        "profesores = {'Intro':'Jorge', 'Progra':'Valeria', 'SisOp':'Cristian'}\n",
        "print(profesores)"
      ]
    },
    {
      "cell_type": "code",
      "execution_count": null,
      "metadata": {
        "colab": {
          "base_uri": "https://localhost:8080/"
        },
        "id": "UAvcGAll9xsI",
        "outputId": "ac8cc9c6-0ba4-401e-cf3c-896dc9d0417c"
      },
      "outputs": [],
      "source": [
        "# Varios tipos de datos\n",
        "mezcla = {'País':'Chile', 8:4.15, (4,2022):['Abril','Año']}\n",
        "print(mezcla)"
      ]
    },
    {
      "cell_type": "code",
      "execution_count": null,
      "metadata": {
        "colab": {
          "base_uri": "https://localhost:8080/"
        },
        "id": "sEn4Yxro9xsJ",
        "outputId": "f65ec77d-3359-408b-bdcf-0914c3c10b18"
      },
      "outputs": [],
      "source": [
        "# Puede contener otros diccionarios\n",
        "subdict={15:('Arica',9), 'd':mezcla}\n",
        "print(subdict)"
      ]
    },
    {
      "cell_type": "markdown",
      "metadata": {
        "id": "ecj6-IJj9xsJ"
      },
      "source": [
        "# Consultas sobre diccionarios"
      ]
    },
    {
      "cell_type": "markdown",
      "metadata": {
        "id": "jA7s7NKl9xsJ"
      },
      "source": [
        "## ¿Cuántos elementos hay en el diccionario?"
      ]
    },
    {
      "cell_type": "markdown",
      "metadata": {
        "id": "KIS3l_J19xsK"
      },
      "source": [
        "Cuenta las llaves solamente, esos son los elementos."
      ]
    },
    {
      "cell_type": "code",
      "execution_count": null,
      "metadata": {
        "colab": {
          "base_uri": "https://localhost:8080/"
        },
        "id": "vK-PZtov9xsK",
        "outputId": "942b9f8a-b504-41c5-db19-85fd0ce30487"
      },
      "outputs": [],
      "source": [
        "mezcla = {'Chile':8, 4.15:'Abril', (3,5):['2022','MOOC']}\n",
        "largo = len(mezcla)\n",
        "print(largo)"
      ]
    },
    {
      "cell_type": "markdown",
      "metadata": {
        "id": "liG9S06b9xsK"
      },
      "source": [
        "## ¿Qué valor está asociado a una llave K?"
      ]
    },
    {
      "cell_type": "code",
      "execution_count": null,
      "metadata": {
        "id": "Ye1_t3_9Dcjs"
      },
      "outputs": [],
      "source": [
        "d = {'Nombre':'Pedro','Profesión':'contador'}"
      ]
    },
    {
      "cell_type": "code",
      "execution_count": null,
      "metadata": {
        "colab": {
          "base_uri": "https://localhost:8080/",
          "height": 141
        },
        "id": "FejgOggYDcju",
        "outputId": "b735a1c6-c306-4223-b4d5-44a3f2265141"
      },
      "outputs": [],
      "source": [
        "d[0] # Al llamar el índice 0 no funcionará. Saldrá un error"
      ]
    },
    {
      "cell_type": "code",
      "execution_count": null,
      "metadata": {
        "colab": {
          "base_uri": "https://localhost:8080/",
          "height": 35
        },
        "id": "GyRZdGnmDcjv",
        "outputId": "a941e829-94a1-4797-8eca-3974b5e41d4d"
      },
      "outputs": [],
      "source": [
        "# Al llamar la llave sí funciona. Muestra el valor asociado\n",
        "d['Nombre']"
      ]
    },
    {
      "cell_type": "code",
      "execution_count": null,
      "metadata": {
        "colab": {
          "base_uri": "https://localhost:8080/",
          "height": 35
        },
        "id": "nZGA-fAYDcjv",
        "outputId": "3cceba86-3f7c-409b-e428-265559dc8c63"
      },
      "outputs": [],
      "source": [
        "d['Profesión']"
      ]
    },
    {
      "cell_type": "code",
      "execution_count": null,
      "metadata": {
        "colab": {
          "base_uri": "https://localhost:8080/"
        },
        "id": "oJGnlsKBDcjw",
        "outputId": "6691e005-52aa-4ce9-be97-a6a5ad2af1a5"
      },
      "outputs": [],
      "source": [
        "# Para llamar todo el diccionario\n",
        "d"
      ]
    },
    {
      "cell_type": "code",
      "execution_count": null,
      "metadata": {
        "id": "JSwGGGjPDcjx"
      },
      "outputs": [],
      "source": [
        "# Otro ejemplo, esta vez con una lista\n",
        "dicc = {'k1':[1, 2, 3, 4, 5], 'k2': 'Hola'}"
      ]
    },
    {
      "cell_type": "code",
      "execution_count": null,
      "metadata": {
        "colab": {
          "base_uri": "https://localhost:8080/"
        },
        "id": "OReVtAxHDcjy",
        "outputId": "c1f2474b-7e83-4a7f-ebf3-9391ca23d0c3"
      },
      "outputs": [],
      "source": [
        "dicc['k1']"
      ]
    },
    {
      "cell_type": "code",
      "execution_count": null,
      "metadata": {
        "colab": {
          "base_uri": "https://localhost:8080/"
        },
        "id": "svdAxtpcDcj0",
        "outputId": "3de6c37b-f7db-4081-b1b5-9dc5bdc96b7f"
      },
      "outputs": [],
      "source": [
        "lista = dicc['k1']\n",
        "lista"
      ]
    },
    {
      "cell_type": "code",
      "execution_count": null,
      "metadata": {
        "colab": {
          "base_uri": "https://localhost:8080/"
        },
        "id": "sC0oVroSDcjz",
        "outputId": "52e2b5c7-3c10-4aa3-bc01-7b3d07ae72f3"
      },
      "outputs": [],
      "source": [
        "# Para llamar el elemento 3 de la llave k1\n",
        "dicc['k1'][3]"
      ]
    },
    {
      "cell_type": "code",
      "execution_count": null,
      "metadata": {
        "id": "6M_WiWTJDcj2"
      },
      "outputs": [],
      "source": [
        "# Otro ejemplo, esta vez con un diccionario anidado dentro de otro diccionario\n",
        "dic = {'k1':{'1a':[1, 2, 3, 10]}}"
      ]
    },
    {
      "cell_type": "code",
      "execution_count": null,
      "metadata": {
        "colab": {
          "base_uri": "https://localhost:8080/"
        },
        "id": "PcmONy3sDcj4",
        "outputId": "e95c78ca-d285-42d2-e460-50eefb110c59"
      },
      "outputs": [],
      "source": [
        "dic['k1']"
      ]
    },
    {
      "cell_type": "code",
      "execution_count": null,
      "metadata": {
        "colab": {
          "base_uri": "https://localhost:8080/"
        },
        "id": "b4i2OprmDcj4",
        "outputId": "0a846567-7ac4-4ee4-d27b-837cb2123c11"
      },
      "outputs": [],
      "source": [
        "# Para llamar la 1ra llave que está dentro de la llave k1\n",
        "dic['k1']['1a']"
      ]
    },
    {
      "cell_type": "code",
      "execution_count": null,
      "metadata": {
        "colab": {
          "base_uri": "https://localhost:8080/"
        },
        "id": "ZqoRw9j9Dcj5",
        "outputId": "6fc50d3d-d736-4bc2-c038-d096e0bbfc65"
      },
      "outputs": [],
      "source": [
        "# Para llamar el elemento 3 de la llave 1a que está dentro de la llave k1\n",
        "dic['k1']['1a'][3]"
      ]
    },
    {
      "cell_type": "markdown",
      "metadata": {
        "id": "6O9U6vMO9xsL"
      },
      "source": [
        "# Recorriendo un diccionario"
      ]
    },
    {
      "cell_type": "markdown",
      "metadata": {
        "id": "EAMipjWz9xsL"
      },
      "source": [
        "## Recorriendo llaves"
      ]
    },
    {
      "cell_type": "markdown",
      "metadata": {
        "id": "iWMZA7iw9xsM"
      },
      "source": [
        "Puede ser de 2 formas:"
      ]
    },
    {
      "cell_type": "code",
      "execution_count": null,
      "metadata": {
        "colab": {
          "base_uri": "https://localhost:8080/"
        },
        "id": "mJ58wfCi9xsM",
        "outputId": "191cf3fa-9d39-4cdf-c46b-ffc6ae0e9fce"
      },
      "outputs": [],
      "source": [
        "for elemento in mezcla:\n",
        "    print(elemento)"
      ]
    },
    {
      "cell_type": "code",
      "execution_count": null,
      "metadata": {
        "colab": {
          "base_uri": "https://localhost:8080/"
        },
        "id": "38LEHXU69xsM",
        "outputId": "4765799c-55b1-46af-d835-dca50400b2cc"
      },
      "outputs": [],
      "source": [
        "for elemento in mezcla.keys():\n",
        "    print(elemento)"
      ]
    },
    {
      "cell_type": "markdown",
      "metadata": {
        "id": "YeXeU0Xa9xsN"
      },
      "source": [
        "## Recorriendo por llave, valor"
      ]
    },
    {
      "cell_type": "markdown",
      "metadata": {
        "id": "N4FTA3_x9xsN"
      },
      "source": [
        "Se puede hacer de 2 formas:"
      ]
    },
    {
      "cell_type": "code",
      "execution_count": null,
      "metadata": {
        "colab": {
          "base_uri": "https://localhost:8080/"
        },
        "id": "EozS07r99xsN",
        "outputId": "73376e41-42b8-4584-f588-90aa553be4e6"
      },
      "outputs": [],
      "source": [
        "for k,v in mezcla.items():\n",
        "    print(f\"{k} : {v}\")"
      ]
    },
    {
      "cell_type": "code",
      "execution_count": null,
      "metadata": {
        "colab": {
          "base_uri": "https://localhost:8080/"
        },
        "id": "ZkvvZjbw9xsN",
        "outputId": "77c5282d-3c76-4dfa-ad8b-7c9880b5d481"
      },
      "outputs": [],
      "source": [
        "for t in mezcla.items():\n",
        "    print(f\"{t[0]} : {t[1]}\")"
      ]
    },
    {
      "cell_type": "markdown",
      "metadata": {
        "id": "msQZJ1rq9xsO"
      },
      "source": [
        "## Recorriendo valores"
      ]
    },
    {
      "cell_type": "markdown",
      "metadata": {
        "id": "xNQvMCVN9xsO"
      },
      "source": [
        "Esto es poco común y es lento, porque usualmente uno pregunta por la llave para obtener los valores."
      ]
    },
    {
      "cell_type": "code",
      "execution_count": null,
      "metadata": {
        "colab": {
          "base_uri": "https://localhost:8080/"
        },
        "id": "3m1zE1oI9xsO",
        "outputId": "ff75099f-ea4e-494e-8079-4c1df9cbc0e6"
      },
      "outputs": [],
      "source": [
        "for v in mezcla.values():\n",
        "    print(v)"
      ]
    },
    {
      "cell_type": "markdown",
      "metadata": {
        "id": "5AmIUu6F9xsO"
      },
      "source": [
        "# Operaciones sobre diccionarios"
      ]
    },
    {
      "cell_type": "markdown",
      "metadata": {
        "id": "c1dTXEzR9xsO"
      },
      "source": [
        "## ¿Se encuentra la llave k en el conjunto?"
      ]
    },
    {
      "cell_type": "markdown",
      "metadata": {
        "id": "Y2SJRZXG9xsP"
      },
      "source": [
        "in nos dice si la llave está en el diccionario o no"
      ]
    },
    {
      "cell_type": "code",
      "execution_count": null,
      "metadata": {
        "colab": {
          "base_uri": "https://localhost:8080/"
        },
        "id": "lvZXb7Hvohae",
        "outputId": "5973f18e-c32b-4bdd-a174-eb6e58ca9dc9"
      },
      "outputs": [],
      "source": [
        "print('Chile' in mezcla)"
      ]
    },
    {
      "cell_type": "code",
      "execution_count": null,
      "metadata": {
        "colab": {
          "base_uri": "https://localhost:8080/"
        },
        "id": "j59xbXJW9xsP",
        "outputId": "625e32a0-4941-4060-9408-508aa51ba740"
      },
      "outputs": [],
      "source": [
        "print(2 in mezcla)"
      ]
    },
    {
      "cell_type": "markdown",
      "metadata": {
        "id": "Z9a7ErBd9xsP"
      },
      "source": [
        "Si intentamos acceder al valor de una llave no definida en el diccionario obtenemos un error del tipo KeyError y nuestro programa se detiene."
      ]
    },
    {
      "cell_type": "code",
      "execution_count": null,
      "metadata": {
        "colab": {
          "base_uri": "https://localhost:8080/",
          "height": 141
        },
        "id": "Um_9yPWq9xsP",
        "outputId": "4dc7bd01-b5e9-452c-a410-4c84853773eb"
      },
      "outputs": [],
      "source": [
        "print(mezcla[2])"
      ]
    },
    {
      "cell_type": "markdown",
      "metadata": {
        "id": "aIGfdsHD9xsQ"
      },
      "source": [
        "## Agregar elementos"
      ]
    },
    {
      "cell_type": "markdown",
      "metadata": {
        "id": "rVGpdeA89xsQ"
      },
      "source": [
        "Hay 2 formas:"
      ]
    },
    {
      "cell_type": "markdown",
      "metadata": {
        "id": "xWdvhZhY9xsQ"
      },
      "source": [
        "### Para agregar un solo elemento"
      ]
    },
    {
      "cell_type": "code",
      "execution_count": null,
      "metadata": {
        "colab": {
          "base_uri": "https://localhost:8080/"
        },
        "id": "UdJrS-cs9xsX",
        "outputId": "88dd215c-2218-4faf-9da8-dc12a969ee79"
      },
      "outputs": [],
      "source": [
        "mezcla['L']='Lunes'\n",
        "print(mezcla)"
      ]
    },
    {
      "cell_type": "markdown",
      "metadata": {
        "id": "A5w7GI7v9xsX"
      },
      "source": [
        "### Agregar uno o más elementos"
      ]
    },
    {
      "cell_type": "code",
      "execution_count": null,
      "metadata": {
        "colab": {
          "base_uri": "https://localhost:8080/"
        },
        "id": "uO_dKjYj9xsX",
        "outputId": "1b6b60cf-b670-4378-f48e-6ee3d03a4b1c"
      },
      "outputs": [],
      "source": [
        "mezcla.update({'M':'Martes','W':'Miércoles'})\n",
        "print(mezcla)"
      ]
    },
    {
      "cell_type": "markdown",
      "metadata": {
        "id": "Z-tec0KT9xsY"
      },
      "source": [
        "## Modificar elementos"
      ]
    },
    {
      "cell_type": "markdown",
      "metadata": {
        "id": "rz_bwgGN9xsY"
      },
      "source": [
        "Las llaves, tal como los elementos de un conjunto, son únicas y no pueden repetirse. Entonces, si intentamos agregar una llave que ya existía, lo que lograremos será reemplazar el valor antiguo que estaba asociado a esa llave por otro. Los valores asociados a las llaves, por otro lado, no tienen esta restricción y pueden ser cualquier valor, o pueden estar repetidos."
      ]
    },
    {
      "cell_type": "code",
      "execution_count": null,
      "metadata": {
        "colab": {
          "base_uri": "https://localhost:8080/"
        },
        "id": "l8WYsJBt9xsY",
        "outputId": "406964e1-da24-4346-cb8e-a444c184ac75"
      },
      "outputs": [],
      "source": [
        "print(mezcla)\n",
        "mezcla[(3,5)] = 8\n",
        "print(mezcla)"
      ]
    },
    {
      "cell_type": "markdown",
      "metadata": {
        "id": "BdLJPQHi9xsY"
      },
      "source": [
        "## Obtener los valores de las llaves"
      ]
    },
    {
      "cell_type": "markdown",
      "metadata": {
        "id": "F0MnrPuX9xsY"
      },
      "source": [
        "Se puede de dos formas:"
      ]
    },
    {
      "cell_type": "markdown",
      "metadata": {
        "id": "0pRjF0w-9xsY"
      },
      "source": [
        "### Llamar la llave directamente"
      ]
    },
    {
      "cell_type": "code",
      "execution_count": null,
      "metadata": {
        "colab": {
          "base_uri": "https://localhost:8080/"
        },
        "id": "xiBhiYbG9xsZ",
        "outputId": "281f9f64-4c14-4eb7-853b-56dc255716c4"
      },
      "outputs": [],
      "source": [
        "print(mezcla['Chile'])"
      ]
    },
    {
      "cell_type": "markdown",
      "metadata": {
        "id": "mmWKLRYP9xsZ"
      },
      "source": [
        "En este caso, si la llave no existe en el diccionario, entonces arroja un error."
      ]
    },
    {
      "cell_type": "code",
      "execution_count": null,
      "metadata": {
        "colab": {
          "base_uri": "https://localhost:8080/",
          "height": 141
        },
        "id": "nByT-orG9xsZ",
        "outputId": "3e884ded-5a1f-41ae-ab27-a15b9704a601"
      },
      "outputs": [],
      "source": [
        "print(mezcla['J'])"
      ]
    },
    {
      "cell_type": "markdown",
      "metadata": {
        "id": "Hhi-TsMb9xsZ"
      },
      "source": [
        "### Método get"
      ]
    },
    {
      "cell_type": "markdown",
      "metadata": {
        "id": "No2Geryo9xsZ"
      },
      "source": [
        "Con \"get\" si la llave no existe en el diccionario, no se arroja un error sino un valor nulo \"None\". Al no arrojarse un error, el programa no termina."
      ]
    },
    {
      "cell_type": "code",
      "execution_count": null,
      "metadata": {
        "colab": {
          "base_uri": "https://localhost:8080/"
        },
        "id": "_YERjBYq9xsa",
        "outputId": "d250d412-b2ba-4bbc-8296-e81ea6750f4f"
      },
      "outputs": [],
      "source": [
        "print(mezcla.get('Chile'))\n",
        "print(mezcla.get('J'))"
      ]
    },
    {
      "cell_type": "markdown",
      "metadata": {
        "id": "EQ5NBRaK9xsa"
      },
      "source": [
        "## Eliminar elementos del diccionario"
      ]
    },
    {
      "cell_type": "markdown",
      "metadata": {
        "id": "OjsfP3iw9xsa"
      },
      "source": [
        "pop elimina la llave del diccionario y retorna su valor"
      ]
    },
    {
      "cell_type": "code",
      "execution_count": null,
      "metadata": {
        "colab": {
          "base_uri": "https://localhost:8080/"
        },
        "id": "cHAKbDl99xsa",
        "outputId": "7cb35ff5-c685-45a8-b2f3-8691f787881b"
      },
      "outputs": [],
      "source": [
        "v = mezcla.pop(4.15)\n",
        "print(v)\n",
        "print(mezcla)"
      ]
    },
    {
      "cell_type": "markdown",
      "metadata": {
        "id": "RI2OvMZu9xsa"
      },
      "source": [
        "# Tutorial: Cómo resolver ejercicios usando diccionarios en Python"
      ]
    },
    {
      "cell_type": "markdown",
      "metadata": {
        "id": "SNLogidO9xsb"
      },
      "source": [
        "## Ejercicio 1"
      ]
    },
    {
      "cell_type": "markdown",
      "metadata": {
        "id": "BOBFq6lo9xsb"
      },
      "source": [
        "Vamos a crear un programa para convertir desde pesos chilenos a otras monedas."
      ]
    },
    {
      "cell_type": "markdown",
      "metadata": {
        "id": "58tv3ztK9xsb"
      },
      "source": [
        "### Solución con if, elif, else para cada posible caso:"
      ]
    },
    {
      "cell_type": "markdown",
      "metadata": {
        "id": "8eMs6dim9xsb"
      },
      "source": [
        "Es una solución muy extensa si se tienen muchas monedas y se complica ingresar una nueva moneda o cambiar valores."
      ]
    },
    {
      "cell_type": "code",
      "execution_count": null,
      "metadata": {
        "colab": {
          "base_uri": "https://localhost:8080/"
        },
        "id": "rl4DNF7k9xsb",
        "outputId": "0ff20e6a-651d-40aa-9f30-4da66eece115"
      },
      "outputs": [],
      "source": [
        "pesos=int(input(\"Pesos: \"))\n",
        "moneda=(input(\"Moneda destino: \"))\n",
        "if moneda==\"EUR\":\n",
        "    print(f\"{pesos} pesos --> {pesos/913.33} euros\")\n",
        "elif moneda==\"USD\":\n",
        "    print(f\"{pesos} pesos --> {pesos/819.90} dólares\")\n",
        "elif moneda==\"GBP\":\n",
        "    print(f\"{pesos} pesos --> {pesos/1054.99} libras\")\n",
        "else:\n",
        "    print(\"Conversión desconocida\")"
      ]
    },
    {
      "cell_type": "markdown",
      "metadata": {
        "id": "ZH57N2dy9xsc"
      },
      "source": [
        "### Solución con diccionarios"
      ]
    },
    {
      "cell_type": "markdown",
      "metadata": {
        "id": "3lh6vJuc9xsc"
      },
      "source": [
        "Es una forma más eficiente y segura de resolver este problema. Además, facilita ingresar nuevas monedas al código de conversión de monedas o cambiar valores."
      ]
    },
    {
      "cell_type": "code",
      "execution_count": null,
      "metadata": {
        "id": "LuPRW7JQ9xsc"
      },
      "outputs": [],
      "source": [
        "monedas={'EUR':('euros',913.33),\n",
        "        'USD':('dólares',819.90),\n",
        "        'GBP':('libras',1054.99)}"
      ]
    },
    {
      "cell_type": "code",
      "execution_count": null,
      "metadata": {
        "colab": {
          "base_uri": "https://localhost:8080/"
        },
        "id": "DpG9RV5f9xsc",
        "outputId": "6173b68b-c1e9-43d9-e64f-5605b71af004"
      },
      "outputs": [],
      "source": [
        "pesos=int(input(\"Pesos: \"))\n",
        "m=(input(\"Moneda destino: \"))\n",
        "if m in monedas:\n",
        "    print(f\"{pesos} pesos --> {pesos/monedas[m][1]}{monedas[m][0]}\")\n",
        "else:\n",
        "    print(\"Conversión desconocida\")"
      ]
    },
    {
      "cell_type": "markdown",
      "metadata": {
        "id": "BvmcjtFb9xsc"
      },
      "source": [
        "## Ejercicio 2"
      ]
    },
    {
      "cell_type": "code",
      "execution_count": null,
      "metadata": {
        "colab": {
          "base_uri": "https://localhost:8080/",
          "height": 70
        },
        "id": "b5LhONEv9xsd",
        "outputId": "91df748d-45ce-48c5-ab52-4c82636aeb9c"
      },
      "outputs": [],
      "source": [
        "texto = 'El amor es un mejor profesor que el deber. Información no es conocimiento. Nunca pierdas la sagrada curiosidad. Si no puedes explicarlo en forma simple, no lo entiendes lo suficientemente bien. Todos deben ser respetados como individuos, pero no idolatrados.'\n",
        "texto"
      ]
    },
    {
      "cell_type": "markdown",
      "metadata": {
        "id": "1jKFWrqa9xsd"
      },
      "source": [
        "¿Cuántas veces se repite cada palabra en el texto?"
      ]
    },
    {
      "cell_type": "code",
      "execution_count": null,
      "metadata": {
        "colab": {
          "base_uri": "https://localhost:8080/"
        },
        "id": "TLkIYs-w9xsd",
        "outputId": "932f14d5-3d03-4591-9715-f8bf47e6cf2d"
      },
      "outputs": [],
      "source": [
        "repeticiones=dict()\n",
        "palabras=texto.lower().replace(\".\",\"\").replace(\",\",\"\").split()\n",
        "print(palabras)\n",
        "print(len(palabras))"
      ]
    },
    {
      "cell_type": "code",
      "execution_count": null,
      "metadata": {
        "colab": {
          "base_uri": "https://localhost:8080/"
        },
        "id": "0gI9jXWE9xsd",
        "outputId": "d1573b02-a44f-4e42-e446-96f7ecff0174"
      },
      "outputs": [],
      "source": [
        "for palabra in palabras:\n",
        "    if palabra in repeticiones:\n",
        "        repeticiones[palabra]+=1\n",
        "    else:\n",
        "        repeticiones[palabra]=1\n",
        "\n",
        "print(repeticiones)"
      ]
    },
    {
      "cell_type": "markdown",
      "metadata": {
        "id": "0rNIfAcv9xse"
      },
      "source": [
        "## Ejercicio 3"
      ]
    },
    {
      "cell_type": "markdown",
      "metadata": {
        "id": "GKk7ZWJQ9xse"
      },
      "source": [
        "Tenemos una base de datos de estudiantes y sus notas."
      ]
    },
    {
      "cell_type": "code",
      "execution_count": null,
      "metadata": {
        "id": "E8h4pj-69xse"
      },
      "outputs": [],
      "source": [
        "curso={'972-1':('Aurora',[67,56,48]),\n",
        "        '588-2':('Sebastián',[21,60,38]),\n",
        "        '632-7':('Rafaela',[53,72,22]),\n",
        "        '900-4':('Darío',[61,1,42])}"
      ]
    },
    {
      "cell_type": "markdown",
      "metadata": {
        "id": "JhIv3grY9xse"
      },
      "source": [
        "¿Cuál es el promedio del tercer puntaje de todos los estudiantes?"
      ]
    },
    {
      "cell_type": "code",
      "execution_count": null,
      "metadata": {
        "colab": {
          "base_uri": "https://localhost:8080/"
        },
        "id": "JtVWRS9S9xse",
        "outputId": "f857ff1d-4bbe-4adc-9354-8b0093b13e46"
      },
      "outputs": [],
      "source": [
        "suma = 0\n",
        "for v in curso.values():\n",
        "    suma += v[1][2]\n",
        "prom=suma/len(curso)\n",
        "print(f\"El promedio del tercer puntaje de cada estudiante es {prom}\")"
      ]
    },
    {
      "cell_type": "markdown",
      "metadata": {
        "id": "yPW_EPSb9xsf"
      },
      "source": [
        "¿Cómo obtengo los datos de un estudiante?"
      ]
    },
    {
      "cell_type": "code",
      "execution_count": null,
      "metadata": {
        "colab": {
          "base_uri": "https://localhost:8080/"
        },
        "id": "wNaKWBlj9xsf",
        "outputId": "2708b05e-c782-4807-a883-3fa038e87e72"
      },
      "outputs": [],
      "source": [
        "codigo = input(\"Consulta por número de estudiante: \")\n",
        "estudiante = curso[codigo]\n",
        "print(f\"Estudiante {codigo}, nombre {estudiante[0]}, tiene los siguientes puntajes: {estudiante[1]}\")"
      ]
    }
  ],
  "metadata": {
    "colab": {
      "provenance": [],
      "toc_visible": true
    },
    "kernelspec": {
      "display_name": "Python 3.8.1 32-bit",
      "language": "python",
      "name": "python3"
    },
    "language_info": {
      "codemirror_mode": {
        "name": "ipython",
        "version": 3
      },
      "file_extension": ".py",
      "mimetype": "text/x-python",
      "name": "python",
      "nbconvert_exporter": "python",
      "pygments_lexer": "ipython3",
      "version": "3.8.1"
    },
    "orig_nbformat": 4,
    "vscode": {
      "interpreter": {
        "hash": "b25af7edd9d744abc5be65703c7db0e0253305f8e9e5a5c8b160839b50596d73"
      }
    }
  },
  "nbformat": 4,
  "nbformat_minor": 0
}
