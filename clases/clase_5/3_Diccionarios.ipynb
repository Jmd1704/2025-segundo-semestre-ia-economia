{
  "cells": [
    {
      "cell_type": "markdown",
      "metadata": {
        "id": "view-in-github",
        "colab_type": "text"
      },
      "source": [
        "<a href=\"https://colab.research.google.com/github/LinaMariaCastro/2025-segundo-semestre-ia-economia/blob/main/clases/clase_5/3_Diccionarios.ipynb\" target=\"_parent\"><img src=\"https://colab.research.google.com/assets/colab-badge.svg\" alt=\"Open In Colab\"/></a>"
      ]
    },
    {
      "cell_type": "markdown",
      "metadata": {
        "id": "Y0oG95ol9xr-"
      },
      "source": [
        "# **Diccionarios** (No secuencial / mutable)"
      ]
    },
    {
      "cell_type": "markdown",
      "metadata": {
        "id": "uyw26RU99yRC"
      },
      "source": [
        "Elaborado por: Lina María Castro\n",
        "\n",
        "Fecha: 14 de agosto de 2025"
      ]
    },
    {
      "cell_type": "markdown",
      "metadata": {
        "id": "kbk7w_sr9xsA"
      },
      "source": [
        "Son un tipo de dato mutable. Los podemos crear a partir de la estructura dict. Nos permiten consultar datos de manera muy rápida y sencilla."
      ]
    },
    {
      "cell_type": "markdown",
      "metadata": {
        "id": "UNr0FqwQ9xsC"
      },
      "source": [
        "Un diccionario en programación nos permite asociar elementos únicos, llamados \"llave\", con algún otro elemento u objeto que llamamos \"valor\"."
      ]
    },
    {
      "cell_type": "markdown",
      "metadata": {
        "id": "67VBlvU-9xsD"
      },
      "source": [
        "En programación, un diccionario es una estrucutra de datos no secuencial, ya que no mantienen un orden evidente en sus elementos únicos o llaves.\n",
        "\n",
        "Cada llave puede existir solamente una vez en el diccionario, no se puede repetir."
      ]
    },
    {
      "cell_type": "markdown",
      "metadata": {
        "id": "qrM_da029xsE"
      },
      "source": [
        "IMPORTANTE:\n",
        "\n",
        "Las \"llaves\" de un diccionario pueden ser strings, números (enteros y float) y tuplas, no pueden ser listas porque son mutables.\n",
        "\n",
        "Los \"valores\", por otro lado, pueden ser cualquier elemento como strings, números (enteros y float), tuplas, listas u otros diccionarios.\n",
        "\n",
        "Los valores se pueden repetir, pero las llaves no."
      ]
    },
    {
      "cell_type": "code",
      "execution_count": null,
      "metadata": {
        "id": "NQKZAO_E9xsF"
      },
      "outputs": [],
      "source": [
        "# Se puede crear un diccionario vacío de dos formas:\n",
        "diccionario = {}\n",
        "diccionario = dict()\n",
        "print(diccionario)"
      ]
    },
    {
      "cell_type": "code",
      "execution_count": null,
      "metadata": {
        "id": "0NW64BaQ9xsH"
      },
      "outputs": [],
      "source": [
        "print(type(diccionario))"
      ]
    },
    {
      "cell_type": "code",
      "execution_count": null,
      "metadata": {
        "id": "PJvl2J9K9xsI"
      },
      "outputs": [],
      "source": [
        "# Datos directos\n",
        "profesores = {'Intro':'Jorge', 'Progra':'Valeria', 'SisOp':'Cristian'}\n",
        "print(profesores)"
      ]
    },
    {
      "cell_type": "code",
      "execution_count": null,
      "metadata": {
        "id": "UAvcGAll9xsI"
      },
      "outputs": [],
      "source": [
        "# Varios tipos de datos\n",
        "mezcla = {'País':'Chile', 8:4.15, (4,2022):['Abril','Año']}\n",
        "print(mezcla)"
      ]
    },
    {
      "cell_type": "code",
      "execution_count": null,
      "metadata": {
        "id": "sEn4Yxro9xsJ"
      },
      "outputs": [],
      "source": [
        "# Puede contener otros diccionarios\n",
        "subdict={15:('Arica',9), 'd':mezcla}\n",
        "print(subdict)"
      ]
    },
    {
      "cell_type": "markdown",
      "metadata": {
        "id": "ecj6-IJj9xsJ"
      },
      "source": [
        "# Consultas sobre diccionarios"
      ]
    },
    {
      "cell_type": "markdown",
      "metadata": {
        "id": "jA7s7NKl9xsJ"
      },
      "source": [
        "## ¿Cuántos elementos hay en el diccionario?"
      ]
    },
    {
      "cell_type": "markdown",
      "metadata": {
        "id": "KIS3l_J19xsK"
      },
      "source": [
        "Cuenta las llaves solamente, esos son los elementos."
      ]
    },
    {
      "cell_type": "code",
      "execution_count": null,
      "metadata": {
        "id": "vK-PZtov9xsK"
      },
      "outputs": [],
      "source": [
        "mezcla = {'Chile':8, 4.15:'Abril', (3,5):['2022','MOOC']}\n",
        "largo = len(mezcla)\n",
        "print(largo)"
      ]
    },
    {
      "cell_type": "markdown",
      "metadata": {
        "id": "liG9S06b9xsK"
      },
      "source": [
        "## ¿Qué valor está asociado a una llave K?"
      ]
    },
    {
      "cell_type": "code",
      "execution_count": null,
      "metadata": {
        "id": "Ye1_t3_9Dcjs"
      },
      "outputs": [],
      "source": [
        "d = {'Nombre':'Pedro','Profesión':'contador'}"
      ]
    },
    {
      "cell_type": "code",
      "execution_count": null,
      "metadata": {
        "id": "FejgOggYDcju"
      },
      "outputs": [],
      "source": [
        "d[0] # Al llamar el índice 0 no funcionará. Saldrá un error"
      ]
    },
    {
      "cell_type": "code",
      "execution_count": null,
      "metadata": {
        "id": "GyRZdGnmDcjv"
      },
      "outputs": [],
      "source": [
        "# Al llamar la llave sí funciona. Muestra el valor asociado\n",
        "d['Nombre']"
      ]
    },
    {
      "cell_type": "code",
      "execution_count": null,
      "metadata": {
        "id": "nZGA-fAYDcjv"
      },
      "outputs": [],
      "source": [
        "d['Profesión']"
      ]
    },
    {
      "cell_type": "code",
      "execution_count": null,
      "metadata": {
        "id": "oJGnlsKBDcjw"
      },
      "outputs": [],
      "source": [
        "# Para llamar todo el diccionario\n",
        "d"
      ]
    },
    {
      "cell_type": "code",
      "execution_count": null,
      "metadata": {
        "id": "JSwGGGjPDcjx"
      },
      "outputs": [],
      "source": [
        "# Otro ejemplo, esta vez con una lista\n",
        "dicc = {'k1':[1, 2, 3, 4, 5], 'k2': 'Hola'}"
      ]
    },
    {
      "cell_type": "code",
      "execution_count": null,
      "metadata": {
        "id": "OReVtAxHDcjy"
      },
      "outputs": [],
      "source": [
        "dicc['k1']"
      ]
    },
    {
      "cell_type": "code",
      "execution_count": null,
      "metadata": {
        "id": "svdAxtpcDcj0"
      },
      "outputs": [],
      "source": [
        "lista = dicc['k1']\n",
        "lista"
      ]
    },
    {
      "cell_type": "code",
      "execution_count": null,
      "metadata": {
        "id": "sC0oVroSDcjz"
      },
      "outputs": [],
      "source": [
        "# Para llamar el elemento 3 de la llave k1\n",
        "dicc['k1'][3]"
      ]
    },
    {
      "cell_type": "code",
      "execution_count": null,
      "metadata": {
        "id": "6M_WiWTJDcj2"
      },
      "outputs": [],
      "source": [
        "# Otro ejemplo, esta vez con un diccionario anidado dentro de otro diccionario\n",
        "dic = {'k1':{'1a':[1, 2, 3, 10]}}"
      ]
    },
    {
      "cell_type": "code",
      "execution_count": null,
      "metadata": {
        "id": "PcmONy3sDcj4"
      },
      "outputs": [],
      "source": [
        "dic['k1']"
      ]
    },
    {
      "cell_type": "code",
      "execution_count": null,
      "metadata": {
        "id": "b4i2OprmDcj4"
      },
      "outputs": [],
      "source": [
        "# Para llamar la 1ra llave que está dentro de la llave k1\n",
        "dic['k1']['1a']"
      ]
    },
    {
      "cell_type": "code",
      "execution_count": null,
      "metadata": {
        "id": "ZqoRw9j9Dcj5"
      },
      "outputs": [],
      "source": [
        "# Para llamar el elemento 3 de la llave 1a que está dentro de la llave k1\n",
        "dic['k1']['1a'][3]"
      ]
    },
    {
      "cell_type": "markdown",
      "metadata": {
        "id": "6O9U6vMO9xsL"
      },
      "source": [
        "# Recorriendo un diccionario"
      ]
    },
    {
      "cell_type": "markdown",
      "metadata": {
        "id": "EAMipjWz9xsL"
      },
      "source": [
        "## Recorriendo llaves"
      ]
    },
    {
      "cell_type": "markdown",
      "metadata": {
        "id": "iWMZA7iw9xsM"
      },
      "source": [
        "Puede ser de 2 formas:"
      ]
    },
    {
      "cell_type": "code",
      "execution_count": null,
      "metadata": {
        "id": "mJ58wfCi9xsM"
      },
      "outputs": [],
      "source": [
        "for elemento in mezcla:\n",
        "    print(elemento)"
      ]
    },
    {
      "cell_type": "code",
      "execution_count": null,
      "metadata": {
        "id": "38LEHXU69xsM"
      },
      "outputs": [],
      "source": [
        "for elemento in mezcla.keys():\n",
        "    print(elemento)"
      ]
    },
    {
      "cell_type": "markdown",
      "metadata": {
        "id": "YeXeU0Xa9xsN"
      },
      "source": [
        "## Recorriendo por llave, valor"
      ]
    },
    {
      "cell_type": "markdown",
      "metadata": {
        "id": "N4FTA3_x9xsN"
      },
      "source": [
        "Se puede hacer de 2 formas:"
      ]
    },
    {
      "cell_type": "code",
      "execution_count": null,
      "metadata": {
        "id": "EozS07r99xsN"
      },
      "outputs": [],
      "source": [
        "for k,v in mezcla.items():\n",
        "    print(f\"{k} : {v}\")"
      ]
    },
    {
      "cell_type": "code",
      "execution_count": null,
      "metadata": {
        "id": "ZkvvZjbw9xsN"
      },
      "outputs": [],
      "source": [
        "for t in mezcla.items():\n",
        "    print(f\"{t[0]} : {t[1]}\")"
      ]
    },
    {
      "cell_type": "markdown",
      "metadata": {
        "id": "msQZJ1rq9xsO"
      },
      "source": [
        "## Recorriendo valores"
      ]
    },
    {
      "cell_type": "markdown",
      "metadata": {
        "id": "xNQvMCVN9xsO"
      },
      "source": [
        "Esto es poco común y es lento, porque usualmente uno pregunta por la llave para obtener los valores."
      ]
    },
    {
      "cell_type": "code",
      "execution_count": null,
      "metadata": {
        "id": "3m1zE1oI9xsO"
      },
      "outputs": [],
      "source": [
        "for v in mezcla.values():\n",
        "    print(v)"
      ]
    },
    {
      "cell_type": "markdown",
      "metadata": {
        "id": "5AmIUu6F9xsO"
      },
      "source": [
        "# Operaciones sobre diccionarios"
      ]
    },
    {
      "cell_type": "markdown",
      "metadata": {
        "id": "c1dTXEzR9xsO"
      },
      "source": [
        "## ¿Se encuentra la llave k en el conjunto?"
      ]
    },
    {
      "cell_type": "markdown",
      "metadata": {
        "id": "Y2SJRZXG9xsP"
      },
      "source": [
        "in nos dice si la llave está en el diccionario o no"
      ]
    },
    {
      "cell_type": "code",
      "execution_count": null,
      "metadata": {
        "id": "lvZXb7Hvohae"
      },
      "outputs": [],
      "source": [
        "print('Chile' in mezcla)"
      ]
    },
    {
      "cell_type": "code",
      "execution_count": null,
      "metadata": {
        "id": "j59xbXJW9xsP"
      },
      "outputs": [],
      "source": [
        "print(2 in mezcla)"
      ]
    },
    {
      "cell_type": "markdown",
      "metadata": {
        "id": "Z9a7ErBd9xsP"
      },
      "source": [
        "Si intentamos acceder al valor de una llave no definida en el diccionario obtenemos un error del tipo KeyError y nuestro programa se detiene."
      ]
    },
    {
      "cell_type": "code",
      "execution_count": null,
      "metadata": {
        "id": "Um_9yPWq9xsP"
      },
      "outputs": [],
      "source": [
        "print(mezcla[2])"
      ]
    },
    {
      "cell_type": "markdown",
      "metadata": {
        "id": "aIGfdsHD9xsQ"
      },
      "source": [
        "## Agregar elementos"
      ]
    },
    {
      "cell_type": "markdown",
      "metadata": {
        "id": "rVGpdeA89xsQ"
      },
      "source": [
        "Hay 2 formas:"
      ]
    },
    {
      "cell_type": "markdown",
      "metadata": {
        "id": "xWdvhZhY9xsQ"
      },
      "source": [
        "### Para agregar un solo elemento"
      ]
    },
    {
      "cell_type": "code",
      "execution_count": null,
      "metadata": {
        "id": "UdJrS-cs9xsX"
      },
      "outputs": [],
      "source": [
        "mezcla['L']='Lunes'\n",
        "print(mezcla)"
      ]
    },
    {
      "cell_type": "markdown",
      "metadata": {
        "id": "A5w7GI7v9xsX"
      },
      "source": [
        "### Agregar uno o más elementos"
      ]
    },
    {
      "cell_type": "code",
      "execution_count": null,
      "metadata": {
        "id": "uO_dKjYj9xsX"
      },
      "outputs": [],
      "source": [
        "mezcla.update({'M':'Martes','W':'Miércoles'})\n",
        "print(mezcla)"
      ]
    },
    {
      "cell_type": "markdown",
      "metadata": {
        "id": "Z-tec0KT9xsY"
      },
      "source": [
        "## Modificar elementos"
      ]
    },
    {
      "cell_type": "markdown",
      "metadata": {
        "id": "rz_bwgGN9xsY"
      },
      "source": [
        "Las llaves, tal como los elementos de un conjunto, son únicas y no pueden repetirse. Entonces, si intentamos agregar una llave que ya existía, lo que lograremos será reemplazar el valor antiguo que estaba asociado a esa llave por otro. Los valores asociados a las llaves, por otro lado, no tienen esta restricción y pueden ser cualquier valor, o pueden estar repetidos."
      ]
    },
    {
      "cell_type": "code",
      "execution_count": null,
      "metadata": {
        "id": "l8WYsJBt9xsY"
      },
      "outputs": [],
      "source": [
        "print(mezcla)\n",
        "mezcla[(3,5)] = 8\n",
        "print(mezcla)"
      ]
    },
    {
      "cell_type": "markdown",
      "metadata": {
        "id": "BdLJPQHi9xsY"
      },
      "source": [
        "## Obtener los valores de las llaves"
      ]
    },
    {
      "cell_type": "markdown",
      "metadata": {
        "id": "F0MnrPuX9xsY"
      },
      "source": [
        "Se puede de dos formas:"
      ]
    },
    {
      "cell_type": "markdown",
      "metadata": {
        "id": "0pRjF0w-9xsY"
      },
      "source": [
        "### Llamar la llave directamente"
      ]
    },
    {
      "cell_type": "code",
      "execution_count": null,
      "metadata": {
        "id": "xiBhiYbG9xsZ"
      },
      "outputs": [],
      "source": [
        "print(mezcla['Chile'])"
      ]
    },
    {
      "cell_type": "markdown",
      "metadata": {
        "id": "mmWKLRYP9xsZ"
      },
      "source": [
        "En este caso, si la llave no existe en el diccionario, entonces arroja un error."
      ]
    },
    {
      "cell_type": "code",
      "execution_count": null,
      "metadata": {
        "id": "nByT-orG9xsZ"
      },
      "outputs": [],
      "source": [
        "print(mezcla['J'])"
      ]
    },
    {
      "cell_type": "markdown",
      "metadata": {
        "id": "Hhi-TsMb9xsZ"
      },
      "source": [
        "### Método get"
      ]
    },
    {
      "cell_type": "markdown",
      "metadata": {
        "id": "No2Geryo9xsZ"
      },
      "source": [
        "Con \"get\" si la llave no existe en el diccionario, no se arroja un error sino un valor nulo \"None\". Al no arrojarse un error, el programa no termina."
      ]
    },
    {
      "cell_type": "code",
      "execution_count": null,
      "metadata": {
        "id": "_YERjBYq9xsa"
      },
      "outputs": [],
      "source": [
        "print(mezcla.get('Chile'))\n",
        "print(mezcla.get('J'))"
      ]
    },
    {
      "cell_type": "markdown",
      "metadata": {
        "id": "EQ5NBRaK9xsa"
      },
      "source": [
        "## Eliminar elementos del diccionario"
      ]
    },
    {
      "cell_type": "markdown",
      "metadata": {
        "id": "OjsfP3iw9xsa"
      },
      "source": [
        "pop elimina la llave del diccionario y retorna su valor"
      ]
    },
    {
      "cell_type": "code",
      "execution_count": null,
      "metadata": {
        "id": "cHAKbDl99xsa"
      },
      "outputs": [],
      "source": [
        "v = mezcla.pop(4.15)\n",
        "print(v)\n",
        "print(mezcla)"
      ]
    },
    {
      "cell_type": "markdown",
      "metadata": {
        "id": "RI2OvMZu9xsa"
      },
      "source": [
        "# Tutorial: Cómo resolver ejercicios usando diccionarios en Python"
      ]
    },
    {
      "cell_type": "markdown",
      "metadata": {
        "id": "SNLogidO9xsb"
      },
      "source": [
        "## Ejercicio 1"
      ]
    },
    {
      "cell_type": "markdown",
      "metadata": {
        "id": "BOBFq6lo9xsb"
      },
      "source": [
        "Vamos a crear un programa para convertir desde pesos chilenos a otras monedas."
      ]
    },
    {
      "cell_type": "markdown",
      "metadata": {
        "id": "58tv3ztK9xsb"
      },
      "source": [
        "### Solución con if, elif, else para cada posible caso:"
      ]
    },
    {
      "cell_type": "markdown",
      "metadata": {
        "id": "8eMs6dim9xsb"
      },
      "source": [
        "Es una solución muy extensa si se tienen muchas monedas y se complica ingresar una nueva moneda o cambiar valores."
      ]
    },
    {
      "cell_type": "code",
      "execution_count": null,
      "metadata": {
        "id": "rl4DNF7k9xsb"
      },
      "outputs": [],
      "source": [
        "pesos=int(input(\"Pesos: \"))\n",
        "moneda=(input(\"Moneda destino: \"))\n",
        "if moneda==\"EUR\":\n",
        "    print(f\"{pesos} pesos --> {pesos/913.33} euros\")\n",
        "elif moneda==\"USD\":\n",
        "    print(f\"{pesos} pesos --> {pesos/819.90} dólares\")\n",
        "elif moneda==\"GBP\":\n",
        "    print(f\"{pesos} pesos --> {pesos/1054.99} libras\")\n",
        "else:\n",
        "    print(\"Conversión desconocida\")"
      ]
    },
    {
      "cell_type": "markdown",
      "metadata": {
        "id": "ZH57N2dy9xsc"
      },
      "source": [
        "### Solución con diccionarios"
      ]
    },
    {
      "cell_type": "markdown",
      "metadata": {
        "id": "3lh6vJuc9xsc"
      },
      "source": [
        "Es una forma más eficiente y segura de resolver este problema. Además, facilita ingresar nuevas monedas al código de conversión de monedas o cambiar valores."
      ]
    },
    {
      "cell_type": "code",
      "execution_count": null,
      "metadata": {
        "id": "LuPRW7JQ9xsc"
      },
      "outputs": [],
      "source": [
        "monedas={'EUR':('euros',913.33),\n",
        "        'USD':('dólares',819.90),\n",
        "        'GBP':('libras',1054.99)}"
      ]
    },
    {
      "cell_type": "code",
      "execution_count": null,
      "metadata": {
        "id": "DpG9RV5f9xsc"
      },
      "outputs": [],
      "source": [
        "pesos=int(input(\"Pesos: \"))\n",
        "m=(input(\"Moneda destino: \"))\n",
        "if m in monedas:\n",
        "    print(f\"{pesos} pesos --> {pesos/monedas[m][1]}{monedas[m][0]}\")\n",
        "else:\n",
        "    print(\"Conversión desconocida\")"
      ]
    },
    {
      "cell_type": "markdown",
      "metadata": {
        "id": "BvmcjtFb9xsc"
      },
      "source": [
        "## Ejercicio 2"
      ]
    },
    {
      "cell_type": "code",
      "execution_count": null,
      "metadata": {
        "id": "b5LhONEv9xsd"
      },
      "outputs": [],
      "source": [
        "texto = 'El amor es un mejor profesor que el deber. Información no es conocimiento. Nunca pierdas la sagrada curiosidad. Si no puedes explicarlo en forma simple, no lo entiendes lo suficientemente bien. Todos deben ser respetados como individuos, pero no idolatrados.'\n",
        "texto"
      ]
    },
    {
      "cell_type": "markdown",
      "metadata": {
        "id": "1jKFWrqa9xsd"
      },
      "source": [
        "¿Cuántas veces se repite cada palabra en el texto?"
      ]
    },
    {
      "cell_type": "code",
      "execution_count": null,
      "metadata": {
        "id": "TLkIYs-w9xsd"
      },
      "outputs": [],
      "source": [
        "repeticiones=dict()\n",
        "palabras=texto.lower().replace(\".\",\"\").replace(\",\",\"\").split()\n",
        "print(palabras)\n",
        "print(len(palabras))"
      ]
    },
    {
      "cell_type": "code",
      "execution_count": null,
      "metadata": {
        "id": "0gI9jXWE9xsd"
      },
      "outputs": [],
      "source": [
        "for palabra in palabras:\n",
        "    if palabra in repeticiones:\n",
        "        repeticiones[palabra]+=1\n",
        "    else:\n",
        "        repeticiones[palabra]=1\n",
        "\n",
        "print(repeticiones)"
      ]
    },
    {
      "cell_type": "markdown",
      "metadata": {
        "id": "0rNIfAcv9xse"
      },
      "source": [
        "## Ejercicio 3"
      ]
    },
    {
      "cell_type": "markdown",
      "metadata": {
        "id": "GKk7ZWJQ9xse"
      },
      "source": [
        "Tenemos una base de datos de estudiantes y sus notas."
      ]
    },
    {
      "cell_type": "code",
      "execution_count": null,
      "metadata": {
        "id": "E8h4pj-69xse"
      },
      "outputs": [],
      "source": [
        "curso={'972-1':('Aurora',[67,56,48]),\n",
        "        '588-2':('Sebastián',[21,60,38]),\n",
        "        '632-7':('Rafaela',[53,72,22]),\n",
        "        '900-4':('Darío',[61,1,42])}"
      ]
    },
    {
      "cell_type": "markdown",
      "metadata": {
        "id": "JhIv3grY9xse"
      },
      "source": [
        "¿Cuál es el promedio del tercer puntaje de todos los estudiantes?"
      ]
    },
    {
      "cell_type": "code",
      "execution_count": null,
      "metadata": {
        "id": "JtVWRS9S9xse"
      },
      "outputs": [],
      "source": [
        "suma = 0\n",
        "for v in curso.values():\n",
        "    suma += v[1][2]\n",
        "prom=suma/len(curso)\n",
        "print(f\"El promedio del tercer puntaje de cada estudiante es {prom}\")"
      ]
    },
    {
      "cell_type": "markdown",
      "metadata": {
        "id": "yPW_EPSb9xsf"
      },
      "source": [
        "¿Cómo obtengo los datos de un estudiante?"
      ]
    },
    {
      "cell_type": "code",
      "execution_count": null,
      "metadata": {
        "id": "wNaKWBlj9xsf"
      },
      "outputs": [],
      "source": [
        "codigo = input(\"Consulta por número de estudiante: \")\n",
        "estudiante = curso[codigo]\n",
        "print(f\"Estudiante {codigo}, nombre {estudiante[0]}, tiene los siguientes puntajes: {estudiante[1]}\")"
      ]
    }
  ],
  "metadata": {
    "colab": {
      "provenance": [],
      "toc_visible": true,
      "include_colab_link": true
    },
    "kernelspec": {
      "display_name": "Python 3.8.1 32-bit",
      "language": "python",
      "name": "python3"
    },
    "language_info": {
      "codemirror_mode": {
        "name": "ipython",
        "version": 3
      },
      "file_extension": ".py",
      "mimetype": "text/x-python",
      "name": "python",
      "nbconvert_exporter": "python",
      "pygments_lexer": "ipython3",
      "version": "3.8.1"
    },
    "orig_nbformat": 4,
    "vscode": {
      "interpreter": {
        "hash": "b25af7edd9d744abc5be65703c7db0e0253305f8e9e5a5c8b160839b50596d73"
      }
    }
  },
  "nbformat": 4,
  "nbformat_minor": 0
}