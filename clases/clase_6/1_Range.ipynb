{
  "nbformat": 4,
  "nbformat_minor": 0,
  "metadata": {
    "colab": {
      "provenance": [],
      "toc_visible": true
    },
    "kernelspec": {
      "display_name": "Python 3",
      "language": "python",
      "name": "python3"
    }
  },
  "cells": [
    {
      "cell_type": "markdown",
      "source": [
        "# **Range()**"
      ],
      "metadata": {
        "id": "BQg_TI8bh4y9"
      }
    },
    {
      "cell_type": "markdown",
      "source": [
        "Elaborado por: Lina María Castro\n",
        "\n",
        "Fecha: 19 de agosto de 2025"
      ],
      "metadata": {
        "id": "uyw26RU99yRC"
      }
    },
    {
      "cell_type": "markdown",
      "metadata": {
        "id": "bKhO4wX9Dck7"
      },
      "source": [
        "Retorna una lista de elementos desde 0 y hasta el parámetro menos uno que se envíe dentro de los paréntesis.\n",
        "\n",
        "Retorna solo para números enteros."
      ]
    },
    {
      "cell_type": "code",
      "metadata": {
        "id": "J96OO9K7wuIp"
      },
      "source": [
        "# Lista de 0 a 9\n",
        "range(10)"
      ],
      "execution_count": null,
      "outputs": []
    },
    {
      "cell_type": "code",
      "metadata": {
        "id": "ZEJuVF6IwuIq"
      },
      "source": [
        "list(range(10))"
      ],
      "execution_count": null,
      "outputs": []
    },
    {
      "cell_type": "code",
      "metadata": {
        "id": "4u9vgP7bwuIq"
      },
      "source": [
        "# Lista de 10 a 19, cada 2 elementos\n",
        "list(range(10,20,2))"
      ],
      "execution_count": null,
      "outputs": []
    },
    {
      "cell_type": "code",
      "metadata": {
        "id": "4GPstSp_Dck8"
      },
      "source": [
        "# Lista de 0 a 4\n",
        "range(5)"
      ],
      "execution_count": null,
      "outputs": []
    },
    {
      "cell_type": "code",
      "metadata": {
        "id": "c_q6UGYGDck-"
      },
      "source": [
        "list(range(5))"
      ],
      "execution_count": null,
      "outputs": []
    },
    {
      "cell_type": "code",
      "metadata": {
        "id": "tqLFs4r7Dck8"
      },
      "source": [
        "for i in range(5):\n",
        "    print(i)"
      ],
      "execution_count": null,
      "outputs": []
    }
  ]
}