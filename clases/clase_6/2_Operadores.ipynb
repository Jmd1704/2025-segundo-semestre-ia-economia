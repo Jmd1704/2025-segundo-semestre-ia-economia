{
  "nbformat": 4,
  "nbformat_minor": 0,
  "metadata": {
    "colab": {
      "provenance": [],
      "toc_visible": true
    },
    "kernelspec": {
      "display_name": "Python 3",
      "language": "python",
      "name": "python3"
    }
  },
  "cells": [
    {
      "cell_type": "markdown",
      "source": [
        "# **Operadores en Python**"
      ],
      "metadata": {
        "id": "BQg_TI8bh4y9"
      }
    },
    {
      "cell_type": "markdown",
      "source": [
        "Elaborado por: Lina María Castro\n",
        "\n",
        "Fecha: 19 de agosto de 2025"
      ],
      "metadata": {
        "id": "uyw26RU99yRC"
      }
    },
    {
      "cell_type": "markdown",
      "metadata": {
        "id": "Zdt-77CR-Z-M"
      },
      "source": [
        "Son símbolos o palabras reservadas que permiten realizar operaciones sobre valores o variables, como comparaciones (>, ==), cálculos (+, -) o combinaciones lógicas (and, or)."
      ]
    },
    {
      "cell_type": "markdown",
      "metadata": {
        "id": "6eZBkK_ODckO"
      },
      "source": [
        "## Operadores relacionales o de comparación\n",
        "\n",
        "Se usan para comparar valores y devuelven un resultado booleano (True o False)."
      ]
    },
    {
      "cell_type": "code",
      "metadata": {
        "id": "Ejx-mNK9DckP"
      },
      "source": [
        "# mayor que\n",
        "1 > 2"
      ],
      "execution_count": null,
      "outputs": []
    },
    {
      "cell_type": "code",
      "metadata": {
        "id": "J0A10BsgDckP"
      },
      "source": [
        "# menor que\n",
        "1 < 2"
      ],
      "execution_count": null,
      "outputs": []
    },
    {
      "cell_type": "code",
      "metadata": {
        "id": "NM_LZQXQDckQ"
      },
      "source": [
        "# mayor o igual que\n",
        "1 >= 1"
      ],
      "execution_count": null,
      "outputs": []
    },
    {
      "cell_type": "code",
      "metadata": {
        "id": "Q43o7FI1DckR"
      },
      "source": [
        "# menor o igual que\n",
        "1 <= 4"
      ],
      "execution_count": null,
      "outputs": []
    },
    {
      "cell_type": "code",
      "metadata": {
        "id": "W2IGyZjtDckS"
      },
      "source": [
        "# Igual que\n",
        "1 == 1"
      ],
      "execution_count": null,
      "outputs": []
    },
    {
      "cell_type": "code",
      "metadata": {
        "id": "BHZmoW1wDckU"
      },
      "source": [
        "# Diferente de\n",
        "10 != 100"
      ],
      "execution_count": null,
      "outputs": []
    },
    {
      "cell_type": "markdown",
      "source": [
        "### Ejercicios"
      ],
      "metadata": {
        "id": "edodF-pMost6"
      }
    },
    {
      "cell_type": "code",
      "metadata": {
        "id": "4vQh0TQODckW"
      },
      "source": [
        "10 != 10"
      ],
      "execution_count": null,
      "outputs": []
    },
    {
      "cell_type": "code",
      "metadata": {
        "id": "hB_Us3jsDckW"
      },
      "source": [
        "'hi' == 'bye'"
      ],
      "execution_count": null,
      "outputs": []
    },
    {
      "cell_type": "code",
      "metadata": {
        "id": "JwWsnmkb-GGh"
      },
      "source": [
        "[1, 2, 100] == [1, 2, 100]"
      ],
      "execution_count": null,
      "outputs": []
    },
    {
      "cell_type": "code",
      "metadata": {
        "id": "r6erYuJDDckX"
      },
      "source": [
        "[1, 2, 100] != [100, 1, 2]"
      ],
      "execution_count": null,
      "outputs": []
    },
    {
      "cell_type": "code",
      "metadata": {
        "id": "g9rnJoUqDckY"
      },
      "source": [
        "{'k1':1, 'k2':2, 'k3':[1,2,3]} == {'k1':1, 'k2':2, 'k3':[11,2,3]}"
      ],
      "execution_count": null,
      "outputs": []
    },
    {
      "cell_type": "markdown",
      "metadata": {
        "id": "f7SX2FYvDckY"
      },
      "source": [
        "## Operadores Lógicos\n",
        "\n",
        "Se usan para combinar condiciones lógicas.\n",
        "\n",
        "and → devuelve True si ambas condiciones son verdaderas.\n",
        "\n",
        "or → devuelve True si al menos una condición es verdadera.\n",
        "\n",
        "not → invierte el valor lógico (de True a False y viceversa)."
      ]
    },
    {
      "cell_type": "code",
      "metadata": {
        "id": "r5kIqfpXDckZ"
      },
      "source": [
        "(1 > 2) and (2 < 3)"
      ],
      "execution_count": null,
      "outputs": []
    },
    {
      "cell_type": "code",
      "metadata": {
        "id": "s_BGwTdkDckb"
      },
      "source": [
        "(1 > 2) or (2 < 3)"
      ],
      "execution_count": null,
      "outputs": []
    },
    {
      "cell_type": "code",
      "metadata": {
        "id": "UedFVwIVDckb"
      },
      "source": [
        "(1 == 2) or (2 == 3) or (4 == 4)"
      ],
      "execution_count": null,
      "outputs": []
    },
    {
      "cell_type": "code",
      "metadata": {
        "id": "qTXBztFbDckc"
      },
      "source": [
        "True and True"
      ],
      "execution_count": null,
      "outputs": []
    },
    {
      "cell_type": "code",
      "metadata": {
        "id": "fwQwH_whDckd"
      },
      "source": [
        "True and False"
      ],
      "execution_count": null,
      "outputs": []
    },
    {
      "cell_type": "code",
      "metadata": {
        "id": "-XtndYW5Dcke"
      },
      "source": [
        "False and True"
      ],
      "execution_count": null,
      "outputs": []
    },
    {
      "cell_type": "code",
      "metadata": {
        "id": "4mKWpnIEDckf"
      },
      "source": [
        "False and False"
      ],
      "execution_count": null,
      "outputs": []
    },
    {
      "cell_type": "code",
      "metadata": {
        "id": "AfCV9ZyKDckf"
      },
      "source": [
        "True or True"
      ],
      "execution_count": null,
      "outputs": []
    },
    {
      "cell_type": "code",
      "metadata": {
        "id": "ylET6Us6Dckg"
      },
      "source": [
        "True or False"
      ],
      "execution_count": null,
      "outputs": []
    },
    {
      "cell_type": "code",
      "metadata": {
        "id": "FDxHUUgdDckg"
      },
      "source": [
        "False or True"
      ],
      "execution_count": null,
      "outputs": []
    },
    {
      "cell_type": "code",
      "metadata": {
        "id": "SovJU54PDckj"
      },
      "source": [
        "False or False"
      ],
      "execution_count": null,
      "outputs": []
    },
    {
      "cell_type": "code",
      "metadata": {
        "id": "_BQbPsGfDckl"
      },
      "source": [
        "# Negación\n",
        "not True"
      ],
      "execution_count": null,
      "outputs": []
    },
    {
      "cell_type": "code",
      "metadata": {
        "id": "SFHOb2rgDckm"
      },
      "source": [
        "not False"
      ],
      "execution_count": null,
      "outputs": []
    },
    {
      "cell_type": "code",
      "metadata": {
        "id": "yFBIJjQPDckn"
      },
      "source": [
        "not (1 <= 10)"
      ],
      "execution_count": null,
      "outputs": []
    }
  ]
}