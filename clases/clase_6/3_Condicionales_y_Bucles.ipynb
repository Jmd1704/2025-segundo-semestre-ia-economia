{
  "nbformat": 4,
  "nbformat_minor": 0,
  "metadata": {
    "colab": {
      "provenance": [],
      "toc_visible": true
    },
    "kernelspec": {
      "display_name": "Python 3",
      "language": "python",
      "name": "python3"
    }
  },
  "cells": [
    {
      "cell_type": "markdown",
      "source": [
        "# **Condicionales y Bucles**"
      ],
      "metadata": {
        "id": "BQg_TI8bh4y9"
      }
    },
    {
      "cell_type": "markdown",
      "source": [
        "Elaborado por: Lina María Castro\n",
        "\n",
        "Fecha: 19 de agosto de 2025"
      ],
      "metadata": {
        "id": "uyw26RU99yRC"
      }
    },
    {
      "cell_type": "markdown",
      "metadata": {
        "id": "7sHYMCNTNq6J"
      },
      "source": [
        "## Condicionales: if,elif, else\n",
        "\n",
        "- Se conocen como estructuras condicionales o sentencias condicionales.\n",
        "\n",
        "- Sirven para tomar decisiones en el flujo del programa dependiendo de si una condición es verdadera o falsa."
      ]
    },
    {
      "cell_type": "code",
      "metadata": {
        "id": "E794dYliDckv"
      },
      "source": [
        "# Si 1<2 entonces imprima si\n",
        "if 1 < 2:\n",
        "  print('Si')\n"
      ],
      "execution_count": null,
      "outputs": []
    },
    {
      "cell_type": "code",
      "metadata": {
        "id": "fL4SdO_4Dckw"
      },
      "source": [
        "# Si 1>2 entonces imprima si (no imprime nada porque la condición no se cumple)\n",
        "if 1 > 2:\n",
        "    print('Si')"
      ],
      "execution_count": null,
      "outputs": []
    },
    {
      "cell_type": "code",
      "metadata": {
        "id": "-NO6UctQDcky"
      },
      "source": [
        "# Si 10<2 entonces imprima first e imprima si. Luego imprima last\n",
        "# Last se imprime en todos los casos porque está fuera del condicional, ya que no tiene tabulación\n",
        "if 10 < 2:\n",
        "    print('first')\n",
        "    print('Si')\n",
        "print('last')"
      ],
      "execution_count": null,
      "outputs": []
    },
    {
      "cell_type": "code",
      "metadata": {
        "id": "SiG78oRsDckz"
      },
      "source": [
        "# Si 1>2 imprima fisrt, de lo contrario, imprima last\n",
        "if 1 > 2:\n",
        "    print('first')\n",
        "else:\n",
        "    print('last')"
      ],
      "execution_count": null,
      "outputs": []
    },
    {
      "cell_type": "code",
      "metadata": {
        "id": "T-AVIpW5Dck0"
      },
      "source": [
        "# Si 1==2 imprima first, si no, entonces revise si 3==2 e imprima middle.\n",
        "# Si no se cumplen las condiciones anteriores, entonces imprima last\n",
        "if 1 == 2:\n",
        "    print('first')\n",
        "elif 3 == 2:\n",
        "    print('middle')\n",
        "else:\n",
        "    print('Last')"
      ],
      "execution_count": null,
      "outputs": []
    },
    {
      "cell_type": "code",
      "metadata": {
        "id": "932c49QrDck0"
      },
      "source": [
        "# Si 1==2 imprima first, si no, entonces revise si 4>0 e imprima second.\n",
        "# Si no, entonces revise si 3==3 e imprima middle\n",
        "# Si no se cumplen las condiciones anteriores, entonces imprima last\n",
        "if 1 == 2:\n",
        "    print('first')\n",
        "elif 4 > 0:\n",
        "    print('second')\n",
        "elif 3 == 3:\n",
        "    print('middle')\n",
        "else:\n",
        "    print('Last')"
      ],
      "execution_count": null,
      "outputs": []
    },
    {
      "cell_type": "markdown",
      "source": [
        "### Ejemplos"
      ],
      "metadata": {
        "id": "_LmcKFK3ua0i"
      }
    },
    {
      "cell_type": "code",
      "source": [
        "ingreso = 1800000\n",
        "\n",
        "if ingreso < 1160000:\n",
        "    print(\"El trabajador gana menos de un salario mínimo\")\n",
        "elif ingreso <= 2320000:\n",
        "    print(\"El trabajador gana entre 1 y 2 salarios mínimos\")\n",
        "else:\n",
        "    print(\"El trabajador gana más de 2 salarios mínimos\")"
      ],
      "metadata": {
        "id": "vOXiheNNuubr"
      },
      "execution_count": null,
      "outputs": []
    },
    {
      "cell_type": "code",
      "source": [
        "costo_produccion = 50\n",
        "precio_internacional = 70\n",
        "costo_exportacion = 25\n",
        "\n",
        "if precio_internacional - costo_exportacion > costo_produccion:\n",
        "    print(\"La empresa debe exportar\")\n",
        "else:\n",
        "    print(\"No es rentable exportar\")"
      ],
      "metadata": {
        "id": "cfPlHRlvurC_"
      },
      "execution_count": null,
      "outputs": []
    },
    {
      "cell_type": "markdown",
      "source": [
        "### Ejercicios"
      ],
      "metadata": {
        "id": "2XSpzzk4uctG"
      }
    },
    {
      "cell_type": "markdown",
      "source": [
        "El DANE define la línea de pobreza en 400.000 pesos mensuales per cápita. Escribe un programa que pida el ingreso mensual de una persona y determine:\n",
        "\n",
        "- Si está en pobreza extrema (menos de 200.000).\n",
        "\n",
        "- Si está en pobreza (entre 200.000 y 400.000).\n",
        "\n",
        "- Si no está en pobreza (más de 400.000)."
      ],
      "metadata": {
        "id": "JrpCV7PXu0u4"
      }
    },
    {
      "cell_type": "code",
      "source": [],
      "metadata": {
        "id": "vz5GOFuDu4pB"
      },
      "execution_count": null,
      "outputs": []
    },
    {
      "cell_type": "markdown",
      "source": [
        "Un país cobra impuestos según estos rangos:\n",
        "\n",
        "- Menos de 2.000.000 → 0%\n",
        "\n",
        "- Entre 2.000.000 y 5.000.000 → 10%\n",
        "\n",
        "- Más de 5.000.000 → 20%\n",
        "\n",
        "Escribe un programa que pida el ingreso anual de una persona y calcule cuánto debe pagar de impuestos."
      ],
      "metadata": {
        "id": "UGmqXBbEu7yt"
      }
    },
    {
      "cell_type": "code",
      "source": [],
      "metadata": {
        "id": "DzQe8bFWvDNx"
      },
      "execution_count": null,
      "outputs": []
    },
    {
      "cell_type": "markdown",
      "source": [
        "- Si la inflación es mayor al 10%, el gobierno aprueba un aumento salarial del 12%.\n",
        "\n",
        "- Si la inflación está entre 6% y 10%, el aumento es del 8%.\n",
        "\n",
        "- Si es menor al 6%, el aumento es del 5%.\n",
        "\n",
        "Escribe un programa que pida la inflación y muestre el porcentaje de aumento salarial aprobado."
      ],
      "metadata": {
        "id": "O5qhW3NTvG0W"
      }
    },
    {
      "cell_type": "code",
      "source": [],
      "metadata": {
        "id": "BYeg_UmYvM1b"
      },
      "execution_count": null,
      "outputs": []
    },
    {
      "cell_type": "markdown",
      "source": [
        "## Bucles\n",
        "\n",
        "- Se conocen como estructuras de control repetitivas, bucles o ciclos de iteración.\n",
        "\n",
        "- Se usan para repetir un bloque de código varias veces (de forma controlada con for o mientras se cumpla una condición con while)."
      ],
      "metadata": {
        "id": "e1hfAzd0qL70"
      }
    },
    {
      "cell_type": "markdown",
      "metadata": {
        "id": "HMy3uaWADck1"
      },
      "source": [
        "### Ciclo for\n",
        "\n",
        "Permite recorrer de manera secuencial los elementos de un iterable (como una lista, tupla, cadena o rango) y ejecutar un bloque de código por cada elemento."
      ]
    },
    {
      "cell_type": "code",
      "metadata": {
        "id": "PLrA1x5wDck1"
      },
      "source": [
        "# Primero se establece una secuencia\n",
        "seq = [1, 2, 3, 4, 5, 6, 7, 8]"
      ],
      "execution_count": null,
      "outputs": []
    },
    {
      "cell_type": "code",
      "metadata": {
        "id": "JUI_5CS-Dck2"
      },
      "source": [
        "# Para cada item de seq imprima OK (en lugar de item se puede poner cualquier nombre)\n",
        "for item in seq:\n",
        "    print('OK')"
      ],
      "execution_count": null,
      "outputs": []
    },
    {
      "cell_type": "code",
      "metadata": {
        "id": "-5WVDsrWDck3"
      },
      "source": [
        "# Para cada item de seq imprima el item\n",
        "for item in seq:\n",
        "    print(item)"
      ],
      "execution_count": null,
      "outputs": []
    },
    {
      "cell_type": "code",
      "metadata": {
        "id": "vjUlfaCdDck4"
      },
      "source": [
        "seq = [1,2,3,4,5]"
      ],
      "execution_count": null,
      "outputs": []
    },
    {
      "cell_type": "code",
      "metadata": {
        "id": "wLgyaEUcDck5"
      },
      "source": [
        "# Se crea una lista vacia y luego se dice que para cada elemento (num) de la secuencia\n",
        "# agregue a la lista el elemento sumado\n",
        "lista = []\n",
        "for num in seq:\n",
        "    lista.append(num+num)\n",
        "lista # Imprimir la lista resultante"
      ],
      "execution_count": null,
      "outputs": []
    },
    {
      "cell_type": "markdown",
      "source": [
        "#### Ejemplos"
      ],
      "metadata": {
        "id": "3KZrQnOrqwHz"
      }
    },
    {
      "cell_type": "code",
      "source": [
        "# Recorrer una lista de productos y mostrar sus precios\n",
        "productos = [\"Café\", \"Azúcar\", \"Arroz\", \"Aceite\"]\n",
        "precios = [5000, 3500, 4200, 12000]\n",
        "\n",
        "for i in range(len(productos)):\n",
        "    print(f\"El precio de {productos[i]} es {precios[i]} pesos\")"
      ],
      "metadata": {
        "id": "gSVRfNwoq6p3"
      },
      "execution_count": null,
      "outputs": []
    },
    {
      "cell_type": "code",
      "source": [
        "# Calcular el total importado por una lista de países\n",
        "importaciones = {\"Colombia\": 1500, \"México\": 2300, \"Chile\": 1200}\n",
        "\n",
        "total = 0\n",
        "for valor in importaciones.values():\n",
        "    total += valor\n",
        "\n",
        "print(f\"El total importado es: {total} millones de USD\")\n"
      ],
      "metadata": {
        "id": "UPDUplMyrEnG"
      },
      "execution_count": null,
      "outputs": []
    },
    {
      "cell_type": "markdown",
      "source": [
        "Escribe un programa que use range() para sumar todos los números del 1 al 100 e imprima el resultado."
      ],
      "metadata": {
        "id": "hiUGe8D2nENT"
      }
    },
    {
      "cell_type": "code",
      "source": [
        "# Inicializamos una variable acumuladora en 0\n",
        "suma = 0\n",
        "\n",
        "# Recorremos los números del 1 al 100\n",
        "for i in range(1, 101):\n",
        "    suma += i   # sumamos cada número a la variable acumuladora\n",
        "\n",
        "# Mostramos el resultado\n",
        "print(\"La suma de los números del 1 al 100 es:\", suma)"
      ],
      "metadata": {
        "id": "Ouz1kw6bnIYV"
      },
      "execution_count": null,
      "outputs": []
    },
    {
      "cell_type": "markdown",
      "source": [
        "#### Ejercicios"
      ],
      "metadata": {
        "id": "XbDSSQtFrsBk"
      }
    },
    {
      "cell_type": "markdown",
      "source": [
        "Tienes la lista de precios de 5 productos. Escribe un ciclo for que recorra la lista y muestre cada precio en pantalla con el mensaje: \"El precio del producto es: XXXX pesos\""
      ],
      "metadata": {
        "id": "y8Ex-kHlrzLF"
      }
    },
    {
      "cell_type": "code",
      "source": [
        "precios = [2500, 3700, 4100, 2900, 6000]"
      ],
      "metadata": {
        "id": "sodiVefKrux3"
      },
      "execution_count": null,
      "outputs": []
    },
    {
      "cell_type": "markdown",
      "source": [
        "Tienes un diccionario con exportaciones en millones de USD. Escribe un ciclo for que recorra los valores, calcule el promedio de exportaciones y lo imprima como: \"El promedio de exportaciones es: XXXX millones de USD\""
      ],
      "metadata": {
        "id": "Mc1eEFz5sDc3"
      }
    },
    {
      "cell_type": "code",
      "source": [
        "exportaciones = {\"Colombia\": 1500, \"México\": 2300, \"Chile\": 1200, \"Perú\": 1800}"
      ],
      "metadata": {
        "id": "ukMQBtDssF2C"
      },
      "execution_count": null,
      "outputs": []
    },
    {
      "cell_type": "markdown",
      "source": [
        "Tienes una lista con el número de empresas registradas en diferentes ciudades. Usa un ciclo for para contar cuántas ciudades tienen más de 100 empresas y muestra el resultado en pantalla como: \"Número de ciudades con más de 100 empresas: X\""
      ],
      "metadata": {
        "id": "wS3C-5scsUcB"
      }
    },
    {
      "cell_type": "code",
      "source": [
        "empresas = [120, 85, 340, 210, 95]"
      ],
      "metadata": {
        "id": "R37wEVbcsW6A"
      },
      "execution_count": null,
      "outputs": []
    },
    {
      "cell_type": "markdown",
      "source": [
        "Escribe un programa que imprima todos los múltiplos de 5 entre 1 y 50, utilizando range()."
      ],
      "metadata": {
        "id": "ASHwOJt3nheQ"
      }
    },
    {
      "cell_type": "code",
      "source": [],
      "metadata": {
        "id": "P7vEcQqpntGN"
      },
      "execution_count": null,
      "outputs": []
    },
    {
      "cell_type": "markdown",
      "metadata": {
        "id": "ORFuj2hSDck5"
      },
      "source": [
        "### Ciclo while\n",
        "\n",
        "Se utiliza para ejecutar un bloque de código mientras una condición sea verdadera. Es útil cuando no sabemos cuántas veces necesitaremos repetir una acción."
      ]
    },
    {
      "cell_type": "code",
      "metadata": {
        "id": "8Le8Fzk6Dck5"
      },
      "source": [
        "# Mientras i sea menor a 5 imprima i es igual a\n",
        "i = 1\n",
        "while i < 5:\n",
        "    print('i es igual a: {}'.format(i))\n",
        "    i = i+1"
      ],
      "execution_count": null,
      "outputs": []
    },
    {
      "cell_type": "markdown",
      "source": [
        "#### Ejemplos"
      ],
      "metadata": {
        "id": "yM8dcHO-s_-y"
      }
    },
    {
      "cell_type": "code",
      "source": [
        "# Un estudiante quiere ahorrar hasta llegar a 1,000 dólares. Cada mes deposita 150 dólares.\n",
        "ahorro = 0\n",
        "meta = 1000\n",
        "meses = 0\n",
        "# Aquí el ciclo while repite la suma hasta que la condición ahorro < meta deje de cumplirse.\n",
        "while ahorro < meta:\n",
        "    ahorro += 150\n",
        "    meses += 1\n",
        "    print(f\"Mes {meses}: Ahorro acumulado = ${ahorro}\")\n",
        "\n",
        "print(f\"Se alcanzó la meta en {meses} meses.\")"
      ],
      "metadata": {
        "id": "3Gogjb6itDlx"
      },
      "execution_count": null,
      "outputs": []
    },
    {
      "cell_type": "code",
      "source": [
        "# Una persona tiene una deuda de 5,000 dólares y paga 600 dólares cada mes hasta cancelarla.\n",
        "deuda = 5000\n",
        "pago_mensual = 600\n",
        "mes = 0\n",
        "# Aquí el while continúa ejecutándose mientras deuda > 0.\n",
        "while deuda > 0:\n",
        "    deuda -= pago_mensual\n",
        "    mes += 1\n",
        "    print(f\"Mes {mes}: Deuda restante = ${max(deuda, 0)}\")\n",
        "\n",
        "print(f\"La deuda se pagó en {mes} meses.\")"
      ],
      "metadata": {
        "id": "sp775UCytVNv"
      },
      "execution_count": null,
      "outputs": []
    },
    {
      "cell_type": "markdown",
      "source": [
        "#### Ejercicios"
      ],
      "metadata": {
        "id": "CrN_6PNjtBU4"
      }
    },
    {
      "cell_type": "markdown",
      "source": [
        "Un estudiante invierte 1.000 dólares en un fondo que crece un 5% mensual. Escribe un programa que use while para calcular en cuántos meses su inversión supera los 2.000 dólares."
      ],
      "metadata": {
        "id": "H3inn6URtxnu"
      }
    },
    {
      "cell_type": "code",
      "source": [],
      "metadata": {
        "id": "nsdCUO63txPV"
      },
      "execution_count": null,
      "outputs": []
    },
    {
      "cell_type": "markdown",
      "source": [
        "Una empresa quiere vender al menos 100 unidades de un producto. Cada día vende un número aleatorio de unidades entre 1 y 10 (pista: usa import random y random.randint(1,10)). Escribe un programa con while que muestre:\n",
        "\n",
        "- El total vendido cada día.\n",
        "\n",
        "- En cuántos días se logró la meta."
      ],
      "metadata": {
        "id": "XNEHOYdKt036"
      }
    },
    {
      "cell_type": "code",
      "source": [],
      "metadata": {
        "id": "0tqi5wyzuEWm"
      },
      "execution_count": null,
      "outputs": []
    },
    {
      "cell_type": "markdown",
      "source": [
        "Un cajero automático tiene 500.000 pesos disponibles.\n",
        "Un usuario puede retirar varias veces, pero no puede retirar más de lo que queda en el cajero. Escribe un programa con while que:\n",
        "\n",
        "- Pregunte cuánto quiere retirar.\n",
        "\n",
        "- Reste ese valor al saldo.\n",
        "\n",
        "- Termine cuando el saldo llegue a 0 o el usuario escriba 0."
      ],
      "metadata": {
        "id": "5wvJv2GPt6Qf"
      }
    },
    {
      "cell_type": "code",
      "source": [],
      "metadata": {
        "id": "BJDxIqocuEz3"
      },
      "execution_count": null,
      "outputs": []
    }
  ]
}