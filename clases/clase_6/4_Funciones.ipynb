{
  "nbformat": 4,
  "nbformat_minor": 0,
  "metadata": {
    "colab": {
      "provenance": [],
      "toc_visible": true
    },
    "kernelspec": {
      "display_name": "Python 3",
      "language": "python",
      "name": "python3"
    }
  },
  "cells": [
    {
      "cell_type": "markdown",
      "source": [
        "# **Creación de funciones y manejo de errores**"
      ],
      "metadata": {
        "id": "BQg_TI8bh4y9"
      }
    },
    {
      "cell_type": "markdown",
      "source": [
        "Elaborado por: Lina María Castro\n",
        "\n",
        "Fecha: 19 de agosto de 2025"
      ],
      "metadata": {
        "id": "uyw26RU99yRC"
      }
    },
    {
      "cell_type": "markdown",
      "metadata": {
        "id": "LXlv9Mj9-1QE"
      },
      "source": [
        "# Funciones\n",
        "\n",
        "Una función en Python es un bloque de código que realiza una tarea específica, puede recibir datos de entrada (parámetros) y devolver un resultado. Se define con la palabra clave def y ayuda a organizar, reutilizar y simplificar el código.\n",
        "\n",
        "Si un código se va a repetir bastante, es mejor llevarlo a función."
      ]
    },
    {
      "cell_type": "markdown",
      "metadata": {
        "id": "GD0iKA88DclK"
      },
      "source": [
        "## Creación de funciones\n",
        "\n",
        "En Python, la definición de funciones se realiza mediante la instrucción def más un nombre de función descriptivo.\n",
        "\n",
        "La definición de la función finaliza con dos puntos (:)\n",
        "\n"
      ]
    },
    {
      "cell_type": "code",
      "metadata": {
        "id": "NyE9YtbaDclK"
      },
      "source": [
        "def mi_funcion(parametro1='ejemplo'):\n",
        "    \"\"\"\n",
        "    Aquí irá la documentación o explicación de la función\n",
        "    \"\"\"\n",
        "    return parametro1"
      ],
      "execution_count": null,
      "outputs": []
    },
    {
      "cell_type": "code",
      "metadata": {
        "id": "7jY8vLLsDclM"
      },
      "source": [
        "# Para ver la función, parámetros y documentación\n",
        "mi_funcion"
      ],
      "execution_count": null,
      "outputs": []
    },
    {
      "cell_type": "code",
      "metadata": {
        "id": "nt34DpTPDclN"
      },
      "source": [
        "# Para utilizar la función y mostrar lo que se definió por defecto\n",
        "mi_funcion()"
      ],
      "execution_count": null,
      "outputs": []
    },
    {
      "cell_type": "code",
      "metadata": {
        "id": "BuF7tmG1DclN"
      },
      "source": [
        "mi_funcion('ejemplo 2')"
      ],
      "execution_count": null,
      "outputs": []
    },
    {
      "cell_type": "code",
      "metadata": {
        "id": "2MRHJcX7DclO"
      },
      "source": [
        "mi_funcion(parametro1='ejemplo 3')"
      ],
      "execution_count": null,
      "outputs": []
    },
    {
      "cell_type": "markdown",
      "source": [
        "## Documentación de la función"
      ],
      "metadata": {
        "id": "6bRCPhTmJW8e"
      }
    },
    {
      "cell_type": "code",
      "metadata": {
        "id": "6M-2n30_DclQ"
      },
      "source": [
        "def saludar(nombre):\n",
        "    \"\"\"\n",
        "    Función que genera un saludo personalizado.\n",
        "\n",
        "    Parámetros:\n",
        "    nombre (str): El nombre de la persona a saludar.\n",
        "\n",
        "    Retorna:\n",
        "    str: Un mensaje de saludo con el nombre ingresado.\n",
        "    \"\"\"\n",
        "    return f\"Hola, {nombre}!\""
      ],
      "execution_count": null,
      "outputs": []
    },
    {
      "cell_type": "code",
      "source": [
        "# Para ver la función, parámetros y documentación\n",
        "saludar"
      ],
      "metadata": {
        "id": "6xDq4kzRHw-9"
      },
      "execution_count": null,
      "outputs": []
    },
    {
      "cell_type": "code",
      "metadata": {
        "id": "ZGlveH2sDclR"
      },
      "source": [
        "saludar('Marcos')"
      ],
      "execution_count": null,
      "outputs": []
    },
    {
      "cell_type": "code",
      "metadata": {
        "id": "XONROccMDclR"
      },
      "source": [
        "def square(x):\n",
        "    \"\"\"\n",
        "    Calcula el cuadrado de un número.\n",
        "\n",
        "    Parámetros:\n",
        "    x (int o float): Número al que se le desea calcular el cuadrado.\n",
        "\n",
        "    Retorna:\n",
        "    int o float: El valor del número elevado al cuadrado.\n",
        "    \"\"\"\n",
        "    return x**2"
      ],
      "execution_count": null,
      "outputs": []
    },
    {
      "cell_type": "code",
      "metadata": {
        "id": "hdGUQTgeDclS"
      },
      "source": [
        "out = square(2)\n",
        "print(out)"
      ],
      "execution_count": null,
      "outputs": []
    },
    {
      "cell_type": "code",
      "source": [
        "resultado = square(5)\n",
        "resultado"
      ],
      "metadata": {
        "id": "Mo5zQOS1Mipg"
      },
      "execution_count": null,
      "outputs": []
    },
    {
      "cell_type": "code",
      "metadata": {
        "id": "s6zsuEILDclU"
      },
      "source": [
        "# Puedo ver la documentación colocando el mouse sobre la función\n",
        "square(4)"
      ],
      "execution_count": null,
      "outputs": []
    },
    {
      "cell_type": "code",
      "source": [
        "# Con help, Python muestra la descripción de la función\n",
        "help(square)"
      ],
      "metadata": {
        "id": "3uUUkFdhMzyl"
      },
      "execution_count": null,
      "outputs": []
    },
    {
      "cell_type": "code",
      "source": [
        "# O puedo simplemente escribir el nombre de la función\n",
        "square"
      ],
      "metadata": {
        "id": "4lESoBMoNHLX"
      },
      "execution_count": null,
      "outputs": []
    },
    {
      "cell_type": "markdown",
      "source": [
        "## Ejercicios"
      ],
      "metadata": {
        "id": "SQch7H_SSqaJ"
      }
    },
    {
      "cell_type": "markdown",
      "source": [
        "Escribe una función llamada convertir_usd_a_cop que reciba como parámetro una cantidad en dólares y retorne el valor equivalente en pesos colombianos.\n",
        "Tasa de cambio: 1 USD = 4.000 COP"
      ],
      "metadata": {
        "id": "4qThwfc8S-xc"
      }
    },
    {
      "cell_type": "code",
      "source": [],
      "metadata": {
        "id": "8_sZuFTqSs8_"
      },
      "execution_count": null,
      "outputs": []
    },
    {
      "cell_type": "code",
      "source": [
        "print(convertir_usd_a_cop(10))   # Debería imprimir 40000"
      ],
      "metadata": {
        "id": "1-r9-uJpTCUE"
      },
      "execution_count": null,
      "outputs": []
    },
    {
      "cell_type": "markdown",
      "source": [
        "Escribe una función llamada promedio_tres que reciba tres números como parámetros y retorne el promedio."
      ],
      "metadata": {
        "id": "bRgLtR93TBUV"
      }
    },
    {
      "cell_type": "code",
      "source": [],
      "metadata": {
        "id": "NSxpoDKdTI9l"
      },
      "execution_count": null,
      "outputs": []
    },
    {
      "cell_type": "code",
      "source": [
        "print(promedio_tres(4, 6, 10))   # Debería imprimir 6.67"
      ],
      "metadata": {
        "id": "xiql3VK3TJRh"
      },
      "execution_count": null,
      "outputs": []
    },
    {
      "cell_type": "markdown",
      "source": [
        "Escribe una función llamada es_par que reciba un número entero como parámetro y retorne True si el número es par y False si es impar."
      ],
      "metadata": {
        "id": "voXscZI7TPRp"
      }
    },
    {
      "cell_type": "code",
      "source": [
        "# Para verificar que es par: numero % 2 == 0\n"
      ],
      "metadata": {
        "id": "q55DMdeZTS-B"
      },
      "execution_count": null,
      "outputs": []
    },
    {
      "cell_type": "markdown",
      "source": [
        "% es el operador módulo en Python. Lo que hace es dividir un número entre otro y devolver el residuo (lo que sobra de la división entera).\n",
        "\n",
        "Si al dividir un número en 2, el residuo es cero, entonces el número es par, de lo contrario, es impar."
      ],
      "metadata": {
        "id": "xvdG28g9-Y-q"
      }
    },
    {
      "cell_type": "code",
      "source": [
        "print(es_par(10))   # Debería imprimir True"
      ],
      "metadata": {
        "id": "BVx7hr_nTWv9"
      },
      "execution_count": null,
      "outputs": []
    },
    {
      "cell_type": "code",
      "source": [
        "print(es_par(7))    # Debería imprimir False"
      ],
      "metadata": {
        "id": "EX38wbcdTTR0"
      },
      "execution_count": null,
      "outputs": []
    },
    {
      "cell_type": "markdown",
      "source": [
        "# Excepciones"
      ],
      "metadata": {
        "id": "LWgGeyebOyKr"
      }
    },
    {
      "cell_type": "markdown",
      "source": [
        "En Python, las excepciones permiten manejar errores de forma controlada, evitando que el programa se detenga de manera inesperada. Se usan con las palabras clave try, except, y opcionalmente finally y else.\n",
        "\n",
        "- **try:** dentro de este bloque se coloca el código que podría generar un error.\n",
        "\n",
        "- **except:** aquí se define qué hacer si ocurre un error.\n",
        "\n",
        "- **else (opcional):** se ejecuta solo si no hubo errores.\n",
        "\n",
        "- **finally (opcional):** se ejecuta siempre, haya o no error (útil para liberar recursos como cerrar un archivo o conexión)."
      ],
      "metadata": {
        "id": "FeMIdU1JQ5U9"
      }
    },
    {
      "cell_type": "code",
      "source": [
        "def dividir(a, b):\n",
        "    \"\"\"\n",
        "    Función que divide dos números con manejo de excepciones.\n",
        "\n",
        "    Parámetros:\n",
        "    a (float/int): numerador\n",
        "    b (float/int): denominador\n",
        "\n",
        "    Retorna:\n",
        "    float: resultado de la división si es posible.\n",
        "    str: mensaje de error si ocurre una excepción.\n",
        "    \"\"\"\n",
        "    try:\n",
        "        resultado = a / b\n",
        "    except ZeroDivisionError:\n",
        "        return \"Error: No se puede dividir entre cero.\"\n",
        "    except TypeError:\n",
        "        return \"Error: Los valores deben ser numéricos.\"\n",
        "    else:\n",
        "        return resultado\n",
        "    finally:\n",
        "        print(\"Ejecución finalizada.\")"
      ],
      "metadata": {
        "id": "yqVVk-Z8O1sl"
      },
      "execution_count": null,
      "outputs": []
    },
    {
      "cell_type": "code",
      "source": [
        "print(dividir(10, 2))"
      ],
      "metadata": {
        "id": "D0_KgVDdRRwF"
      },
      "execution_count": null,
      "outputs": []
    },
    {
      "cell_type": "code",
      "source": [
        "print(dividir(10, 0))"
      ],
      "metadata": {
        "id": "p3V-u_dRRUY4"
      },
      "execution_count": null,
      "outputs": []
    },
    {
      "cell_type": "code",
      "source": [
        "print(dividir(10, \"x\"))"
      ],
      "metadata": {
        "id": "-K0yo0K1RWYo"
      },
      "execution_count": null,
      "outputs": []
    },
    {
      "cell_type": "markdown",
      "source": [
        "## Errores más comunes en funciones"
      ],
      "metadata": {
        "id": "IxUzsv2cIkVu"
      }
    },
    {
      "cell_type": "markdown",
      "source": [
        "### Errores de tipo (TypeError)\n",
        "\n",
        "Ocurren cuando usas un tipo de dato inapropiado."
      ],
      "metadata": {
        "id": "XDdZ4GhGIztz"
      }
    },
    {
      "cell_type": "code",
      "source": [
        "# Ejemplo\n",
        "\"hola\" + 5"
      ],
      "metadata": {
        "id": "kHgloDuoIyxV"
      },
      "execution_count": null,
      "outputs": []
    },
    {
      "cell_type": "code",
      "source": [
        "# Manejo\n",
        "try:\n",
        "    resultado = \"hola\" + 5\n",
        "except TypeError:\n",
        "    print(\"Error: tipos de datos incompatibles.\")"
      ],
      "metadata": {
        "id": "0ZZDaRN6I6KZ"
      },
      "execution_count": null,
      "outputs": []
    },
    {
      "cell_type": "markdown",
      "source": [
        "### Errores de conversión (ValueError)\n",
        "\n",
        "Suceden cuando intentas convertir un dato a otro tipo, pero el valor no es válido."
      ],
      "metadata": {
        "id": "lfFIGAUoI-XF"
      }
    },
    {
      "cell_type": "code",
      "source": [
        "# Ejemplo\n",
        "int(\"hola\")"
      ],
      "metadata": {
        "id": "ASy_ZrR0JDMF"
      },
      "execution_count": null,
      "outputs": []
    },
    {
      "cell_type": "code",
      "source": [
        "# Manejo\n",
        "try:\n",
        "    numero = int(\"hola\")\n",
        "except ValueError:\n",
        "    print(\"Error: el valor no es válido para conversión.\")"
      ],
      "metadata": {
        "id": "AAlLOAOvJGTB"
      },
      "execution_count": null,
      "outputs": []
    },
    {
      "cell_type": "markdown",
      "source": [
        "### Errores de índice (IndexError)"
      ],
      "metadata": {
        "id": "fVQ8F2qkJJgX"
      }
    },
    {
      "cell_type": "code",
      "source": [
        "# Ejemplo\n",
        "lista = [1, 2, 3]\n",
        "print(lista[5])"
      ],
      "metadata": {
        "id": "_DHY93DxJMTf"
      },
      "execution_count": null,
      "outputs": []
    },
    {
      "cell_type": "code",
      "source": [
        "# Manejo\n",
        "try:\n",
        "    print(lista[5])\n",
        "except IndexError:\n",
        "    print(\"Error: índice fuera de rango.\")"
      ],
      "metadata": {
        "id": "BdNeYt71Mddg"
      },
      "execution_count": null,
      "outputs": []
    },
    {
      "cell_type": "markdown",
      "source": [
        "### Errores de clave (KeyError)\n",
        "\n",
        "Suceden al acceder a una clave inexistente en un diccionario."
      ],
      "metadata": {
        "id": "H94qPfr9Mh6h"
      }
    },
    {
      "cell_type": "code",
      "source": [
        "# Ejemplo\n",
        "dic = {\"a\": 1}\n",
        "print(dic[\"b\"])"
      ],
      "metadata": {
        "id": "WnlK6OnOMmtZ"
      },
      "execution_count": null,
      "outputs": []
    },
    {
      "cell_type": "code",
      "source": [
        "# Manejo\n",
        "try:\n",
        "    print(dic[\"b\"])\n",
        "except KeyError:\n",
        "    print(\"Error: la clave no existe en el diccionario.\")"
      ],
      "metadata": {
        "id": "ud3QtwSgMpyp"
      },
      "execution_count": null,
      "outputs": []
    },
    {
      "cell_type": "markdown",
      "source": [
        "### Errores de división (ZeroDivisionError)\n",
        "\n",
        "Pasa al dividir un número entre cero."
      ],
      "metadata": {
        "id": "UchfysXUMt38"
      }
    },
    {
      "cell_type": "code",
      "source": [
        "# Ejemplo\n",
        "10 / 0"
      ],
      "metadata": {
        "id": "cxJjKWamMyVi"
      },
      "execution_count": null,
      "outputs": []
    },
    {
      "cell_type": "code",
      "source": [
        "# Manejo\n",
        "try:\n",
        "    resultado = 10 / 0\n",
        "except ZeroDivisionError:\n",
        "    print(\"Error: no se puede dividir entre cero.\")"
      ],
      "metadata": {
        "id": "GQPoihHmM0fv"
      },
      "execution_count": null,
      "outputs": []
    },
    {
      "cell_type": "markdown",
      "source": [
        "### Errores de importación (ImportError)\n",
        "\n",
        "Cuando un módulo no existe o no se puede importar."
      ],
      "metadata": {
        "id": "wIehOWPLM5NO"
      }
    },
    {
      "cell_type": "code",
      "source": [
        "# Ejemplo\n",
        "import modulo_que_no_existe"
      ],
      "metadata": {
        "id": "VROMLVsUM8R8"
      },
      "execution_count": null,
      "outputs": []
    },
    {
      "cell_type": "code",
      "source": [
        "# Manejo\n",
        "try:\n",
        "    import modulo_que_no_existe\n",
        "except ImportError:\n",
        "    print(\"Error: el módulo no se pudo importar.\")"
      ],
      "metadata": {
        "id": "ZfeCJX75NAG5"
      },
      "execution_count": null,
      "outputs": []
    },
    {
      "cell_type": "markdown",
      "source": [
        "## Ejercicios"
      ],
      "metadata": {
        "id": "1Bo_0bZlRb4A"
      }
    },
    {
      "cell_type": "markdown",
      "source": [
        "Crea una función convertir_a_entero(valor) que reciba un dato y lo convierta a número entero.\n",
        "\n",
        "Si el dato no es convertible (ejemplo: \"hola\"), debe devolver el mensaje: \"Error: no se puede convertir a entero.\""
      ],
      "metadata": {
        "id": "TL3dKE-mRr7S"
      }
    },
    {
      "cell_type": "code",
      "source": [],
      "metadata": {
        "id": "WxiXEBiPRzZG"
      },
      "execution_count": null,
      "outputs": []
    },
    {
      "cell_type": "code",
      "source": [
        "print(convertir_a_entero(\"25\")) # 25"
      ],
      "metadata": {
        "id": "XkbNnTD8Rd1t"
      },
      "execution_count": null,
      "outputs": []
    },
    {
      "cell_type": "code",
      "source": [
        "print(convertir_a_entero(25.5)) # 25"
      ],
      "metadata": {
        "id": "m1SAp1LV_HwK"
      },
      "execution_count": null,
      "outputs": []
    },
    {
      "cell_type": "code",
      "source": [
        "print(convertir_a_entero(\"hola\")) # Error: no se puede convertir a entero."
      ],
      "metadata": {
        "id": "9Awbj91dRwxg"
      },
      "execution_count": null,
      "outputs": []
    },
    {
      "cell_type": "markdown",
      "source": [
        "Crea una función buscar_elemento(lista, indice) que devuelva el elemento de la lista en la posición indicada.\n",
        "\n",
        "Si el índice no existe, devuelve: \"Error: índice fuera de rango.\"\n",
        "\n",
        "Si el índice no es un número entero, devuelve: \"Error: el índice debe ser un número entero.\""
      ],
      "metadata": {
        "id": "Cv5hALgkR0sK"
      }
    },
    {
      "cell_type": "code",
      "source": [
        "# Para verificar que un número sea un entero: isinstance(numero, int)\n"
      ],
      "metadata": {
        "id": "NMx2OpdSR4Gx"
      },
      "execution_count": null,
      "outputs": []
    },
    {
      "cell_type": "code",
      "source": [
        "print(buscar_elemento([10, 20, 30], 1)) # 20"
      ],
      "metadata": {
        "id": "BoTSpsNxR4a0"
      },
      "execution_count": null,
      "outputs": []
    },
    {
      "cell_type": "code",
      "source": [
        "print(buscar_elemento([10, 20, 30], 5))   # Error: índice fuera de rango."
      ],
      "metadata": {
        "id": "io2q9YOMR-L-"
      },
      "execution_count": null,
      "outputs": []
    },
    {
      "cell_type": "code",
      "source": [
        "print(buscar_elemento([10, 20, 30], \"a\")) # Error: el índice debe ser un número entero."
      ],
      "metadata": {
        "id": "fWdbzLoVSBgY"
      },
      "execution_count": null,
      "outputs": []
    },
    {
      "cell_type": "markdown",
      "source": [
        "Crea una función raiz_cuadrada(num) que calcule la raíz cuadrada de un número.\n",
        "\n",
        "Si el número es negativo, devuelve: \"Error: no se puede calcular la raíz cuadrada de un número negativo.\"\n",
        "\n",
        "Si el valor no es numérico, devuelve: \"Error: el valor debe ser numérico.\""
      ],
      "metadata": {
        "id": "3L7NHs7hSLKE"
      }
    },
    {
      "cell_type": "code",
      "source": [
        "# Para calcular la raíz cuadrada de un número: import math y math.sqrt(numero)\n",
        "# Para verificar que el valor sea numérico: isinstance(numero, (int, float))\n",
        "\n",
        "import math\n",
        "\n"
      ],
      "metadata": {
        "id": "-fh0PUPbSNvl"
      },
      "execution_count": null,
      "outputs": []
    },
    {
      "cell_type": "code",
      "source": [
        "print(raiz_cuadrada(16))    # 4.0"
      ],
      "metadata": {
        "id": "lMXQSzyESOHF"
      },
      "execution_count": null,
      "outputs": []
    },
    {
      "cell_type": "code",
      "source": [
        "print(raiz_cuadrada(-9))    # Error: no se puede calcular la raíz cuadrada de un número negativo."
      ],
      "metadata": {
        "id": "uXkpBQrNSQi_"
      },
      "execution_count": null,
      "outputs": []
    },
    {
      "cell_type": "code",
      "source": [
        "print(raiz_cuadrada(\"abc\")) # Error: el valor debe ser numérico."
      ],
      "metadata": {
        "id": "i-0qVNphSTuf"
      },
      "execution_count": null,
      "outputs": []
    }
  ]
}